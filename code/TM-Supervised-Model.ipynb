{
 "cells": [
  {
   "cell_type": "code",
   "execution_count": 30,
   "metadata": {},
   "outputs": [],
   "source": [
    "import pandas as pd\n",
    "import matplotlib.pyplot as plt\n",
    "import seaborn as sns\n",
    "import numpy as np\n",
    "\n",
    "import re\n",
    "\n",
    "from sklearn.feature_extraction import stop_words\n",
    "from sklearn.feature_extraction.text import CountVectorizer, TfidfVectorizer\n",
    "from sklearn import metrics\n",
    "from sklearn.utils.multiclass import unique_labels\n",
    "\n",
    "from sklearn.linear_model import LogisticRegression\n",
    "from sklearn.model_selection import train_test_split, GridSearchCV\n",
    "from sklearn.pipeline import Pipeline\n",
    "from sklearn.naive_bayes import MultinomialNB\n",
    "from sklearn import metrics\n",
    "from sklearn.metrics import accuracy_score, recall_score, precision_score, confusion_matrix"
   ]
  },
  {
   "cell_type": "markdown",
   "metadata": {},
   "source": [
    "## Exploratory Data Analysis and Preproccessing"
   ]
  },
  {
   "cell_type": "code",
   "execution_count": 31,
   "metadata": {},
   "outputs": [],
   "source": [
    "# import tweets\n",
    "tweets = pd.read_csv(\"../data/Tweets_historical/historic_tweets_07232019.csv\")"
   ]
  },
  {
   "cell_type": "code",
   "execution_count": 32,
   "metadata": {
    "scrolled": true
   },
   "outputs": [
    {
     "data": {
      "text/html": [
       "<div>\n",
       "<style scoped>\n",
       "    .dataframe tbody tr th:only-of-type {\n",
       "        vertical-align: middle;\n",
       "    }\n",
       "\n",
       "    .dataframe tbody tr th {\n",
       "        vertical-align: top;\n",
       "    }\n",
       "\n",
       "    .dataframe thead th {\n",
       "        text-align: right;\n",
       "    }\n",
       "</style>\n",
       "<table border=\"1\" class=\"dataframe\">\n",
       "  <thead>\n",
       "    <tr style=\"text-align: right;\">\n",
       "      <th></th>\n",
       "      <th>date</th>\n",
       "      <th>geo</th>\n",
       "      <th>hashtags</th>\n",
       "      <th>id</th>\n",
       "      <th>text</th>\n",
       "      <th>type</th>\n",
       "      <th>username</th>\n",
       "    </tr>\n",
       "  </thead>\n",
       "  <tbody>\n",
       "    <tr>\n",
       "      <th>0</th>\n",
       "      <td>2016-11-28 20:53:31+00:00</td>\n",
       "      <td>NaN</td>\n",
       "      <td>NaN</td>\n",
       "      <td>803341071266811904</td>\n",
       "      <td>321 Northbound at exit 20 is shutdown to this ...</td>\n",
       "      <td>official</td>\n",
       "      <td>chrisWSOC9</td>\n",
       "    </tr>\n",
       "    <tr>\n",
       "      <th>1</th>\n",
       "      <td>2016-11-19 01:55:52+00:00</td>\n",
       "      <td>NaN</td>\n",
       "      <td>NaN</td>\n",
       "      <td>799793282498838528</td>\n",
       "      <td>Just your typical 34-28 halftime score here at...</td>\n",
       "      <td>official</td>\n",
       "      <td>chrisWSOC9</td>\n",
       "    </tr>\n",
       "    <tr>\n",
       "      <th>2</th>\n",
       "      <td>2016-11-19 01:39:01+00:00</td>\n",
       "      <td>NaN</td>\n",
       "      <td>NaN</td>\n",
       "      <td>799789040421765122</td>\n",
       "      <td>Hey stop me if you heard this but Marvin Ridge...</td>\n",
       "      <td>official</td>\n",
       "      <td>chrisWSOC9</td>\n",
       "    </tr>\n",
       "    <tr>\n",
       "      <th>3</th>\n",
       "      <td>2016-11-19 01:34:38+00:00</td>\n",
       "      <td>NaN</td>\n",
       "      <td>NaN</td>\n",
       "      <td>799787940222300160</td>\n",
       "      <td>No worries Concord scored in like a min. Still...</td>\n",
       "      <td>official</td>\n",
       "      <td>chrisWSOC9</td>\n",
       "    </tr>\n",
       "    <tr>\n",
       "      <th>4</th>\n",
       "      <td>2016-11-19 01:31:57+00:00</td>\n",
       "      <td>NaN</td>\n",
       "      <td>NaN</td>\n",
       "      <td>799787261617389568</td>\n",
       "      <td>Whoever wins this Concord/Marvin Ridge game wi...</td>\n",
       "      <td>official</td>\n",
       "      <td>chrisWSOC9</td>\n",
       "    </tr>\n",
       "  </tbody>\n",
       "</table>\n",
       "</div>"
      ],
      "text/plain": [
       "                        date  geo hashtags                  id  \\\n",
       "0  2016-11-28 20:53:31+00:00  NaN      NaN  803341071266811904   \n",
       "1  2016-11-19 01:55:52+00:00  NaN      NaN  799793282498838528   \n",
       "2  2016-11-19 01:39:01+00:00  NaN      NaN  799789040421765122   \n",
       "3  2016-11-19 01:34:38+00:00  NaN      NaN  799787940222300160   \n",
       "4  2016-11-19 01:31:57+00:00  NaN      NaN  799787261617389568   \n",
       "\n",
       "                                                text      type    username  \n",
       "0  321 Northbound at exit 20 is shutdown to this ...  official  chrisWSOC9  \n",
       "1  Just your typical 34-28 halftime score here at...  official  chrisWSOC9  \n",
       "2  Hey stop me if you heard this but Marvin Ridge...  official  chrisWSOC9  \n",
       "3  No worries Concord scored in like a min. Still...  official  chrisWSOC9  \n",
       "4  Whoever wins this Concord/Marvin Ridge game wi...  official  chrisWSOC9  "
      ]
     },
     "execution_count": 32,
     "metadata": {},
     "output_type": "execute_result"
    }
   ],
   "source": [
    "tweets.head()"
   ]
  },
  {
   "cell_type": "code",
   "execution_count": 33,
   "metadata": {},
   "outputs": [],
   "source": [
    "# define function to plot count of words after count vectorization\n",
    "# Code modified from http://robertmitchellv.com/blog-bar-chart-annotations-pandas-mpl.html\n",
    "def bar_plot(x, y, title, color):    \n",
    "    \n",
    "    # Set up barplot \n",
    "    plt.figure(figsize=(8,4))\n",
    "    ax = sns.barplot(x, y, color = color)\n",
    "\n",
    "    # Label the graph\n",
    "    plt.title(title, fontsize = 15)\n",
    "    plt.xticks(fontsize = 10)\n",
    "\n",
    "    # create a list to collect the plt.patches data\n",
    "    totals = []\n",
    "\n",
    "    # set individual bar lables using above list\n",
    "    for p in ax.patches:\n",
    "        # get_width pulls left or right; get_y pushes up or down\n",
    "        ax.text(p.get_width()+.3, p.get_y()+.38,\n",
    "                int(p.get_width()), fontsize=10)"
   ]
  },
  {
   "cell_type": "code",
   "execution_count": 34,
   "metadata": {},
   "outputs": [],
   "source": [
    "# define function to run regex startments over a column labeled \"text\"\n",
    "def twt_preprocess(twt):\n",
    "    # run regex to remove urls\n",
    "    twt['text'] = twt['text'].map(lambda x: re.sub(r\"((http|ftp|https):\\/\\/)?[\\w\\-_]+(\\.[\\w\\-_]+)+([\\w\\-\\.,@?^=%&amp;:/~\\+#]*[\\w\\-\\@?^=%&amp;/~\\+#])?\", ' ', x))\n",
    "\n",
    "    # run regex to remove certain characters\n",
    "    twt['text'] = twt['text'].map(lambda x: re.sub(r\"[@\\?\\.$%_\\[\\]()+-:*\\\"]\", ' ', x, flags=re.I))\n",
    "    twt['text'] = twt['text'].map(lambda x: re.sub(r\"[,']\", '', x, flags=re.I))\n",
    "    twt['text'] = twt['text'].map(lambda x: re.sub(\"(?<![\\w'])\\w+?(?=\\b|'s)\", ' ', x))\n",
    "\n",
    "    # run regex to remove line breaks and tabs\n",
    "    twt['text'] = twt['text'].map(lambda x: re.sub(r\"\\s+\", ' ', x))\n",
    "\n",
    "    # run regex to remove common words\n",
    "    twt['text'] = twt['text'].map(lambda x: re.sub('(twitter|ly|pic|bit)[s]?', ' ', x,  flags=re.I))   "
   ]
  },
  {
   "cell_type": "code",
   "execution_count": 35,
   "metadata": {},
   "outputs": [],
   "source": [
    "# run regex cleaner on full dataframe\n",
    "twt_preprocess(tweets)"
   ]
  },
  {
   "cell_type": "markdown",
   "metadata": {},
   "source": [
    "#### Create Dataframe of Tweets that mention keywords related to road closures"
   ]
  },
  {
   "cell_type": "code",
   "execution_count": 36,
   "metadata": {},
   "outputs": [],
   "source": [
    "# establish list of words to search for in dataframe\n",
    "closed_keywords = ['road closed', 'remains closed', 'closed',\n",
    "                   'no travel', 'delay', 'lane', \n",
    "                   'disabled', 'traffic']\n",
    "to_drop = [\"open\", \"opened\", \"lifted\", \"plane\", \"reopened\", \"clear\"]"
   ]
  },
  {
   "cell_type": "code",
   "execution_count": 37,
   "metadata": {},
   "outputs": [],
   "source": [
    "# define function to filter the full dataframe for tweets that contain words from a keyword list\n",
    "def road_filter (df, col, keywords, dropwords=None):\n",
    "    \n",
    "    query = []\n",
    "    \n",
    "    # populate query list with masks that test if a word is in datafram\n",
    "    for word in keywords:\n",
    "        mask = df[col].str.contains(word, regex=False, case=False)\n",
    "        query.append(mask)\n",
    "        \n",
    "    # run filter, specifying ANY text\n",
    "    filter_df = df[np.any(query, axis=0)]\n",
    "    \n",
    "    # test words to drop functionality\n",
    "    if dropwords is not None:\n",
    "        return filter_df[~filter_df[col].str.contains('|'.join(dropwords))]\n",
    "    else:\n",
    "        return filter_df"
   ]
  },
  {
   "cell_type": "code",
   "execution_count": 38,
   "metadata": {},
   "outputs": [],
   "source": [
    "# run function on full dataframe\n",
    "closed = road_filter(tweets, 'text', closed_keywords, to_drop)"
   ]
  },
  {
   "cell_type": "code",
   "execution_count": 39,
   "metadata": {},
   "outputs": [
    {
     "data": {
      "text/html": [
       "<div>\n",
       "<style scoped>\n",
       "    .dataframe tbody tr th:only-of-type {\n",
       "        vertical-align: middle;\n",
       "    }\n",
       "\n",
       "    .dataframe tbody tr th {\n",
       "        vertical-align: top;\n",
       "    }\n",
       "\n",
       "    .dataframe thead th {\n",
       "        text-align: right;\n",
       "    }\n",
       "</style>\n",
       "<table border=\"1\" class=\"dataframe\">\n",
       "  <thead>\n",
       "    <tr style=\"text-align: right;\">\n",
       "      <th></th>\n",
       "      <th>date</th>\n",
       "      <th>geo</th>\n",
       "      <th>hashtags</th>\n",
       "      <th>id</th>\n",
       "      <th>text</th>\n",
       "      <th>type</th>\n",
       "      <th>username</th>\n",
       "      <th>road_closure</th>\n",
       "    </tr>\n",
       "  </thead>\n",
       "  <tbody>\n",
       "    <tr>\n",
       "      <th>84</th>\n",
       "      <td>2016-11-11 19:29:16+00:00</td>\n",
       "      <td>NaN</td>\n",
       "      <td>NaN</td>\n",
       "      <td>797159274317250560</td>\n",
       "      <td>The fire at South Mountains State Park is now ...</td>\n",
       "      <td>official</td>\n",
       "      <td>FahertyWSOC9</td>\n",
       "      <td>1</td>\n",
       "    </tr>\n",
       "    <tr>\n",
       "      <th>114</th>\n",
       "      <td>2016-11-01 19:57:57+00:00</td>\n",
       "      <td>NaN</td>\n",
       "      <td>NaN</td>\n",
       "      <td>793542617195773952</td>\n",
       "      <td>Sheriff deputies in Iredell county find more t...</td>\n",
       "      <td>official</td>\n",
       "      <td>FahertyWSOC9</td>\n",
       "      <td>1</td>\n",
       "    </tr>\n",
       "    <tr>\n",
       "      <th>127</th>\n",
       "      <td>2016-10-21 16:24:40+00:00</td>\n",
       "      <td>NaN</td>\n",
       "      <td>NaN</td>\n",
       "      <td>789502675213778944</td>\n",
       "      <td>Northbound lanes of highway in Granite Falls s...</td>\n",
       "      <td>official</td>\n",
       "      <td>FahertyWSOC9</td>\n",
       "      <td>1</td>\n",
       "    </tr>\n",
       "    <tr>\n",
       "      <th>138</th>\n",
       "      <td>2016-10-19 14:52:46+00:00</td>\n",
       "      <td>NaN</td>\n",
       "      <td>NaN</td>\n",
       "      <td>788754771373133824</td>\n",
       "      <td>Several restaurants near the waterline break a...</td>\n",
       "      <td>official</td>\n",
       "      <td>FahertyWSOC9</td>\n",
       "      <td>1</td>\n",
       "    </tr>\n",
       "    <tr>\n",
       "      <th>154</th>\n",
       "      <td>2016-10-06 16:12:49+00:00</td>\n",
       "      <td>NaN</td>\n",
       "      <td>NaN</td>\n",
       "      <td>784063872370106368</td>\n",
       "      <td>Granite Falls divers went in the water this mo...</td>\n",
       "      <td>official</td>\n",
       "      <td>FahertyWSOC9</td>\n",
       "      <td>1</td>\n",
       "    </tr>\n",
       "  </tbody>\n",
       "</table>\n",
       "</div>"
      ],
      "text/plain": [
       "                          date  geo hashtags                  id  \\\n",
       "84   2016-11-11 19:29:16+00:00  NaN      NaN  797159274317250560   \n",
       "114  2016-11-01 19:57:57+00:00  NaN      NaN  793542617195773952   \n",
       "127  2016-10-21 16:24:40+00:00  NaN      NaN  789502675213778944   \n",
       "138  2016-10-19 14:52:46+00:00  NaN      NaN  788754771373133824   \n",
       "154  2016-10-06 16:12:49+00:00  NaN      NaN  784063872370106368   \n",
       "\n",
       "                                                  text      type  \\\n",
       "84   The fire at South Mountains State Park is now ...  official   \n",
       "114  Sheriff deputies in Iredell county find more t...  official   \n",
       "127  Northbound lanes of highway in Granite Falls s...  official   \n",
       "138  Several restaurants near the waterline break a...  official   \n",
       "154  Granite Falls divers went in the water this mo...  official   \n",
       "\n",
       "         username  road_closure  \n",
       "84   FahertyWSOC9             1  \n",
       "114  FahertyWSOC9             1  \n",
       "127  FahertyWSOC9             1  \n",
       "138  FahertyWSOC9             1  \n",
       "154  FahertyWSOC9             1  "
      ]
     },
     "execution_count": 39,
     "metadata": {},
     "output_type": "execute_result"
    }
   ],
   "source": [
    "# Create target variable \n",
    "closed['road_closure'] = 1\n",
    "closed.head()"
   ]
  },
  {
   "cell_type": "code",
   "execution_count": 40,
   "metadata": {
    "scrolled": false
   },
   "outputs": [
    {
     "data": {
      "text/plain": [
       "WTOPtraffic        2743\n",
       "fl511_northeast    1947\n",
       "NCDOT_Triangle     1787\n",
       "WOKVNews           1263\n",
       "TotalTrafficJAX     861\n",
       "ActionTraffic       265\n",
       "511Georgia          262\n",
       "SCDOTLowCountry     240\n",
       "wsoctv              113\n",
       "ActionNewsJax       109\n",
       "GADeptofTrans        81\n",
       "wsbtv                76\n",
       "SavPolice            63\n",
       "NCDOT                61\n",
       "postandcourier       57\n",
       "newsobserver         45\n",
       "WRAL                 45\n",
       "SCEMD                34\n",
       "ChathamEMA           31\n",
       "jaxdotcom            31\n",
       "cityofsavannah       18\n",
       "NCEmergency          17\n",
       "NCPublicSafety       15\n",
       "NCSHP                15\n",
       "SCDPS_PIO            14\n",
       "ChasCoSheriff        12\n",
       "FLSERT               11\n",
       "GeorgiaEMA           11\n",
       "scdhec                9\n",
       "NWSCharlestonSC       6\n",
       "FahertyWSOC9          5\n",
       "GeorgiaPower          4\n",
       "kenlemonWSOC9         4\n",
       "ChasCountyGov         3\n",
       "CityCharleston        3\n",
       "NWSGSP                2\n",
       "NWS                   2\n",
       "ChathamCountyNC       2\n",
       "GeorgiaAlert          2\n",
       "NWSWilmingtonNC       2\n",
       "NWSEastern            1\n",
       "AllisonWSOC9          1\n",
       "femaregion4           1\n",
       "VDEM                  1\n",
       "Name: username, dtype: int64"
      ]
     },
     "execution_count": 40,
     "metadata": {},
     "output_type": "execute_result"
    }
   ],
   "source": [
    "# find which accounts had information about road closures\n",
    "closed['username'].value_counts()"
   ]
  },
  {
   "cell_type": "code",
   "execution_count": 41,
   "metadata": {},
   "outputs": [
    {
     "name": "stdout",
     "output_type": "stream",
     "text": [
      "(10275, 4088)\n"
     ]
    }
   ],
   "source": [
    "# Instantiate a CountVectorizer\n",
    "cv = CountVectorizer(stop_words = 'english')\n",
    "\n",
    "# Fit and transform the vectorizer on our corpus\n",
    "cvec = cv.fit_transform(closed['text'])\n",
    "\n",
    "# Convert cvec into a DataFrame\n",
    "tweets_cvec = pd.DataFrame(cvec.toarray(),\n",
    "                   columns=cv.get_feature_names())\n",
    "\n",
    "# Inspect new DF\n",
    "print(tweets_cvec.shape)"
   ]
  },
  {
   "cell_type": "code",
   "execution_count": 42,
   "metadata": {
    "scrolled": false
   },
   "outputs": [
    {
     "data": {
      "image/png": "[encoded data removed]",
      "text/plain": [
       "<Figure size 576x288 with 1 Axes>"
      ]
     },
     "metadata": {
      "needs_background": "light"
     },
     "output_type": "display_data"
    }
   ],
   "source": [
    "# Set up variables to contain top 5 most used words \n",
    "wc1_tweets_cvec = tweets_cvec.sum(axis = 0).sort_values(ascending=False).head(6)\n",
    "\n",
    "# Call bar plot function\n",
    "bar_plot(wc1_tweets_cvec.values, wc1_tweets_cvec.index, 'Top 6 unigrams from alerts that confirm road closures','r')"
   ]
  },
  {
   "cell_type": "markdown",
   "metadata": {},
   "source": [
    "#### Create Dataframe of Tweets that do not mention closures"
   ]
  },
  {
   "cell_type": "code",
   "execution_count": 43,
   "metadata": {},
   "outputs": [
    {
     "data": {
      "text/plain": [
       "(33348, 7)"
      ]
     },
     "execution_count": 43,
     "metadata": {},
     "output_type": "execute_result"
    }
   ],
   "source": [
    "# Get index number of tweets identified as road closures \n",
    "closed_index = list(closed.index)\n",
    "\n",
    "# Remove all road closure tweets from full dataframe\n",
    "tweets_open = tweets.drop(closed_index)\n",
    "\n",
    "# Drop any instances where false positives might occur\n",
    "tweets_open = tweets_open[~tweets_open.text.str.contains(\"remains closed\")]\n",
    "tweets_open = tweets_open[~tweets_open.text.str.contains(\"remains close\")]\n",
    "\n",
    "# Shape\n",
    "tweets_open.shape"
   ]
  },
  {
   "cell_type": "code",
   "execution_count": 44,
   "metadata": {},
   "outputs": [
    {
     "data": {
      "text/plain": [
       "(10275, 7)"
      ]
     },
     "execution_count": 44,
     "metadata": {},
     "output_type": "execute_result"
    }
   ],
   "source": [
    "# To maintain balanced classes, drop rows in `tweets_open` so that they are equal to `closed`\n",
    "tweets_open = tweets_open.iloc[0:(closed.shape[0])]\n",
    "tweets_open.shape"
   ]
  },
  {
   "cell_type": "code",
   "execution_count": 45,
   "metadata": {
    "scrolled": false
   },
   "outputs": [
    {
     "data": {
      "text/html": [
       "<div>\n",
       "<style scoped>\n",
       "    .dataframe tbody tr th:only-of-type {\n",
       "        vertical-align: middle;\n",
       "    }\n",
       "\n",
       "    .dataframe tbody tr th {\n",
       "        vertical-align: top;\n",
       "    }\n",
       "\n",
       "    .dataframe thead th {\n",
       "        text-align: right;\n",
       "    }\n",
       "</style>\n",
       "<table border=\"1\" class=\"dataframe\">\n",
       "  <thead>\n",
       "    <tr style=\"text-align: right;\">\n",
       "      <th></th>\n",
       "      <th>date</th>\n",
       "      <th>geo</th>\n",
       "      <th>hashtags</th>\n",
       "      <th>id</th>\n",
       "      <th>text</th>\n",
       "      <th>type</th>\n",
       "      <th>username</th>\n",
       "      <th>road_closure</th>\n",
       "    </tr>\n",
       "  </thead>\n",
       "  <tbody>\n",
       "    <tr>\n",
       "      <th>0</th>\n",
       "      <td>2016-11-28 20:53:31+00:00</td>\n",
       "      <td>NaN</td>\n",
       "      <td>NaN</td>\n",
       "      <td>803341071266811904</td>\n",
       "      <td>Northbound at exit is shutdown to this accident</td>\n",
       "      <td>official</td>\n",
       "      <td>chrisWSOC9</td>\n",
       "      <td>0</td>\n",
       "    </tr>\n",
       "    <tr>\n",
       "      <th>1</th>\n",
       "      <td>2016-11-19 01:55:52+00:00</td>\n",
       "      <td>NaN</td>\n",
       "      <td>NaN</td>\n",
       "      <td>799793282498838528</td>\n",
       "      <td>Just your ty al halftime score here at Marvin ...</td>\n",
       "      <td>official</td>\n",
       "      <td>chrisWSOC9</td>\n",
       "      <td>0</td>\n",
       "    </tr>\n",
       "    <tr>\n",
       "      <th>2</th>\n",
       "      <td>2016-11-19 01:39:01+00:00</td>\n",
       "      <td>NaN</td>\n",
       "      <td>NaN</td>\n",
       "      <td>799789040421765122</td>\n",
       "      <td>Hey stop me if you heard this but Marvin Ridge...</td>\n",
       "      <td>official</td>\n",
       "      <td>chrisWSOC9</td>\n",
       "      <td>0</td>\n",
       "    </tr>\n",
       "    <tr>\n",
       "      <th>3</th>\n",
       "      <td>2016-11-19 01:34:38+00:00</td>\n",
       "      <td>NaN</td>\n",
       "      <td>NaN</td>\n",
       "      <td>799787940222300160</td>\n",
       "      <td>No worries Concord scored in like a min Still ...</td>\n",
       "      <td>official</td>\n",
       "      <td>chrisWSOC9</td>\n",
       "      <td>0</td>\n",
       "    </tr>\n",
       "    <tr>\n",
       "      <th>4</th>\n",
       "      <td>2016-11-19 01:31:57+00:00</td>\n",
       "      <td>NaN</td>\n",
       "      <td>NaN</td>\n",
       "      <td>799787261617389568</td>\n",
       "      <td>Whoever wins this Concord Marvin Ridge game wi...</td>\n",
       "      <td>official</td>\n",
       "      <td>chrisWSOC9</td>\n",
       "      <td>0</td>\n",
       "    </tr>\n",
       "  </tbody>\n",
       "</table>\n",
       "</div>"
      ],
      "text/plain": [
       "                        date  geo hashtags                  id  \\\n",
       "0  2016-11-28 20:53:31+00:00  NaN      NaN  803341071266811904   \n",
       "1  2016-11-19 01:55:52+00:00  NaN      NaN  799793282498838528   \n",
       "2  2016-11-19 01:39:01+00:00  NaN      NaN  799789040421765122   \n",
       "3  2016-11-19 01:34:38+00:00  NaN      NaN  799787940222300160   \n",
       "4  2016-11-19 01:31:57+00:00  NaN      NaN  799787261617389568   \n",
       "\n",
       "                                                text      type    username  \\\n",
       "0   Northbound at exit is shutdown to this accident   official  chrisWSOC9   \n",
       "1  Just your ty al halftime score here at Marvin ...  official  chrisWSOC9   \n",
       "2  Hey stop me if you heard this but Marvin Ridge...  official  chrisWSOC9   \n",
       "3  No worries Concord scored in like a min Still ...  official  chrisWSOC9   \n",
       "4  Whoever wins this Concord Marvin Ridge game wi...  official  chrisWSOC9   \n",
       "\n",
       "   road_closure  \n",
       "0             0  \n",
       "1             0  \n",
       "2             0  \n",
       "3             0  \n",
       "4             0  "
      ]
     },
     "execution_count": 45,
     "metadata": {},
     "output_type": "execute_result"
    }
   ],
   "source": [
    "# Create target variable \n",
    "tweets_open['road_closure'] = 0\n",
    "tweets_open.head()"
   ]
  },
  {
   "cell_type": "code",
   "execution_count": 46,
   "metadata": {},
   "outputs": [
    {
     "name": "stdout",
     "output_type": "stream",
     "text": [
      "(10275, 7507)\n"
     ]
    }
   ],
   "source": [
    "# Instantiate a CountVectorizer\n",
    "cv = CountVectorizer(stop_words = 'english')\n",
    "\n",
    "# Fit and transform the vectorizer on our corpus\n",
    "cvec = cv.fit_transform(tweets_open['text'])\n",
    "\n",
    "# Convert cvec into a DataFrame\n",
    "tweets_cvec = pd.DataFrame(cvec.toarray(),\n",
    "                   columns=cv.get_feature_names())\n",
    "\n",
    "# Inspect new DF\n",
    "print(tweets_cvec.shape)"
   ]
  },
  {
   "cell_type": "code",
   "execution_count": 47,
   "metadata": {
    "scrolled": true
   },
   "outputs": [
    {
     "data": {
      "image/png": "[encoded data removed]",
      "text/plain": [
       "<Figure size 576x288 with 1 Axes>"
      ]
     },
     "metadata": {
      "needs_background": "light"
     },
     "output_type": "display_data"
    }
   ],
   "source": [
    "# Set up variables to contain top 5 most used words \n",
    "wc1_tweets_cvec = tweets_cvec.sum(axis = 0).sort_values(ascending=False).head(6)\n",
    "\n",
    "# Call bar plot function\n",
    "bar_plot(wc1_tweets_cvec.values, wc1_tweets_cvec.index, 'Top 6 unigrams from tweets that are not about road closures','b')"
   ]
  },
  {
   "cell_type": "markdown",
   "metadata": {},
   "source": [
    "#### Create Training Dataframe"
   ]
  },
  {
   "cell_type": "code",
   "execution_count": 48,
   "metadata": {},
   "outputs": [
    {
     "data": {
      "text/plain": [
       "(20550, 8)"
      ]
     },
     "execution_count": 48,
     "metadata": {},
     "output_type": "execute_result"
    }
   ],
   "source": [
    "# Merge dataframes\n",
    "tweets_training = pd.concat([tweets_open, closed], axis=0)\n",
    "tweets_training.shape"
   ]
  },
  {
   "cell_type": "code",
   "execution_count": 49,
   "metadata": {},
   "outputs": [
    {
     "data": {
      "text/html": [
       "<div>\n",
       "<style scoped>\n",
       "    .dataframe tbody tr th:only-of-type {\n",
       "        vertical-align: middle;\n",
       "    }\n",
       "\n",
       "    .dataframe tbody tr th {\n",
       "        vertical-align: top;\n",
       "    }\n",
       "\n",
       "    .dataframe thead th {\n",
       "        text-align: right;\n",
       "    }\n",
       "</style>\n",
       "<table border=\"1\" class=\"dataframe\">\n",
       "  <thead>\n",
       "    <tr style=\"text-align: right;\">\n",
       "      <th></th>\n",
       "      <th>date</th>\n",
       "      <th>geo</th>\n",
       "      <th>hashtags</th>\n",
       "      <th>id</th>\n",
       "      <th>text</th>\n",
       "      <th>type</th>\n",
       "      <th>username</th>\n",
       "      <th>road_closure</th>\n",
       "    </tr>\n",
       "  </thead>\n",
       "  <tbody>\n",
       "    <tr>\n",
       "      <th>0</th>\n",
       "      <td>2016-11-28 20:53:31+00:00</td>\n",
       "      <td>NaN</td>\n",
       "      <td>NaN</td>\n",
       "      <td>803341071266811904</td>\n",
       "      <td>Northbound at exit is shutdown to this accident</td>\n",
       "      <td>official</td>\n",
       "      <td>chrisWSOC9</td>\n",
       "      <td>0</td>\n",
       "    </tr>\n",
       "    <tr>\n",
       "      <th>1</th>\n",
       "      <td>2016-11-19 01:55:52+00:00</td>\n",
       "      <td>NaN</td>\n",
       "      <td>NaN</td>\n",
       "      <td>799793282498838528</td>\n",
       "      <td>Just your ty al halftime score here at Marvin ...</td>\n",
       "      <td>official</td>\n",
       "      <td>chrisWSOC9</td>\n",
       "      <td>0</td>\n",
       "    </tr>\n",
       "    <tr>\n",
       "      <th>2</th>\n",
       "      <td>2016-11-19 01:39:01+00:00</td>\n",
       "      <td>NaN</td>\n",
       "      <td>NaN</td>\n",
       "      <td>799789040421765122</td>\n",
       "      <td>Hey stop me if you heard this but Marvin Ridge...</td>\n",
       "      <td>official</td>\n",
       "      <td>chrisWSOC9</td>\n",
       "      <td>0</td>\n",
       "    </tr>\n",
       "    <tr>\n",
       "      <th>3</th>\n",
       "      <td>2016-11-19 01:34:38+00:00</td>\n",
       "      <td>NaN</td>\n",
       "      <td>NaN</td>\n",
       "      <td>799787940222300160</td>\n",
       "      <td>No worries Concord scored in like a min Still ...</td>\n",
       "      <td>official</td>\n",
       "      <td>chrisWSOC9</td>\n",
       "      <td>0</td>\n",
       "    </tr>\n",
       "    <tr>\n",
       "      <th>4</th>\n",
       "      <td>2016-11-19 01:31:57+00:00</td>\n",
       "      <td>NaN</td>\n",
       "      <td>NaN</td>\n",
       "      <td>799787261617389568</td>\n",
       "      <td>Whoever wins this Concord Marvin Ridge game wi...</td>\n",
       "      <td>official</td>\n",
       "      <td>chrisWSOC9</td>\n",
       "      <td>0</td>\n",
       "    </tr>\n",
       "  </tbody>\n",
       "</table>\n",
       "</div>"
      ],
      "text/plain": [
       "                        date  geo hashtags                  id  \\\n",
       "0  2016-11-28 20:53:31+00:00  NaN      NaN  803341071266811904   \n",
       "1  2016-11-19 01:55:52+00:00  NaN      NaN  799793282498838528   \n",
       "2  2016-11-19 01:39:01+00:00  NaN      NaN  799789040421765122   \n",
       "3  2016-11-19 01:34:38+00:00  NaN      NaN  799787940222300160   \n",
       "4  2016-11-19 01:31:57+00:00  NaN      NaN  799787261617389568   \n",
       "\n",
       "                                                text      type    username  \\\n",
       "0   Northbound at exit is shutdown to this accident   official  chrisWSOC9   \n",
       "1  Just your ty al halftime score here at Marvin ...  official  chrisWSOC9   \n",
       "2  Hey stop me if you heard this but Marvin Ridge...  official  chrisWSOC9   \n",
       "3  No worries Concord scored in like a min Still ...  official  chrisWSOC9   \n",
       "4  Whoever wins this Concord Marvin Ridge game wi...  official  chrisWSOC9   \n",
       "\n",
       "   road_closure  \n",
       "0             0  \n",
       "1             0  \n",
       "2             0  \n",
       "3             0  \n",
       "4             0  "
      ]
     },
     "execution_count": 49,
     "metadata": {},
     "output_type": "execute_result"
    }
   ],
   "source": [
    "tweets_training.head()"
   ]
  },
  {
   "cell_type": "markdown",
   "metadata": {},
   "source": [
    "## Modeling"
   ]
  },
  {
   "cell_type": "code",
   "execution_count": 50,
   "metadata": {},
   "outputs": [
    {
     "data": {
      "text/plain": [
       "1    0.5\n",
       "0    0.5\n",
       "Name: road_closure, dtype: float64"
      ]
     },
     "execution_count": 50,
     "metadata": {},
     "output_type": "execute_result"
    }
   ],
   "source": [
    "# Baseline score\n",
    "tweets_training['road_closure'].value_counts(normalize=True)"
   ]
  },
  {
   "cell_type": "code",
   "execution_count": 51,
   "metadata": {},
   "outputs": [],
   "source": [
    "# define our variables\n",
    "X = tweets_training['text']\n",
    "y = tweets_training['road_closure']"
   ]
  },
  {
   "cell_type": "code",
   "execution_count": 52,
   "metadata": {},
   "outputs": [],
   "source": [
    "# train test split the data\n",
    "X_train, X_test, y_train, y_test = train_test_split(X,\n",
    "                                                    y,\n",
    "                                                    random_state=42,\n",
    "                                                    stratify=y)"
   ]
  },
  {
   "cell_type": "code",
   "execution_count": 53,
   "metadata": {
    "scrolled": true
   },
   "outputs": [
    {
     "name": "stdout",
     "output_type": "stream",
     "text": [
      "Fitting 3 folds for each of 12 candidates, totalling 36 fits\n"
     ]
    },
    {
     "name": "stderr",
     "output_type": "stream",
     "text": [
      "[Parallel(n_jobs=-1)]: Using backend LokyBackend with 4 concurrent workers.\n",
      "[Parallel(n_jobs=-1)]: Done  36 out of  36 | elapsed:    7.9s finished\n"
     ]
    },
    {
     "name": "stdout",
     "output_type": "stream",
     "text": [
      "Best score: 0.9818972229431612\n",
      "Train score 0.9994809239553595\n",
      "Test score 0.9820942000778513\n"
     ]
    },
    {
     "data": {
      "text/plain": [
       "{'cvec__ngram_range': (1, 3), 'cvec__stop_words': 'english', 'lr__C': 1}"
      ]
     },
     "execution_count": 53,
     "metadata": {},
     "output_type": "execute_result"
    }
   ],
   "source": [
    "pipe = Pipeline([('cvec', CountVectorizer()),    \n",
    "                 ('lr', LogisticRegression(solver='liblinear'))])\n",
    "\n",
    "# Tune GridSearchCV\n",
    "pipe_params = {'cvec__stop_words': [None, 'english'],\n",
    "               'cvec__ngram_range': [(1,1), (2,2), (1,3)],\n",
    "               'lr__C': [0.01, 1]}\n",
    "\n",
    "gs = GridSearchCV(pipe, param_grid=pipe_params, cv=3, n_jobs=-1, verbose=1)\n",
    "gs.fit(X_train, y_train);\n",
    "print(\"Best score:\", gs.best_score_)\n",
    "print(\"Train score\", gs.score(X_train, y_train))\n",
    "print(\"Test score\", gs.score(X_test, y_test))\n",
    "\n",
    "gs.best_params_"
   ]
  },
  {
   "cell_type": "code",
   "execution_count": 54,
   "metadata": {
    "scrolled": false
   },
   "outputs": [
    {
     "name": "stdout",
     "output_type": "stream",
     "text": [
      "Train Score: 0.9994809239553595\n",
      "Test Score: 0.9820942000778513\n"
     ]
    }
   ],
   "source": [
    "#Instantiate the classifier and vectorizer\n",
    "lr = LogisticRegression(C = 1.0, solver='liblinear')\n",
    "cvec = CountVectorizer(ngram_range=(1, 3), stop_words= 'english')\n",
    "\n",
    "# Fit and transform the vectorizor\n",
    "cvec.fit(X_train)\n",
    "\n",
    "cvec_train = cvec.transform(X_train)\n",
    "cvec_test = cvec.transform(X_test)\n",
    "\n",
    "# Fit the classifier\n",
    "lr.fit(cvec_train,y_train)\n",
    "\n",
    "# Create the predictions for Y training data\n",
    "y_pred = lr.predict(cvec_test)\n",
    "\n",
    "print(f'Train Score: {lr.score(cvec_train, y_train)}')\n",
    "print(f'Test Score: {lr.score(cvec_test, y_test)}')"
   ]
  },
  {
   "cell_type": "code",
   "execution_count": 55,
   "metadata": {},
   "outputs": [],
   "source": [
    "# function to visualize confusion matrix\n",
    "# Source code from SkLearn documentation\n",
    "# https://scikit-learn.org/stable/auto_examples/model_selection/plot_confusion_matrix.html\n",
    "\n",
    "def plot_confusion_matrix(y_true, y_pred, classes,\n",
    "                          normalize=False,\n",
    "                          title=None,\n",
    "                          cmap=plt.cm.Blues):\n",
    "#     This function prints and plots the confusion matrix.\n",
    "#     Normalization can be applied by setting `normalize=True`.\n",
    "\n",
    "    if not title:\n",
    "        if normalize:\n",
    "            title = 'Normalized confusion matrix'\n",
    "        else:\n",
    "            title = 'Confusion matrix, without normalization'\n",
    "\n",
    "    # Compute confusion matrix\n",
    "    cm = metrics.confusion_matrix(y_true, y_pred)\n",
    "    # Only use the labels that appear in the data\n",
    "    classes = classes[unique_labels(y_true, y_pred)]\n",
    "    if normalize:\n",
    "        cm = cm.astype('float') / cm.sum(axis=1)[:, np.newaxis]\n",
    "        print(\"Normalized confusion matrix\")\n",
    "    else:\n",
    "        print('Confusion matrix, without normalization')\n",
    "\n",
    "    print(cm)\n",
    "\n",
    "    fig, ax = plt.subplots()\n",
    "    im = ax.imshow(cm, interpolation='nearest', cmap=cmap)\n",
    "    ax.figure.colorbar(im, ax=ax)\n",
    "    # We want to show all ticks...\n",
    "    ax.set(xticks=np.arange(cm.shape[1]),\n",
    "           yticks=np.arange(cm.shape[0]),\n",
    "           # ... and label them with the respective list entries\n",
    "           xticklabels=classes, yticklabels=classes,\n",
    "           title=title,\n",
    "           ylabel='True label',\n",
    "           xlabel='Predicted label')\n",
    "\n",
    "    # Rotate the tick labels and set their alignment.\n",
    "    plt.setp(ax.get_xticklabels(), rotation=45, ha=\"right\",\n",
    "             rotation_mode=\"anchor\")\n",
    "\n",
    "    # Loop over data dimensions and create text annotations.\n",
    "    fmt = '.2f' if normalize else 'd'\n",
    "    thresh = cm.max() / 2.\n",
    "    for i in range(cm.shape[0]):\n",
    "        for j in range(cm.shape[1]):\n",
    "            ax.text(j, i, format(cm[i, j], fmt),\n",
    "                    ha=\"center\", va=\"center\",\n",
    "                    color=\"white\" if cm[i, j] > thresh else \"black\")\n",
    "    fig.tight_layout()\n",
    "    return ax"
   ]
  },
  {
   "cell_type": "code",
   "execution_count": 56,
   "metadata": {},
   "outputs": [
    {
     "name": "stdout",
     "output_type": "stream",
     "text": [
      "Confusion matrix, without normalization\n",
      "[[2527   42]\n",
      " [  50 2519]]\n"
     ]
    },
    {
     "data": {
      "image/png": "[encoded data removed]",
      "text/plain": [
       "<Figure size 432x288 with 2 Axes>"
      ]
     },
     "metadata": {
      "needs_background": "light"
     },
     "output_type": "display_data"
    }
   ],
   "source": [
    "# set decimal places for numpy functions\n",
    "np.set_printoptions(precision=2)\n",
    "\n",
    "#define class names\n",
    "class_names=np.array(['Road Closed', 'Not Related'])\n",
    "\n",
    "# Plot non-normalized confusion matrix\n",
    "plot_confusion_matrix(y_test, y_pred, classes=class_names,\n",
    "                      title='Confusion matrix, without normalization',\n",
    "                     cmap='YlGnBu')\n",
    "\n",
    "\n",
    "plt.show();"
   ]
  },
  {
   "cell_type": "code",
   "execution_count": 57,
   "metadata": {
    "scrolled": true
   },
   "outputs": [
    {
     "data": {
      "image/png": "[encoded data removed]",
      "text/plain": [
       "<Figure size 576x432 with 1 Axes>"
      ]
     },
     "metadata": {
      "needs_background": "light"
     },
     "output_type": "display_data"
    }
   ],
   "source": [
    "# Create list of logistic regression coefficients \n",
    "lr_coef = np.array(lr.coef_).tolist()\n",
    "lr_coef = lr_coef[0]\n",
    "\n",
    "# create dataframe from lasso coef\n",
    "lr_coef = pd.DataFrame(np.round_(lr_coef, decimals=3), \n",
    "cvec.get_feature_names(), columns = [\"lr_coef\"])\n",
    "\n",
    "# sort the values from high to low\n",
    "lr_coef = lr_coef.sort_values(by = 'lr_coef', \n",
    "ascending = False)\n",
    "\n",
    "# Create top and bottom 10 \n",
    "df_head = lr_coef.head(10)\n",
    "df_tail = lr_coef.tail(10)\n",
    "\n",
    "# merge back together\n",
    "df_merged = pd.concat([df_head, df_tail], axis=0)\n",
    "\n",
    "# plot the sorted dataframe\n",
    "fig, ax = plt.subplots()\n",
    "fig.set_size_inches(8, 6)\n",
    "fig.suptitle('Coefficients', size=14)\n",
    "ax = sns.barplot(x = 'lr_coef', y= df_merged.index, \n",
    "data=df_merged, palette= 'cubehelix')\n",
    "ax.set(xlabel='Regression Coefficients')\n",
    "plt.tight_layout(pad=3, w_pad=0, h_pad=0);"
   ]
  },
  {
   "cell_type": "code",
   "execution_count": 58,
   "metadata": {},
   "outputs": [],
   "source": [
    "tweets_training.to_csv('../data/cleaned_tweets/cleaned_historic_07242019.csv', index = False)"
   ]
  }
 ],
 "metadata": {
  "kernelspec": {
   "display_name": "Python [conda env:dsi] *",
   "language": "python",
   "name": "conda-env-dsi-py-2"
  },
  "language_info": {
   "codemirror_mode": {
    "name": "ipython",
    "version": 3
   },
   "file_extension": ".py",
   "mimetype": "text/x-python",
   "name": "python",
   "nbconvert_exporter": "python",
   "pygments_lexer": "ipython3",
   "version": "3.7.3"
  }
 },
 "nbformat": 4,
 "nbformat_minor": 2
}
