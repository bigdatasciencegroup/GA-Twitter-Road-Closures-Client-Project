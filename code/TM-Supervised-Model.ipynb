{
 "cells": [
  {
   "cell_type": "code",
   "execution_count": 1,
   "metadata": {},
   "outputs": [],
   "source": [
    "import pandas as pd\n",
    "import matplotlib.pyplot as plt\n",
    "import seaborn as sns\n",
    "import numpy as np\n",
    "\n",
    "import re\n",
    "\n",
    "from sklearn.feature_extraction import stop_words\n",
    "from sklearn.feature_extraction.text import CountVectorizer, TfidfVectorizer\n",
    "\n",
    "from sklearn.linear_model import LogisticRegression\n",
    "from sklearn.model_selection import train_test_split, GridSearchCV\n",
    "from sklearn.pipeline import Pipeline\n",
    "from sklearn.naive_bayes import MultinomialNB\n",
    "from sklearn import metrics\n",
    "from sklearn.metrics import accuracy_score, recall_score, precision_score, confusion_matrix"
   ]
  },
  {
   "cell_type": "code",
   "execution_count": null,
   "metadata": {},
   "outputs": [],
   "source": []
  },
  {
   "cell_type": "markdown",
   "metadata": {},
   "source": [
    "## Exploratory Data Analysis and Preproccessing"
   ]
  },
  {
   "cell_type": "code",
   "execution_count": 2,
   "metadata": {},
   "outputs": [],
   "source": [
    "# import tweets\n",
    "tweets = pd.read_csv(\"../data/Tweets_historical/historic_tweets_07232019.csv\")"
   ]
  },
  {
   "cell_type": "code",
   "execution_count": 3,
   "metadata": {
    "scrolled": true
   },
   "outputs": [
    {
     "data": {
      "text/html": [
       "<div>\n",
       "<style scoped>\n",
       "    .dataframe tbody tr th:only-of-type {\n",
       "        vertical-align: middle;\n",
       "    }\n",
       "\n",
       "    .dataframe tbody tr th {\n",
       "        vertical-align: top;\n",
       "    }\n",
       "\n",
       "    .dataframe thead th {\n",
       "        text-align: right;\n",
       "    }\n",
       "</style>\n",
       "<table border=\"1\" class=\"dataframe\">\n",
       "  <thead>\n",
       "    <tr style=\"text-align: right;\">\n",
       "      <th></th>\n",
       "      <th>date</th>\n",
       "      <th>geo</th>\n",
       "      <th>hashtags</th>\n",
       "      <th>id</th>\n",
       "      <th>text</th>\n",
       "      <th>type</th>\n",
       "      <th>username</th>\n",
       "    </tr>\n",
       "  </thead>\n",
       "  <tbody>\n",
       "    <tr>\n",
       "      <th>0</th>\n",
       "      <td>2016-11-28 20:53:31+00:00</td>\n",
       "      <td>NaN</td>\n",
       "      <td>NaN</td>\n",
       "      <td>803341071266811904</td>\n",
       "      <td>321 Northbound at exit 20 is shutdown to this ...</td>\n",
       "      <td>official</td>\n",
       "      <td>chrisWSOC9</td>\n",
       "    </tr>\n",
       "    <tr>\n",
       "      <th>1</th>\n",
       "      <td>2016-11-19 01:55:52+00:00</td>\n",
       "      <td>NaN</td>\n",
       "      <td>NaN</td>\n",
       "      <td>799793282498838528</td>\n",
       "      <td>Just your typical 34-28 halftime score here at...</td>\n",
       "      <td>official</td>\n",
       "      <td>chrisWSOC9</td>\n",
       "    </tr>\n",
       "    <tr>\n",
       "      <th>2</th>\n",
       "      <td>2016-11-19 01:39:01+00:00</td>\n",
       "      <td>NaN</td>\n",
       "      <td>NaN</td>\n",
       "      <td>799789040421765122</td>\n",
       "      <td>Hey stop me if you heard this but Marvin Ridge...</td>\n",
       "      <td>official</td>\n",
       "      <td>chrisWSOC9</td>\n",
       "    </tr>\n",
       "    <tr>\n",
       "      <th>3</th>\n",
       "      <td>2016-11-19 01:34:38+00:00</td>\n",
       "      <td>NaN</td>\n",
       "      <td>NaN</td>\n",
       "      <td>799787940222300160</td>\n",
       "      <td>No worries Concord scored in like a min. Still...</td>\n",
       "      <td>official</td>\n",
       "      <td>chrisWSOC9</td>\n",
       "    </tr>\n",
       "    <tr>\n",
       "      <th>4</th>\n",
       "      <td>2016-11-19 01:31:57+00:00</td>\n",
       "      <td>NaN</td>\n",
       "      <td>NaN</td>\n",
       "      <td>799787261617389568</td>\n",
       "      <td>Whoever wins this Concord/Marvin Ridge game wi...</td>\n",
       "      <td>official</td>\n",
       "      <td>chrisWSOC9</td>\n",
       "    </tr>\n",
       "  </tbody>\n",
       "</table>\n",
       "</div>"
      ],
      "text/plain": [
       "                        date  geo hashtags                  id  \\\n",
       "0  2016-11-28 20:53:31+00:00  NaN      NaN  803341071266811904   \n",
       "1  2016-11-19 01:55:52+00:00  NaN      NaN  799793282498838528   \n",
       "2  2016-11-19 01:39:01+00:00  NaN      NaN  799789040421765122   \n",
       "3  2016-11-19 01:34:38+00:00  NaN      NaN  799787940222300160   \n",
       "4  2016-11-19 01:31:57+00:00  NaN      NaN  799787261617389568   \n",
       "\n",
       "                                                text      type    username  \n",
       "0  321 Northbound at exit 20 is shutdown to this ...  official  chrisWSOC9  \n",
       "1  Just your typical 34-28 halftime score here at...  official  chrisWSOC9  \n",
       "2  Hey stop me if you heard this but Marvin Ridge...  official  chrisWSOC9  \n",
       "3  No worries Concord scored in like a min. Still...  official  chrisWSOC9  \n",
       "4  Whoever wins this Concord/Marvin Ridge game wi...  official  chrisWSOC9  "
      ]
     },
     "execution_count": 3,
     "metadata": {},
     "output_type": "execute_result"
    }
   ],
   "source": [
    "tweets.head()"
   ]
  },
  {
   "cell_type": "code",
   "execution_count": 4,
   "metadata": {},
   "outputs": [],
   "source": [
    "# define function to plot count of words after count vectorization\n",
    "def bar_plot(x, y, title, color):    \n",
    "    \n",
    "    # Set up barplot \n",
    "    plt.figure(figsize=(8,4))\n",
    "    g=sns.barplot(x, y, color = color)    \n",
    "    ax=g\n",
    "\n",
    "    # Label the graph\n",
    "    plt.title(title, fontsize = 15)\n",
    "    plt.xticks(fontsize = 10)\n",
    "\n",
    "    # Enable bar values\n",
    "    # Code modified from http://robertmitchellv.com/blog-bar-chart-annotations-pandas-mpl.html\n",
    "    # create a list to collect the plt.patches data\n",
    "    totals = []\n",
    "\n",
    "    # find the values and append to list\n",
    "    for p in ax.patches:\n",
    "        totals.append(p.get_width())\n",
    "\n",
    "    # set individual bar lables using above list\n",
    "    total = sum(totals)\n",
    "\n",
    "    # set individual bar lables using above list\n",
    "    for p in ax.patches:\n",
    "        # get_width pulls left or right; get_y pushes up or down\n",
    "        ax.text(p.get_width()+.3, p.get_y()+.38, \\\n",
    "                int(p.get_width()), fontsize=10)"
   ]
  },
  {
   "cell_type": "code",
   "execution_count": 5,
   "metadata": {},
   "outputs": [],
   "source": [
    "# define function to run regex startments over a column labeled \"text\"\n",
    "def twt_preprocess(twt):\n",
    "    # run regex to remove urls\n",
    "    twt['text'] = twt['text'].map(lambda x: re.sub(r\"((http|ftp|https):\\/\\/)?[\\w\\-_]+(\\.[\\w\\-_]+)+([\\w\\-\\.,@?^=%&amp;:/~\\+#]*[\\w\\-\\@?^=%&amp;/~\\+#])?\", ' ', x))\n",
    "\n",
    "    # run regex to remove certain characters\n",
    "    twt['text'] = twt['text'].map(lambda x: re.sub(r\"[@\\?\\.$%_\\[\\]()+-:*\\\"]\", ' ', x, flags=re.I))\n",
    "    twt['text'] = twt['text'].map(lambda x: re.sub(r\"[,']\", '', x, flags=re.I))\n",
    "    twt['text'] = twt['text'].map(lambda x: re.sub(\"(?<![\\w'])\\w+?(?=\\b|'s)\", ' ', x))\n",
    "\n",
    "    # run regex to remove line breaks and tabs\n",
    "    twt['text'] = twt['text'].map(lambda x: re.sub(r\"\\s+\", ' ', x))\n",
    "\n",
    "    # run regex to remove common words\n",
    "    twt['text'] = twt['text'].map(lambda x: re.sub('(twitter|ly|pic|bit)[s]?', ' ', x,  flags=re.I))   "
   ]
  },
  {
   "cell_type": "code",
   "execution_count": 6,
   "metadata": {},
   "outputs": [],
   "source": [
    "# run regex cleaner on full dataframe\n",
    "twt_preprocess(tweets)"
   ]
  },
  {
   "cell_type": "code",
   "execution_count": 18,
   "metadata": {},
   "outputs": [],
   "source": [
    "# establish list of words to search for in dataframe\n",
    "road_keywords = ['road closed', 'remains closed', 'closed', 'no travel', 'delay', 'accident', 'emergency', 'crash']"
   ]
  },
  {
   "cell_type": "code",
   "execution_count": 45,
   "metadata": {},
   "outputs": [],
   "source": [
    "# define function to filter the full dataframe for tweets that contain words from a keyword list\n",
    "def road_filter (df, col, keywords):\n",
    "    query = []\n",
    "    for word in keywords:\n",
    "        mask = df[col].str.contains(word, regex=False, case=False)\n",
    "        query.append(mask)\n",
    "    filter_df = df[np.any(query, axis=0)]\n",
    "    return filter_df"
   ]
  },
  {
   "cell_type": "code",
   "execution_count": 48,
   "metadata": {},
   "outputs": [],
   "source": [
    "# run function on full dataframe\n",
    "twitter_closures = road_filter(tweets, 'text', road_keywords)"
   ]
  },
  {
   "cell_type": "code",
   "execution_count": 49,
   "metadata": {},
   "outputs": [
    {
     "data": {
      "text/plain": [
       "WTOPtraffic        2079\n",
       "NCDOT_Triangle     1775\n",
       "fl511_northeast    1177\n",
       "WOKVNews           1108\n",
       "TotalTrafficJAX     758\n",
       "SCDOTLowCountry     571\n",
       "ActionTraffic       251\n",
       "ActionNewsJax       201\n",
       "wsoctv              183\n",
       "511Georgia          180\n",
       "wsbtv               139\n",
       "WRAL                 96\n",
       "postandcourier       73\n",
       "NCEmergency          71\n",
       "SCEMD                70\n",
       "newsobserver         70\n",
       "jaxdotcom            61\n",
       "FLSERT               56\n",
       "NCPublicSafety       54\n",
       "ChathamEMA           51\n",
       "NCDOT                46\n",
       "SavPolice            45\n",
       "NCSHP                44\n",
       "GADeptofTrans        40\n",
       "cityofsavannah       29\n",
       "scdhec               20\n",
       "CDCemergency         12\n",
       "ChasCoSheriff        12\n",
       "VDEM                 11\n",
       "ChasCountyGov        10\n",
       "NWSCharlestonSC      10\n",
       "GeorgiaEMA            9\n",
       "GeorgiaPower          9\n",
       "kenlemonWSOC9         9\n",
       "FahertyWSOC9          9\n",
       "CityCharleston        6\n",
       "femaregion4           4\n",
       "NWSWilmingtonNC       4\n",
       "NWSGSP                3\n",
       "GlynnCounty           3\n",
       "NWS                   3\n",
       "SCDPS_PIO             3\n",
       "AllisonWSOC9          3\n",
       "ChathamCountyNC       2\n",
       "NHC_Atlantic          1\n",
       "chrisWSOC9            1\n",
       "FEMAregion3           1\n",
       "NWSEastern            1\n",
       "FloridaStorms         1\n",
       "GARedCross            1\n",
       "Name: username, dtype: int64"
      ]
     },
     "execution_count": 49,
     "metadata": {},
     "output_type": "execute_result"
    }
   ],
   "source": [
    "# find which accounts had information about road closures\n",
    "twitter_closures['username'].value_counts()"
   ]
  },
  {
   "cell_type": "code",
   "execution_count": 38,
   "metadata": {},
   "outputs": [
    {
     "name": "stdout",
     "output_type": "stream",
     "text": [
      "(9376, 4255)\n"
     ]
    }
   ],
   "source": [
    "# Instantiate a CountVectorizer\n",
    "cv = CountVectorizer(stop_words = 'english')\n",
    "\n",
    "# Fit and transform the vectorizer on our corpus\n",
    "cvec = cv.fit_transform(twitter_closures['text'])\n",
    "\n",
    "# Convert cvec into a DataFrame\n",
    "tweets_cvec = pd.DataFrame(cvec.toarray(),\n",
    "                   columns=cv.get_feature_names())\n",
    "\n",
    "# Inspect new DF\n",
    "print(tweets_cvec.shape)"
   ]
  },
  {
   "cell_type": "code",
   "execution_count": 39,
   "metadata": {
    "scrolled": true
   },
   "outputs": [
    {
     "data": {
      "image/png": "[encoded data removed]",
      "text/plain": [
       "<Figure size 576x288 with 1 Axes>"
      ]
     },
     "metadata": {
      "needs_background": "light"
     },
     "output_type": "display_data"
    }
   ],
   "source": [
    "# Set up variables to contain top 5 most used words \n",
    "wc1_tweets_cvec = tweets_cvec.sum(axis = 0).sort_values(ascending=False).head(6)\n",
    "\n",
    "# Call bar plot function\n",
    "bar_plot(wc1_tweets_cvec.values, wc1_tweets_cvec.index, 'Top 6 unigrams from alerts that confirm road closures','r')"
   ]
  },
  {
   "cell_type": "code",
   "execution_count": null,
   "metadata": {},
   "outputs": [],
   "source": []
  },
  {
   "cell_type": "code",
   "execution_count": null,
   "metadata": {},
   "outputs": [],
   "source": []
  }
 ],
 "metadata": {
  "kernelspec": {
   "display_name": "Python [conda env:dsi] *",
   "language": "python",
   "name": "conda-env-dsi-py-2"
  },
  "language_info": {
   "codemirror_mode": {
    "name": "ipython",
    "version": 3
   },
   "file_extension": ".py",
   "mimetype": "text/x-python",
   "name": "python",
   "nbconvert_exporter": "python",
   "pygments_lexer": "ipython3",
   "version": "3.7.3"
  }
 },
 "nbformat": 4,
 "nbformat_minor": 2
}
