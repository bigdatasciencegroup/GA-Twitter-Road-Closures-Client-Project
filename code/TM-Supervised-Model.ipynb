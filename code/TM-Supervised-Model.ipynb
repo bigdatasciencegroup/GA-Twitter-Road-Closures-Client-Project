{
 "cells": [
  {
   "cell_type": "code",
   "execution_count": 1,
   "metadata": {},
   "outputs": [],
   "source": [
    "import pandas as pd\n",
    "import matplotlib.pyplot as plt\n",
    "import seaborn as sns\n",
    "import numpy as np\n",
    "\n",
    "import re\n",
    "\n",
    "from sklearn.feature_extraction import stop_words\n",
    "from sklearn.feature_extraction.text import CountVectorizer, TfidfVectorizer\n",
    "from sklearn import metrics\n",
    "from sklearn.utils.multiclass import unique_labels\n",
    "\n",
    "from sklearn.linear_model import LogisticRegression\n",
    "from sklearn.model_selection import train_test_split, GridSearchCV\n",
    "from sklearn.pipeline import Pipeline\n",
    "from sklearn.naive_bayes import MultinomialNB\n",
    "from sklearn import metrics\n",
    "from sklearn.metrics import accuracy_score, recall_score, precision_score, confusion_matrix"
   ]
  },
  {
   "cell_type": "markdown",
   "metadata": {},
   "source": [
    "## Exploratory Data Analysis and Preproccessing"
   ]
  },
  {
   "cell_type": "code",
   "execution_count": 2,
   "metadata": {},
   "outputs": [],
   "source": [
    "# import tweets\n",
    "tweets = pd.read_csv(\"../data/Tweets_historical/historic_tweets_official_07262019.csv\")"
   ]
  },
  {
   "cell_type": "code",
   "execution_count": 3,
   "metadata": {
    "scrolled": true
   },
   "outputs": [
    {
     "data": {
      "text/html": [
       "<div>\n",
       "<style scoped>\n",
       "    .dataframe tbody tr th:only-of-type {\n",
       "        vertical-align: middle;\n",
       "    }\n",
       "\n",
       "    .dataframe tbody tr th {\n",
       "        vertical-align: top;\n",
       "    }\n",
       "\n",
       "    .dataframe thead th {\n",
       "        text-align: right;\n",
       "    }\n",
       "</style>\n",
       "<table border=\"1\" class=\"dataframe\">\n",
       "  <thead>\n",
       "    <tr style=\"text-align: right;\">\n",
       "      <th></th>\n",
       "      <th>date</th>\n",
       "      <th>geo</th>\n",
       "      <th>hashtags</th>\n",
       "      <th>id</th>\n",
       "      <th>text</th>\n",
       "      <th>type</th>\n",
       "      <th>username</th>\n",
       "    </tr>\n",
       "  </thead>\n",
       "  <tbody>\n",
       "    <tr>\n",
       "      <th>0</th>\n",
       "      <td>2016-10-11 16:39:51+00:00</td>\n",
       "      <td>NaN</td>\n",
       "      <td>NaN</td>\n",
       "      <td>785882618852147201</td>\n",
       "      <td>The PIOH for the SR 138/I-20 is going on now u...</td>\n",
       "      <td>official</td>\n",
       "      <td>GDOTATL</td>\n",
       "    </tr>\n",
       "    <tr>\n",
       "      <th>1</th>\n",
       "      <td>2016-10-10 19:10:23+00:00</td>\n",
       "      <td>NaN</td>\n",
       "      <td>NaN</td>\n",
       "      <td>785558112682053632</td>\n",
       "      <td>We appreciate all the hard work our crews have...</td>\n",
       "      <td>official</td>\n",
       "      <td>GDOTATL</td>\n",
       "    </tr>\n",
       "    <tr>\n",
       "      <th>2</th>\n",
       "      <td>2016-10-09 17:30:22+00:00</td>\n",
       "      <td>NaN</td>\n",
       "      <td>NaN</td>\n",
       "      <td>785170555456647168</td>\n",
       "      <td>Need info on re-entry? Check here! Also follow...</td>\n",
       "      <td>official</td>\n",
       "      <td>GDOTATL</td>\n",
       "    </tr>\n",
       "    <tr>\n",
       "      <th>3</th>\n",
       "      <td>2016-10-09 15:45:11+00:00</td>\n",
       "      <td>NaN</td>\n",
       "      <td>NaN</td>\n",
       "      <td>785144083685793792</td>\n",
       "      <td>Do you need some updates? You can find ALL of ...</td>\n",
       "      <td>official</td>\n",
       "      <td>GDOTATL</td>\n",
       "    </tr>\n",
       "    <tr>\n",
       "      <th>4</th>\n",
       "      <td>2016-10-09 14:00:20+00:00</td>\n",
       "      <td>NaN</td>\n",
       "      <td>NaN</td>\n",
       "      <td>785117697583427585</td>\n",
       "      <td>Did you know that the @511Georgia website and ...</td>\n",
       "      <td>official</td>\n",
       "      <td>GDOTATL</td>\n",
       "    </tr>\n",
       "  </tbody>\n",
       "</table>\n",
       "</div>"
      ],
      "text/plain": [
       "                        date  geo hashtags                  id  \\\n",
       "0  2016-10-11 16:39:51+00:00  NaN      NaN  785882618852147201   \n",
       "1  2016-10-10 19:10:23+00:00  NaN      NaN  785558112682053632   \n",
       "2  2016-10-09 17:30:22+00:00  NaN      NaN  785170555456647168   \n",
       "3  2016-10-09 15:45:11+00:00  NaN      NaN  785144083685793792   \n",
       "4  2016-10-09 14:00:20+00:00  NaN      NaN  785117697583427585   \n",
       "\n",
       "                                                text      type username  \n",
       "0  The PIOH for the SR 138/I-20 is going on now u...  official  GDOTATL  \n",
       "1  We appreciate all the hard work our crews have...  official  GDOTATL  \n",
       "2  Need info on re-entry? Check here! Also follow...  official  GDOTATL  \n",
       "3  Do you need some updates? You can find ALL of ...  official  GDOTATL  \n",
       "4  Did you know that the @511Georgia website and ...  official  GDOTATL  "
      ]
     },
     "execution_count": 3,
     "metadata": {},
     "output_type": "execute_result"
    }
   ],
   "source": [
    "tweets.head()"
   ]
  },
  {
   "cell_type": "code",
   "execution_count": 4,
   "metadata": {
    "scrolled": true
   },
   "outputs": [],
   "source": [
    "accounts = tweets['username'].unique()"
   ]
  },
  {
   "cell_type": "code",
   "execution_count": 5,
   "metadata": {},
   "outputs": [
    {
     "data": {
      "text/plain": [
       "array(['GDOTATL', 'SCDOTMidlands', 'SCDOTPeeDee', 'SCDOTLowCountry',\n",
       "       'SCDOTPiedmont', '511statewideva', 'fl511_panhandl', '511Georgia',\n",
       "       'fl511_state', 'fl511_northeast', 'fl511_southeast',\n",
       "       'fl511_southwest', 'fl511_tampabay', 'fl511_central',\n",
       "       '511centralva', '511hamptonroads', '511northernva',\n",
       "       'NCDOT_Westmtn', 'NCDOT_Triangle', 'NCDOT_Piedmont',\n",
       "       'NCDOT_Charlotte', 'NCDOT_Asheville', 'NCDOT_Scoast',\n",
       "       'NCDOT_Ncoast'], dtype=object)"
      ]
     },
     "execution_count": 5,
     "metadata": {},
     "output_type": "execute_result"
    }
   ],
   "source": [
    "accounts"
   ]
  },
  {
   "cell_type": "code",
   "execution_count": 6,
   "metadata": {},
   "outputs": [],
   "source": [
    "state_dict = {'Georgia': ['GDOTATL', '511Georgia'], \n",
    "              'South Carolina' : ['SCDOTMidlands', 'SCDOTPeeDee', 'SCDOTLowCountry', 'SCDOTPiedmont'],\n",
    "              'Florida' : ['fl511_panhandl', 'fl511_state', 'fl511_northeast', 'fl511_southeast', 'fl511_southwest', 'fl511_southwest', 'fl511_tampabay', 'fl511_central'],\n",
    "              'Virginia' : ['511statewideva', '511centralva', '511hamptonroads', '511northernva'],\n",
    "              'North Carolina' : ['NCDOT_Westmtn', 'NCDOT_Triangle', 'NCDOT_Piedmont', 'NCDOT_Charlotte', 'NCDOT_Asheville', 'NCDOT_Scoast', 'NCDOT_Ncoast']\n",
    "             }"
   ]
  },
  {
   "cell_type": "code",
   "execution_count": 7,
   "metadata": {},
   "outputs": [],
   "source": [
    "def state_remap(df, col, states):\n",
    "    usernames = df[col]\n",
    "    state_list = []\n",
    "    for u in usernames:\n",
    "        for key, val in states.items():\n",
    "            if u in val:\n",
    "                state_list.append(key)\n",
    "    return state_list"
   ]
  },
  {
   "cell_type": "code",
   "execution_count": 8,
   "metadata": {
    "scrolled": false
   },
   "outputs": [
    {
     "data": {
      "text/plain": [
       "Florida           12092\n",
       "Virginia           8635\n",
       "North Carolina     1951\n",
       "South Carolina     1235\n",
       "Georgia             141\n",
       "Name: state, dtype: int64"
      ]
     },
     "execution_count": 8,
     "metadata": {},
     "output_type": "execute_result"
    }
   ],
   "source": [
    "tweets['state'] = state_remap(tweets, 'username', state_dict)\n",
    "tweets['state'].value_counts()"
   ]
  },
  {
   "cell_type": "code",
   "execution_count": 9,
   "metadata": {},
   "outputs": [],
   "source": [
    "# define function to plot count of words after count vectorization\n",
    "# Code modified from http://robertmitchellv.com/blog-bar-chart-annotations-pandas-mpl.html\n",
    "def bar_plot(x, y, title, color):    \n",
    "    \n",
    "    # Set up barplot \n",
    "    plt.figure(figsize=(8,4))\n",
    "    ax = sns.barplot(x, y, color = color)\n",
    "\n",
    "    # Label the graph\n",
    "    plt.title(title, fontsize = 15)\n",
    "    plt.xticks(fontsize = 10)\n",
    "\n",
    "    # create a list to collect the plt.patches data\n",
    "    totals = []\n",
    "\n",
    "    # set individual bar lables using above list\n",
    "    for p in ax.patches:\n",
    "        # get_width pulls left or right; get_y pushes up or down\n",
    "        ax.text(p.get_width()+.3, p.get_y()+.38,\n",
    "                int(p.get_width()), fontsize=10)"
   ]
  },
  {
   "cell_type": "code",
   "execution_count": 10,
   "metadata": {},
   "outputs": [],
   "source": [
    "# define function to run regex startments over a column labeled \"text\"\n",
    "def twt_preprocess(twt):\n",
    "    # run regex to remove urls\n",
    "    twt['text'] = twt['text'].map(lambda x: re.sub(r\"((http|ftp|https):\\/\\/)?[\\w\\-_]+(\\.[\\w\\-_]+)+([\\w\\-\\.,@?^=%&amp;:/~\\+#]*[\\w\\-\\@?^=%&amp;/~\\+#])?\", ' ', x))\n",
    "\n",
    "    # run regex to remove non alphanumeric characters\n",
    "    twt['text'] = twt['text'].map(lambda x: re.sub(r\"[@\\?\\.$%_\\!\\[\\]()+:;\\/*\\\"]\", ' ', x, flags=re.I))\n",
    "    twt['text'] = twt['text'].map(lambda x: re.sub(r\"[,']\", '', x, flags=re.I))\n",
    "\n",
    "    # run regex to remove common words\n",
    "    twt['text'] = twt['text'].map(lambda x: re.sub('(twitter|tweet)[s]?', ' ', x,  flags=re.I))   \n",
    "    "
   ]
  },
  {
   "cell_type": "code",
   "execution_count": 11,
   "metadata": {},
   "outputs": [],
   "source": [
    "# run regex cleaner on full dataframe\n",
    "twt_preprocess(tweets)"
   ]
  },
  {
   "cell_type": "markdown",
   "metadata": {},
   "source": [
    "#### Create Dataframe of Tweets that mention keywords related to road closures"
   ]
  },
  {
   "cell_type": "code",
   "execution_count": 12,
   "metadata": {},
   "outputs": [],
   "source": [
    "# establish list of words to search for in dataframe\n",
    "closed_keywords = ['road closed', 'remains closed', 'closed',\n",
    "                   'no travel', 'delay', 'lane', \n",
    "                   'disabled', 'traffic', 'fire', 'flood']\n",
    "\n",
    "to_drop = [\"open\", \"opened\", \"lifted\", \"plane\", \"reopened\", \"clear\", \"cleared\"]"
   ]
  },
  {
   "cell_type": "code",
   "execution_count": 13,
   "metadata": {},
   "outputs": [],
   "source": [
    "# define function to filter the full dataframe for tweets that contain words from a keyword list\n",
    "def tweet_filter (df, col, keywords, dropwords=None):\n",
    "    \n",
    "    query = []\n",
    "    \n",
    "    # populate query list with masks that test if a word is in datafram\n",
    "    for word in keywords:\n",
    "        mask = df[col].str.contains(word, regex=False, case=False)\n",
    "        query.append(mask)\n",
    "        \n",
    "    # run filter, specifying ANY text\n",
    "    filter_df = df[np.any(query, axis=0)]\n",
    "    \n",
    "    # test words to drop functionality\n",
    "    if dropwords is not None:\n",
    "        \n",
    "        # drop words in drop words list\n",
    "        return filter_df[~filter_df[col].str.contains('|'.join(dropwords))]\n",
    "    \n",
    "    else:\n",
    "        return filter_df"
   ]
  },
  {
   "cell_type": "code",
   "execution_count": 14,
   "metadata": {},
   "outputs": [],
   "source": [
    "# backup original tweet to new dataframe\n",
    "tweets['tweet'] = tweets['text']\n",
    "\n",
    "# make tweet text lowercase\n",
    "tweets['text'] = tweets['text'].str.lower()\n",
    "\n",
    "# run function on full dataframe\n",
    "closed = tweet_filter(tweets, 'text', closed_keywords, to_drop)"
   ]
  },
  {
   "cell_type": "code",
   "execution_count": 15,
   "metadata": {},
   "outputs": [
    {
     "data": {
      "text/plain": [
       "14       You may drive a large truck or SUV but it only...\n",
       "15       Hurricanes can produce deadly flooding hundred...\n",
       "18       High winds will be prevalent tonight at above ...\n",
       "26       For up to date traffic info be sure to visit  ...\n",
       "33       The exit ramp from I-16 WB to I-75 NB has been...\n",
       "40       All construction related lane closures on I-75...\n",
       "42       We are ready to deal with traffic control as #...\n",
       "64       Update  Vehicle on fire  I-26 WB  at I126-Colu...\n",
       "65       Update  Vehicle on fire  I-26 WB  at I126-Colu...\n",
       "84       Construction  SC 277 NB  at Park Lane Rd-Colum...\n",
       "89       Update  Vehicle on fire  I-77 NB  at Exits 9A ...\n",
       "91       Vehicle on fire  I-77 NB  at Exits 9A 9B-US76 ...\n",
       "102      Update  Vehicle on fire  I-20 WB  1 mi W of Ex...\n",
       "103      Update  Vehicle on fire  I-20 WB  1 mi W of Ex...\n",
       "106      Update  Vehicle on fire  I-20 WB  1 mi W of Ex...\n",
       "108      Update  Vehicle on fire  I-20 WB  1 mi W of Ex...\n",
       "180      Update  Disabled veh  I-20 WB  at Exit74 no ln...\n",
       "181      Disabled veh  I-20 WB  at Exit74 lft ln clsd O...\n",
       "310      Disabled veh  I-26 WB  at Exit111A rt exit rmp...\n",
       "367      Update  Vehicle on fire  I-20 WB  at Exit68 no...\n",
       "368      Vehicle on fire  I-20 WB  at Exit68 no lns cls...\n",
       "374      Update  Disabled veh  I-77 NB  1 mi S of Exit1...\n",
       "375      Update  Disabled veh  I-77 NB  1 mi S of Exit1...\n",
       "376      Disabled veh  I-77 NB  1 mi S of Exit12 mid ln...\n",
       "380      Update  Vehicle on fire  I-20 EB  at Exit5 unk...\n",
       "381      Vehicle on fire  I-20 WB  at Exit5 unknown lns...\n",
       "391      Update  Accident  SC 277 NB  at Park Lane Rd-C...\n",
       "392      Accident  SC 277 NB  at Park Lane Rd-Columbia ...\n",
       "401      Update  Disabled veh  I-26 WB  at Exit104 no l...\n",
       "402      Disabled veh  I-26 WB  at Exit104 lft ln clsd ...\n",
       "                               ...                        \n",
       "23984    US 258 Near Farmville Pitt Weather Event Road ...\n",
       "23990    US-301 In Rocky Mount Nash Weather Event Road ...\n",
       "23992    RT  DareCountyEM NC12 closed from NC1243 NC12 ...\n",
       "23996    Gold Rosk Road Near Rocky Mount Nash Weather E...\n",
       "23998    South Wesleyan Blvd  Near Rocky Mount Nash Wea...\n",
       "23999    US 264 Near Greenville Pitt Weather Event Road...\n",
       "24008    Edenton Road Street In Hertford Perquimans Wea...\n",
       "24010    Slope failure on I 795S before the US 70 exit ...\n",
       "24011    Winters Road South East of Spring Hope Nash We...\n",
       "24013    Tyson St North East of Greenville Pitt Weather...\n",
       "24020    Front Street In New Bern Craven Weather Event ...\n",
       "24021    Clarks Neck Rd East of Grimesland Pitt Weather...\n",
       "24022    NC-121 Near Farmville Pitt Weather Event Road ...\n",
       "24025    School Rd Near Windsor Bertie Weather Event La...\n",
       "24030    Halifax Rd North West of Rocky Mount Nash Othe...\n",
       "24032    School Rd Near Windsor Bertie Weather Event Ro...\n",
       "24033    Halifax Rd North West of Rocky Mount Nash Vehi...\n",
       "24035    Halifax Rd North West of Rocky Mount Nash Road...\n",
       "24038    I-95 Mile Marker 138 North Rocky Mount Nash Ma...\n",
       "24039    I-95 Mile Marker 138 to 135 North Rocky Mount ...\n",
       "24040    Hwy 561 South of Littleton Halifax Constructio...\n",
       "24042    Eugene Freeman Rd North West of Colerain Berti...\n",
       "24043    I-95 Mile Marker 159 South Enfield Halifax Veh...\n",
       "24044    I-95 Mile Marker 159 South Enfield Halifax Veh...\n",
       "24045    Kershaw Road In Arapahoe Pamlico Maintenance R...\n",
       "24046    McKendree Church Road East of Tarboro Edgecomb...\n",
       "24047    Lloyd Harrison Rd  South of Snow Hill Greene M...\n",
       "24049    NC 42 West of Wilson Wilson Maintenance Road C...\n",
       "24050    NC 42 East of Wilson Wilson Maintenance Road C...\n",
       "24052    NC-481 North East of Enfield Halifax Maintenan...\n",
       "Name: tweet, Length: 13373, dtype: object"
      ]
     },
     "execution_count": 15,
     "metadata": {},
     "output_type": "execute_result"
    }
   ],
   "source": [
    "# Create target variable \n",
    "closed['road_closure'] = 1\n",
    "closed['tweet']"
   ]
  },
  {
   "cell_type": "code",
   "execution_count": 16,
   "metadata": {
    "scrolled": false
   },
   "outputs": [
    {
     "data": {
      "text/plain": [
       "fl511_southeast    1762\n",
       "511northernva      1760\n",
       "511centralva       1673\n",
       "fl511_state        1615\n",
       "fl511_northeast    1189\n",
       "fl511_central      1181\n",
       "511hamptonroads    1052\n",
       "511statewideva      656\n",
       "fl511_tampabay      531\n",
       "NCDOT_Triangle      465\n",
       "NCDOT_Scoast        393\n",
       "fl511_southwest     310\n",
       "NCDOT_Ncoast        277\n",
       "NCDOT_Charlotte     127\n",
       "fl511_panhandl      112\n",
       "NCDOT_Piedmont       67\n",
       "511Georgia           62\n",
       "NCDOT_Asheville      52\n",
       "SCDOTLowCountry      26\n",
       "SCDOTMidlands        26\n",
       "SCDOTPiedmont        17\n",
       "SCDOTPeeDee          12\n",
       "GDOTATL               7\n",
       "NCDOT_Westmtn         1\n",
       "Name: username, dtype: int64"
      ]
     },
     "execution_count": 16,
     "metadata": {},
     "output_type": "execute_result"
    }
   ],
   "source": [
    "# find which accounts had information about road closures\n",
    "closed['username'].value_counts()"
   ]
  },
  {
   "cell_type": "code",
   "execution_count": 17,
   "metadata": {},
   "outputs": [
    {
     "name": "stdout",
     "output_type": "stream",
     "text": [
      "(13373, 2772)\n"
     ]
    }
   ],
   "source": [
    "# Instantiate a CountVectorizer\n",
    "cv = CountVectorizer(stop_words = 'english')\n",
    "\n",
    "# Fit and transform the vectorizer on our corpus\n",
    "cvec = cv.fit_transform(closed['text'])\n",
    "\n",
    "# Convert cvec into a DataFrame\n",
    "tweets_cvec = pd.DataFrame(cvec.toarray(),\n",
    "                   columns=cv.get_feature_names())\n",
    "\n",
    "# Inspect new DF\n",
    "print(tweets_cvec.shape)"
   ]
  },
  {
   "cell_type": "code",
   "execution_count": 18,
   "metadata": {
    "scrolled": false
   },
   "outputs": [
    {
     "data": {
      "image/png": "[encoded data removed]",
      "text/plain": [
       "<Figure size 576x288 with 1 Axes>"
      ]
     },
     "metadata": {
      "needs_background": "light"
     },
     "output_type": "display_data"
    }
   ],
   "source": [
    "# Set up variables to contain top 5 most used words \n",
    "wc1_tweets_cvec = tweets_cvec.sum(axis = 0).sort_values(ascending=False).head(6)\n",
    "\n",
    "# Call bar plot function\n",
    "bar_plot(wc1_tweets_cvec.values, wc1_tweets_cvec.index, 'Top 6 unigrams from alerts that confirm road closures','r')"
   ]
  },
  {
   "cell_type": "markdown",
   "metadata": {},
   "source": [
    "#### Create Dataframe of Tweets that do not mention closures"
   ]
  },
  {
   "cell_type": "code",
   "execution_count": 19,
   "metadata": {},
   "outputs": [
    {
     "data": {
      "text/plain": [
       "(10681, 9)"
      ]
     },
     "execution_count": 19,
     "metadata": {},
     "output_type": "execute_result"
    }
   ],
   "source": [
    "# Get index number of tweets identified as road closures \n",
    "closed_index = list(closed.index)\n",
    "\n",
    "# Remove all road closure tweets from full dataframe\n",
    "tweets_open = tweets.drop(closed_index)\n",
    "\n",
    "# Drop any instances where false positives might occur\n",
    "tweets_open = tweets_open[~tweets_open.text.str.contains(\"remains closed\")]\n",
    "tweets_open = tweets_open[~tweets_open.text.str.contains(\"remains close\")]\n",
    "\n",
    "# Shape\n",
    "tweets_open.shape"
   ]
  },
  {
   "cell_type": "code",
   "execution_count": 20,
   "metadata": {},
   "outputs": [],
   "source": [
    "# To maintain balanced classes, drop rows in `tweets_open` so that they are equal to `closed`\n",
    "tweets_open = tweets_open.iloc[0:(closed.shape[0])]"
   ]
  },
  {
   "cell_type": "code",
   "execution_count": 21,
   "metadata": {
    "scrolled": false
   },
   "outputs": [
    {
     "data": {
      "text/html": [
       "<div>\n",
       "<style scoped>\n",
       "    .dataframe tbody tr th:only-of-type {\n",
       "        vertical-align: middle;\n",
       "    }\n",
       "\n",
       "    .dataframe tbody tr th {\n",
       "        vertical-align: top;\n",
       "    }\n",
       "\n",
       "    .dataframe thead th {\n",
       "        text-align: right;\n",
       "    }\n",
       "</style>\n",
       "<table border=\"1\" class=\"dataframe\">\n",
       "  <thead>\n",
       "    <tr style=\"text-align: right;\">\n",
       "      <th></th>\n",
       "      <th>date</th>\n",
       "      <th>geo</th>\n",
       "      <th>hashtags</th>\n",
       "      <th>id</th>\n",
       "      <th>text</th>\n",
       "      <th>type</th>\n",
       "      <th>username</th>\n",
       "      <th>state</th>\n",
       "      <th>tweet</th>\n",
       "      <th>road_closure</th>\n",
       "    </tr>\n",
       "  </thead>\n",
       "  <tbody>\n",
       "    <tr>\n",
       "      <th>0</th>\n",
       "      <td>2016-10-11 16:39:51+00:00</td>\n",
       "      <td>NaN</td>\n",
       "      <td>NaN</td>\n",
       "      <td>785882618852147201</td>\n",
       "      <td>the pioh for the sr 138 i-20 is going on now u...</td>\n",
       "      <td>official</td>\n",
       "      <td>GDOTATL</td>\n",
       "      <td>Georgia</td>\n",
       "      <td>The PIOH for the SR 138 I-20 is going on now u...</td>\n",
       "      <td>0</td>\n",
       "    </tr>\n",
       "    <tr>\n",
       "      <th>1</th>\n",
       "      <td>2016-10-10 19:10:23+00:00</td>\n",
       "      <td>NaN</td>\n",
       "      <td>NaN</td>\n",
       "      <td>785558112682053632</td>\n",
       "      <td>we appreciate all the hard work our crews have...</td>\n",
       "      <td>official</td>\n",
       "      <td>GDOTATL</td>\n",
       "      <td>Georgia</td>\n",
       "      <td>We appreciate all the hard work our crews have...</td>\n",
       "      <td>0</td>\n",
       "    </tr>\n",
       "    <tr>\n",
       "      <th>2</th>\n",
       "      <td>2016-10-09 17:30:22+00:00</td>\n",
       "      <td>NaN</td>\n",
       "      <td>NaN</td>\n",
       "      <td>785170555456647168</td>\n",
       "      <td>need info on re-entry  check here  also follow...</td>\n",
       "      <td>official</td>\n",
       "      <td>GDOTATL</td>\n",
       "      <td>Georgia</td>\n",
       "      <td>Need info on re-entry  Check here  Also follow...</td>\n",
       "      <td>0</td>\n",
       "    </tr>\n",
       "    <tr>\n",
       "      <th>3</th>\n",
       "      <td>2016-10-09 15:45:11+00:00</td>\n",
       "      <td>NaN</td>\n",
       "      <td>NaN</td>\n",
       "      <td>785144083685793792</td>\n",
       "      <td>do you need some updates  you can find all of ...</td>\n",
       "      <td>official</td>\n",
       "      <td>GDOTATL</td>\n",
       "      <td>Georgia</td>\n",
       "      <td>Do you need some updates  You can find ALL of ...</td>\n",
       "      <td>0</td>\n",
       "    </tr>\n",
       "    <tr>\n",
       "      <th>4</th>\n",
       "      <td>2016-10-09 14:00:20+00:00</td>\n",
       "      <td>NaN</td>\n",
       "      <td>NaN</td>\n",
       "      <td>785117697583427585</td>\n",
       "      <td>did you know that the  511georgia website and ...</td>\n",
       "      <td>official</td>\n",
       "      <td>GDOTATL</td>\n",
       "      <td>Georgia</td>\n",
       "      <td>Did you know that the  511Georgia website and ...</td>\n",
       "      <td>0</td>\n",
       "    </tr>\n",
       "  </tbody>\n",
       "</table>\n",
       "</div>"
      ],
      "text/plain": [
       "                        date  geo hashtags                  id  \\\n",
       "0  2016-10-11 16:39:51+00:00  NaN      NaN  785882618852147201   \n",
       "1  2016-10-10 19:10:23+00:00  NaN      NaN  785558112682053632   \n",
       "2  2016-10-09 17:30:22+00:00  NaN      NaN  785170555456647168   \n",
       "3  2016-10-09 15:45:11+00:00  NaN      NaN  785144083685793792   \n",
       "4  2016-10-09 14:00:20+00:00  NaN      NaN  785117697583427585   \n",
       "\n",
       "                                                text      type username  \\\n",
       "0  the pioh for the sr 138 i-20 is going on now u...  official  GDOTATL   \n",
       "1  we appreciate all the hard work our crews have...  official  GDOTATL   \n",
       "2  need info on re-entry  check here  also follow...  official  GDOTATL   \n",
       "3  do you need some updates  you can find all of ...  official  GDOTATL   \n",
       "4  did you know that the  511georgia website and ...  official  GDOTATL   \n",
       "\n",
       "     state                                              tweet  road_closure  \n",
       "0  Georgia  The PIOH for the SR 138 I-20 is going on now u...             0  \n",
       "1  Georgia  We appreciate all the hard work our crews have...             0  \n",
       "2  Georgia  Need info on re-entry  Check here  Also follow...             0  \n",
       "3  Georgia  Do you need some updates  You can find ALL of ...             0  \n",
       "4  Georgia  Did you know that the  511Georgia website and ...             0  "
      ]
     },
     "execution_count": 21,
     "metadata": {},
     "output_type": "execute_result"
    }
   ],
   "source": [
    "# Create target variable \n",
    "tweets_open['road_closure'] = 0\n",
    "tweets_open.head()"
   ]
  },
  {
   "cell_type": "code",
   "execution_count": 22,
   "metadata": {},
   "outputs": [
    {
     "name": "stdout",
     "output_type": "stream",
     "text": [
      "(10681, 2836)\n"
     ]
    }
   ],
   "source": [
    "# Instantiate a CountVectorizer\n",
    "cv = CountVectorizer(stop_words = 'english')\n",
    "\n",
    "# Fit and transform the vectorizer on our corpus\n",
    "cvec = cv.fit_transform(tweets_open['text'])\n",
    "\n",
    "# Convert cvec into a DataFrame\n",
    "tweets_cvec = pd.DataFrame(cvec.toarray(),\n",
    "                   columns=cv.get_feature_names())\n",
    "\n",
    "# Inspect new DF\n",
    "print(tweets_cvec.shape)"
   ]
  },
  {
   "cell_type": "code",
   "execution_count": 23,
   "metadata": {
    "scrolled": true
   },
   "outputs": [
    {
     "data": {
      "image/png": "[encoded data removed]",
      "text/plain": [
       "<Figure size 576x288 with 1 Axes>"
      ]
     },
     "metadata": {
      "needs_background": "light"
     },
     "output_type": "display_data"
    }
   ],
   "source": [
    "# Set up variables to contain top 5 most used words \n",
    "wc1_tweets_cvec = tweets_cvec.sum(axis = 0).sort_values(ascending=False).head(6)\n",
    "\n",
    "# Call bar plot function\n",
    "bar_plot(wc1_tweets_cvec.values, wc1_tweets_cvec.index, 'Top 6 unigrams from tweets that are not about road closures','b')"
   ]
  },
  {
   "cell_type": "markdown",
   "metadata": {},
   "source": [
    "#### Create Training Dataframe"
   ]
  },
  {
   "cell_type": "code",
   "execution_count": 24,
   "metadata": {},
   "outputs": [
    {
     "data": {
      "text/plain": [
       "(24054, 10)"
      ]
     },
     "execution_count": 24,
     "metadata": {},
     "output_type": "execute_result"
    }
   ],
   "source": [
    "# Merge dataframes\n",
    "tweets_training = pd.concat([tweets_open, closed], axis=0)\n",
    "tweets_training.shape"
   ]
  },
  {
   "cell_type": "code",
   "execution_count": 25,
   "metadata": {},
   "outputs": [
    {
     "data": {
      "text/html": [
       "<div>\n",
       "<style scoped>\n",
       "    .dataframe tbody tr th:only-of-type {\n",
       "        vertical-align: middle;\n",
       "    }\n",
       "\n",
       "    .dataframe tbody tr th {\n",
       "        vertical-align: top;\n",
       "    }\n",
       "\n",
       "    .dataframe thead th {\n",
       "        text-align: right;\n",
       "    }\n",
       "</style>\n",
       "<table border=\"1\" class=\"dataframe\">\n",
       "  <thead>\n",
       "    <tr style=\"text-align: right;\">\n",
       "      <th></th>\n",
       "      <th>date</th>\n",
       "      <th>geo</th>\n",
       "      <th>hashtags</th>\n",
       "      <th>id</th>\n",
       "      <th>text</th>\n",
       "      <th>type</th>\n",
       "      <th>username</th>\n",
       "      <th>state</th>\n",
       "      <th>tweet</th>\n",
       "      <th>road_closure</th>\n",
       "    </tr>\n",
       "  </thead>\n",
       "  <tbody>\n",
       "    <tr>\n",
       "      <th>0</th>\n",
       "      <td>2016-10-11 16:39:51+00:00</td>\n",
       "      <td>NaN</td>\n",
       "      <td>NaN</td>\n",
       "      <td>785882618852147201</td>\n",
       "      <td>the pioh for the sr 138 i-20 is going on now u...</td>\n",
       "      <td>official</td>\n",
       "      <td>GDOTATL</td>\n",
       "      <td>Georgia</td>\n",
       "      <td>The PIOH for the SR 138 I-20 is going on now u...</td>\n",
       "      <td>0</td>\n",
       "    </tr>\n",
       "    <tr>\n",
       "      <th>1</th>\n",
       "      <td>2016-10-10 19:10:23+00:00</td>\n",
       "      <td>NaN</td>\n",
       "      <td>NaN</td>\n",
       "      <td>785558112682053632</td>\n",
       "      <td>we appreciate all the hard work our crews have...</td>\n",
       "      <td>official</td>\n",
       "      <td>GDOTATL</td>\n",
       "      <td>Georgia</td>\n",
       "      <td>We appreciate all the hard work our crews have...</td>\n",
       "      <td>0</td>\n",
       "    </tr>\n",
       "    <tr>\n",
       "      <th>2</th>\n",
       "      <td>2016-10-09 17:30:22+00:00</td>\n",
       "      <td>NaN</td>\n",
       "      <td>NaN</td>\n",
       "      <td>785170555456647168</td>\n",
       "      <td>need info on re-entry  check here  also follow...</td>\n",
       "      <td>official</td>\n",
       "      <td>GDOTATL</td>\n",
       "      <td>Georgia</td>\n",
       "      <td>Need info on re-entry  Check here  Also follow...</td>\n",
       "      <td>0</td>\n",
       "    </tr>\n",
       "    <tr>\n",
       "      <th>3</th>\n",
       "      <td>2016-10-09 15:45:11+00:00</td>\n",
       "      <td>NaN</td>\n",
       "      <td>NaN</td>\n",
       "      <td>785144083685793792</td>\n",
       "      <td>do you need some updates  you can find all of ...</td>\n",
       "      <td>official</td>\n",
       "      <td>GDOTATL</td>\n",
       "      <td>Georgia</td>\n",
       "      <td>Do you need some updates  You can find ALL of ...</td>\n",
       "      <td>0</td>\n",
       "    </tr>\n",
       "    <tr>\n",
       "      <th>4</th>\n",
       "      <td>2016-10-09 14:00:20+00:00</td>\n",
       "      <td>NaN</td>\n",
       "      <td>NaN</td>\n",
       "      <td>785117697583427585</td>\n",
       "      <td>did you know that the  511georgia website and ...</td>\n",
       "      <td>official</td>\n",
       "      <td>GDOTATL</td>\n",
       "      <td>Georgia</td>\n",
       "      <td>Did you know that the  511Georgia website and ...</td>\n",
       "      <td>0</td>\n",
       "    </tr>\n",
       "  </tbody>\n",
       "</table>\n",
       "</div>"
      ],
      "text/plain": [
       "                        date  geo hashtags                  id  \\\n",
       "0  2016-10-11 16:39:51+00:00  NaN      NaN  785882618852147201   \n",
       "1  2016-10-10 19:10:23+00:00  NaN      NaN  785558112682053632   \n",
       "2  2016-10-09 17:30:22+00:00  NaN      NaN  785170555456647168   \n",
       "3  2016-10-09 15:45:11+00:00  NaN      NaN  785144083685793792   \n",
       "4  2016-10-09 14:00:20+00:00  NaN      NaN  785117697583427585   \n",
       "\n",
       "                                                text      type username  \\\n",
       "0  the pioh for the sr 138 i-20 is going on now u...  official  GDOTATL   \n",
       "1  we appreciate all the hard work our crews have...  official  GDOTATL   \n",
       "2  need info on re-entry  check here  also follow...  official  GDOTATL   \n",
       "3  do you need some updates  you can find all of ...  official  GDOTATL   \n",
       "4  did you know that the  511georgia website and ...  official  GDOTATL   \n",
       "\n",
       "     state                                              tweet  road_closure  \n",
       "0  Georgia  The PIOH for the SR 138 I-20 is going on now u...             0  \n",
       "1  Georgia  We appreciate all the hard work our crews have...             0  \n",
       "2  Georgia  Need info on re-entry  Check here  Also follow...             0  \n",
       "3  Georgia  Do you need some updates  You can find ALL of ...             0  \n",
       "4  Georgia  Did you know that the  511Georgia website and ...             0  "
      ]
     },
     "execution_count": 25,
     "metadata": {},
     "output_type": "execute_result"
    }
   ],
   "source": [
    "tweets_training.head()"
   ]
  },
  {
   "cell_type": "markdown",
   "metadata": {},
   "source": [
    "## Modeling"
   ]
  },
  {
   "cell_type": "code",
   "execution_count": 26,
   "metadata": {},
   "outputs": [
    {
     "data": {
      "text/plain": [
       "1    0.555957\n",
       "0    0.444043\n",
       "Name: road_closure, dtype: float64"
      ]
     },
     "execution_count": 26,
     "metadata": {},
     "output_type": "execute_result"
    }
   ],
   "source": [
    "# Baseline score\n",
    "tweets_training['road_closure'].value_counts(normalize=True)"
   ]
  },
  {
   "cell_type": "code",
   "execution_count": 27,
   "metadata": {},
   "outputs": [],
   "source": [
    "# define our variables\n",
    "X = tweets_training['text']\n",
    "y = tweets_training['road_closure']"
   ]
  },
  {
   "cell_type": "code",
   "execution_count": 28,
   "metadata": {},
   "outputs": [],
   "source": [
    "# train test split the data\n",
    "X_train, X_test, y_train, y_test = train_test_split(X,\n",
    "                                                    y,\n",
    "                                                    random_state=42,\n",
    "                                                    stratify=y)"
   ]
  },
  {
   "cell_type": "code",
   "execution_count": 29,
   "metadata": {
    "scrolled": true
   },
   "outputs": [
    {
     "name": "stdout",
     "output_type": "stream",
     "text": [
      "Fitting 3 folds for each of 12 candidates, totalling 36 fits\n"
     ]
    },
    {
     "name": "stderr",
     "output_type": "stream",
     "text": [
      "[Parallel(n_jobs=-1)]: Using backend LokyBackend with 12 concurrent workers.\n",
      "[Parallel(n_jobs=-1)]: Done  36 out of  36 | elapsed:    5.5s finished\n"
     ]
    },
    {
     "name": "stdout",
     "output_type": "stream",
     "text": [
      "Best score: 0.9980044345898005\n",
      "Train score 0.9998337028824834\n",
      "Test score 0.9978383771200532\n"
     ]
    },
    {
     "data": {
      "text/plain": [
       "{'cvec__ngram_range': (1, 1), 'cvec__stop_words': None, 'lr__C': 1}"
      ]
     },
     "execution_count": 29,
     "metadata": {},
     "output_type": "execute_result"
    }
   ],
   "source": [
    "pipe = Pipeline([('cvec', CountVectorizer()),    \n",
    "                 ('lr', LogisticRegression(solver='liblinear'))])\n",
    "\n",
    "# Tune GridSearchCV\n",
    "pipe_params = {'cvec__stop_words': [None, 'english'],\n",
    "               'cvec__ngram_range': [(1,1), (2,2), (1,3)],\n",
    "               'lr__C': [0.01, 1]}\n",
    "\n",
    "gs = GridSearchCV(pipe, param_grid=pipe_params, cv=3, n_jobs=-1, verbose=1)\n",
    "gs.fit(X_train, y_train);\n",
    "print(\"Best score:\", gs.best_score_)\n",
    "print(\"Train score\", gs.score(X_train, y_train))\n",
    "print(\"Test score\", gs.score(X_test, y_test))\n",
    "\n",
    "gs.best_params_"
   ]
  },
  {
   "cell_type": "code",
   "execution_count": 30,
   "metadata": {
    "scrolled": false
   },
   "outputs": [
    {
     "name": "stdout",
     "output_type": "stream",
     "text": [
      "Train Score: 1.0\n",
      "Test Score: 0.9986697705354174\n"
     ]
    }
   ],
   "source": [
    "#Instantiate the classifier and vectorizer\n",
    "lr = LogisticRegression(C = 1.0, solver='liblinear')\n",
    "cvec = CountVectorizer(ngram_range=(1, 3), stop_words= 'english')\n",
    "\n",
    "# Fit and transform the vectorizor\n",
    "cvec.fit(X_train)\n",
    "\n",
    "cvec_train = cvec.transform(X_train)\n",
    "cvec_test = cvec.transform(X_test)\n",
    "\n",
    "# Fit the classifier\n",
    "lr.fit(cvec_train,y_train)\n",
    "\n",
    "# Create the predictions for Y training data\n",
    "y_pred = lr.predict(cvec_test)\n",
    "\n",
    "print(f'Train Score: {lr.score(cvec_train, y_train)}')\n",
    "print(f'Test Score: {lr.score(cvec_test, y_test)}')"
   ]
  },
  {
   "cell_type": "code",
   "execution_count": 31,
   "metadata": {},
   "outputs": [],
   "source": [
    "# function to visualize confusion matrix\n",
    "# Source code from SkLearn documentation\n",
    "# https://scikit-learn.org/stable/auto_examples/model_selection/plot_confusion_matrix.html\n",
    "\n",
    "def plot_confusion_matrix(y_true, y_pred, classes,\n",
    "                          normalize=False,\n",
    "                          title=None,\n",
    "                          cmap=plt.cm.Blues):\n",
    "#     This function prints and plots the confusion matrix.\n",
    "#     Normalization can be applied by setting `normalize=True`.\n",
    "\n",
    "    if not title:\n",
    "        if normalize:\n",
    "            title = 'Normalized confusion matrix'\n",
    "        else:\n",
    "            title = 'Confusion matrix, without normalization'\n",
    "\n",
    "    # Compute confusion matrix\n",
    "    cm = metrics.confusion_matrix(y_true, y_pred)\n",
    "    # Only use the labels that appear in the data\n",
    "    classes = classes[unique_labels(y_true, y_pred)]\n",
    "    if normalize:\n",
    "        cm = cm.astype('float') / cm.sum(axis=1)[:, np.newaxis]\n",
    "        print(\"Normalized confusion matrix\")\n",
    "    else:\n",
    "        print('Confusion matrix, without normalization')\n",
    "\n",
    "    print(cm)\n",
    "\n",
    "    fig, ax = plt.subplots()\n",
    "    im = ax.imshow(cm, interpolation='nearest', cmap=cmap)\n",
    "    ax.figure.colorbar(im, ax=ax)\n",
    "    # We want to show all ticks...\n",
    "    ax.set(xticks=np.arange(cm.shape[1]),\n",
    "           yticks=np.arange(cm.shape[0]),\n",
    "           # ... and label them with the respective list entries\n",
    "           xticklabels=classes, yticklabels=classes,\n",
    "           title=title,\n",
    "           ylabel='True label',\n",
    "           xlabel='Predicted label')\n",
    "\n",
    "    # Rotate the tick labels and set their alignment.\n",
    "    plt.setp(ax.get_xticklabels(), rotation=45, ha=\"right\",\n",
    "             rotation_mode=\"anchor\")\n",
    "\n",
    "    # Loop over data dimensions and create text annotations.\n",
    "    fmt = '.2f' if normalize else 'd'\n",
    "    thresh = cm.max() / 2.\n",
    "    for i in range(cm.shape[0]):\n",
    "        for j in range(cm.shape[1]):\n",
    "            ax.text(j, i, format(cm[i, j], fmt),\n",
    "                    ha=\"center\", va=\"center\",\n",
    "                    color=\"white\" if cm[i, j] > thresh else \"black\")\n",
    "    fig.tight_layout()\n",
    "    return ax"
   ]
  },
  {
   "cell_type": "code",
   "execution_count": 32,
   "metadata": {},
   "outputs": [
    {
     "name": "stdout",
     "output_type": "stream",
     "text": [
      "Confusion matrix, without normalization\n",
      "[[2668    2]\n",
      " [   6 3338]]\n"
     ]
    },
    {
     "data": {
      "image/png": "[encoded data removed]",
      "text/plain": [
       "<Figure size 432x288 with 2 Axes>"
      ]
     },
     "metadata": {
      "needs_background": "light"
     },
     "output_type": "display_data"
    }
   ],
   "source": [
    "# set decimal places for numpy functions\n",
    "np.set_printoptions(precision=2)\n",
    "\n",
    "#define class names\n",
    "class_names=np.array(['Road Closed', 'Road Cleared'])\n",
    "\n",
    "# Plot non-normalized confusion matrix\n",
    "plot_confusion_matrix(y_test, y_pred, classes=class_names,\n",
    "                      title='Confusion matrix, without normalization',\n",
    "                     cmap='YlGnBu')\n",
    "\n",
    "\n",
    "plt.show();"
   ]
  },
  {
   "cell_type": "code",
   "execution_count": 33,
   "metadata": {
    "scrolled": false
   },
   "outputs": [
    {
     "data": {
      "image/png": "[encoded data removed]",
      "text/plain": [
       "<Figure size 576x432 with 1 Axes>"
      ]
     },
     "metadata": {
      "needs_background": "light"
     },
     "output_type": "display_data"
    }
   ],
   "source": [
    "# Create list of logistic regression coefficients \n",
    "lr_coef = np.array(lr.coef_).tolist()\n",
    "lr_coef = lr_coef[0]\n",
    "\n",
    "# create dataframe from lasso coef\n",
    "lr_coef = pd.DataFrame(np.round_(lr_coef, decimals=3), \n",
    "cvec.get_feature_names(), columns = [\"lr_coef\"])\n",
    "\n",
    "# sort the values from high to low\n",
    "lr_coef = lr_coef.sort_values(by = 'lr_coef', \n",
    "ascending = False)\n",
    "\n",
    "# Create top and bottom 10 \n",
    "df_head = lr_coef.head(10)\n",
    "df_tail = lr_coef.tail(10)\n",
    "\n",
    "# merge back together\n",
    "df_merged = pd.concat([df_head, df_tail], axis=0)\n",
    "\n",
    "# plot the sorted dataframe\n",
    "fig, ax = plt.subplots()\n",
    "fig.set_size_inches(8, 6)\n",
    "fig.suptitle('Coefficients', size=14)\n",
    "ax = sns.barplot(x = 'lr_coef', y= df_merged.index, \n",
    "data=df_merged, palette= 'cubehelix')\n",
    "ax.set(xlabel='Regression Coefficients')\n",
    "plt.tight_layout(pad=3, w_pad=0, h_pad=0);"
   ]
  },
  {
   "cell_type": "code",
   "execution_count": 39,
   "metadata": {
    "scrolled": false
   },
   "outputs": [
    {
     "data": {
      "text/html": [
       "<div>\n",
       "<style scoped>\n",
       "    .dataframe tbody tr th:only-of-type {\n",
       "        vertical-align: middle;\n",
       "    }\n",
       "\n",
       "    .dataframe tbody tr th {\n",
       "        vertical-align: top;\n",
       "    }\n",
       "\n",
       "    .dataframe thead th {\n",
       "        text-align: right;\n",
       "    }\n",
       "</style>\n",
       "<table border=\"1\" class=\"dataframe\">\n",
       "  <thead>\n",
       "    <tr style=\"text-align: right;\">\n",
       "      <th></th>\n",
       "      <th>date</th>\n",
       "      <th>geo</th>\n",
       "      <th>hashtags</th>\n",
       "      <th>id</th>\n",
       "      <th>text</th>\n",
       "      <th>type</th>\n",
       "      <th>username</th>\n",
       "      <th>state</th>\n",
       "      <th>tweet</th>\n",
       "      <th>road_closure</th>\n",
       "    </tr>\n",
       "  </thead>\n",
       "  <tbody>\n",
       "    <tr>\n",
       "      <th>0</th>\n",
       "      <td>2016-10-11 16:39:51+00:00</td>\n",
       "      <td>NaN</td>\n",
       "      <td>NaN</td>\n",
       "      <td>785882618852147201</td>\n",
       "      <td>the pioh for the sr 138 i-20 is going on now u...</td>\n",
       "      <td>official</td>\n",
       "      <td>GDOTATL</td>\n",
       "      <td>Georgia</td>\n",
       "      <td>The PIOH for the SR 138 I-20 is going on now u...</td>\n",
       "      <td>0</td>\n",
       "    </tr>\n",
       "    <tr>\n",
       "      <th>1</th>\n",
       "      <td>2016-10-10 19:10:23+00:00</td>\n",
       "      <td>NaN</td>\n",
       "      <td>NaN</td>\n",
       "      <td>785558112682053632</td>\n",
       "      <td>we appreciate all the hard work our crews have...</td>\n",
       "      <td>official</td>\n",
       "      <td>GDOTATL</td>\n",
       "      <td>Georgia</td>\n",
       "      <td>We appreciate all the hard work our crews have...</td>\n",
       "      <td>0</td>\n",
       "    </tr>\n",
       "    <tr>\n",
       "      <th>2</th>\n",
       "      <td>2016-10-09 17:30:22+00:00</td>\n",
       "      <td>NaN</td>\n",
       "      <td>NaN</td>\n",
       "      <td>785170555456647168</td>\n",
       "      <td>need info on re-entry  check here  also follow...</td>\n",
       "      <td>official</td>\n",
       "      <td>GDOTATL</td>\n",
       "      <td>Georgia</td>\n",
       "      <td>Need info on re-entry  Check here  Also follow...</td>\n",
       "      <td>0</td>\n",
       "    </tr>\n",
       "    <tr>\n",
       "      <th>3</th>\n",
       "      <td>2016-10-09 15:45:11+00:00</td>\n",
       "      <td>NaN</td>\n",
       "      <td>NaN</td>\n",
       "      <td>785144083685793792</td>\n",
       "      <td>do you need some updates  you can find all of ...</td>\n",
       "      <td>official</td>\n",
       "      <td>GDOTATL</td>\n",
       "      <td>Georgia</td>\n",
       "      <td>Do you need some updates  You can find ALL of ...</td>\n",
       "      <td>0</td>\n",
       "    </tr>\n",
       "    <tr>\n",
       "      <th>4</th>\n",
       "      <td>2016-10-09 14:00:20+00:00</td>\n",
       "      <td>NaN</td>\n",
       "      <td>NaN</td>\n",
       "      <td>785117697583427585</td>\n",
       "      <td>did you know that the  511georgia website and ...</td>\n",
       "      <td>official</td>\n",
       "      <td>GDOTATL</td>\n",
       "      <td>Georgia</td>\n",
       "      <td>Did you know that the  511Georgia website and ...</td>\n",
       "      <td>0</td>\n",
       "    </tr>\n",
       "  </tbody>\n",
       "</table>\n",
       "</div>"
      ],
      "text/plain": [
       "                        date  geo hashtags                  id  \\\n",
       "0  2016-10-11 16:39:51+00:00  NaN      NaN  785882618852147201   \n",
       "1  2016-10-10 19:10:23+00:00  NaN      NaN  785558112682053632   \n",
       "2  2016-10-09 17:30:22+00:00  NaN      NaN  785170555456647168   \n",
       "3  2016-10-09 15:45:11+00:00  NaN      NaN  785144083685793792   \n",
       "4  2016-10-09 14:00:20+00:00  NaN      NaN  785117697583427585   \n",
       "\n",
       "                                                text      type username  \\\n",
       "0  the pioh for the sr 138 i-20 is going on now u...  official  GDOTATL   \n",
       "1  we appreciate all the hard work our crews have...  official  GDOTATL   \n",
       "2  need info on re-entry  check here  also follow...  official  GDOTATL   \n",
       "3  do you need some updates  you can find all of ...  official  GDOTATL   \n",
       "4  did you know that the  511georgia website and ...  official  GDOTATL   \n",
       "\n",
       "     state                                              tweet  road_closure  \n",
       "0  Georgia  The PIOH for the SR 138 I-20 is going on now u...             0  \n",
       "1  Georgia  We appreciate all the hard work our crews have...             0  \n",
       "2  Georgia  Need info on re-entry  Check here  Also follow...             0  \n",
       "3  Georgia  Do you need some updates  You can find ALL of ...             0  \n",
       "4  Georgia  Did you know that the  511Georgia website and ...             0  "
      ]
     },
     "execution_count": 39,
     "metadata": {},
     "output_type": "execute_result"
    }
   ],
   "source": [
    "tweets_training.head()"
   ]
  },
  {
   "cell_type": "code",
   "execution_count": 40,
   "metadata": {},
   "outputs": [],
   "source": [
    "tweets_training.to_csv('../data/cleaned_tweets/cleaned_historic_official_07302019.csv', index = False)"
   ]
  }
 ],
 "metadata": {
  "kernelspec": {
   "display_name": "Python 3",
   "language": "python",
   "name": "python3"
  },
  "language_info": {
   "codemirror_mode": {
    "name": "ipython",
    "version": 3
   },
   "file_extension": ".py",
   "mimetype": "text/x-python",
   "name": "python",
   "nbconvert_exporter": "python",
   "pygments_lexer": "ipython3",
   "version": "3.7.3"
  },
  "toc": {
   "base_numbering": 1,
   "nav_menu": {},
   "number_sections": true,
   "sideBar": true,
   "skip_h1_title": false,
   "title_cell": "Table of Contents",
   "title_sidebar": "Contents",
   "toc_cell": false,
   "toc_position": {},
   "toc_section_display": true,
   "toc_window_display": false
  }
 },
 "nbformat": 4,
 "nbformat_minor": 2
}
