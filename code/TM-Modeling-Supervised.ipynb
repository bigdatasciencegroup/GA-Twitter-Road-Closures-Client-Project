{
 "cells": [
  {
   "cell_type": "markdown",
   "metadata": {},
   "source": [
    "# 2a. Supervised Modeling"
   ]
  },
  {
   "cell_type": "markdown",
   "metadata": {},
   "source": [
    "### Goal: Classify tweets from blue-checkmarked Twitter accounts from five states' 511 services. \n",
    "\n",
    "Using a list of terms correlated with road closures, Tweets will be  encoded with `Y` target values:\n",
    "\n",
    "  - `1`: Road Closure\n",
    "  - `0`: Not Road Closure\n",
    "\n",
    "\n",
    "Tweets were identified as road closures based on an analysis of road closure announcements made on official Dept of Transportation websites from Virginia, North Carolina, South Carolina, Georgia, and Florda. In our particular case study of analyzing Tweets relating to Jacksonville, FL and the surrounding area, we collected 24,000 Tweets from these accounts from dating October 4, 2016 to October 14, 2016.\n",
    "\n",
    "This labeled dataset will be used to build a model that can be used on live Tweets."
   ]
  },
  {
   "cell_type": "markdown",
   "metadata": {},
   "source": [
    "- [**Import Libraries**](#Import-Libraries)\n",
    "- [**EDA and Preprocessing**](#Exploratory-Data-Analysis-and-Preproccessing)\n",
    "  - [Import State 511 Data](#Import-State-511-Data)\n",
    "  - [State Mapping](#State-Mapping)\n",
    "  - [Bar Plot](#Bar-Plot-Function)\n",
    "  - [Regex Filter](#Regex-Text-Filter)\n",
    "  - [Keyword Classification](#Keyword-Classification)\n",
    "  - [Classification Evaluation](#Classification-Evaluation)\n",
    "- [**Modeling**](#Modeling)\n",
    "  - [Gridsearch Function](#Gridsearch-Function)\n",
    "  - [Confusion Matrix Function](#Confusion-Matrix-Function)\n",
    "  - [Regression Coefficient Plot Function](#Regression-Coefficient-Plot-Function)\n",
    "  - [ROC AUC Plot Function](#ROC-AUC-Plot-Function)\n",
    "  - [Logistic Regression with Count Vectorizor](#Logistic-Regression-with-Count-Vectorizor)\n",
    "  - [TF-IDF Vectorizor and Gradient Boost](#TF-IDF-and-Gradient-Boosting)"
   ]
  },
  {
   "cell_type": "markdown",
   "metadata": {},
   "source": [
    "## Import Libraries"
   ]
  },
  {
   "cell_type": "code",
   "execution_count": 1,
   "metadata": {},
   "outputs": [
    {
     "name": "stderr",
     "output_type": "stream",
     "text": [
      "C:\\Users\\templ\\Anaconda3\\envs\\dsi\\lib\\site-packages\\sklearn\\externals\\joblib\\__init__.py:15: DeprecationWarning: sklearn.externals.joblib is deprecated in 0.21 and will be removed in 0.23. Please import this functionality directly from joblib, which can be installed with: pip install joblib. If this warning is raised when loading pickled models, you may need to re-serialize those models with scikit-learn 0.21+.\n",
      "  warnings.warn(msg, category=DeprecationWarning)\n"
     ]
    }
   ],
   "source": [
    "import pandas as pd\n",
    "import matplotlib.pyplot as plt\n",
    "import seaborn as sns\n",
    "import numpy as np\n",
    "\n",
    "import re\n",
    "import pickle\n",
    "\n",
    "from sklearn.feature_extraction import stop_words\n",
    "from sklearn.feature_extraction.text import CountVectorizer, TfidfVectorizer\n",
    "from sklearn import metrics\n",
    "from sklearn.utils.multiclass import unique_labels\n",
    "from sklearn.externals import joblib\n",
    "\n",
    "from sklearn.linear_model import LogisticRegression\n",
    "from sklearn.model_selection import train_test_split, GridSearchCV\n",
    "from sklearn.pipeline import Pipeline\n",
    "from sklearn.ensemble import GradientBoostingClassifier\n",
    "from sklearn.metrics import accuracy_score, recall_score, precision_score, confusion_matrix, roc_auc_score\n",
    "\n",
    "pd.set_option('display.max_colwidth', -1)"
   ]
  },
  {
   "cell_type": "markdown",
   "metadata": {},
   "source": [
    "## Exploratory Data Analysis and Preproccessing"
   ]
  },
  {
   "cell_type": "markdown",
   "metadata": {},
   "source": [
    "#### Import State 511 Data"
   ]
  },
  {
   "cell_type": "code",
   "execution_count": 2,
   "metadata": {
    "scrolled": false
   },
   "outputs": [],
   "source": [
    "# import tweets\n",
    "tweets = pd.read_csv('../data/Tweets_Historical/historic_tweets_official_07262019.csv')"
   ]
  },
  {
   "cell_type": "code",
   "execution_count": 3,
   "metadata": {
    "scrolled": false
   },
   "outputs": [
    {
     "data": {
      "text/html": [
       "<div>\n",
       "<style scoped>\n",
       "    .dataframe tbody tr th:only-of-type {\n",
       "        vertical-align: middle;\n",
       "    }\n",
       "\n",
       "    .dataframe tbody tr th {\n",
       "        vertical-align: top;\n",
       "    }\n",
       "\n",
       "    .dataframe thead th {\n",
       "        text-align: right;\n",
       "    }\n",
       "</style>\n",
       "<table border=\"1\" class=\"dataframe\">\n",
       "  <thead>\n",
       "    <tr style=\"text-align: right;\">\n",
       "      <th></th>\n",
       "      <th>date</th>\n",
       "      <th>geo</th>\n",
       "      <th>hashtags</th>\n",
       "      <th>id</th>\n",
       "      <th>text</th>\n",
       "      <th>type</th>\n",
       "      <th>username</th>\n",
       "    </tr>\n",
       "  </thead>\n",
       "  <tbody>\n",
       "    <tr>\n",
       "      <th>0</th>\n",
       "      <td>2016-10-11 16:39:51+00:00</td>\n",
       "      <td>NaN</td>\n",
       "      <td>NaN</td>\n",
       "      <td>785882618852147201</td>\n",
       "      <td>The PIOH for the SR 138/I-20 is going on now until 8 p.m.pic.twitter.com/UVsI1GJOll – at American Legion Post 77</td>\n",
       "      <td>official</td>\n",
       "      <td>GDOTATL</td>\n",
       "    </tr>\n",
       "    <tr>\n",
       "      <th>1</th>\n",
       "      <td>2016-10-10 19:10:23+00:00</td>\n",
       "      <td>NaN</td>\n",
       "      <td>NaN</td>\n",
       "      <td>785558112682053632</td>\n",
       "      <td>We appreciate all the hard work our crews have done the last few days. They were incredibly dedicated to getting you home safe! PC: J.Coferpic.twitter.com/YunOqjiyNO</td>\n",
       "      <td>official</td>\n",
       "      <td>GDOTATL</td>\n",
       "    </tr>\n",
       "    <tr>\n",
       "      <th>2</th>\n",
       "      <td>2016-10-09 17:30:22+00:00</td>\n",
       "      <td>NaN</td>\n",
       "      <td>NaN</td>\n",
       "      <td>785170555456647168</td>\n",
       "      <td>Need info on re-entry? Check here! Also follow our partners. @511Georgia @GeorgiaEMApic.twitter.com/ycEJuAsgOd</td>\n",
       "      <td>official</td>\n",
       "      <td>GDOTATL</td>\n",
       "    </tr>\n",
       "    <tr>\n",
       "      <th>3</th>\n",
       "      <td>2016-10-09 15:45:11+00:00</td>\n",
       "      <td>NaN</td>\n",
       "      <td>NaN</td>\n",
       "      <td>785144083685793792</td>\n",
       "      <td>Do you need some updates? You can find ALL of them right here. http://ow.ly/hO7p30500Op pic.twitter.com/lwFcSJV9Yp</td>\n",
       "      <td>official</td>\n",
       "      <td>GDOTATL</td>\n",
       "    </tr>\n",
       "    <tr>\n",
       "      <th>4</th>\n",
       "      <td>2016-10-09 14:00:20+00:00</td>\n",
       "      <td>NaN</td>\n",
       "      <td>NaN</td>\n",
       "      <td>785117697583427585</td>\n",
       "      <td>Did you know that the @511Georgia website and app can give you details on road closures?</td>\n",
       "      <td>official</td>\n",
       "      <td>GDOTATL</td>\n",
       "    </tr>\n",
       "  </tbody>\n",
       "</table>\n",
       "</div>"
      ],
      "text/plain": [
       "                        date  geo hashtags                  id  \\\n",
       "0  2016-10-11 16:39:51+00:00 NaN   NaN      785882618852147201   \n",
       "1  2016-10-10 19:10:23+00:00 NaN   NaN      785558112682053632   \n",
       "2  2016-10-09 17:30:22+00:00 NaN   NaN      785170555456647168   \n",
       "3  2016-10-09 15:45:11+00:00 NaN   NaN      785144083685793792   \n",
       "4  2016-10-09 14:00:20+00:00 NaN   NaN      785117697583427585   \n",
       "\n",
       "                                                                                                                                                                    text  \\\n",
       "0  The PIOH for the SR 138/I-20 is going on now until 8 p.m.pic.twitter.com/UVsI1GJOll – at American Legion Post 77                                                        \n",
       "1  We appreciate all the hard work our crews have done the last few days. They were incredibly dedicated to getting you home safe! PC: J.Coferpic.twitter.com/YunOqjiyNO   \n",
       "2  Need info on re-entry? Check here! Also follow our partners. @511Georgia @GeorgiaEMApic.twitter.com/ycEJuAsgOd                                                          \n",
       "3  Do you need some updates? You can find ALL of them right here. http://ow.ly/hO7p30500Op pic.twitter.com/lwFcSJV9Yp                                                      \n",
       "4  Did you know that the @511Georgia website and app can give you details on road closures?                                                                                \n",
       "\n",
       "       type username  \n",
       "0  official  GDOTATL  \n",
       "1  official  GDOTATL  \n",
       "2  official  GDOTATL  \n",
       "3  official  GDOTATL  \n",
       "4  official  GDOTATL  "
      ]
     },
     "execution_count": 3,
     "metadata": {},
     "output_type": "execute_result"
    }
   ],
   "source": [
    "tweets.head()"
   ]
  },
  {
   "cell_type": "markdown",
   "metadata": {},
   "source": [
    "#### State Mapping\n",
    "Tweets are assigned a state of origin based on the account associated. This will mainly be used in builing search queries for mapping."
   ]
  },
  {
   "cell_type": "code",
   "execution_count": 4,
   "metadata": {},
   "outputs": [],
   "source": [
    "# create account to state dictionary\n",
    "state_dict = {'Georgia': ['GDOTATL', '511Georgia'], \n",
    "              'South Carolina' : ['SCDOTMidlands', 'SCDOTPeeDee', 'SCDOTLowCountry', 'SCDOTPiedmont'],\n",
    "              'Florida' : ['fl511_panhandl', 'fl511_state', 'fl511_northeast', 'fl511_southeast', 'fl511_southwest', 'fl511_southwest', 'fl511_tampabay', 'fl511_central'],\n",
    "              'Virginia' : ['511statewideva', '511centralva', '511hamptonroads', '511northernva'],\n",
    "              'North Carolina' : ['NCDOT_Westmtn', 'NCDOT_Triangle', 'NCDOT_Piedmont', 'NCDOT_Charlotte', 'NCDOT_Asheville', 'NCDOT_Scoast', 'NCDOT_Ncoast']\n",
    "             }"
   ]
  },
  {
   "cell_type": "code",
   "execution_count": 5,
   "metadata": {},
   "outputs": [],
   "source": [
    "# create function to map states to twitter acount\n",
    "def state_remap(df, col, states):\n",
    "    \n",
    "    # create list of usernames from tweets\n",
    "    usernames = df[col]\n",
    "    state_list = []\n",
    "    \n",
    "    # loop through tweets and state dictionary\n",
    "    for u in usernames:\n",
    "        for key, val in states.items():\n",
    "            \n",
    "            # add state to list if username matches dictionary\n",
    "            if u in val:\n",
    "                state_list.append(key)\n",
    "                \n",
    "    # return list of states associated with tweets\n",
    "    return state_list"
   ]
  },
  {
   "cell_type": "code",
   "execution_count": 6,
   "metadata": {
    "scrolled": true
   },
   "outputs": [
    {
     "data": {
      "text/plain": [
       "Florida           12092\n",
       "Virginia          8635 \n",
       "North Carolina    1951 \n",
       "South Carolina    1235 \n",
       "Georgia           141  \n",
       "Name: state, dtype: int64"
      ]
     },
     "execution_count": 6,
     "metadata": {},
     "output_type": "execute_result"
    }
   ],
   "source": [
    "#run function explore value count of states\n",
    "tweets['state'] = state_remap(tweets, 'username', state_dict)\n",
    "tweets['state'].value_counts()"
   ]
  },
  {
   "cell_type": "markdown",
   "metadata": {},
   "source": [
    "#### Bar Plot Function"
   ]
  },
  {
   "cell_type": "code",
   "execution_count": 7,
   "metadata": {},
   "outputs": [],
   "source": [
    "# define function to plot count of words after count vectorization\n",
    "# Code modified from http://robertmitchellv.com/blog-bar-chart-annotations-pandas-mpl.html\n",
    "def bar_plot(x, y, title, color):    \n",
    "    \n",
    "    # Set up barplot \n",
    "    plt.figure(figsize=(8,4))\n",
    "    ax = sns.barplot(x, y, color = color)\n",
    "\n",
    "    # Label the graph\n",
    "    plt.title(title, fontsize = 15)\n",
    "    plt.xticks(fontsize = 10)\n",
    "\n",
    "    # create a list to collect the plt.patches data\n",
    "    totals = []\n",
    "\n",
    "    # set individual bar lables using above list\n",
    "    for p in ax.patches:\n",
    "        # get_width pulls left or right; get_y pushes up or down\n",
    "        ax.text(p.get_width()+.3, p.get_y()+.38,\n",
    "                int(p.get_width()), fontsize=10)"
   ]
  },
  {
   "cell_type": "markdown",
   "metadata": {},
   "source": [
    "#### Regex Text Filter"
   ]
  },
  {
   "cell_type": "code",
   "execution_count": 8,
   "metadata": {},
   "outputs": [],
   "source": [
    "# define function to run regex startments over a column labeled \"text\"\n",
    "def twt_preprocess(twt):\n",
    "    # run regex to remove urls\n",
    "    twt['text'] = twt['text'].map(lambda x: re.sub(r\"((http|ftp|https):\\/\\/)?[\\w\\-_]+(\\.[\\w\\-_]+)+([\\w\\-\\.,@?^=%&amp;:/~\\+#]*[\\w\\-\\@?^=%&amp;/~\\+#])?\", ' ', x))\n",
    "\n",
    "    # run regex to remove non alphanumeric characters\n",
    "    twt['text'] = twt['text'].map(lambda x: re.sub(r\"[@\\?\\.$%_\\!\\[\\]()+:;\\/*\\\"]\", ' ', x, flags=re.I))\n",
    "    twt['text'] = twt['text'].map(lambda x: re.sub(r\"[,']\", '', x, flags=re.I))\n",
    "\n",
    "    # run regex to remove common words\n",
    "    twt['text'] = twt['text'].map(lambda x: re.sub('(twitter|tweet)[s]?', ' ', x,  flags=re.I))   \n",
    "    "
   ]
  },
  {
   "cell_type": "code",
   "execution_count": 9,
   "metadata": {},
   "outputs": [],
   "source": [
    "# run regex cleaner on full dataframe\n",
    "twt_preprocess(tweets)"
   ]
  },
  {
   "cell_type": "markdown",
   "metadata": {},
   "source": [
    "#### Keyword Classification\n",
    "\n",
    "We use three seperate lists of words to classify whether Tweets are about road closures. The lists of words was built over the course of this project and based on the results of our model.\n",
    "\n",
    "We simulatneous test if any word `road_keywords` and `closed_keyword` is in the tweet, but also check if any word in `to_drop` is also in the tweet. If the tweet passes this filter, it is classified with a `1` in the target `road_closure` column."
   ]
  },
  {
   "cell_type": "code",
   "execution_count": 10,
   "metadata": {},
   "outputs": [],
   "source": [
    "# establish list of words to search for in dataframe\n",
    "road_keywords = ['road', 'st','rd', 'hwy', 'highway', 'ave', 'avenue',\n",
    "                 'intersection', 'bridge', 'sr-', 'cr-', 'us-', 'i-', 'blvd']\n",
    "\n",
    "# list of words associated with road closures\n",
    "closed_keywords = ['closed', 'remains closed', 'shut down', 'backed up',\n",
    "                   'no travel', 'delay', 'blocked', 'delays',\n",
    "                   'disabled', 'traffic', 'fire', 'flood', 'closures', 'closure']\n",
    "\n",
    "to_drop = [\"open\", \"opened\", \"lifted\", \"reopened\", \"clear\", \"cleared\"]"
   ]
  },
  {
   "cell_type": "code",
   "execution_count": 11,
   "metadata": {},
   "outputs": [],
   "source": [
    "# define function to filter the full dataframe for tweets that contain words from a keyword list\n",
    "def tweet_filter (df, col, keywords, roads, dropwords):\n",
    "    \n",
    "    # create a new column in the given dataframe\n",
    "    # assign a value of 1 if any word in the text is in the keyword and road lists\n",
    "    # assign a value of 0 if any word in the test is in the drop words list\n",
    "    df['road_closure'] = df[col].map(lambda x: 1 if ((any(word in x for word in roads)) \n",
    "                                                     & (any(word in x for word in keywords)) \n",
    "                                                     & (not any(word in x for word in dropwords))) \n",
    "                                     else 0)   \n",
    "    \n",
    "    return df['road_closure']"
   ]
  },
  {
   "cell_type": "code",
   "execution_count": 12,
   "metadata": {},
   "outputs": [],
   "source": [
    "# backup original tweet to new dataframe\n",
    "tweets['tweet'] = tweets['text']\n",
    "\n",
    "# make tweet text lowercase\n",
    "tweets['text'] = tweets['text'].str.lower()\n",
    "\n",
    "# run function on full dataframe\n",
    "tweets['road_closure'] = tweet_filter(tweets, 'text', closed_keywords, road_keywords, to_drop)"
   ]
  },
  {
   "cell_type": "code",
   "execution_count": 13,
   "metadata": {
    "scrolled": false
   },
   "outputs": [
    {
     "name": "stdout",
     "output_type": "stream",
     "text": [
      "(24054, 10)\n"
     ]
    },
    {
     "data": {
      "text/plain": [
       "1    13291\n",
       "0    10763\n",
       "Name: road_closure, dtype: int64"
      ]
     },
     "execution_count": 13,
     "metadata": {},
     "output_type": "execute_result"
    }
   ],
   "source": [
    "# check shape and classification values of tweets\n",
    "print(tweets.shape)\n",
    "tweets['road_closure'].value_counts()"
   ]
  },
  {
   "cell_type": "markdown",
   "metadata": {},
   "source": [
    "#### Classification Evaluation\n",
    "\n",
    "We then vectorize the classes of tweets to observe the count of words in each class before modeling."
   ]
  },
  {
   "cell_type": "code",
   "execution_count": 14,
   "metadata": {
    "scrolled": true
   },
   "outputs": [
    {
     "data": {
      "text/plain": [
       "(13291, 10)"
      ]
     },
     "execution_count": 14,
     "metadata": {},
     "output_type": "execute_result"
    }
   ],
   "source": [
    "# Grab only tweets classified as road closures\n",
    "closed = tweets[tweets['road_closure'] == 1]\n",
    "\n",
    "# Shape\n",
    "closed.shape"
   ]
  },
  {
   "cell_type": "code",
   "execution_count": 15,
   "metadata": {
    "scrolled": false
   },
   "outputs": [
    {
     "data": {
      "text/plain": [
       "fl511_southeast    1752\n",
       "511northernva      1747\n",
       "511centralva       1611\n",
       "fl511_state        1598\n",
       "fl511_northeast    1295\n",
       "fl511_central      1192\n",
       "511hamptonroads    1052\n",
       "511statewideva     653 \n",
       "fl511_tampabay     520 \n",
       "NCDOT_Triangle     424 \n",
       "NCDOT_Scoast       366 \n",
       "fl511_southwest    307 \n",
       "NCDOT_Ncoast       268 \n",
       "NCDOT_Charlotte    137 \n",
       "fl511_panhandl     122 \n",
       "NCDOT_Piedmont     66  \n",
       "NCDOT_Asheville    52  \n",
       "511Georgia         46  \n",
       "SCDOTLowCountry    26  \n",
       "SCDOTMidlands      23  \n",
       "SCDOTPiedmont      17  \n",
       "SCDOTPeeDee        12  \n",
       "GDOTATL            4   \n",
       "NCDOT_Westmtn      1   \n",
       "Name: username, dtype: int64"
      ]
     },
     "execution_count": 15,
     "metadata": {},
     "output_type": "execute_result"
    }
   ],
   "source": [
    "# find which accounts had information about road closures\n",
    "closed['username'].value_counts()"
   ]
  },
  {
   "cell_type": "code",
   "execution_count": 16,
   "metadata": {},
   "outputs": [
    {
     "name": "stdout",
     "output_type": "stream",
     "text": [
      "(13291, 2715)\n"
     ]
    }
   ],
   "source": [
    "# Instantiate a CountVectorizer\n",
    "cv = CountVectorizer(stop_words = 'english')\n",
    "\n",
    "# Fit and transform the vectorizer on our corpus\n",
    "cvec = cv.fit_transform(closed['text'])\n",
    "\n",
    "# Convert cvec into a DataFrame\n",
    "tweets_cvec = pd.DataFrame(cvec.toarray(),\n",
    "                   columns=cv.get_feature_names())\n",
    "\n",
    "# Inspect new DF\n",
    "print(tweets_cvec.shape)"
   ]
  },
  {
   "cell_type": "code",
   "execution_count": 17,
   "metadata": {
    "scrolled": false
   },
   "outputs": [
    {
     "data": {
      "image/png": "[encoded data removed]",
      "text/plain": [
       "<Figure size 576x288 with 1 Axes>"
      ]
     },
     "metadata": {
      "needs_background": "light"
     },
     "output_type": "display_data"
    }
   ],
   "source": [
    "# Set up variables to contain top 5 most used words \n",
    "wc1_tweets_cvec = tweets_cvec.sum(axis = 0).sort_values(ascending=False).head(6)\n",
    "\n",
    "# Call bar plot function\n",
    "bar_plot(wc1_tweets_cvec.values, wc1_tweets_cvec.index, 'Top 6 unigrams from alerts that confirm road closures','r')"
   ]
  },
  {
   "cell_type": "code",
   "execution_count": 18,
   "metadata": {},
   "outputs": [
    {
     "data": {
      "text/plain": [
       "(10763, 10)"
      ]
     },
     "execution_count": 18,
     "metadata": {},
     "output_type": "execute_result"
    }
   ],
   "source": [
    "# Remove all road closure tweets from full dataframe\n",
    "tweets_open = tweets[tweets['road_closure'] == 0]\n",
    "\n",
    "# Shape\n",
    "tweets_open.shape"
   ]
  },
  {
   "cell_type": "code",
   "execution_count": 19,
   "metadata": {},
   "outputs": [
    {
     "name": "stdout",
     "output_type": "stream",
     "text": [
      "(10763, 2900)\n"
     ]
    }
   ],
   "source": [
    "# Instantiate a CountVectorizer\n",
    "cv = CountVectorizer(stop_words = 'english')\n",
    "\n",
    "# Fit and transform the vectorizer on our corpus\n",
    "cvec = cv.fit_transform(tweets_open['text'])\n",
    "\n",
    "# Convert cvec into a DataFrame\n",
    "tweets_cvec = pd.DataFrame(cvec.toarray(),\n",
    "                   columns=cv.get_feature_names())\n",
    "\n",
    "# Inspect new DF\n",
    "print(tweets_cvec.shape)"
   ]
  },
  {
   "cell_type": "code",
   "execution_count": 20,
   "metadata": {
    "scrolled": true
   },
   "outputs": [
    {
     "data": {
      "image/png": "[encoded data removed]",
      "text/plain": [
       "<Figure size 576x288 with 1 Axes>"
      ]
     },
     "metadata": {
      "needs_background": "light"
     },
     "output_type": "display_data"
    }
   ],
   "source": [
    "# Set up variables to contain top 5 most used words \n",
    "wc1_tweets_cvec = tweets_cvec.sum(axis = 0).sort_values(ascending=False).head(6)\n",
    "\n",
    "# Call bar plot function\n",
    "bar_plot(wc1_tweets_cvec.values, wc1_tweets_cvec.index, 'Top 6 unigrams from tweets that are not about road closures','b')"
   ]
  },
  {
   "cell_type": "markdown",
   "metadata": {},
   "source": [
    "#### Create Training Dataframe"
   ]
  },
  {
   "cell_type": "code",
   "execution_count": 21,
   "metadata": {},
   "outputs": [
    {
     "data": {
      "text/plain": [
       "(24054, 10)"
      ]
     },
     "execution_count": 21,
     "metadata": {},
     "output_type": "execute_result"
    }
   ],
   "source": [
    "# copy dataframe\n",
    "tweets_training = tweets\n",
    "tweets_training.shape"
   ]
  },
  {
   "cell_type": "code",
   "execution_count": 22,
   "metadata": {
    "scrolled": false
   },
   "outputs": [
    {
     "data": {
      "text/html": [
       "<div>\n",
       "<style scoped>\n",
       "    .dataframe tbody tr th:only-of-type {\n",
       "        vertical-align: middle;\n",
       "    }\n",
       "\n",
       "    .dataframe tbody tr th {\n",
       "        vertical-align: top;\n",
       "    }\n",
       "\n",
       "    .dataframe thead th {\n",
       "        text-align: right;\n",
       "    }\n",
       "</style>\n",
       "<table border=\"1\" class=\"dataframe\">\n",
       "  <thead>\n",
       "    <tr style=\"text-align: right;\">\n",
       "      <th></th>\n",
       "      <th>date</th>\n",
       "      <th>geo</th>\n",
       "      <th>hashtags</th>\n",
       "      <th>id</th>\n",
       "      <th>text</th>\n",
       "      <th>type</th>\n",
       "      <th>username</th>\n",
       "      <th>state</th>\n",
       "      <th>tweet</th>\n",
       "      <th>road_closure</th>\n",
       "    </tr>\n",
       "  </thead>\n",
       "  <tbody>\n",
       "    <tr>\n",
       "      <th>0</th>\n",
       "      <td>2016-10-11 16:39:51+00:00</td>\n",
       "      <td>NaN</td>\n",
       "      <td>NaN</td>\n",
       "      <td>785882618852147201</td>\n",
       "      <td>the pioh for the sr 138 i-20 is going on now until 8   – at american legion post 77</td>\n",
       "      <td>official</td>\n",
       "      <td>GDOTATL</td>\n",
       "      <td>Georgia</td>\n",
       "      <td>The PIOH for the SR 138 I-20 is going on now until 8   – at American Legion Post 77</td>\n",
       "      <td>0</td>\n",
       "    </tr>\n",
       "    <tr>\n",
       "      <th>1</th>\n",
       "      <td>2016-10-10 19:10:23+00:00</td>\n",
       "      <td>NaN</td>\n",
       "      <td>NaN</td>\n",
       "      <td>785558112682053632</td>\n",
       "      <td>we appreciate all the hard work our crews have done the last few days  they were incredibly dedicated to getting you home safe  pc</td>\n",
       "      <td>official</td>\n",
       "      <td>GDOTATL</td>\n",
       "      <td>Georgia</td>\n",
       "      <td>We appreciate all the hard work our crews have done the last few days  They were incredibly dedicated to getting you home safe  PC</td>\n",
       "      <td>0</td>\n",
       "    </tr>\n",
       "    <tr>\n",
       "      <th>2</th>\n",
       "      <td>2016-10-09 17:30:22+00:00</td>\n",
       "      <td>NaN</td>\n",
       "      <td>NaN</td>\n",
       "      <td>785170555456647168</td>\n",
       "      <td>need info on re-entry  check here  also follow our partners   511georgia</td>\n",
       "      <td>official</td>\n",
       "      <td>GDOTATL</td>\n",
       "      <td>Georgia</td>\n",
       "      <td>Need info on re-entry  Check here  Also follow our partners   511Georgia</td>\n",
       "      <td>0</td>\n",
       "    </tr>\n",
       "    <tr>\n",
       "      <th>3</th>\n",
       "      <td>2016-10-09 15:45:11+00:00</td>\n",
       "      <td>NaN</td>\n",
       "      <td>NaN</td>\n",
       "      <td>785144083685793792</td>\n",
       "      <td>do you need some updates  you can find all of them right here</td>\n",
       "      <td>official</td>\n",
       "      <td>GDOTATL</td>\n",
       "      <td>Georgia</td>\n",
       "      <td>Do you need some updates  You can find ALL of them right here</td>\n",
       "      <td>0</td>\n",
       "    </tr>\n",
       "    <tr>\n",
       "      <th>4</th>\n",
       "      <td>2016-10-09 14:00:20+00:00</td>\n",
       "      <td>NaN</td>\n",
       "      <td>NaN</td>\n",
       "      <td>785117697583427585</td>\n",
       "      <td>did you know that the  511georgia website and app can give you details on road closures</td>\n",
       "      <td>official</td>\n",
       "      <td>GDOTATL</td>\n",
       "      <td>Georgia</td>\n",
       "      <td>Did you know that the  511Georgia website and app can give you details on road closures</td>\n",
       "      <td>1</td>\n",
       "    </tr>\n",
       "  </tbody>\n",
       "</table>\n",
       "</div>"
      ],
      "text/plain": [
       "                        date  geo hashtags                  id  \\\n",
       "0  2016-10-11 16:39:51+00:00 NaN   NaN      785882618852147201   \n",
       "1  2016-10-10 19:10:23+00:00 NaN   NaN      785558112682053632   \n",
       "2  2016-10-09 17:30:22+00:00 NaN   NaN      785170555456647168   \n",
       "3  2016-10-09 15:45:11+00:00 NaN   NaN      785144083685793792   \n",
       "4  2016-10-09 14:00:20+00:00 NaN   NaN      785117697583427585   \n",
       "\n",
       "                                                                                                                                    text  \\\n",
       "0  the pioh for the sr 138 i-20 is going on now until 8   – at american legion post 77                                                     \n",
       "1  we appreciate all the hard work our crews have done the last few days  they were incredibly dedicated to getting you home safe  pc      \n",
       "2  need info on re-entry  check here  also follow our partners   511georgia                                                                \n",
       "3  do you need some updates  you can find all of them right here                                                                           \n",
       "4  did you know that the  511georgia website and app can give you details on road closures                                                 \n",
       "\n",
       "       type username    state  \\\n",
       "0  official  GDOTATL  Georgia   \n",
       "1  official  GDOTATL  Georgia   \n",
       "2  official  GDOTATL  Georgia   \n",
       "3  official  GDOTATL  Georgia   \n",
       "4  official  GDOTATL  Georgia   \n",
       "\n",
       "                                                                                                                                   tweet  \\\n",
       "0  The PIOH for the SR 138 I-20 is going on now until 8   – at American Legion Post 77                                                     \n",
       "1  We appreciate all the hard work our crews have done the last few days  They were incredibly dedicated to getting you home safe  PC      \n",
       "2  Need info on re-entry  Check here  Also follow our partners   511Georgia                                                                \n",
       "3  Do you need some updates  You can find ALL of them right here                                                                           \n",
       "4  Did you know that the  511Georgia website and app can give you details on road closures                                                 \n",
       "\n",
       "   road_closure  \n",
       "0  0             \n",
       "1  0             \n",
       "2  0             \n",
       "3  0             \n",
       "4  1             "
      ]
     },
     "execution_count": 22,
     "metadata": {},
     "output_type": "execute_result"
    }
   ],
   "source": [
    "tweets_training.head()"
   ]
  },
  {
   "cell_type": "markdown",
   "metadata": {},
   "source": [
    "# Modeling\n",
    "\n",
    "In this section, we run two models using keyword-classification as the target `y` variable. We evaluated each model using a classification matrix and an ROC AUC curve. The models are then pickled to be used on unseen data and live tweets."
   ]
  },
  {
   "cell_type": "code",
   "execution_count": 23,
   "metadata": {},
   "outputs": [
    {
     "data": {
      "text/plain": [
       "1    0.552548\n",
       "0    0.447452\n",
       "Name: road_closure, dtype: float64"
      ]
     },
     "execution_count": 23,
     "metadata": {},
     "output_type": "execute_result"
    }
   ],
   "source": [
    "# Baseline score\n",
    "tweets_training['road_closure'].value_counts(normalize=True)"
   ]
  },
  {
   "cell_type": "code",
   "execution_count": 24,
   "metadata": {},
   "outputs": [],
   "source": [
    "# define our variables\n",
    "X = tweets_training['text']\n",
    "y = tweets_training['road_closure']"
   ]
  },
  {
   "cell_type": "code",
   "execution_count": 25,
   "metadata": {},
   "outputs": [],
   "source": [
    "# train test split the data\n",
    "X_train, X_test, y_train, y_test = train_test_split(X,\n",
    "                                                    y,\n",
    "                                                    random_state=42,\n",
    "                                                    stratify=y)"
   ]
  },
  {
   "cell_type": "markdown",
   "metadata": {},
   "source": [
    "#### Gridsearch Function"
   ]
  },
  {
   "cell_type": "code",
   "execution_count": 26,
   "metadata": {},
   "outputs": [],
   "source": [
    "# function to find best hyperparameters through a pipeline and gridsearch\n",
    "# modified code from Arielle Miro\n",
    "\n",
    "def model_fit_score(X, y,\n",
    "                    vect_name, vect_type,\n",
    "                    model_name,\n",
    "                    model_type,\n",
    "                    parameters={}):\n",
    "\n",
    "    pipe = Pipeline([\n",
    "        (vect_name,vect_type),\n",
    "        (model_name, model_type)])\n",
    "    \n",
    "    # perform gridsearch\n",
    "    grid = GridSearchCV(pipe, param_grid=parameters, scoring='roc_auc', cv=3, n_jobs = -1, verbose = 1)\n",
    "    grid = grid.fit(X, y)\n",
    "\n",
    "    # Print best attributes\n",
    "    print(f\"For model: {model_name}\")\n",
    "    print(\"-\" * 80)\n",
    "    print(f\"The best parameters are: \\n {grid.best_params_}\")\n",
    "    print(\"-\" * 80)\n",
    "    print(f\"The best score is: \\n {grid.best_score_:.4f}\")\n",
    "    print(\"-\" * 80)\n",
    "    \n",
    "    return grid"
   ]
  },
  {
   "cell_type": "code",
   "execution_count": 27,
   "metadata": {},
   "outputs": [],
   "source": [
    "# inital parameter grid for gridsearch function\n",
    "params_vec = {\n",
    "    'vec__max_features': [200, 500, 1000],\n",
    "    'vec__min_df': [.01, .02],\n",
    "    'vec__max_df': [.8, .95],\n",
    "    'vec__ngram_range': [(1,2), (1,3), (2,2), (2,3)],\n",
    "    'vec__stop_words': [None, 'english']\n",
    "}\n",
    "\n",
    "params_lr = {\n",
    "    'lr__C': [1.0],\n",
    "    'lr__solver': ['liblinear'],\n",
    "    'lr__penalty': ['l1', 'l2']\n",
    "}\n",
    "    \n",
    "params_gb = {\n",
    "    'gb__learning_rate': [0.1, 0.2, 0.5],\n",
    "    'gb__n_estimators': [50, 100, 200, 500],\n",
    "    'gb__min_samples_split': [2, 3, 5],\n",
    "    'gb__min_samples_leaf': [1],\n",
    "    'gb__max_depth': [2, 3, 5]\n",
    "}"
   ]
  },
  {
   "cell_type": "code",
   "execution_count": 28,
   "metadata": {},
   "outputs": [],
   "source": [
    "# optimal parameters so the code runs faster\n",
    "# convert cell to code to make notebook take these parameters\n",
    "params_vec = {\n",
    "    'vec__max_features': [500],\n",
    "    'vec__min_df': [.01],\n",
    "    'vec__max_df': [.95],\n",
    "    'vec__ngram_range': [(1,3)],\n",
    "    'vec__stop_words': ['english']}\n",
    "\n",
    "params_lr = {\n",
    "    'lr__penalty': ['l1'],\n",
    "    'lr__C': [1.0]}\n",
    "\n",
    "params_gb = {\n",
    "    'gb__learning_rate': [0.1],\n",
    "    'gb__n_estimators': [200],\n",
    "    'gb__max_depth': [5],\n",
    "    'gb__min_samples_leaf': [1],\n",
    "    'gb__min_samples_split': [2]}"
   ]
  },
  {
   "cell_type": "markdown",
   "metadata": {},
   "source": [
    "#### Confusion Matrix Function"
   ]
  },
  {
   "cell_type": "code",
   "execution_count": 29,
   "metadata": {},
   "outputs": [],
   "source": [
    "# function to visualize confusion matrix\n",
    "# Source code from SkLearn documentation\n",
    "# https://scikit-learn.org/stable/auto_examples/model_selection/plot_confusion_matrix.html\n",
    "\n",
    "def plot_confusion_matrix(y_true, y_pred, classes,\n",
    "                          normalize=False,\n",
    "                          title=None,\n",
    "                          cmap=plt.cm.Blues):\n",
    "#     This function prints and plots the confusion matrix.\n",
    "#     Normalization can be applied by setting `normalize=True`.\n",
    "\n",
    "    if not title:\n",
    "        if normalize:\n",
    "            title = 'Normalized confusion matrix'\n",
    "        else:\n",
    "            title = 'Confusion matrix, without normalization'\n",
    "\n",
    "    # Compute confusion matrix\n",
    "    cm = metrics.confusion_matrix(y_true, y_pred)\n",
    "    # Only use the labels that appear in the data\n",
    "    classes = classes[unique_labels(y_true, y_pred)]\n",
    "    if normalize:\n",
    "        cm = cm.astype('float') / cm.sum(axis=1)[:, np.newaxis]\n",
    "        print(\"Normalized confusion matrix\")\n",
    "    else:\n",
    "        print('Confusion matrix, without normalization')\n",
    "\n",
    "    print(cm)\n",
    "\n",
    "    fig, ax = plt.subplots()\n",
    "    im = ax.imshow(cm, interpolation='nearest', cmap=cmap)\n",
    "    ax.figure.colorbar(im, ax=ax)\n",
    "    # We want to show all ticks...\n",
    "    ax.set(xticks=np.arange(cm.shape[1]),\n",
    "           yticks=np.arange(cm.shape[0]),\n",
    "           # ... and label them with the respective list entries\n",
    "           xticklabels=classes, yticklabels=classes,\n",
    "           title=title,\n",
    "           ylabel='True label',\n",
    "           xlabel='Predicted label')\n",
    "\n",
    "    # Rotate the tick labels and set their alignment.\n",
    "    plt.setp(ax.get_xticklabels(), rotation=45, ha=\"right\",\n",
    "             rotation_mode=\"anchor\")\n",
    "\n",
    "    # Loop over data dimensions and create text annotations.\n",
    "    fmt = '.2f' if normalize else 'd'\n",
    "    thresh = cm.max() / 2.\n",
    "    for i in range(cm.shape[0]):\n",
    "        for j in range(cm.shape[1]):\n",
    "            ax.text(j, i, format(cm[i, j], fmt),\n",
    "                    ha=\"center\", va=\"center\",\n",
    "                    color=\"white\" if cm[i, j] > thresh else \"black\")\n",
    "    fig.tight_layout()\n",
    "    return ax"
   ]
  },
  {
   "cell_type": "markdown",
   "metadata": {},
   "source": [
    "#### Regression Coefficient Plot Function"
   ]
  },
  {
   "cell_type": "code",
   "execution_count": 30,
   "metadata": {
    "scrolled": true
   },
   "outputs": [],
   "source": [
    "# function to plot regression coeficients for NLP models\n",
    "# modified code from jasmine vasandani\n",
    "\n",
    "def regression_coef_plot(estimator, vectorizor):\n",
    "    # Create list of logistic regression coefficients \n",
    "    lr_coef = np.array(estimator.coef_).tolist()\n",
    "    lr_coef = lr_coef[0]\n",
    "\n",
    "    # create dataframe from lasso coef\n",
    "    lr_coef = pd.DataFrame(np.round_(lr_coef, decimals=3), \n",
    "    vectorizor.get_feature_names(), columns = [\"lr_coef\"])\n",
    "\n",
    "    # sort the values from high to low\n",
    "    lr_coef = lr_coef.sort_values(by = 'lr_coef', \n",
    "    ascending = False)\n",
    "\n",
    "    # Create top and bottom 10 \n",
    "    df_head = lr_coef.head(10)\n",
    "    df_tail = lr_coef.tail(10)\n",
    "\n",
    "    # merge back together\n",
    "    df_merged = pd.concat([df_head, df_tail], axis=0)\n",
    "\n",
    "    # plot the sorted dataframe\n",
    "    fig, ax = plt.subplots()\n",
    "    fig.set_size_inches(8, 6)\n",
    "    fig.suptitle('Coefficients', size=14)\n",
    "    ax = sns.barplot(x = 'lr_coef', y= df_merged.index, \n",
    "    data=df_merged, palette= 'cubehelix')\n",
    "    ax.set(xlabel='Regression Coefficients')\n",
    "    plt.tight_layout(pad=3, w_pad=0, h_pad=0);"
   ]
  },
  {
   "cell_type": "markdown",
   "metadata": {},
   "source": [
    "#### ROC AUC Plot Function"
   ]
  },
  {
   "cell_type": "code",
   "execution_count": 31,
   "metadata": {},
   "outputs": [],
   "source": [
    "# helper functions for ROC AUC curve\n",
    "# modified code from Arielle Miro\n",
    "\n",
    "# Create threshold values. (Dashed red line in image.)\n",
    "thresholds = np.linspace(0, 1, 200)\n",
    "\n",
    "# Define function to calculate sensitivity. (True positive rate.)\n",
    "def TPR(df, true_col, pred_prob_col, threshold):\n",
    "    true_positive = df[(df[true_col] == 1) & (df[pred_prob_col] >= threshold)].shape[0]\n",
    "    false_negative = df[(df[true_col] == 1) & (df[pred_prob_col] < threshold)].shape[0]\n",
    "    return true_positive / (true_positive + false_negative)\n",
    "    \n",
    "\n",
    "# Define function to calculate 1 - specificity. (False positive rate.)\n",
    "def FPR(df, true_col, pred_prob_col, threshold):\n",
    "    true_negative = df[(df[true_col] == 0) & (df[pred_prob_col] <= threshold)].shape[0]\n",
    "    false_positive = df[(df[true_col] == 0) & (df[pred_prob_col] > threshold)].shape[0]\n",
    "    return 1 - (true_negative / (true_negative + false_positive))"
   ]
  },
  {
   "cell_type": "code",
   "execution_count": 32,
   "metadata": {},
   "outputs": [],
   "source": [
    "# function to plot ROC AUC curve\n",
    "# modified code from Tim Book\n",
    "\n",
    "def roc_auc(X, y, estimator):\n",
    "    \n",
    "    # Create figure.\n",
    "    plt.figure(figsize = (12,10))\n",
    "    \n",
    "    # calculate predicted probabilities\n",
    "    pred_proba = [i[1] for i in estimator.predict_proba(X)]\n",
    "\n",
    "    pred_df = pd.DataFrame({'true_values': y,\n",
    "                            'pred_probs':pred_proba})\n",
    "\n",
    "    # Calculate sensitivity & 1-specificity for each threshold between 0 and 1.\n",
    "    tpr_values = [TPR(pred_df, 'true_values', 'pred_probs', prob) for prob in thresholds]\n",
    "    fpr_values = [FPR(pred_df, 'true_values', 'pred_probs', prob) for prob in thresholds]\n",
    "\n",
    "    # Plot ROC curve.\n",
    "    plt.plot(fpr_values, # False Positive Rate on X-axis\n",
    "             tpr_values, # True Positive Rate on Y-axis\n",
    "             label='ROC Curve')\n",
    "\n",
    "    # Plot baseline. (Perfect overlap between the two populations.)\n",
    "    plt.plot(np.linspace(0, 1, 200),\n",
    "             np.linspace(0, 1, 200),\n",
    "             label='baseline',\n",
    "             linestyle='--')\n",
    "\n",
    "    # Label axes.\n",
    "    plt.title(f'ROC Curve with AUC = {roc_auc_score(y, estimator.predict(X))}', fontsize=22)\n",
    "    plt.ylabel('Sensitivity', fontsize=18)\n",
    "    plt.xlabel('1 - Specificity', fontsize=18)\n",
    "\n",
    "    # Create legend.\n",
    "    plt.legend(fontsize=16);"
   ]
  },
  {
   "cell_type": "markdown",
   "metadata": {},
   "source": [
    "## Logistic Regression with Count Vectorizor\n",
    "\n",
    "We chose to use a Logistic Regression model with a Count Vectorizor due to the lightweight nature of the algorithm and the interpretability of the model and the vectorizor.\n",
    "\n",
    "Not surprisingly, this model scored very well due to somewhat recursive classification. The model fit on training and testing data had an *r2* score of about 99.9%, ROC AUC of 98.72%, and minimal false positives."
   ]
  },
  {
   "cell_type": "code",
   "execution_count": 33,
   "metadata": {
    "scrolled": true
   },
   "outputs": [
    {
     "name": "stdout",
     "output_type": "stream",
     "text": [
      "Fitting 3 folds for each of 1 candidates, totalling 3 fits\n"
     ]
    },
    {
     "name": "stderr",
     "output_type": "stream",
     "text": [
      "[Parallel(n_jobs=-1)]: Using backend LokyBackend with 12 concurrent workers.\n",
      "[Parallel(n_jobs=-1)]: Done   3 out of   3 | elapsed:    1.7s finished\n",
      "C:\\Users\\templ\\Anaconda3\\envs\\dsi\\lib\\site-packages\\sklearn\\linear_model\\logistic.py:432: FutureWarning: Default solver will be changed to 'lbfgs' in 0.22. Specify a solver to silence this warning.\n",
      "  FutureWarning)\n"
     ]
    },
    {
     "name": "stdout",
     "output_type": "stream",
     "text": [
      "For model: lr\n",
      "--------------------------------------------------------------------------------\n",
      "The best parameters are: \n",
      " {'lr__C': 1.0, 'lr__penalty': 'l1', 'vec__max_df': 0.95, 'vec__max_features': 500, 'vec__min_df': 0.01, 'vec__ngram_range': (1, 3), 'vec__stop_words': 'english'}\n",
      "--------------------------------------------------------------------------------\n",
      "The best score is: \n",
      " 0.9986\n",
      "--------------------------------------------------------------------------------\n",
      "Train set Score: \n",
      " 0.9991663238120161\n",
      "Test set Score: \n",
      " 0.9990230584376785\n"
     ]
    }
   ],
   "source": [
    "# create model using grisearch function\n",
    "lr_cvec = model_fit_score(X_train, \n",
    "                          y_train, \n",
    "                          'vec', CountVectorizer(), \n",
    "                          'lr', LogisticRegression(),\n",
    "                          parameters = {**params_vec, **params_lr})\n",
    "\n",
    "# save the model to disk\n",
    "filename = '../data/Models/lr_cvec_07302019.sav'\n",
    "pickle.dump(lr_cvec, open(filename, 'wb'))\n",
    "\n",
    "# Print Training and Test scores \n",
    "print(f\"Train set Score: \\n {lr_cvec.score(X_train, y_train)}\")\n",
    "print(f\"Test set Score: \\n {lr_cvec.score(X_test, y_test)}\")"
   ]
  },
  {
   "cell_type": "code",
   "execution_count": 34,
   "metadata": {
    "scrolled": false
   },
   "outputs": [
    {
     "name": "stdout",
     "output_type": "stream",
     "text": [
      "Train Score: 0.9909645232815965\n",
      "Test Score: 0.990189557698703\n"
     ]
    }
   ],
   "source": [
    "# run logistic regression model based on the gridsearch\n",
    "# Instantiate the classifier and vectorizer\n",
    "lr = LogisticRegression(C = 1.0, solver='liblinear')\n",
    "cvec = CountVectorizer(ngram_range=(1, 3), max_df= 0.95, max_features= 500, min_df = 0.01, stop_words= None)\n",
    "\n",
    "# Fit and transform the vectorizor\n",
    "cvec.fit(X_train)\n",
    "\n",
    "cvec_train = cvec.transform(X_train)\n",
    "cvec_test = cvec.transform(X_test)\n",
    "\n",
    "# Fit the classifier\n",
    "lr.fit(cvec_train,y_train)\n",
    "\n",
    "# Create the predictions for Y training data\n",
    "y_pred = lr.predict(cvec_test)\n",
    "\n",
    "print(f'Train Score: {lr.score(cvec_train, y_train)}')\n",
    "print(f'Test Score: {lr.score(cvec_test, y_test)}')"
   ]
  },
  {
   "cell_type": "code",
   "execution_count": 35,
   "metadata": {
    "scrolled": false
   },
   "outputs": [
    {
     "name": "stdout",
     "output_type": "stream",
     "text": [
      "Confusion matrix, without normalization\n",
      "[[2663   28]\n",
      " [  50 3273]]\n"
     ]
    },
    {
     "data": {
      "image/png": "[encoded data removed]",
      "text/plain": [
       "<Figure size 432x288 with 2 Axes>"
      ]
     },
     "metadata": {
      "needs_background": "light"
     },
     "output_type": "display_data"
    }
   ],
   "source": [
    "# set decimal places for numpy functions\n",
    "np.set_printoptions(precision=2)\n",
    "\n",
    "#define class names\n",
    "class_names=np.array(['Road Closed', 'Road Cleared'])\n",
    "\n",
    "# generate predictions\n",
    "y_pred = lr_cvec.predict(X_test)\n",
    "\n",
    "# Plot non-normalized confusion matrix\n",
    "plot_confusion_matrix(y_test, y_pred, classes=class_names,\n",
    "                      title='Confusion matrix, without normalization',\n",
    "                     cmap='YlGnBu')\n",
    "\n",
    "\n",
    "plt.show();"
   ]
  },
  {
   "cell_type": "code",
   "execution_count": 36,
   "metadata": {
    "scrolled": false
   },
   "outputs": [
    {
     "data": {
      "image/png": "[encoded data removed]",
      "text/plain": [
       "<Figure size 576x432 with 1 Axes>"
      ]
     },
     "metadata": {
      "needs_background": "light"
     },
     "output_type": "display_data"
    }
   ],
   "source": [
    "# run regression coeficient plot\n",
    "regression_coef_plot(lr, cvec)"
   ]
  },
  {
   "cell_type": "code",
   "execution_count": 37,
   "metadata": {},
   "outputs": [
    {
     "data": {
      "image/png": "[encoded data removed]",
      "text/plain": [
       "<Figure size 864x720 with 1 Axes>"
      ]
     },
     "metadata": {
      "needs_background": "light"
     },
     "output_type": "display_data"
    }
   ],
   "source": [
    "# run AUC ROC curve function\n",
    "roc_auc(X_test, y_test, lr_cvec)"
   ]
  },
  {
   "cell_type": "markdown",
   "metadata": {},
   "source": [
    "## TF-IDF and Gradient Boosting\n",
    "\n",
    "To add complexitity and to potentially increase accuracy, we chose to also use a TF-IDF Vectorizor with a Gradient Boost model as wekk.\n",
    "\n",
    "Like the Logistic Regression model, this model scored very well due to being run on top of keyword classification. The model fit on training and testing data had an *r2* score of about 99.8%, ROC AUC of 99.39%, and minimal false positives."
   ]
  },
  {
   "cell_type": "code",
   "execution_count": 38,
   "metadata": {
    "scrolled": true
   },
   "outputs": [
    {
     "name": "stdout",
     "output_type": "stream",
     "text": [
      "Fitting 3 folds for each of 1 candidates, totalling 3 fits\n"
     ]
    },
    {
     "name": "stderr",
     "output_type": "stream",
     "text": [
      "[Parallel(n_jobs=-1)]: Using backend LokyBackend with 12 concurrent workers.\n",
      "[Parallel(n_jobs=-1)]: Done   3 out of   3 | elapsed:   12.5s finished\n"
     ]
    },
    {
     "name": "stdout",
     "output_type": "stream",
     "text": [
      "For model: gb\n",
      "--------------------------------------------------------------------------------\n",
      "The best parameters are: \n",
      " {'gb__learning_rate': 0.1, 'gb__max_depth': 5, 'gb__min_samples_leaf': 1, 'gb__min_samples_split': 2, 'gb__n_estimators': 200, 'vec__max_df': 0.95, 'vec__max_features': 500, 'vec__min_df': 0.01, 'vec__ngram_range': (1, 3), 'vec__stop_words': 'english'}\n",
      "--------------------------------------------------------------------------------\n",
      "The best score is: \n",
      " 0.9986\n",
      "--------------------------------------------------------------------------------\n",
      "Train set Score: \n",
      " 0.9999377840606293\n",
      "Test set Score: \n",
      " 0.9996356598431726\n"
     ]
    }
   ],
   "source": [
    "# run gridsearch function\n",
    "gb_tvec = model_fit_score(X_train, y_train,         \n",
    "                vect_name = 'vec',\n",
    "                vect_type = TfidfVectorizer(),               \n",
    "                model_name ='gb',          \n",
    "                model_type = GradientBoostingClassifier(),\n",
    "                parameters = {**params_vec, **params_gb})\n",
    "\n",
    "# save the model to disk\n",
    "filename = '../data/Models/gb_tvec_07302019.sav'\n",
    "pickle.dump(gb_tvec, open(filename, 'wb'))\n",
    "\n",
    "# Print Training and Test scores \n",
    "print(f\"Train set Score: \\n {gb_tvec.score(X_train, y_train)}\")\n",
    "print(f\"Test set Score: \\n {gb_tvec.score(X_test, y_test)}\")"
   ]
  },
  {
   "cell_type": "code",
   "execution_count": 39,
   "metadata": {
    "scrolled": true
   },
   "outputs": [
    {
     "name": "stdout",
     "output_type": "stream",
     "text": [
      "Confusion matrix, without normalization\n",
      "[[2686    5]\n",
      " [  34 3289]]\n"
     ]
    },
    {
     "data": {
      "image/png": "[encoded data removed]",
      "text/plain": [
       "<Figure size 432x288 with 2 Axes>"
      ]
     },
     "metadata": {
      "needs_background": "light"
     },
     "output_type": "display_data"
    }
   ],
   "source": [
    "# generate predictions\n",
    "y_pred = gb_tvec.predict(X_test)\n",
    "\n",
    "# Plot non-normalized confusion matrix\n",
    "plot_confusion_matrix(y_test, y_pred, classes=class_names,\n",
    "                      title='Confusion matrix, without normalization',\n",
    "                     cmap='YlGnBu')\n",
    "\n",
    "\n",
    "plt.show();"
   ]
  },
  {
   "cell_type": "code",
   "execution_count": 40,
   "metadata": {},
   "outputs": [
    {
     "name": "stdout",
     "output_type": "stream",
     "text": [
      "Train Score: 0.9983924611973393\n",
      "Test Score: 0.9946790821416694\n"
     ]
    }
   ],
   "source": [
    "# run gradient boosting classifier based on the gridsearch\n",
    "# Instantiate the classifier and vectorizer\n",
    "gb = GradientBoostingClassifier(learning_rate = 0.1, max_depth = 5, \n",
    "                                min_samples_leaf = 1, min_samples_split = 2, \n",
    "                                n_estimators = 200)\n",
    "tvec = TfidfVectorizer(ngram_range=(1, 3), max_df= 0.95, max_features= 500, min_df = 0.01, stop_words= 'english')\n",
    "\n",
    "# Fit and transform the vectorizor\n",
    "tvec.fit(X_train)\n",
    "\n",
    "tvec_train = cvec.transform(X_train)\n",
    "tvec_test = cvec.transform(X_test)\n",
    "\n",
    "# Fit the classifier\n",
    "gb.fit(tvec_train, y_train)\n",
    "\n",
    "# Create the predictions for Y training data\n",
    "y_pred = gb.predict(tvec_test)\n",
    "\n",
    "print(f'Train Score: {gb.score(tvec_train, y_train)}')\n",
    "print(f'Test Score: {gb.score(tvec_test, y_test)}')"
   ]
  },
  {
   "cell_type": "code",
   "execution_count": 41,
   "metadata": {
    "scrolled": false
   },
   "outputs": [
    {
     "data": {
      "image/png": "[encoded data removed]",
      "text/plain": [
       "<Figure size 864x720 with 1 Axes>"
      ]
     },
     "metadata": {
      "needs_background": "light"
     },
     "output_type": "display_data"
    }
   ],
   "source": [
    "# run AUC ROC curve function\n",
    "roc_auc(X_test, y_test, gb_tvec)"
   ]
  },
  {
   "cell_type": "markdown",
   "metadata": {},
   "source": [
    "## Export Training Dataframe"
   ]
  },
  {
   "cell_type": "code",
   "execution_count": 42,
   "metadata": {
    "scrolled": false
   },
   "outputs": [
    {
     "data": {
      "text/html": [
       "<div>\n",
       "<style scoped>\n",
       "    .dataframe tbody tr th:only-of-type {\n",
       "        vertical-align: middle;\n",
       "    }\n",
       "\n",
       "    .dataframe tbody tr th {\n",
       "        vertical-align: top;\n",
       "    }\n",
       "\n",
       "    .dataframe thead th {\n",
       "        text-align: right;\n",
       "    }\n",
       "</style>\n",
       "<table border=\"1\" class=\"dataframe\">\n",
       "  <thead>\n",
       "    <tr style=\"text-align: right;\">\n",
       "      <th></th>\n",
       "      <th>date</th>\n",
       "      <th>geo</th>\n",
       "      <th>hashtags</th>\n",
       "      <th>id</th>\n",
       "      <th>text</th>\n",
       "      <th>type</th>\n",
       "      <th>username</th>\n",
       "      <th>state</th>\n",
       "      <th>tweet</th>\n",
       "      <th>road_closure</th>\n",
       "    </tr>\n",
       "  </thead>\n",
       "  <tbody>\n",
       "    <tr>\n",
       "      <th>0</th>\n",
       "      <td>2016-10-11 16:39:51+00:00</td>\n",
       "      <td>NaN</td>\n",
       "      <td>NaN</td>\n",
       "      <td>785882618852147201</td>\n",
       "      <td>the pioh for the sr 138 i-20 is going on now until 8   – at american legion post 77</td>\n",
       "      <td>official</td>\n",
       "      <td>GDOTATL</td>\n",
       "      <td>Georgia</td>\n",
       "      <td>The PIOH for the SR 138 I-20 is going on now until 8   – at American Legion Post 77</td>\n",
       "      <td>0</td>\n",
       "    </tr>\n",
       "    <tr>\n",
       "      <th>1</th>\n",
       "      <td>2016-10-10 19:10:23+00:00</td>\n",
       "      <td>NaN</td>\n",
       "      <td>NaN</td>\n",
       "      <td>785558112682053632</td>\n",
       "      <td>we appreciate all the hard work our crews have done the last few days  they were incredibly dedicated to getting you home safe  pc</td>\n",
       "      <td>official</td>\n",
       "      <td>GDOTATL</td>\n",
       "      <td>Georgia</td>\n",
       "      <td>We appreciate all the hard work our crews have done the last few days  They were incredibly dedicated to getting you home safe  PC</td>\n",
       "      <td>0</td>\n",
       "    </tr>\n",
       "    <tr>\n",
       "      <th>2</th>\n",
       "      <td>2016-10-09 17:30:22+00:00</td>\n",
       "      <td>NaN</td>\n",
       "      <td>NaN</td>\n",
       "      <td>785170555456647168</td>\n",
       "      <td>need info on re-entry  check here  also follow our partners   511georgia</td>\n",
       "      <td>official</td>\n",
       "      <td>GDOTATL</td>\n",
       "      <td>Georgia</td>\n",
       "      <td>Need info on re-entry  Check here  Also follow our partners   511Georgia</td>\n",
       "      <td>0</td>\n",
       "    </tr>\n",
       "    <tr>\n",
       "      <th>3</th>\n",
       "      <td>2016-10-09 15:45:11+00:00</td>\n",
       "      <td>NaN</td>\n",
       "      <td>NaN</td>\n",
       "      <td>785144083685793792</td>\n",
       "      <td>do you need some updates  you can find all of them right here</td>\n",
       "      <td>official</td>\n",
       "      <td>GDOTATL</td>\n",
       "      <td>Georgia</td>\n",
       "      <td>Do you need some updates  You can find ALL of them right here</td>\n",
       "      <td>0</td>\n",
       "    </tr>\n",
       "    <tr>\n",
       "      <th>4</th>\n",
       "      <td>2016-10-09 14:00:20+00:00</td>\n",
       "      <td>NaN</td>\n",
       "      <td>NaN</td>\n",
       "      <td>785117697583427585</td>\n",
       "      <td>did you know that the  511georgia website and app can give you details on road closures</td>\n",
       "      <td>official</td>\n",
       "      <td>GDOTATL</td>\n",
       "      <td>Georgia</td>\n",
       "      <td>Did you know that the  511Georgia website and app can give you details on road closures</td>\n",
       "      <td>1</td>\n",
       "    </tr>\n",
       "  </tbody>\n",
       "</table>\n",
       "</div>"
      ],
      "text/plain": [
       "                        date  geo hashtags                  id  \\\n",
       "0  2016-10-11 16:39:51+00:00 NaN   NaN      785882618852147201   \n",
       "1  2016-10-10 19:10:23+00:00 NaN   NaN      785558112682053632   \n",
       "2  2016-10-09 17:30:22+00:00 NaN   NaN      785170555456647168   \n",
       "3  2016-10-09 15:45:11+00:00 NaN   NaN      785144083685793792   \n",
       "4  2016-10-09 14:00:20+00:00 NaN   NaN      785117697583427585   \n",
       "\n",
       "                                                                                                                                    text  \\\n",
       "0  the pioh for the sr 138 i-20 is going on now until 8   – at american legion post 77                                                     \n",
       "1  we appreciate all the hard work our crews have done the last few days  they were incredibly dedicated to getting you home safe  pc      \n",
       "2  need info on re-entry  check here  also follow our partners   511georgia                                                                \n",
       "3  do you need some updates  you can find all of them right here                                                                           \n",
       "4  did you know that the  511georgia website and app can give you details on road closures                                                 \n",
       "\n",
       "       type username    state  \\\n",
       "0  official  GDOTATL  Georgia   \n",
       "1  official  GDOTATL  Georgia   \n",
       "2  official  GDOTATL  Georgia   \n",
       "3  official  GDOTATL  Georgia   \n",
       "4  official  GDOTATL  Georgia   \n",
       "\n",
       "                                                                                                                                   tweet  \\\n",
       "0  The PIOH for the SR 138 I-20 is going on now until 8   – at American Legion Post 77                                                     \n",
       "1  We appreciate all the hard work our crews have done the last few days  They were incredibly dedicated to getting you home safe  PC      \n",
       "2  Need info on re-entry  Check here  Also follow our partners   511Georgia                                                                \n",
       "3  Do you need some updates  You can find ALL of them right here                                                                           \n",
       "4  Did you know that the  511Georgia website and app can give you details on road closures                                                 \n",
       "\n",
       "   road_closure  \n",
       "0  0             \n",
       "1  0             \n",
       "2  0             \n",
       "3  0             \n",
       "4  1             "
      ]
     },
     "execution_count": 42,
     "metadata": {},
     "output_type": "execute_result"
    }
   ],
   "source": [
    "tweets_training.head()"
   ]
  },
  {
   "cell_type": "code",
   "execution_count": 43,
   "metadata": {},
   "outputs": [],
   "source": [
    "tweets_training.to_csv('../data/cleaned_tweets/cleaned_historic_official_07312019.csv', index = False)"
   ]
  }
 ],
 "metadata": {
  "kernelspec": {
   "display_name": "Python 3",
   "language": "python",
   "name": "python3"
  },
  "language_info": {
   "codemirror_mode": {
    "name": "ipython",
    "version": 3
   },
   "file_extension": ".py",
   "mimetype": "text/x-python",
   "name": "python",
   "nbconvert_exporter": "python",
   "pygments_lexer": "ipython3",
   "version": "3.7.3"
  },
  "toc": {
   "base_numbering": 1,
   "nav_menu": {},
   "number_sections": true,
   "sideBar": true,
   "skip_h1_title": false,
   "title_cell": "Table of Contents",
   "title_sidebar": "Contents",
   "toc_cell": false,
   "toc_position": {},
   "toc_section_display": true,
   "toc_window_display": false
  }
 },
 "nbformat": 4,
 "nbformat_minor": 2
}
