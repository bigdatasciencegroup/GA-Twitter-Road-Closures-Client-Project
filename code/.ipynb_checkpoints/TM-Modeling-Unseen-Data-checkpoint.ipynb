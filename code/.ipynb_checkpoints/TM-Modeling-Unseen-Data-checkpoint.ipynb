{
 "cells": [
  {
   "cell_type": "markdown",
   "metadata": {},
   "source": [
    "# 2b. Supervised Model on Unseen Data"
   ]
  },
  {
   "cell_type": "markdown",
   "metadata": {},
   "source": [
    "### Goal: Classify real-time tweets from blue-checkmarked Twitter accounts\n",
    "\n",
    "Like the models trained on historical Tweets, we use list of terms correlated with road closures. The real time tweets are then classified and evaluated using the models trained on the historical tweets. To confrim the effectiveness of the models, we also generate predictions using the models and compare to the keyword classified target variable.\n",
    "\n",
    "The real time tweets are taken from a curated list of traffic and weather reports from Jacksonville, FL."
   ]
  },
  {
   "cell_type": "markdown",
   "metadata": {},
   "source": [
    "- [**Import Libraries**](#Import-Libraries)\n",
    "- [**EDA and Preprocessing**](#Exploratory-Data-Analysis-and-Preproccessing)\n",
    "  - [Import Real Time Tweets](#Import-Real-Time-Tweets)\n",
    "  - [Bar Plot](#Bar-Plot-Function)\n",
    "  - [Regex Filter](#Regex-Text-Filter)\n",
    "  - [Keyword Classification](#Keyword-Classification)\n",
    "  - [Classification Evaluation](#Classification-Evaluation)\n",
    "- [**Modeling**](#Modeling)\n",
    "  - [Confusion Matrix Function](#Confusion-Matrix-Function)\n",
    "  - [Regression Coefficient Plot Function](#Regression-Coefficient-Plot-Function)\n",
    "  - [ROC AUC Plot Function](#ROC-AUC-Plot-Function)\n",
    "  - [Logistic Regression with Count Vectorizer](#Logistic-Regression-with-Count-Vectorizer)\n",
    "  - [TF-IDF Vectorizer and Gradient Boost](#TF-IDF-and-Gradient-Boosting)\n",
    "- [**Modeling Unseen Data without Keyword Classification**](#Modeling-Unseen-Data-without-Keyword-Classification)\n",
    "  - [Logistic Regression with Count Vectorizer](#Logistic-Regression-with-Count-Vectorizer)\n",
    "  - [TF-IDF Vectorizer and Gradient Boost](#TF-IDF-and-Gradient-Boosting)\n",
    "  - [Evaluation](#Evaluation)"
   ]
  },
  {
   "cell_type": "markdown",
   "metadata": {},
   "source": [
    "## Import Libraries"
   ]
  },
  {
   "cell_type": "code",
   "execution_count": 1,
   "metadata": {},
   "outputs": [
    {
     "name": "stderr",
     "output_type": "stream",
     "text": [
      "/anaconda3/envs/dsi/lib/python3.7/site-packages/sklearn/externals/joblib/__init__.py:15: DeprecationWarning: sklearn.externals.joblib is deprecated in 0.21 and will be removed in 0.23. Please import this functionality directly from joblib, which can be installed with: pip install joblib. If this warning is raised when loading pickled models, you may need to re-serialize those models with scikit-learn 0.21+.\n",
      "  warnings.warn(msg, category=DeprecationWarning)\n"
     ]
    }
   ],
   "source": [
    "import pandas as pd\n",
    "import matplotlib.pyplot as plt\n",
    "import seaborn as sns\n",
    "import numpy as np\n",
    "\n",
    "import re\n",
    "import pickle\n",
    "\n",
    "from sklearn.feature_extraction import stop_words\n",
    "from sklearn.feature_extraction.text import CountVectorizer, TfidfVectorizer\n",
    "from sklearn import metrics\n",
    "from sklearn.utils.multiclass import unique_labels\n",
    "from sklearn.externals import joblib\n",
    "\n",
    "from sklearn.linear_model import LogisticRegression\n",
    "from sklearn.model_selection import train_test_split, GridSearchCV\n",
    "from sklearn.pipeline import Pipeline\n",
    "from sklearn.ensemble import GradientBoostingClassifier\n",
    "from sklearn.metrics import accuracy_score, recall_score, precision_score, confusion_matrix, roc_auc_score\n",
    "\n",
    "pd.set_option('display.max_colwidth', -1)"
   ]
  },
  {
   "cell_type": "markdown",
   "metadata": {},
   "source": [
    "## Exploratory Data Analysis and Preproccessing"
   ]
  },
  {
   "cell_type": "markdown",
   "metadata": {},
   "source": [
    "#### Import Real Time Tweets"
   ]
  },
  {
   "cell_type": "code",
   "execution_count": 2,
   "metadata": {},
   "outputs": [],
   "source": [
    "# import tweets\n",
    "tweets = pd.read_csv(\"../data/Current_Tweets/RT_tweets_official_07312019.csv\")"
   ]
  },
  {
   "cell_type": "code",
   "execution_count": 3,
   "metadata": {
    "scrolled": true
   },
   "outputs": [
    {
     "data": {
      "text/html": [
       "<div>\n",
       "<style scoped>\n",
       "    .dataframe tbody tr th:only-of-type {\n",
       "        vertical-align: middle;\n",
       "    }\n",
       "\n",
       "    .dataframe tbody tr th {\n",
       "        vertical-align: top;\n",
       "    }\n",
       "\n",
       "    .dataframe thead th {\n",
       "        text-align: right;\n",
       "    }\n",
       "</style>\n",
       "<table border=\"1\" class=\"dataframe\">\n",
       "  <thead>\n",
       "    <tr style=\"text-align: right;\">\n",
       "      <th></th>\n",
       "      <th>date</th>\n",
       "      <th>geo</th>\n",
       "      <th>hashtags</th>\n",
       "      <th>id</th>\n",
       "      <th>text</th>\n",
       "      <th>type</th>\n",
       "      <th>username</th>\n",
       "    </tr>\n",
       "  </thead>\n",
       "  <tbody>\n",
       "    <tr>\n",
       "      <th>0</th>\n",
       "      <td>2019-07-31 19:57:12</td>\n",
       "      <td>NaN</td>\n",
       "      <td>[]</td>\n",
       "      <td>1156655067535224832</td>\n",
       "      <td>Updated: Disabled vehicle in Duval on I-295 E south at Dames Point, right lane blocked. Last updated at 03:56:35PM. https://t.co/qr0qEpEDg8</td>\n",
       "      <td>official</td>\n",
       "      <td>fl511_northeast</td>\n",
       "    </tr>\n",
       "    <tr>\n",
       "      <th>1</th>\n",
       "      <td>2019-07-31 19:53:12</td>\n",
       "      <td>NaN</td>\n",
       "      <td>[]</td>\n",
       "      <td>1156654059790712835</td>\n",
       "      <td>Updated: Disabled vehicle in Duval on I-295 E south at Dames Point, 2 right lanes blocked. Last updated at...https://t.co/qr0qEpEDg8</td>\n",
       "      <td>official</td>\n",
       "      <td>fl511_northeast</td>\n",
       "    </tr>\n",
       "    <tr>\n",
       "      <th>2</th>\n",
       "      <td>2019-07-31 19:49:14</td>\n",
       "      <td>NaN</td>\n",
       "      <td>[]</td>\n",
       "      <td>1156653061533851649</td>\n",
       "      <td>Updated: Disabled vehicle in Duval on I-295 E south at Dames Point, right lane blocked. Last updated at 03:48:15PM. https://t.co/qr0qEpEDg8</td>\n",
       "      <td>official</td>\n",
       "      <td>fl511_northeast</td>\n",
       "    </tr>\n",
       "    <tr>\n",
       "      <th>3</th>\n",
       "      <td>2019-07-31 19:34:13</td>\n",
       "      <td>NaN</td>\n",
       "      <td>[]</td>\n",
       "      <td>1156649282281332739</td>\n",
       "      <td>Cleared: Planned construction in Duval on SR-105 / Heckscher Dr east at Imeson Park Blvd, right lane blocked. Last updated at 08:46:53AM.</td>\n",
       "      <td>official</td>\n",
       "      <td>fl511_northeast</td>\n",
       "    </tr>\n",
       "    <tr>\n",
       "      <th>4</th>\n",
       "      <td>2019-07-31 19:34:12</td>\n",
       "      <td>NaN</td>\n",
       "      <td>[]</td>\n",
       "      <td>1156649281400520705</td>\n",
       "      <td>Cleared: Planned construction in Duval on SR-105 / Heckscher Dr west at Imeson Park Blvd, right lane blocked. Last updated at 08:48:11AM.</td>\n",
       "      <td>official</td>\n",
       "      <td>fl511_northeast</td>\n",
       "    </tr>\n",
       "  </tbody>\n",
       "</table>\n",
       "</div>"
      ],
      "text/plain": [
       "                  date  geo hashtags                   id  \\\n",
       "0  2019-07-31 19:57:12 NaN   []       1156655067535224832   \n",
       "1  2019-07-31 19:53:12 NaN   []       1156654059790712835   \n",
       "2  2019-07-31 19:49:14 NaN   []       1156653061533851649   \n",
       "3  2019-07-31 19:34:13 NaN   []       1156649282281332739   \n",
       "4  2019-07-31 19:34:12 NaN   []       1156649281400520705   \n",
       "\n",
       "                                                                                                                                          text  \\\n",
       "0  Updated: Disabled vehicle in Duval on I-295 E south at Dames Point, right lane blocked. Last updated at 03:56:35PM. https://t.co/qr0qEpEDg8   \n",
       "1  Updated: Disabled vehicle in Duval on I-295 E south at Dames Point, 2 right lanes blocked. Last updated at...https://t.co/qr0qEpEDg8          \n",
       "2  Updated: Disabled vehicle in Duval on I-295 E south at Dames Point, right lane blocked. Last updated at 03:48:15PM. https://t.co/qr0qEpEDg8   \n",
       "3  Cleared: Planned construction in Duval on SR-105 / Heckscher Dr east at Imeson Park Blvd, right lane blocked. Last updated at 08:46:53AM.     \n",
       "4  Cleared: Planned construction in Duval on SR-105 / Heckscher Dr west at Imeson Park Blvd, right lane blocked. Last updated at 08:48:11AM.     \n",
       "\n",
       "       type         username  \n",
       "0  official  fl511_northeast  \n",
       "1  official  fl511_northeast  \n",
       "2  official  fl511_northeast  \n",
       "3  official  fl511_northeast  \n",
       "4  official  fl511_northeast  "
      ]
     },
     "execution_count": 3,
     "metadata": {},
     "output_type": "execute_result"
    }
   ],
   "source": [
    "tweets.head()"
   ]
  },
  {
   "cell_type": "code",
   "execution_count": 4,
   "metadata": {
    "scrolled": true
   },
   "outputs": [],
   "source": [
    "# all tweets taken realtime will be from accounts that primarily report on\n",
    "# traffic in jacksonville, fl, so state will be marked as Florida\n",
    "accounts = tweets['username'].unique()\n",
    "tweets['state'] = 'Florida'"
   ]
  },
  {
   "cell_type": "markdown",
   "metadata": {},
   "source": [
    "#### Bar Plot Function"
   ]
  },
  {
   "cell_type": "code",
   "execution_count": 5,
   "metadata": {},
   "outputs": [],
   "source": [
    "# define function to plot count of words after count vectorization\n",
    "# Code modified from http://robertmitchellv.com/blog-bar-chart-annotations-pandas-mpl.html\n",
    "def bar_plot(x, y, title, color):    \n",
    "    \n",
    "    # Set up barplot \n",
    "    plt.figure(figsize=(8,4))\n",
    "    ax = sns.barplot(x, y, color = color)\n",
    "\n",
    "    # Label the graph\n",
    "    plt.title(title, fontsize = 15)\n",
    "    plt.xticks(fontsize = 10)\n",
    "\n",
    "    # create a list to collect the plt.patches data\n",
    "    totals = []\n",
    "\n",
    "    # set individual bar lables using above list\n",
    "    for p in ax.patches:\n",
    "        # get_width pulls left or right; get_y pushes up or down\n",
    "        ax.text(p.get_width()+.3, p.get_y()+.38,\n",
    "                int(p.get_width()), fontsize=10)"
   ]
  },
  {
   "cell_type": "markdown",
   "metadata": {},
   "source": [
    "#### Regex Text Filter"
   ]
  },
  {
   "cell_type": "code",
   "execution_count": 6,
   "metadata": {},
   "outputs": [],
   "source": [
    "# define function to run regex startments over a column labeled \"text\"\n",
    "def twt_preprocess(twt):\n",
    "    # run regex to remove urls\n",
    "    twt['text'] = twt['text'].map(lambda x: re.sub(r\"((http|ftp|https):\\/\\/)?[\\w\\-_]+(\\.[\\w\\-_]+)+([\\w\\-\\.,@?^=%&amp;:/~\\+#]*[\\w\\-\\@?^=%&amp;/~\\+#])?\", ' ', x))\n",
    "\n",
    "    # run regex to remove non alphanumeric characters\n",
    "    twt['text'] = twt['text'].map(lambda x: re.sub(r\"[@\\?\\.$%_\\!\\[\\]()+:;\\/*\\\"]\", ' ', x, flags=re.I))\n",
    "    twt['text'] = twt['text'].map(lambda x: re.sub(r\"[,']\", '', x, flags=re.I))\n",
    "\n",
    "    # run regex to remove common words\n",
    "    twt['text'] = twt['text'].map(lambda x: re.sub('(twitter|tweet)[s]?', ' ', x,  flags=re.I))   \n",
    "    "
   ]
  },
  {
   "cell_type": "code",
   "execution_count": 7,
   "metadata": {},
   "outputs": [],
   "source": [
    "# run regex cleaner on full dataframe\n",
    "twt_preprocess(tweets)"
   ]
  },
  {
   "cell_type": "markdown",
   "metadata": {},
   "source": [
    "#### Keyword Classification\n",
    "\n",
    "We use the same three lists of words to classify whether Tweets are about road closures."
   ]
  },
  {
   "cell_type": "code",
   "execution_count": 8,
   "metadata": {},
   "outputs": [],
   "source": [
    "# establish lists of words to search for in dataframe\n",
    "\n",
    "# list of words having to do with roads\n",
    "road_keywords = ['road', 'st', 'rd', 'hwy', 'highway', 'ave', 'avenue',\n",
    "                 'intersection', 'bridge', 'sr-', 'cr-', 'us-', 'i-', 'blvd']\n",
    "\n",
    "# list of words associated with road closures\n",
    "closed_keywords = ['closed', 'remains closed', 'shut down', 'backed up',\n",
    "                   'no travel', 'delay', 'blocked', 'delays',\n",
    "                   'disabled', 'traffic', 'fire', 'flood', 'closures', 'closure']\n",
    "\n",
    "# list of words that would generate false positives\n",
    "to_drop = [\"open\", \"opened\", \"lifted\", \"reopened\", \"clear\", \"cleared\"]"
   ]
  },
  {
   "cell_type": "code",
   "execution_count": 9,
   "metadata": {},
   "outputs": [],
   "source": [
    "# define function to filter the full dataframe for tweets that contain words from a keyword list\n",
    "# modified code from arielle miro\n",
    "def tweet_filter (df, col, keywords, roads, dropwords):\n",
    "    \n",
    "    # create a new column in the given dataframe\n",
    "    # assign a value of 1 if any word in the text is in the keyword and road lists\n",
    "    # assign a value of 0 if any word in the test is in the drop words list\n",
    "    df['road_closure'] = df[col].map(lambda x: 1 if ((any(word in x for word in roads)) \n",
    "                                                     & (any(word in x for word in keywords)) \n",
    "                                                     & (not any(word in x for word in dropwords))) \n",
    "                                     else 0)   \n",
    "    return df['road_closure']"
   ]
  },
  {
   "cell_type": "code",
   "execution_count": 10,
   "metadata": {},
   "outputs": [],
   "source": [
    "# backup original tweet to new dataframe\n",
    "tweets['tweet'] = tweets['text']\n",
    "\n",
    "# make tweet text lowercase\n",
    "tweets['text'] = tweets['text'].str.lower()\n",
    "\n",
    "# run function on full dataframe\n",
    "tweets['road_closure'] = tweet_filter(tweets, 'text', closed_keywords, road_keywords, to_drop)"
   ]
  },
  {
   "cell_type": "code",
   "execution_count": 11,
   "metadata": {
    "scrolled": false
   },
   "outputs": [
    {
     "name": "stdout",
     "output_type": "stream",
     "text": [
      "(200, 10)\n"
     ]
    },
    {
     "data": {
      "text/plain": [
       "1    125\n",
       "0    75 \n",
       "Name: road_closure, dtype: int64"
      ]
     },
     "execution_count": 11,
     "metadata": {},
     "output_type": "execute_result"
    }
   ],
   "source": [
    "# check shape and classification values of tweets\n",
    "print(tweets.shape)\n",
    "tweets['road_closure'].value_counts()"
   ]
  },
  {
   "cell_type": "markdown",
   "metadata": {},
   "source": [
    "## Classification Evaluation"
   ]
  },
  {
   "cell_type": "code",
   "execution_count": 12,
   "metadata": {},
   "outputs": [],
   "source": [
    "# create a dataframe of only closures\n",
    "closed = tweets[tweets['road_closure'] == 1]"
   ]
  },
  {
   "cell_type": "code",
   "execution_count": 13,
   "metadata": {
    "scrolled": true
   },
   "outputs": [
    {
     "data": {
      "text/plain": [
       "fl511_northeast    119\n",
       "ActionTraffic      4  \n",
       "JFRDJAX            2  \n",
       "Name: username, dtype: int64"
      ]
     },
     "execution_count": 13,
     "metadata": {},
     "output_type": "execute_result"
    }
   ],
   "source": [
    "# find which accounts had information about road closures\n",
    "closed['username'].value_counts()"
   ]
  },
  {
   "cell_type": "code",
   "execution_count": 14,
   "metadata": {},
   "outputs": [
    {
     "name": "stdout",
     "output_type": "stream",
     "text": [
      "(125, 227)\n"
     ]
    }
   ],
   "source": [
    "# Instantiate a CountVectorizer\n",
    "cv = CountVectorizer(stop_words = 'english')\n",
    "\n",
    "# Fit and transform the vectorizer on our corpus\n",
    "cvec = cv.fit_transform(closed['text'])\n",
    "\n",
    "# Convert cvec into a DataFrame\n",
    "tweets_cvec = pd.DataFrame(cvec.toarray(),\n",
    "                   columns=cv.get_feature_names())\n",
    "\n",
    "# Inspect new DF\n",
    "print(tweets_cvec.shape)"
   ]
  },
  {
   "cell_type": "code",
   "execution_count": 15,
   "metadata": {
    "scrolled": false
   },
   "outputs": [
    {
     "data": {
      "image/png": "[encoded data removed]",
      "text/plain": [
       "<Figure size 576x288 with 1 Axes>"
      ]
     },
     "metadata": {
      "needs_background": "light"
     },
     "output_type": "display_data"
    }
   ],
   "source": [
    "# Set up variables to contain top 5 most used words \n",
    "wc1_tweets_cvec = tweets_cvec.sum(axis = 0).sort_values(ascending=False).head(6)\n",
    "\n",
    "# Call bar plot function\n",
    "bar_plot(wc1_tweets_cvec.values, wc1_tweets_cvec.index, 'Top 6 unigrams from alerts that confirm road closures','r')"
   ]
  },
  {
   "cell_type": "markdown",
   "metadata": {},
   "source": [
    "#### Create Dataframe of Tweets that do not mention closures"
   ]
  },
  {
   "cell_type": "code",
   "execution_count": 16,
   "metadata": {},
   "outputs": [
    {
     "data": {
      "text/plain": [
       "(75, 10)"
      ]
     },
     "execution_count": 16,
     "metadata": {},
     "output_type": "execute_result"
    }
   ],
   "source": [
    "# Remove all road closure tweets from full dataframe\n",
    "tweets_open = tweets[tweets['road_closure'] == 0]\n",
    "\n",
    "# Shape\n",
    "tweets_open.shape"
   ]
  },
  {
   "cell_type": "code",
   "execution_count": 17,
   "metadata": {},
   "outputs": [
    {
     "name": "stdout",
     "output_type": "stream",
     "text": [
      "(75, 331)\n"
     ]
    }
   ],
   "source": [
    "# Instantiate a CountVectorizer\n",
    "cv = CountVectorizer(stop_words = 'english')\n",
    "\n",
    "# Fit and transform the vectorizer on our corpus\n",
    "cvec = cv.fit_transform(tweets_open['text'])\n",
    "\n",
    "# Convert cvec into a DataFrame\n",
    "tweets_cvec = pd.DataFrame(cvec.toarray(),\n",
    "                   columns=cv.get_feature_names())\n",
    "\n",
    "# Inspect new DF\n",
    "print(tweets_cvec.shape)"
   ]
  },
  {
   "cell_type": "code",
   "execution_count": 18,
   "metadata": {
    "scrolled": false
   },
   "outputs": [
    {
     "data": {
      "image/png": "[encoded data removed]",
      "text/plain": [
       "<Figure size 576x288 with 1 Axes>"
      ]
     },
     "metadata": {
      "needs_background": "light"
     },
     "output_type": "display_data"
    }
   ],
   "source": [
    "# Set up variables to contain top 5 most used words \n",
    "wc1_tweets_cvec = tweets_cvec.sum(axis = 0).sort_values(ascending=False).head(6)\n",
    "\n",
    "# Call bar plot function\n",
    "bar_plot(wc1_tweets_cvec.values, wc1_tweets_cvec.index, 'Top 6 unigrams from tweets that are not about road closures','b')"
   ]
  },
  {
   "cell_type": "markdown",
   "metadata": {},
   "source": [
    "#### Create Training Dataframe"
   ]
  },
  {
   "cell_type": "code",
   "execution_count": 19,
   "metadata": {},
   "outputs": [
    {
     "data": {
      "text/plain": [
       "(200, 10)"
      ]
     },
     "execution_count": 19,
     "metadata": {},
     "output_type": "execute_result"
    }
   ],
   "source": [
    "# copy dataframe\n",
    "tweets_training = tweets\n",
    "tweets_training.shape"
   ]
  },
  {
   "cell_type": "code",
   "execution_count": 20,
   "metadata": {
    "scrolled": false
   },
   "outputs": [
    {
     "data": {
      "text/html": [
       "<div>\n",
       "<style scoped>\n",
       "    .dataframe tbody tr th:only-of-type {\n",
       "        vertical-align: middle;\n",
       "    }\n",
       "\n",
       "    .dataframe tbody tr th {\n",
       "        vertical-align: top;\n",
       "    }\n",
       "\n",
       "    .dataframe thead th {\n",
       "        text-align: right;\n",
       "    }\n",
       "</style>\n",
       "<table border=\"1\" class=\"dataframe\">\n",
       "  <thead>\n",
       "    <tr style=\"text-align: right;\">\n",
       "      <th></th>\n",
       "      <th>date</th>\n",
       "      <th>geo</th>\n",
       "      <th>hashtags</th>\n",
       "      <th>id</th>\n",
       "      <th>text</th>\n",
       "      <th>type</th>\n",
       "      <th>username</th>\n",
       "      <th>state</th>\n",
       "      <th>tweet</th>\n",
       "      <th>road_closure</th>\n",
       "    </tr>\n",
       "  </thead>\n",
       "  <tbody>\n",
       "    <tr>\n",
       "      <th>0</th>\n",
       "      <td>2019-07-31 19:57:12</td>\n",
       "      <td>NaN</td>\n",
       "      <td>[]</td>\n",
       "      <td>1156655067535224832</td>\n",
       "      <td>updated  disabled vehicle in duval on i-295 e south at dames point right lane blocked  last updated at 03 56 35pm</td>\n",
       "      <td>official</td>\n",
       "      <td>fl511_northeast</td>\n",
       "      <td>Florida</td>\n",
       "      <td>Updated  Disabled vehicle in Duval on I-295 E south at Dames Point right lane blocked  Last updated at 03 56 35PM</td>\n",
       "      <td>1</td>\n",
       "    </tr>\n",
       "    <tr>\n",
       "      <th>1</th>\n",
       "      <td>2019-07-31 19:53:12</td>\n",
       "      <td>NaN</td>\n",
       "      <td>[]</td>\n",
       "      <td>1156654059790712835</td>\n",
       "      <td>updated  disabled vehicle in duval on i-295 e south at dames point 2 right lanes blocked  last updated at</td>\n",
       "      <td>official</td>\n",
       "      <td>fl511_northeast</td>\n",
       "      <td>Florida</td>\n",
       "      <td>Updated  Disabled vehicle in Duval on I-295 E south at Dames Point 2 right lanes blocked  Last updated at</td>\n",
       "      <td>1</td>\n",
       "    </tr>\n",
       "    <tr>\n",
       "      <th>2</th>\n",
       "      <td>2019-07-31 19:49:14</td>\n",
       "      <td>NaN</td>\n",
       "      <td>[]</td>\n",
       "      <td>1156653061533851649</td>\n",
       "      <td>updated  disabled vehicle in duval on i-295 e south at dames point right lane blocked  last updated at 03 48 15pm</td>\n",
       "      <td>official</td>\n",
       "      <td>fl511_northeast</td>\n",
       "      <td>Florida</td>\n",
       "      <td>Updated  Disabled vehicle in Duval on I-295 E south at Dames Point right lane blocked  Last updated at 03 48 15PM</td>\n",
       "      <td>1</td>\n",
       "    </tr>\n",
       "    <tr>\n",
       "      <th>3</th>\n",
       "      <td>2019-07-31 19:34:13</td>\n",
       "      <td>NaN</td>\n",
       "      <td>[]</td>\n",
       "      <td>1156649282281332739</td>\n",
       "      <td>cleared  planned construction in duval on sr-105   heckscher dr east at imeson park blvd right lane blocked  last updated at 08 46 53am</td>\n",
       "      <td>official</td>\n",
       "      <td>fl511_northeast</td>\n",
       "      <td>Florida</td>\n",
       "      <td>Cleared  Planned construction in Duval on SR-105   Heckscher Dr east at Imeson Park Blvd right lane blocked  Last updated at 08 46 53AM</td>\n",
       "      <td>0</td>\n",
       "    </tr>\n",
       "    <tr>\n",
       "      <th>4</th>\n",
       "      <td>2019-07-31 19:34:12</td>\n",
       "      <td>NaN</td>\n",
       "      <td>[]</td>\n",
       "      <td>1156649281400520705</td>\n",
       "      <td>cleared  planned construction in duval on sr-105   heckscher dr west at imeson park blvd right lane blocked  last updated at 08 48 11am</td>\n",
       "      <td>official</td>\n",
       "      <td>fl511_northeast</td>\n",
       "      <td>Florida</td>\n",
       "      <td>Cleared  Planned construction in Duval on SR-105   Heckscher Dr west at Imeson Park Blvd right lane blocked  Last updated at 08 48 11AM</td>\n",
       "      <td>0</td>\n",
       "    </tr>\n",
       "  </tbody>\n",
       "</table>\n",
       "</div>"
      ],
      "text/plain": [
       "                  date  geo hashtags                   id  \\\n",
       "0  2019-07-31 19:57:12 NaN   []       1156655067535224832   \n",
       "1  2019-07-31 19:53:12 NaN   []       1156654059790712835   \n",
       "2  2019-07-31 19:49:14 NaN   []       1156653061533851649   \n",
       "3  2019-07-31 19:34:13 NaN   []       1156649282281332739   \n",
       "4  2019-07-31 19:34:12 NaN   []       1156649281400520705   \n",
       "\n",
       "                                                                                                                                       text  \\\n",
       "0  updated  disabled vehicle in duval on i-295 e south at dames point right lane blocked  last updated at 03 56 35pm                          \n",
       "1  updated  disabled vehicle in duval on i-295 e south at dames point 2 right lanes blocked  last updated at                                  \n",
       "2  updated  disabled vehicle in duval on i-295 e south at dames point right lane blocked  last updated at 03 48 15pm                          \n",
       "3  cleared  planned construction in duval on sr-105   heckscher dr east at imeson park blvd right lane blocked  last updated at 08 46 53am    \n",
       "4  cleared  planned construction in duval on sr-105   heckscher dr west at imeson park blvd right lane blocked  last updated at 08 48 11am    \n",
       "\n",
       "       type         username    state  \\\n",
       "0  official  fl511_northeast  Florida   \n",
       "1  official  fl511_northeast  Florida   \n",
       "2  official  fl511_northeast  Florida   \n",
       "3  official  fl511_northeast  Florida   \n",
       "4  official  fl511_northeast  Florida   \n",
       "\n",
       "                                                                                                                                      tweet  \\\n",
       "0  Updated  Disabled vehicle in Duval on I-295 E south at Dames Point right lane blocked  Last updated at 03 56 35PM                          \n",
       "1  Updated  Disabled vehicle in Duval on I-295 E south at Dames Point 2 right lanes blocked  Last updated at                                  \n",
       "2  Updated  Disabled vehicle in Duval on I-295 E south at Dames Point right lane blocked  Last updated at 03 48 15PM                          \n",
       "3  Cleared  Planned construction in Duval on SR-105   Heckscher Dr east at Imeson Park Blvd right lane blocked  Last updated at 08 46 53AM    \n",
       "4  Cleared  Planned construction in Duval on SR-105   Heckscher Dr west at Imeson Park Blvd right lane blocked  Last updated at 08 48 11AM    \n",
       "\n",
       "   road_closure  \n",
       "0  1             \n",
       "1  1             \n",
       "2  1             \n",
       "3  0             \n",
       "4  0             "
      ]
     },
     "execution_count": 20,
     "metadata": {},
     "output_type": "execute_result"
    }
   ],
   "source": [
    "tweets_training.head()"
   ]
  },
  {
   "cell_type": "markdown",
   "metadata": {},
   "source": [
    "# Modeling\n",
    "\n",
    "We run the same two models trained on the historical Tweets on the new, unseen, real time Tweets. We evaluate each model using a classification matrix and an ROC AUC curve."
   ]
  },
  {
   "cell_type": "code",
   "execution_count": 21,
   "metadata": {
    "scrolled": false
   },
   "outputs": [
    {
     "data": {
      "text/plain": [
       "1    0.625\n",
       "0    0.375\n",
       "Name: road_closure, dtype: float64"
      ]
     },
     "execution_count": 21,
     "metadata": {},
     "output_type": "execute_result"
    }
   ],
   "source": [
    "# Baseline score\n",
    "tweets_training['road_closure'].value_counts(normalize=True)"
   ]
  },
  {
   "cell_type": "code",
   "execution_count": 22,
   "metadata": {},
   "outputs": [],
   "source": [
    "# define our variables\n",
    "X = tweets_training['text']\n",
    "y = tweets_training['road_closure']"
   ]
  },
  {
   "cell_type": "code",
   "execution_count": 23,
   "metadata": {},
   "outputs": [],
   "source": [
    "# train test split the data\n",
    "X_train, X_test, y_train, y_test = train_test_split(X,\n",
    "                                                    y,\n",
    "                                                    test_size = .3,\n",
    "                                                    random_state=42,\n",
    "                                                    stratify=y)"
   ]
  },
  {
   "cell_type": "markdown",
   "metadata": {},
   "source": [
    "#### Confusion Matrix Function"
   ]
  },
  {
   "cell_type": "code",
   "execution_count": 24,
   "metadata": {},
   "outputs": [],
   "source": [
    "# function to visualize confusion matrix\n",
    "# Source code from SkLearn documentation\n",
    "# https://scikit-learn.org/stable/auto_examples/model_selection/plot_confusion_matrix.html\n",
    "\n",
    "def plot_confusion_matrix(y_true, y_pred, classes,\n",
    "                          normalize=False,\n",
    "                          title=None,\n",
    "                          cmap=plt.cm.Blues):\n",
    "#     This function prints and plots the confusion matrix.\n",
    "#     Normalization can be applied by setting `normalize=True`.\n",
    "\n",
    "    if not title:\n",
    "        if normalize:\n",
    "            title = 'Normalized confusion matrix'\n",
    "        else:\n",
    "            title = 'Confusion matrix, without normalization'\n",
    "\n",
    "    # Compute confusion matrix\n",
    "    cm = metrics.confusion_matrix(y_true, y_pred)\n",
    "    # Only use the labels that appear in the data\n",
    "    classes = classes[unique_labels(y_true, y_pred)]\n",
    "    if normalize:\n",
    "        cm = cm.astype('float') / cm.sum(axis=1)[:, np.newaxis]\n",
    "        print(\"Normalized confusion matrix\")\n",
    "    else:\n",
    "        print('Confusion matrix, without normalization')\n",
    "\n",
    "    print(cm)\n",
    "\n",
    "    fig, ax = plt.subplots()\n",
    "    im = ax.imshow(cm, interpolation='nearest', cmap=cmap)\n",
    "    ax.figure.colorbar(im, ax=ax)\n",
    "    # We want to show all ticks...\n",
    "    ax.set(xticks=np.arange(cm.shape[1]),\n",
    "           yticks=np.arange(cm.shape[0]),\n",
    "           # ... and label them with the respective list entries\n",
    "           xticklabels=classes, yticklabels=classes,\n",
    "           title=title,\n",
    "           ylabel='True label',\n",
    "           xlabel='Predicted label')\n",
    "\n",
    "    # Rotate the tick labels and set their alignment.\n",
    "    plt.setp(ax.get_xticklabels(), rotation=45, ha=\"right\",\n",
    "             rotation_mode=\"anchor\")\n",
    "\n",
    "    # Loop over data dimensions and create text annotations.\n",
    "    fmt = '.2f' if normalize else 'd'\n",
    "    thresh = cm.max() / 2.\n",
    "    for i in range(cm.shape[0]):\n",
    "        for j in range(cm.shape[1]):\n",
    "            ax.text(j, i, format(cm[i, j], fmt),\n",
    "                    ha=\"center\", va=\"center\",\n",
    "                    color=\"white\" if cm[i, j] > thresh else \"black\")\n",
    "    fig.tight_layout()\n",
    "    return ax"
   ]
  },
  {
   "cell_type": "code",
   "execution_count": 25,
   "metadata": {},
   "outputs": [],
   "source": [
    "# function to print classification metrics\n",
    "def classif_metrics(y_true, y_predicted):\n",
    "    \n",
    "    # generate confusion matrix\n",
    "    cm1 = confusion_matrix(y_true, y_predicted)\n",
    "    total1=sum(sum(cm1))\n",
    "    \n",
    "    # from confusion matrix calculate accuracy\n",
    "    accuracy1=(cm1[0,0]+cm1[1,1])/total1\n",
    "    print ('Accuracy : ', accuracy1)\n",
    "    \n",
    "    # from confusion matrix calculate sensitivity\n",
    "    sensitivity1 = cm1[0,0]/(cm1[0,0]+cm1[0,1])\n",
    "    print('Sensitivity : ', sensitivity1 )\n",
    "    \n",
    "    # from confusion matrix calculate specificity\n",
    "    specificity1 = cm1[1,1]/(cm1[1,0]+cm1[1,1])\n",
    "    print('Specificity : ', specificity1)\n",
    "    \n",
    "    return cm1"
   ]
  },
  {
   "cell_type": "markdown",
   "metadata": {},
   "source": [
    "#### Regression Coefficient Plot Function"
   ]
  },
  {
   "cell_type": "code",
   "execution_count": 26,
   "metadata": {
    "scrolled": true
   },
   "outputs": [],
   "source": [
    "# function to plot regression coeficients for NLP models\n",
    "# modified code from jasmine vasandani\n",
    "def regression_coef_plot(pipe, e_name, v_name):\n",
    "    # Create list of logistic regression coefficients \n",
    "    lr_coef = np.array(pipe.best_estimator_.named_steps[e_name].coef_).tolist()\n",
    "    lr_coef = lr_coef[0]\n",
    "\n",
    "    # create dataframe from lasso coef\n",
    "    lr_coef = pd.DataFrame(np.round_(lr_coef, decimals=3), \n",
    "    pipe.best_estimator_.named_steps[v_name].get_feature_names(), columns = [\"lr_coef\"])\n",
    "\n",
    "    # sort the values from high to low\n",
    "    lr_coef = lr_coef.sort_values(by = 'lr_coef', \n",
    "    ascending = False)\n",
    "\n",
    "    # Create top and bottom 10 \n",
    "    df_head = lr_coef.head(10)\n",
    "    df_tail = lr_coef.tail(10)\n",
    "\n",
    "    # merge back together\n",
    "    df_merged = pd.concat([df_head, df_tail], axis=0)\n",
    "\n",
    "    # plot the sorted dataframe\n",
    "    fig, ax = plt.subplots()\n",
    "    fig.set_size_inches(8, 6)\n",
    "    fig.suptitle('Coefficients', size=14)\n",
    "    ax = sns.barplot(x = 'lr_coef', y= df_merged.index, \n",
    "    data=df_merged, palette= 'cubehelix')\n",
    "    ax.set(xlabel='Regression Coefficients')\n",
    "    plt.tight_layout(pad=3, w_pad=0, h_pad=0);"
   ]
  },
  {
   "cell_type": "markdown",
   "metadata": {},
   "source": [
    "#### ROC AUC Plot Function"
   ]
  },
  {
   "cell_type": "code",
   "execution_count": 27,
   "metadata": {},
   "outputs": [],
   "source": [
    "# helper functions for ROC AUC curve\n",
    "# modified code from Arielle Miro\n",
    "\n",
    "# Create threshold values. (Dashed red line in image.)\n",
    "thresholds = np.linspace(0, 1, 200)\n",
    "\n",
    "# Define function to calculate sensitivity. (True positive rate.)\n",
    "def TPR(df, true_col, pred_prob_col, threshold):\n",
    "    true_positive = df[(df[true_col] == 1) & (df[pred_prob_col] >= threshold)].shape[0]\n",
    "    false_negative = df[(df[true_col] == 1) & (df[pred_prob_col] < threshold)].shape[0]\n",
    "    return true_positive / (true_positive + false_negative)\n",
    "    \n",
    "\n",
    "# Define function to calculate 1 - specificity. (False positive rate.)\n",
    "def FPR(df, true_col, pred_prob_col, threshold):\n",
    "    true_negative = df[(df[true_col] == 0) & (df[pred_prob_col] <= threshold)].shape[0]\n",
    "    false_positive = df[(df[true_col] == 0) & (df[pred_prob_col] > threshold)].shape[0]\n",
    "    return 1 - (true_negative / (true_negative + false_positive))"
   ]
  },
  {
   "cell_type": "code",
   "execution_count": 28,
   "metadata": {},
   "outputs": [],
   "source": [
    "# function to plot ROC AUC curve\n",
    "# modified code from Tim Book\n",
    "def roc_auc(X, y, estimator):\n",
    "    \n",
    "    # Create figure.\n",
    "    plt.figure(figsize = (12,10))\n",
    "    \n",
    "    # calculate predicted probabilities\n",
    "    pred_proba = [i[1] for i in estimator.predict_proba(X)]\n",
    "\n",
    "    pred_df = pd.DataFrame({'true_values': y,\n",
    "                            'pred_probs':pred_proba})\n",
    "\n",
    "    # Calculate sensitivity & 1-specificity for each threshold between 0 and 1.\n",
    "    tpr_values = [TPR(pred_df, 'true_values', 'pred_probs', prob) for prob in thresholds]\n",
    "    fpr_values = [FPR(pred_df, 'true_values', 'pred_probs', prob) for prob in thresholds]\n",
    "\n",
    "    # Plot ROC curve.\n",
    "    plt.plot(fpr_values, # False Positive Rate on X-axis\n",
    "             tpr_values, # True Positive Rate on Y-axis\n",
    "             label='ROC Curve')\n",
    "\n",
    "    # Plot baseline. (Perfect overlap between the two populations.)\n",
    "    plt.plot(np.linspace(0, 1, 200),\n",
    "             np.linspace(0, 1, 200),\n",
    "             label='baseline',\n",
    "             linestyle='--')\n",
    "\n",
    "    # Label axes.\n",
    "    plt.title(f'ROC Curve with AUC = {roc_auc_score(y, estimator.predict(X))}', fontsize=22)\n",
    "    plt.ylabel('Sensitivity', fontsize=18)\n",
    "    plt.xlabel('1 - Specificity', fontsize=18)\n",
    "\n",
    "    # Create legend.\n",
    "    plt.legend(fontsize=16);"
   ]
  },
  {
   "cell_type": "markdown",
   "metadata": {},
   "source": [
    "## Logistic Regression with Count Vectorizer\n",
    "\n",
    "As with the historic tweets, this model scored very well due to keyword classification. The model did not score as highly as on the traning data, but was still very accurate\n",
    "\n",
    "The model fit on training and testing split had an *r2* score of about 96.19% and 99.29%, ROC AUC of 93.77%, and minimal false positives."
   ]
  },
  {
   "cell_type": "code",
   "execution_count": 29,
   "metadata": {
    "scrolled": false
   },
   "outputs": [
    {
     "name": "stdout",
     "output_type": "stream",
     "text": [
      "Train Score: 0.9678758741258742\n",
      "Test Score: 0.9929494712103408\n"
     ]
    }
   ],
   "source": [
    "# run pickled logisitic regression model\n",
    "\n",
    "# load the model from disk\n",
    "filename = '../data/Models/lr_cvec_07302019.sav'\n",
    "lr = joblib.load(filename)\n",
    "\n",
    "# Create the predictions for Y training data\n",
    "y_pred = lr.predict(X_test)\n",
    "\n",
    "print(f'Train Score: {lr.score(X_train, y_train)}')\n",
    "print(f'Test Score: {lr.score(X_test, y_test)}')"
   ]
  },
  {
   "cell_type": "code",
   "execution_count": 51,
   "metadata": {
    "scrolled": false
   },
   "outputs": [
    {
     "name": "stdout",
     "output_type": "stream",
     "text": [
      "Confusion matrix, without normalization\n",
      "[[22  1]\n",
      " [ 3 34]]\n"
     ]
    },
    {
     "data": {
      "image/png": "[encoded data removed]",
      "text/plain": [
       "<Figure size 432x288 with 2 Axes>"
      ]
     },
     "metadata": {
      "needs_background": "light"
     },
     "output_type": "display_data"
    }
   ],
   "source": [
    "# set decimal places for numpy functions\n",
    "np.set_printoptions(precision=2)\n",
    "\n",
    "#define class names\n",
    "class_names=np.array(['Road Closed', 'Road Cleared'])\n",
    "\n",
    "# generate predictions\n",
    "y_pred = lr.predict(X_test)\n",
    "\n",
    "# Plot non-normalized confusion matrix\n",
    "plot_confusion_matrix(y_test, y_pred, classes=class_names,\n",
    "                      title='Confusion matrix, without normalization',\n",
    "                     cmap='YlGnBu')\n",
    "\n",
    "\n",
    "plt.show();"
   ]
  },
  {
   "cell_type": "code",
   "execution_count": 52,
   "metadata": {},
   "outputs": [
    {
     "name": "stdout",
     "output_type": "stream",
     "text": [
      "Accuracy :  0.9333333333333333\n",
      "Sensitivity :  0.9565217391304348\n",
      "Specificity :  0.918918918918919\n"
     ]
    },
    {
     "data": {
      "text/plain": [
       "array([[22,  1],\n",
       "       [ 3, 34]])"
      ]
     },
     "execution_count": 52,
     "metadata": {},
     "output_type": "execute_result"
    }
   ],
   "source": [
    "# print classif metrics\n",
    "classif_metrics(y_test, y_pred)"
   ]
  },
  {
   "cell_type": "code",
   "execution_count": 31,
   "metadata": {
    "scrolled": false
   },
   "outputs": [
    {
     "data": {
      "image/png": "[encoded data removed]",
      "text/plain": [
       "<Figure size 864x720 with 1 Axes>"
      ]
     },
     "metadata": {
      "needs_background": "light"
     },
     "output_type": "display_data"
    }
   ],
   "source": [
    "# run AUC ROC curve function\n",
    "roc_auc(X_test, y_test, lr)"
   ]
  },
  {
   "cell_type": "code",
   "execution_count": 32,
   "metadata": {},
   "outputs": [
    {
     "data": {
      "image/png": "[encoded data removed]",
      "text/plain": [
       "<Figure size 576x432 with 1 Axes>"
      ]
     },
     "metadata": {
      "needs_background": "light"
     },
     "output_type": "display_data"
    }
   ],
   "source": [
    "# run regression coefficient plot\n",
    "# note: this data comes from being fit from the training data\n",
    "# does not reflect the unseen data\n",
    "regression_coef_plot(lr, 'lr', 'vec')"
   ]
  },
  {
   "cell_type": "markdown",
   "metadata": {},
   "source": [
    "## TF-IDF and Gradient Boosting\n",
    "\n",
    "Like with the Logistic Regression model, the TF-IDF Gradient Boosted classifier was not able to match the scores from the historical tweets, but still performed well.\n",
    "\n",
    "The model fit on training and testing data had an *r2* score of about 96.8% and 98.82%, ROC AUC of 97.29%, and minimal false positives."
   ]
  },
  {
   "cell_type": "code",
   "execution_count": 33,
   "metadata": {},
   "outputs": [
    {
     "name": "stdout",
     "output_type": "stream",
     "text": [
      "Train Score: 0.959243881118881\n",
      "Test Score: 0.9882491186839013\n"
     ]
    }
   ],
   "source": [
    "# run gradient pickled boosting classifier\n",
    "# load the model from disk\n",
    "\n",
    "filename = '../data/Models/gb_tvec_07302019.sav'\n",
    "gb = joblib.load(filename)\n",
    "\n",
    "# Create the predictions for Y training data\n",
    "y_pred = gb.predict(X_test)\n",
    "\n",
    "print(f'Train Score: {gb.score(X_train, y_train)}')\n",
    "print(f'Test Score: {gb.score(X_test, y_test)}')"
   ]
  },
  {
   "cell_type": "code",
   "execution_count": 49,
   "metadata": {
    "scrolled": false
   },
   "outputs": [
    {
     "name": "stdout",
     "output_type": "stream",
     "text": [
      "Confusion matrix, without normalization\n",
      "[[23  0]\n",
      " [ 2 35]]\n"
     ]
    },
    {
     "data": {
      "image/png": "[encoded data removed]",
      "text/plain": [
       "<Figure size 432x288 with 2 Axes>"
      ]
     },
     "metadata": {
      "needs_background": "light"
     },
     "output_type": "display_data"
    }
   ],
   "source": [
    "# generate predictions\n",
    "y_pred = gb.predict(X_test)\n",
    "\n",
    "# Plot non-normalized confusion matrix\n",
    "plot_confusion_matrix(y_test, y_pred, classes=class_names,\n",
    "                      title='Confusion matrix, without normalization',\n",
    "                     cmap='YlGnBu')\n",
    "\n",
    "\n",
    "plt.show();"
   ]
  },
  {
   "cell_type": "code",
   "execution_count": 50,
   "metadata": {},
   "outputs": [
    {
     "name": "stdout",
     "output_type": "stream",
     "text": [
      "Accuracy :  0.9666666666666667\n",
      "Sensitivity :  1.0\n",
      "Specificity :  0.9459459459459459\n"
     ]
    },
    {
     "data": {
      "text/plain": [
       "array([[23,  0],\n",
       "       [ 2, 35]])"
      ]
     },
     "execution_count": 50,
     "metadata": {},
     "output_type": "execute_result"
    }
   ],
   "source": [
    "# print classif metrics\n",
    "classif_metrics(y_test, y_pred)"
   ]
  },
  {
   "cell_type": "code",
   "execution_count": 35,
   "metadata": {
    "scrolled": false
   },
   "outputs": [
    {
     "data": {
      "image/png": "[encoded data removed]",
      "text/plain": [
       "<Figure size 864x720 with 1 Axes>"
      ]
     },
     "metadata": {
      "needs_background": "light"
     },
     "output_type": "display_data"
    }
   ],
   "source": [
    "# run AUC ROC curve function\n",
    "roc_auc(X_test, y_test, gb)"
   ]
  },
  {
   "cell_type": "markdown",
   "metadata": {},
   "source": [
    "# Modeling Unseen Data without Keyword Classification\n",
    "\n",
    "This was the true test for the efficacy of our models. We evaluated the models trained on the keyword classified historical tweets without a target `y` variable for scoring. This was then compared to the keyword classified models with using the generated classification matrices and ROC AUC.\n",
    "\n",
    "The Gradient Boosted model only misclassified 7 tweets, while the Logistic Regression model misclassified 6. We then were able to look at the misclassified Tweets for tuning purposes.\n",
    "\n",
    "Due to minimal false positives, this method could be used with streaming real time tweets for classification."
   ]
  },
  {
   "cell_type": "code",
   "execution_count": 36,
   "metadata": {
    "scrolled": false
   },
   "outputs": [
    {
     "name": "stderr",
     "output_type": "stream",
     "text": [
      "/anaconda3/envs/dsi/lib/python3.7/site-packages/ipykernel_launcher.py:3: SettingWithCopyWarning: \n",
      "A value is trying to be set on a copy of a slice from a DataFrame.\n",
      "Try using .loc[row_indexer,col_indexer] = value instead\n",
      "\n",
      "See the caveats in the documentation: http://pandas.pydata.org/pandas-docs/stable/indexing.html#indexing-view-versus-copy\n",
      "  This is separate from the ipykernel package so we can avoid doing imports until\n",
      "/anaconda3/envs/dsi/lib/python3.7/site-packages/ipykernel_launcher.py:4: SettingWithCopyWarning: \n",
      "A value is trying to be set on a copy of a slice from a DataFrame.\n",
      "Try using .loc[row_indexer,col_indexer] = value instead\n",
      "\n",
      "See the caveats in the documentation: http://pandas.pydata.org/pandas-docs/stable/indexing.html#indexing-view-versus-copy\n",
      "  after removing the cwd from sys.path.\n"
     ]
    }
   ],
   "source": [
    "# define our variables\n",
    "diff_df = tweets_training[['text', 'username', 'road_closure']]\n",
    "diff_df['lr_pred'] = lr.predict(tweets['text'])\n",
    "diff_df['gb_pred'] = gb.predict(tweets['text'])"
   ]
  },
  {
   "cell_type": "markdown",
   "metadata": {},
   "source": [
    "## TF-IDF and Gradient Boosting"
   ]
  },
  {
   "cell_type": "code",
   "execution_count": 37,
   "metadata": {},
   "outputs": [
    {
     "data": {
      "image/png": "[encoded data removed]",
      "text/plain": [
       "<Figure size 864x720 with 1 Axes>"
      ]
     },
     "metadata": {
      "needs_background": "light"
     },
     "output_type": "display_data"
    }
   ],
   "source": [
    "# ROC AUC for gradient boosted model\n",
    "roc_auc(X, diff_df['road_closure'], gb)"
   ]
  },
  {
   "cell_type": "code",
   "execution_count": 38,
   "metadata": {
    "scrolled": false
   },
   "outputs": [
    {
     "name": "stdout",
     "output_type": "stream",
     "text": [
      "Confusion matrix, without normalization\n",
      "[[ 72   4]\n",
      " [  3 121]]\n"
     ]
    },
    {
     "data": {
      "text/plain": [
       "<matplotlib.axes._subplots.AxesSubplot at 0x1291dd518>"
      ]
     },
     "execution_count": 38,
     "metadata": {},
     "output_type": "execute_result"
    },
    {
     "data": {
      "image/png": "[encoded data removed]",
      "text/plain": [
       "<Figure size 432x288 with 2 Axes>"
      ]
     },
     "metadata": {
      "needs_background": "light"
     },
     "output_type": "display_data"
    }
   ],
   "source": [
    "# Plot non-normalized confusion matrix for logistic regression model\n",
    "plot_confusion_matrix(diff_df['gb_pred'], diff_df['road_closure'], classes=class_names,\n",
    "                      title='Confusion matrix, without normalization',\n",
    "                     cmap='YlGnBu')"
   ]
  },
  {
   "cell_type": "markdown",
   "metadata": {},
   "source": [
    "## Logistic Regression with Count Vectorizer"
   ]
  },
  {
   "cell_type": "code",
   "execution_count": 39,
   "metadata": {},
   "outputs": [
    {
     "data": {
      "image/png": "[encoded data removed]",
      "text/plain": [
       "<Figure size 864x720 with 1 Axes>"
      ]
     },
     "metadata": {
      "needs_background": "light"
     },
     "output_type": "display_data"
    }
   ],
   "source": [
    "# ROC AUC for logistic regression model\n",
    "roc_auc(X, diff_df['road_closure'], gb)"
   ]
  },
  {
   "cell_type": "code",
   "execution_count": 40,
   "metadata": {
    "scrolled": false
   },
   "outputs": [
    {
     "name": "stdout",
     "output_type": "stream",
     "text": [
      "Confusion matrix, without normalization\n",
      "[[ 68   4]\n",
      " [  7 121]]\n"
     ]
    },
    {
     "data": {
      "text/plain": [
       "<matplotlib.axes._subplots.AxesSubplot at 0x126dfeac8>"
      ]
     },
     "execution_count": 40,
     "metadata": {},
     "output_type": "execute_result"
    },
    {
     "data": {
      "image/png": "[encoded data removed]",
      "text/plain": [
       "<Figure size 432x288 with 2 Axes>"
      ]
     },
     "metadata": {
      "needs_background": "light"
     },
     "output_type": "display_data"
    }
   ],
   "source": [
    "# Plot non-normalized confusion matrix for gradient boosted model\n",
    "plot_confusion_matrix(diff_df['lr_pred'], diff_df['road_closure'], classes=class_names,\n",
    "                      title='Confusion matrix, without normalization',\n",
    "                     cmap='YlGnBu')"
   ]
  },
  {
   "cell_type": "markdown",
   "metadata": {},
   "source": [
    "## Evaluation\n",
    "\n",
    "Following the models' predictions, we observed which Tweets were misclassified."
   ]
  },
  {
   "cell_type": "markdown",
   "metadata": {},
   "source": [
    "#### False Positives"
   ]
  },
  {
   "cell_type": "code",
   "execution_count": 41,
   "metadata": {
    "scrolled": true
   },
   "outputs": [
    {
     "data": {
      "text/html": [
       "<div>\n",
       "<style scoped>\n",
       "    .dataframe tbody tr th:only-of-type {\n",
       "        vertical-align: middle;\n",
       "    }\n",
       "\n",
       "    .dataframe tbody tr th {\n",
       "        vertical-align: top;\n",
       "    }\n",
       "\n",
       "    .dataframe thead th {\n",
       "        text-align: right;\n",
       "    }\n",
       "</style>\n",
       "<table border=\"1\" class=\"dataframe\">\n",
       "  <thead>\n",
       "    <tr style=\"text-align: right;\">\n",
       "      <th></th>\n",
       "      <th>text</th>\n",
       "      <th>username</th>\n",
       "      <th>road_closure</th>\n",
       "      <th>lr_pred</th>\n",
       "      <th>gb_pred</th>\n",
       "    </tr>\n",
       "  </thead>\n",
       "  <tbody>\n",
       "    <tr>\n",
       "      <th>37</th>\n",
       "      <td>there will be lane closures on us-1 between sr-206 and i-95  use caution in the area</td>\n",
       "      <td>fl511_northeast</td>\n",
       "      <td>1</td>\n",
       "      <td>0</td>\n",
       "      <td>0</td>\n",
       "    </tr>\n",
       "    <tr>\n",
       "      <th>41</th>\n",
       "      <td>725a- big 3 travel times   i 10 starting to slow down #anjtraffic  actionnewsjax  wokvnews</td>\n",
       "      <td>ActionTraffic</td>\n",
       "      <td>1</td>\n",
       "      <td>0</td>\n",
       "      <td>0</td>\n",
       "    </tr>\n",
       "    <tr>\n",
       "      <th>52</th>\n",
       "      <td>rt  wxgarrett   actiontraffic is tracking a road closure for i-95 southbound near the st  johns county   flagler county line  tune into cbs…</td>\n",
       "      <td>ActionTraffic</td>\n",
       "      <td>1</td>\n",
       "      <td>1</td>\n",
       "      <td>0</td>\n",
       "    </tr>\n",
       "    <tr>\n",
       "      <th>186</th>\n",
       "      <td>835a- big 3 travel times   delays linger on i 10 #anjtraffic  actionnewsjax</td>\n",
       "      <td>ActionTraffic</td>\n",
       "      <td>1</td>\n",
       "      <td>0</td>\n",
       "      <td>0</td>\n",
       "    </tr>\n",
       "  </tbody>\n",
       "</table>\n",
       "</div>"
      ],
      "text/plain": [
       "                                                                                                                                             text  \\\n",
       "37      there will be lane closures on us-1 between sr-206 and i-95  use caution in the area                                                        \n",
       "41   725a- big 3 travel times   i 10 starting to slow down #anjtraffic  actionnewsjax  wokvnews                                                     \n",
       "52   rt  wxgarrett   actiontraffic is tracking a road closure for i-95 southbound near the st  johns county   flagler county line  tune into cbs…   \n",
       "186  835a- big 3 travel times   delays linger on i 10 #anjtraffic  actionnewsjax                                                                    \n",
       "\n",
       "            username  road_closure  lr_pred  gb_pred  \n",
       "37   fl511_northeast  1             0        0        \n",
       "41   ActionTraffic    1             0        0        \n",
       "52   ActionTraffic    1             1        0        \n",
       "186  ActionTraffic    1             0        0        "
      ]
     },
     "execution_count": 41,
     "metadata": {},
     "output_type": "execute_result"
    }
   ],
   "source": [
    "# looking at the Gradient Boost predictions, look at the tweets that were a false positive\n",
    "diff_df[(diff_df['road_closure'] == 1) & (diff_df['gb_pred'] == 0)]"
   ]
  },
  {
   "cell_type": "markdown",
   "metadata": {},
   "source": [
    "#### False Negatives"
   ]
  },
  {
   "cell_type": "code",
   "execution_count": 42,
   "metadata": {},
   "outputs": [
    {
     "data": {
      "text/html": [
       "<div>\n",
       "<style scoped>\n",
       "    .dataframe tbody tr th:only-of-type {\n",
       "        vertical-align: middle;\n",
       "    }\n",
       "\n",
       "    .dataframe tbody tr th {\n",
       "        vertical-align: top;\n",
       "    }\n",
       "\n",
       "    .dataframe thead th {\n",
       "        text-align: right;\n",
       "    }\n",
       "</style>\n",
       "<table border=\"1\" class=\"dataframe\">\n",
       "  <thead>\n",
       "    <tr style=\"text-align: right;\">\n",
       "      <th></th>\n",
       "      <th>text</th>\n",
       "      <th>username</th>\n",
       "      <th>road_closure</th>\n",
       "      <th>lr_pred</th>\n",
       "      <th>gb_pred</th>\n",
       "    </tr>\n",
       "  </thead>\n",
       "  <tbody>\n",
       "    <tr>\n",
       "      <th>46</th>\n",
       "      <td>640a- update- 95 sb at us 1 bunnell exit    left lane now open  traffic still backed up about 2 miles #anjtraffic…</td>\n",
       "      <td>ActionTraffic</td>\n",
       "      <td>0</td>\n",
       "      <td>1</td>\n",
       "      <td>1</td>\n",
       "    </tr>\n",
       "    <tr>\n",
       "      <th>55</th>\n",
       "      <td>507am- vehicle fire 95 sb at us 1 bunnell exit    sb lanes shut down and traffic being detoured #anjtraffic…</td>\n",
       "      <td>ActionTraffic</td>\n",
       "      <td>0</td>\n",
       "      <td>1</td>\n",
       "      <td>1</td>\n",
       "    </tr>\n",
       "    <tr>\n",
       "      <th>198</th>\n",
       "      <td>735am- crash 95 sb after lem turner  right lanes blocked   expect heavy delays #anjtraffic  actionnewsjax  wokvnews</td>\n",
       "      <td>ActionTraffic</td>\n",
       "      <td>0</td>\n",
       "      <td>1</td>\n",
       "      <td>1</td>\n",
       "    </tr>\n",
       "  </tbody>\n",
       "</table>\n",
       "</div>"
      ],
      "text/plain": [
       "                                                                                                                      text  \\\n",
       "46   640a- update- 95 sb at us 1 bunnell exit    left lane now open  traffic still backed up about 2 miles #anjtraffic…      \n",
       "55   507am- vehicle fire 95 sb at us 1 bunnell exit    sb lanes shut down and traffic being detoured #anjtraffic…            \n",
       "198  735am- crash 95 sb after lem turner  right lanes blocked   expect heavy delays #anjtraffic  actionnewsjax  wokvnews     \n",
       "\n",
       "          username  road_closure  lr_pred  gb_pred  \n",
       "46   ActionTraffic  0             1        1        \n",
       "55   ActionTraffic  0             1        1        \n",
       "198  ActionTraffic  0             1        1        "
      ]
     },
     "execution_count": 42,
     "metadata": {},
     "output_type": "execute_result"
    }
   ],
   "source": [
    "# looking at the Gradient Boost predictions, look at the tweets that were a false negative\n",
    "diff_df[(diff_df['road_closure'] == 0) & (diff_df['gb_pred'] == 1)]"
   ]
  },
  {
   "cell_type": "markdown",
   "metadata": {},
   "source": [
    "## Export Dataframe"
   ]
  },
  {
   "cell_type": "code",
   "execution_count": 43,
   "metadata": {
    "scrolled": false
   },
   "outputs": [
    {
     "data": {
      "text/html": [
       "<div>\n",
       "<style scoped>\n",
       "    .dataframe tbody tr th:only-of-type {\n",
       "        vertical-align: middle;\n",
       "    }\n",
       "\n",
       "    .dataframe tbody tr th {\n",
       "        vertical-align: top;\n",
       "    }\n",
       "\n",
       "    .dataframe thead th {\n",
       "        text-align: right;\n",
       "    }\n",
       "</style>\n",
       "<table border=\"1\" class=\"dataframe\">\n",
       "  <thead>\n",
       "    <tr style=\"text-align: right;\">\n",
       "      <th></th>\n",
       "      <th>date</th>\n",
       "      <th>geo</th>\n",
       "      <th>hashtags</th>\n",
       "      <th>id</th>\n",
       "      <th>text</th>\n",
       "      <th>type</th>\n",
       "      <th>username</th>\n",
       "      <th>state</th>\n",
       "      <th>tweet</th>\n",
       "      <th>road_closure</th>\n",
       "    </tr>\n",
       "  </thead>\n",
       "  <tbody>\n",
       "    <tr>\n",
       "      <th>0</th>\n",
       "      <td>2019-07-31 19:57:12</td>\n",
       "      <td>NaN</td>\n",
       "      <td>[]</td>\n",
       "      <td>1156655067535224832</td>\n",
       "      <td>updated  disabled vehicle in duval on i-295 e south at dames point right lane blocked  last updated at 03 56 35pm</td>\n",
       "      <td>official</td>\n",
       "      <td>fl511_northeast</td>\n",
       "      <td>Florida</td>\n",
       "      <td>Updated  Disabled vehicle in Duval on I-295 E south at Dames Point right lane blocked  Last updated at 03 56 35PM</td>\n",
       "      <td>1</td>\n",
       "    </tr>\n",
       "    <tr>\n",
       "      <th>1</th>\n",
       "      <td>2019-07-31 19:53:12</td>\n",
       "      <td>NaN</td>\n",
       "      <td>[]</td>\n",
       "      <td>1156654059790712835</td>\n",
       "      <td>updated  disabled vehicle in duval on i-295 e south at dames point 2 right lanes blocked  last updated at</td>\n",
       "      <td>official</td>\n",
       "      <td>fl511_northeast</td>\n",
       "      <td>Florida</td>\n",
       "      <td>Updated  Disabled vehicle in Duval on I-295 E south at Dames Point 2 right lanes blocked  Last updated at</td>\n",
       "      <td>1</td>\n",
       "    </tr>\n",
       "    <tr>\n",
       "      <th>2</th>\n",
       "      <td>2019-07-31 19:49:14</td>\n",
       "      <td>NaN</td>\n",
       "      <td>[]</td>\n",
       "      <td>1156653061533851649</td>\n",
       "      <td>updated  disabled vehicle in duval on i-295 e south at dames point right lane blocked  last updated at 03 48 15pm</td>\n",
       "      <td>official</td>\n",
       "      <td>fl511_northeast</td>\n",
       "      <td>Florida</td>\n",
       "      <td>Updated  Disabled vehicle in Duval on I-295 E south at Dames Point right lane blocked  Last updated at 03 48 15PM</td>\n",
       "      <td>1</td>\n",
       "    </tr>\n",
       "    <tr>\n",
       "      <th>3</th>\n",
       "      <td>2019-07-31 19:34:13</td>\n",
       "      <td>NaN</td>\n",
       "      <td>[]</td>\n",
       "      <td>1156649282281332739</td>\n",
       "      <td>cleared  planned construction in duval on sr-105   heckscher dr east at imeson park blvd right lane blocked  last updated at 08 46 53am</td>\n",
       "      <td>official</td>\n",
       "      <td>fl511_northeast</td>\n",
       "      <td>Florida</td>\n",
       "      <td>Cleared  Planned construction in Duval on SR-105   Heckscher Dr east at Imeson Park Blvd right lane blocked  Last updated at 08 46 53AM</td>\n",
       "      <td>0</td>\n",
       "    </tr>\n",
       "    <tr>\n",
       "      <th>4</th>\n",
       "      <td>2019-07-31 19:34:12</td>\n",
       "      <td>NaN</td>\n",
       "      <td>[]</td>\n",
       "      <td>1156649281400520705</td>\n",
       "      <td>cleared  planned construction in duval on sr-105   heckscher dr west at imeson park blvd right lane blocked  last updated at 08 48 11am</td>\n",
       "      <td>official</td>\n",
       "      <td>fl511_northeast</td>\n",
       "      <td>Florida</td>\n",
       "      <td>Cleared  Planned construction in Duval on SR-105   Heckscher Dr west at Imeson Park Blvd right lane blocked  Last updated at 08 48 11AM</td>\n",
       "      <td>0</td>\n",
       "    </tr>\n",
       "  </tbody>\n",
       "</table>\n",
       "</div>"
      ],
      "text/plain": [
       "                  date  geo hashtags                   id  \\\n",
       "0  2019-07-31 19:57:12 NaN   []       1156655067535224832   \n",
       "1  2019-07-31 19:53:12 NaN   []       1156654059790712835   \n",
       "2  2019-07-31 19:49:14 NaN   []       1156653061533851649   \n",
       "3  2019-07-31 19:34:13 NaN   []       1156649282281332739   \n",
       "4  2019-07-31 19:34:12 NaN   []       1156649281400520705   \n",
       "\n",
       "                                                                                                                                       text  \\\n",
       "0  updated  disabled vehicle in duval on i-295 e south at dames point right lane blocked  last updated at 03 56 35pm                          \n",
       "1  updated  disabled vehicle in duval on i-295 e south at dames point 2 right lanes blocked  last updated at                                  \n",
       "2  updated  disabled vehicle in duval on i-295 e south at dames point right lane blocked  last updated at 03 48 15pm                          \n",
       "3  cleared  planned construction in duval on sr-105   heckscher dr east at imeson park blvd right lane blocked  last updated at 08 46 53am    \n",
       "4  cleared  planned construction in duval on sr-105   heckscher dr west at imeson park blvd right lane blocked  last updated at 08 48 11am    \n",
       "\n",
       "       type         username    state  \\\n",
       "0  official  fl511_northeast  Florida   \n",
       "1  official  fl511_northeast  Florida   \n",
       "2  official  fl511_northeast  Florida   \n",
       "3  official  fl511_northeast  Florida   \n",
       "4  official  fl511_northeast  Florida   \n",
       "\n",
       "                                                                                                                                      tweet  \\\n",
       "0  Updated  Disabled vehicle in Duval on I-295 E south at Dames Point right lane blocked  Last updated at 03 56 35PM                          \n",
       "1  Updated  Disabled vehicle in Duval on I-295 E south at Dames Point 2 right lanes blocked  Last updated at                                  \n",
       "2  Updated  Disabled vehicle in Duval on I-295 E south at Dames Point right lane blocked  Last updated at 03 48 15PM                          \n",
       "3  Cleared  Planned construction in Duval on SR-105   Heckscher Dr east at Imeson Park Blvd right lane blocked  Last updated at 08 46 53AM    \n",
       "4  Cleared  Planned construction in Duval on SR-105   Heckscher Dr west at Imeson Park Blvd right lane blocked  Last updated at 08 48 11AM    \n",
       "\n",
       "   road_closure  \n",
       "0  1             \n",
       "1  1             \n",
       "2  1             \n",
       "3  0             \n",
       "4  0             "
      ]
     },
     "execution_count": 43,
     "metadata": {},
     "output_type": "execute_result"
    }
   ],
   "source": [
    "tweets_training.head()"
   ]
  },
  {
   "cell_type": "code",
   "execution_count": 44,
   "metadata": {},
   "outputs": [],
   "source": [
    "tweets_training.to_csv('../data/cleaned_tweets/cleaned_RT_official_07312019.csv', index = False)"
   ]
  },
  {
   "cell_type": "code",
   "execution_count": null,
   "metadata": {},
   "outputs": [],
   "source": []
  }
 ],
 "metadata": {
  "kernelspec": {
   "display_name": "Python 3",
   "language": "python",
   "name": "python3"
  },
  "language_info": {
   "codemirror_mode": {
    "name": "ipython",
    "version": 3
   },
   "file_extension": ".py",
   "mimetype": "text/x-python",
   "name": "python",
   "nbconvert_exporter": "python",
   "pygments_lexer": "ipython3",
   "version": "3.7.3"
  },
  "toc": {
   "base_numbering": 1,
   "nav_menu": {},
   "number_sections": true,
   "sideBar": true,
   "skip_h1_title": false,
   "title_cell": "Table of Contents",
   "title_sidebar": "Contents",
   "toc_cell": false,
   "toc_position": {},
   "toc_section_display": true,
   "toc_window_display": false
  }
 },
 "nbformat": 4,
 "nbformat_minor": 2
}
