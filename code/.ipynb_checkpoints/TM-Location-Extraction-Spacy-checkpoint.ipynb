{
 "cells": [
  {
   "cell_type": "markdown",
   "metadata": {},
   "source": [
    "# Location Extraction and Spacy Word Vectorization"
   ]
  },
  {
   "cell_type": "code",
   "execution_count": 5,
   "metadata": {
    "scrolled": true
   },
   "outputs": [],
   "source": [
    "import pandas as pd\n",
    "import re\n",
    "import spacy\n",
    "import string\n"
   ]
  },
  {
   "cell_type": "code",
   "execution_count": 6,
   "metadata": {
    "scrolled": false
   },
   "outputs": [
    {
     "name": "stdout",
     "output_type": "stream",
     "text": [
      "(24054, 6)\n"
     ]
    },
    {
     "data": {
      "text/html": [
       "<div>\n",
       "<style scoped>\n",
       "    .dataframe tbody tr th:only-of-type {\n",
       "        vertical-align: middle;\n",
       "    }\n",
       "\n",
       "    .dataframe tbody tr th {\n",
       "        vertical-align: top;\n",
       "    }\n",
       "\n",
       "    .dataframe thead th {\n",
       "        text-align: right;\n",
       "    }\n",
       "</style>\n",
       "<table border=\"1\" class=\"dataframe\">\n",
       "  <thead>\n",
       "    <tr style=\"text-align: right;\">\n",
       "      <th></th>\n",
       "      <th>text</th>\n",
       "      <th>type</th>\n",
       "      <th>username</th>\n",
       "      <th>tweet</th>\n",
       "      <th>road_closure</th>\n",
       "      <th>state</th>\n",
       "    </tr>\n",
       "  </thead>\n",
       "  <tbody>\n",
       "    <tr>\n",
       "      <th>0</th>\n",
       "      <td>The PIOH for the SR 138 I-20 is going on now u...</td>\n",
       "      <td>official</td>\n",
       "      <td>GDOTATL</td>\n",
       "      <td>The PIOH for the SR 138 I-20 is going on now u...</td>\n",
       "      <td>0</td>\n",
       "      <td>Georgia</td>\n",
       "    </tr>\n",
       "    <tr>\n",
       "      <th>1</th>\n",
       "      <td>We appreciate all the hard work our crews have...</td>\n",
       "      <td>official</td>\n",
       "      <td>GDOTATL</td>\n",
       "      <td>We appreciate all the hard work our crews have...</td>\n",
       "      <td>0</td>\n",
       "      <td>Georgia</td>\n",
       "    </tr>\n",
       "    <tr>\n",
       "      <th>2</th>\n",
       "      <td>Need info on re-entry  Check here  Also follow...</td>\n",
       "      <td>official</td>\n",
       "      <td>GDOTATL</td>\n",
       "      <td>Need info on re-entry  Check here  Also follow...</td>\n",
       "      <td>0</td>\n",
       "      <td>Georgia</td>\n",
       "    </tr>\n",
       "    <tr>\n",
       "      <th>3</th>\n",
       "      <td>Do you need some updates  You can find ALL of ...</td>\n",
       "      <td>official</td>\n",
       "      <td>GDOTATL</td>\n",
       "      <td>Do you need some updates  You can find ALL of ...</td>\n",
       "      <td>0</td>\n",
       "      <td>Georgia</td>\n",
       "    </tr>\n",
       "    <tr>\n",
       "      <th>4</th>\n",
       "      <td>Did you know that the  511Georgia website and ...</td>\n",
       "      <td>official</td>\n",
       "      <td>GDOTATL</td>\n",
       "      <td>Did you know that the  511Georgia website and ...</td>\n",
       "      <td>0</td>\n",
       "      <td>Georgia</td>\n",
       "    </tr>\n",
       "  </tbody>\n",
       "</table>\n",
       "</div>"
      ],
      "text/plain": [
       "                                                text      type username  \\\n",
       "0  The PIOH for the SR 138 I-20 is going on now u...  official  GDOTATL   \n",
       "1  We appreciate all the hard work our crews have...  official  GDOTATL   \n",
       "2  Need info on re-entry  Check here  Also follow...  official  GDOTATL   \n",
       "3  Do you need some updates  You can find ALL of ...  official  GDOTATL   \n",
       "4  Did you know that the  511Georgia website and ...  official  GDOTATL   \n",
       "\n",
       "                                               tweet  road_closure    state  \n",
       "0  The PIOH for the SR 138 I-20 is going on now u...             0  Georgia  \n",
       "1  We appreciate all the hard work our crews have...             0  Georgia  \n",
       "2  Need info on re-entry  Check here  Also follow...             0  Georgia  \n",
       "3  Do you need some updates  You can find ALL of ...             0  Georgia  \n",
       "4  Did you know that the  511Georgia website and ...             0  Georgia  "
      ]
     },
     "execution_count": 6,
     "metadata": {},
     "output_type": "execute_result"
    }
   ],
   "source": [
    "# Read in csv with Tweets\n",
    "twitter_closures = pd.read_csv(\"../data/Cleaned_Tweets/cleaned_historic_official_07292019.csv\")\n",
    "\n",
    "twitter_closures = twitter_closures[['text', 'type', 'username', 'tweet', 'road_closure', 'state']]\n",
    "\n",
    "# Print DF shape\n",
    "print(twitter_closures.shape)\n",
    "\n",
    "# Show head \n",
    "twitter_closures.head()"
   ]
  },
  {
   "cell_type": "markdown",
   "metadata": {},
   "source": [
    "## SpaCy Preprocessing"
   ]
  },
  {
   "cell_type": "code",
   "execution_count": 7,
   "metadata": {},
   "outputs": [
    {
     "data": {
      "text/html": [
       "<div>\n",
       "<style scoped>\n",
       "    .dataframe tbody tr th:only-of-type {\n",
       "        vertical-align: middle;\n",
       "    }\n",
       "\n",
       "    .dataframe tbody tr th {\n",
       "        vertical-align: top;\n",
       "    }\n",
       "\n",
       "    .dataframe thead th {\n",
       "        text-align: right;\n",
       "    }\n",
       "</style>\n",
       "<table border=\"1\" class=\"dataframe\">\n",
       "  <thead>\n",
       "    <tr style=\"text-align: right;\">\n",
       "      <th></th>\n",
       "      <th>text</th>\n",
       "      <th>type</th>\n",
       "      <th>username</th>\n",
       "      <th>tweet</th>\n",
       "      <th>road_closure</th>\n",
       "      <th>state</th>\n",
       "      <th>modified_text</th>\n",
       "      <th>location</th>\n",
       "    </tr>\n",
       "  </thead>\n",
       "  <tbody>\n",
       "    <tr>\n",
       "      <th>0</th>\n",
       "      <td>The PIOH for the SR 138 I-20 is going on now u...</td>\n",
       "      <td>official</td>\n",
       "      <td>GDOTATL</td>\n",
       "      <td>The PIOH for the SR 138 I-20 is going on now u...</td>\n",
       "      <td>0</td>\n",
       "      <td>Georgia</td>\n",
       "      <td></td>\n",
       "      <td></td>\n",
       "    </tr>\n",
       "    <tr>\n",
       "      <th>1</th>\n",
       "      <td>We appreciate all the hard work our crews have...</td>\n",
       "      <td>official</td>\n",
       "      <td>GDOTATL</td>\n",
       "      <td>We appreciate all the hard work our crews have...</td>\n",
       "      <td>0</td>\n",
       "      <td>Georgia</td>\n",
       "      <td></td>\n",
       "      <td></td>\n",
       "    </tr>\n",
       "  </tbody>\n",
       "</table>\n",
       "</div>"
      ],
      "text/plain": [
       "                                                text      type username  \\\n",
       "0  The PIOH for the SR 138 I-20 is going on now u...  official  GDOTATL   \n",
       "1  We appreciate all the hard work our crews have...  official  GDOTATL   \n",
       "\n",
       "                                               tweet  road_closure    state  \\\n",
       "0  The PIOH for the SR 138 I-20 is going on now u...             0  Georgia   \n",
       "1  We appreciate all the hard work our crews have...             0  Georgia   \n",
       "\n",
       "  modified_text location  \n",
       "0                         \n",
       "1                         "
      ]
     },
     "execution_count": 7,
     "metadata": {},
     "output_type": "execute_result"
    }
   ],
   "source": [
    "# Create new columns to transfer modified tweet text. Five versions of tweets will be created.\n",
    "twitter_closures['modified_text'] = ''\n",
    "twitter_closures['location'] = ''\n",
    "\n",
    "# Show modified DF\n",
    "twitter_closures.head(2)"
   ]
  },
  {
   "cell_type": "code",
   "execution_count": 8,
   "metadata": {},
   "outputs": [],
   "source": [
    "format_dict = {\"hwy\": \"Highway \",\n",
    "            \"Blvd\": \"Boulevard\",\n",
    "            \" st\": \"street\",\n",
    "           \"CR \": \"Country Road \",\n",
    "           \"SR \": \"State Road\",\n",
    "           \"I-\": \"Interstate \",\n",
    "           \"EB \": \"Eastbound \",\n",
    "           \"WB \": \"Westbound \",\n",
    "           \"SB \": \"Southbound\",\n",
    "           \"NB \": \"Northbound\",\n",
    "           \" on \": \" at \",\n",
    "           \" E \": \" East \",\n",
    "           \" W \": \" West \",\n",
    "           \" S \": \" South\",\n",
    "           \" N \": \" North\",\n",
    "           \"mi \": \"mile \",\n",
    "           \"between \": \"at \",\n",
    "           \"Between \": \"at \",\n",
    "           \"In \": \"in \",\n",
    "           \" in \": \" at \"}"
   ]
  },
  {
   "cell_type": "code",
   "execution_count": 9,
   "metadata": {},
   "outputs": [],
   "source": [
    "def spacy_cleaner(df, col, word_dict):\n",
    "    modified_text = \"At \" + df[col].replace(word_dict, regex=True)\n",
    "    modified_text = modified_text.str.title()\n",
    "    return modified_text"
   ]
  },
  {
   "cell_type": "code",
   "execution_count": 10,
   "metadata": {
    "scrolled": true
   },
   "outputs": [],
   "source": [
    "# run the text cleaning function and test results\n",
    "twitter_closures['modified_text'] = spacy_cleaner(twitter_closures, 'text', format_dict)"
   ]
  },
  {
   "cell_type": "code",
   "execution_count": 11,
   "metadata": {
    "scrolled": true
   },
   "outputs": [
    {
     "data": {
      "text/plain": [
       "array(['GDOTATL', 'SCDOTMidlands', 'SCDOTPeeDee', 'SCDOTLowCountry',\n",
       "       'SCDOTPiedmont', '511statewideva', 'fl511_panhandl', '511Georgia',\n",
       "       'fl511_state', 'fl511_northeast', 'fl511_southeast',\n",
       "       'fl511_southwest', 'fl511_tampabay', 'fl511_central',\n",
       "       '511centralva', '511hamptonroads', '511northernva',\n",
       "       'NCDOT_Westmtn', 'NCDOT_Triangle', 'NCDOT_Piedmont',\n",
       "       'NCDOT_Charlotte', 'NCDOT_Asheville', 'NCDOT_Scoast',\n",
       "       'NCDOT_Ncoast'], dtype=object)"
      ]
     },
     "execution_count": 11,
     "metadata": {},
     "output_type": "execute_result"
    }
   ],
   "source": [
    "twitter_closures['username'].unique()"
   ]
  },
  {
   "cell_type": "code",
   "execution_count": 12,
   "metadata": {},
   "outputs": [],
   "source": [
    "test_df = twitter_closures[(twitter_closures['road_closure'] == 1) & (twitter_closures['username'] == 'fl511_northeast')]"
   ]
  },
  {
   "cell_type": "code",
   "execution_count": 13,
   "metadata": {},
   "outputs": [],
   "source": [
    "def get_loc(df, text_column, location_column):\n",
    "    \n",
    "    # Use Spacy to extract location names from `text` column\n",
    "    for i in range(len(df)):\n",
    "        \n",
    "        #instantiate spacy model\n",
    "        nlp = spacy.load(\"en_core_web_sm\")\n",
    "        \n",
    "        # create documewnt from modified text column\n",
    "        doc = nlp(df[text_column].iloc[i])\n",
    "        \n",
    "        locations = set()\n",
    "        \n",
    "        # loop through every entity in the doc\n",
    "        for ent in doc.ents:\n",
    "            \n",
    "            # find entities labelled as places\n",
    "            if (ent.label_=='GPE') or (ent.label_=='FAC') or (ent.label_ == 'LOC'):\n",
    "                \n",
    "                # put locations in a set\n",
    "                locations.add(ent.text)\n",
    "                df[location_column].iloc[i] = locations\n",
    "                \n",
    "    return df[location_column]"
   ]
  },
  {
   "cell_type": "code",
   "execution_count": 14,
   "metadata": {
    "scrolled": false
   },
   "outputs": [
    {
     "name": "stderr",
     "output_type": "stream",
     "text": [
      "/Users/templemoore/anaconda3/envs/dsi/lib/python3.7/site-packages/pandas/core/indexing.py:190: SettingWithCopyWarning: \n",
      "A value is trying to be set on a copy of a slice from a DataFrame\n",
      "\n",
      "See the caveats in the documentation: http://pandas.pydata.org/pandas-docs/stable/indexing.html#indexing-view-versus-copy\n",
      "  self._setitem_with_indexer(indexer, value)\n"
     ]
    }
   ],
   "source": [
    "test = get_loc(test_df, 'modified_text', 'location')"
   ]
  },
  {
   "cell_type": "code",
   "execution_count": 15,
   "metadata": {},
   "outputs": [
    {
     "data": {
      "text/html": [
       "<div>\n",
       "<style scoped>\n",
       "    .dataframe tbody tr th:only-of-type {\n",
       "        vertical-align: middle;\n",
       "    }\n",
       "\n",
       "    .dataframe tbody tr th {\n",
       "        vertical-align: top;\n",
       "    }\n",
       "\n",
       "    .dataframe thead th {\n",
       "        text-align: right;\n",
       "    }\n",
       "</style>\n",
       "<table border=\"1\" class=\"dataframe\">\n",
       "  <thead>\n",
       "    <tr style=\"text-align: right;\">\n",
       "      <th></th>\n",
       "      <th>text</th>\n",
       "      <th>type</th>\n",
       "      <th>username</th>\n",
       "      <th>tweet</th>\n",
       "      <th>road_closure</th>\n",
       "      <th>state</th>\n",
       "      <th>modified_text</th>\n",
       "      <th>location</th>\n",
       "    </tr>\n",
       "  </thead>\n",
       "  <tbody>\n",
       "    <tr>\n",
       "      <th>8976</th>\n",
       "      <td>CLEARED  Traffic congestion in Duval on I-295 ...</td>\n",
       "      <td>official</td>\n",
       "      <td>fl511_northeast</td>\n",
       "      <td>CLEARED  Traffic congestion in Duval on I-295 ...</td>\n",
       "      <td>1</td>\n",
       "      <td>Florida</td>\n",
       "      <td>At Cleared  Traffic Congestion At Duval At Int...</td>\n",
       "      <td>{Interstate 295 West North, Exit 5 San Jose, E...</td>\n",
       "    </tr>\n",
       "    <tr>\n",
       "      <th>8977</th>\n",
       "      <td>CLEARED  Traffic congestion in Duval on I-295 ...</td>\n",
       "      <td>official</td>\n",
       "      <td>fl511_northeast</td>\n",
       "      <td>CLEARED  Traffic congestion in Duval on I-295 ...</td>\n",
       "      <td>1</td>\n",
       "      <td>Florida</td>\n",
       "      <td>At Cleared  Traffic Congestion At Duval At Int...</td>\n",
       "      <td>{Interstate 295 East South, Exit 53}</td>\n",
       "    </tr>\n",
       "    <tr>\n",
       "      <th>8978</th>\n",
       "      <td>UPDATE  Disabled vehicle in Duval on I-95 sout...</td>\n",
       "      <td>official</td>\n",
       "      <td>fl511_northeast</td>\n",
       "      <td>UPDATE  Disabled vehicle in Duval on I-95 sout...</td>\n",
       "      <td>1</td>\n",
       "      <td>Florida</td>\n",
       "      <td>At Update  Disabled Vehicle At Duval At Inters...</td>\n",
       "      <td>{Interstate 95 South Ramp From Exit 344 Butler}</td>\n",
       "    </tr>\n",
       "    <tr>\n",
       "      <th>8979</th>\n",
       "      <td>CLEARED  Traffic congestion in Duval on I-295 ...</td>\n",
       "      <td>official</td>\n",
       "      <td>fl511_northeast</td>\n",
       "      <td>CLEARED  Traffic congestion in Duval on I-295 ...</td>\n",
       "      <td>1</td>\n",
       "      <td>Florida</td>\n",
       "      <td>At Cleared  Traffic Congestion At Duval At Int...</td>\n",
       "      <td>{Exit 56, Interstate 295 East North}</td>\n",
       "    </tr>\n",
       "    <tr>\n",
       "      <th>8980</th>\n",
       "      <td>CLEARED  Disabled vehicle in Duval on I-95 nor...</td>\n",
       "      <td>official</td>\n",
       "      <td>fl511_northeast</td>\n",
       "      <td>CLEARED  Disabled vehicle in Duval on I-95 nor...</td>\n",
       "      <td>1</td>\n",
       "      <td>Florida</td>\n",
       "      <td>At Cleared  Disabled Vehicle At Duval At Inter...</td>\n",
       "      <td>{Interstate 95 North Ramp To Exit 353B Union}</td>\n",
       "    </tr>\n",
       "  </tbody>\n",
       "</table>\n",
       "</div>"
      ],
      "text/plain": [
       "                                                   text      type  \\\n",
       "8976  CLEARED  Traffic congestion in Duval on I-295 ...  official   \n",
       "8977  CLEARED  Traffic congestion in Duval on I-295 ...  official   \n",
       "8978  UPDATE  Disabled vehicle in Duval on I-95 sout...  official   \n",
       "8979  CLEARED  Traffic congestion in Duval on I-295 ...  official   \n",
       "8980  CLEARED  Disabled vehicle in Duval on I-95 nor...  official   \n",
       "\n",
       "             username                                              tweet  \\\n",
       "8976  fl511_northeast  CLEARED  Traffic congestion in Duval on I-295 ...   \n",
       "8977  fl511_northeast  CLEARED  Traffic congestion in Duval on I-295 ...   \n",
       "8978  fl511_northeast  UPDATE  Disabled vehicle in Duval on I-95 sout...   \n",
       "8979  fl511_northeast  CLEARED  Traffic congestion in Duval on I-295 ...   \n",
       "8980  fl511_northeast  CLEARED  Disabled vehicle in Duval on I-95 nor...   \n",
       "\n",
       "      road_closure    state  \\\n",
       "8976             1  Florida   \n",
       "8977             1  Florida   \n",
       "8978             1  Florida   \n",
       "8979             1  Florida   \n",
       "8980             1  Florida   \n",
       "\n",
       "                                          modified_text  \\\n",
       "8976  At Cleared  Traffic Congestion At Duval At Int...   \n",
       "8977  At Cleared  Traffic Congestion At Duval At Int...   \n",
       "8978  At Update  Disabled Vehicle At Duval At Inters...   \n",
       "8979  At Cleared  Traffic Congestion At Duval At Int...   \n",
       "8980  At Cleared  Disabled Vehicle At Duval At Inter...   \n",
       "\n",
       "                                               location  \n",
       "8976  {Interstate 295 West North, Exit 5 San Jose, E...  \n",
       "8977               {Interstate 295 East South, Exit 53}  \n",
       "8978    {Interstate 95 South Ramp From Exit 344 Butler}  \n",
       "8979               {Exit 56, Interstate 295 East North}  \n",
       "8980      {Interstate 95 North Ramp To Exit 353B Union}  "
      ]
     },
     "execution_count": 15,
     "metadata": {},
     "output_type": "execute_result"
    }
   ],
   "source": [
    "test_df['location'] = test\n",
    "test_df.head()"
   ]
  },
  {
   "cell_type": "code",
   "execution_count": 16,
   "metadata": {},
   "outputs": [],
   "source": [
    "test_df.to_csv('./spacy_extracted_tweets.csv')"
   ]
  }
 ],
 "metadata": {
  "kernelspec": {
   "display_name": "Python [conda env:dsi]",
   "language": "python",
   "name": "conda-env-dsi-py"
  },
  "language_info": {
   "codemirror_mode": {
    "name": "ipython",
    "version": 3
   },
   "file_extension": ".py",
   "mimetype": "text/x-python",
   "name": "python",
   "nbconvert_exporter": "python",
   "pygments_lexer": "ipython3",
   "version": "3.7.3"
  }
 },
 "nbformat": 4,
 "nbformat_minor": 2
}
