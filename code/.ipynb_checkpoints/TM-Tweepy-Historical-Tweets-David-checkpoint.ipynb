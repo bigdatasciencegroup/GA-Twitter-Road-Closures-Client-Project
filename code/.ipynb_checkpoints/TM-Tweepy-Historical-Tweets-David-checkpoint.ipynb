{
 "cells": [
  {
   "cell_type": "code",
   "execution_count": 19,
   "metadata": {},
   "outputs": [],
   "source": [
    "import tweepy\n",
<<<<<<< HEAD:code/TM-Tweepy-Historical-Tweets.ipynb
    "import time\n",
=======
>>>>>>> 1da05c2ac21e5b65f4aba3630f17cd4df0e0b06c:code/.ipynb_checkpoints/TM-Tweepy-Historical-Tweets-David-checkpoint.ipynb
    "import jsonpickle\n",
    "import json\n",
    "import datetime\n",
    "import GetOldTweets3 as got\n",
    "\n",
    "from pandas.io.json import json_normalize\n",
    "\n",
    "import pandas as pd"
   ]
  },
  {
   "cell_type": "code",
   "execution_count": 20,
   "metadata": {},
   "outputs": [],
   "source": [
    "# load Twitter API credentials\n",
    "with open('../twitter_credentials.json') as cred_data:\n",
    "    info = json.load(cred_data)\n",
    "    consumer_key = info['CONSUMER_KEY']\n",
    "    consumer_secret = info['CONSUMER_SECRET']\n",
    "    access_token = info['ACCESS_TOKEN']\n",
    "    access_secret = info['ACCESS_SECRET']"
   ]
  },
  {
   "cell_type": "code",
   "execution_count": 21,
   "metadata": {},
   "outputs": [
    {
     "name": "stdout",
     "output_type": "stream",
     "text": [
      "Authentication OK\n"
     ]
    }
   ],
   "source": [
    "# Authenticate to Twitter\n",
    "auth = tweepy.OAuthHandler(consumer_key, consumer_secret)\n",
    "auth.set_access_token(access_token, access_secret)\n",
    "\n",
    "api = tweepy.API(auth)\n",
    "\n",
    "try:\n",
    "    api.verify_credentials()\n",
    "    print(\"Authentication OK\")\n",
    "except:\n",
    "    print(\"Error during authentication\")"
   ]
  },
  {
   "cell_type": "code",
   "execution_count": 22,
   "metadata": {},
   "outputs": [
    {
     "name": "stdout",
     "output_type": "stream",
     "text": [
      "Tee Moore\n",
      "{'/search/tweets': {'limit': 180, 'remaining': 180, 'reset': 1564164122}}\n"
     ]
    }
   ],
   "source": [
    "user = api.me()\n",
    "print (user.name)\n",
    "print(api.rate_limit_status()['resources']['search'])"
   ]
  },
  {
   "cell_type": "code",
   "execution_count": 23,
   "metadata": {
    "scrolled": false
   },
   "outputs": [
    {
     "data": {
      "text/plain": [
       "['GDOTATL',\n",
       " 'SCDOTMidlands',\n",
       " 'SCDOTPeeDee',\n",
       " 'SCDOTLowCountry',\n",
       " 'SCDOTPiedmont',\n",
       " '511statewideva',\n",
       " 'fl511_panhandl',\n",
       " '511Georgia',\n",
       " 'fl511_state',\n",
       " 'fl511_northeast',\n",
       " 'fl511_southeast',\n",
       " 'fl511_southwest',\n",
       " 'fl511_tampabay',\n",
       " 'fl511_central',\n",
       " '511centralva',\n",
       " '511hamptonroads',\n",
       " '511northernva',\n",
       " 'NCDOT_Westmtn',\n",
       " 'NCDOT_Triangle',\n",
       " 'NCDOT_Piedmont',\n",
       " 'NCDOT_Charlotte',\n",
       " 'NCDOT_Asheville',\n",
       " 'NCDOT_Scoast',\n",
       " 'NCDOT_Ncoast']"
      ]
     },
     "execution_count": 23,
     "metadata": {},
     "output_type": "execute_result"
    }
   ],
   "source": [
    "my_accounts = []\n",
    "for member in tweepy.Cursor(api.list_members, 'ClydeLazersex', 'evac-route-official').items():\n",
    "    my_accounts.append(member.screen_name)\n",
    "# Show list\n",
    "my_accounts"
   ]
  },
  {
   "cell_type": "code",
   "execution_count": 24,
   "metadata": {},
   "outputs": [
    {
     "name": "stdout",
     "output_type": "stream",
     "text": [
      "<GetOldTweets3.manager.TweetCriteria.TweetCriteria object at 0x11511e8d0>\n",
      "<GetOldTweets3.manager.TweetCriteria.TweetCriteria object at 0x11511e9e8>\n",
      "<GetOldTweets3.manager.TweetCriteria.TweetCriteria object at 0x11649ce80>\n",
      "<GetOldTweets3.manager.TweetCriteria.TweetCriteria object at 0x114fc9e10>\n",
      "<GetOldTweets3.manager.TweetCriteria.TweetCriteria object at 0x115a33a58>\n",
      "<GetOldTweets3.manager.TweetCriteria.TweetCriteria object at 0x115ad1cf8>\n",
      "<GetOldTweets3.manager.TweetCriteria.TweetCriteria object at 0x115e5b550>\n",
      "<GetOldTweets3.manager.TweetCriteria.TweetCriteria object at 0x1147f8b70>\n",
      "<GetOldTweets3.manager.TweetCriteria.TweetCriteria object at 0x115ad1dd8>\n",
      "<GetOldTweets3.manager.TweetCriteria.TweetCriteria object at 0x10a05be10>\n",
      "<GetOldTweets3.manager.TweetCriteria.TweetCriteria object at 0x10a05ba20>\n",
      "<GetOldTweets3.manager.TweetCriteria.TweetCriteria object at 0x115be4780>\n",
      "<GetOldTweets3.manager.TweetCriteria.TweetCriteria object at 0x10a8ef588>\n",
      "<GetOldTweets3.manager.TweetCriteria.TweetCriteria object at 0x115108f98>\n",
      "<GetOldTweets3.manager.TweetCriteria.TweetCriteria object at 0x10a8ef588>\n",
      "<GetOldTweets3.manager.TweetCriteria.TweetCriteria object at 0x115108da0>\n",
      "<GetOldTweets3.manager.TweetCriteria.TweetCriteria object at 0x115c00048>\n",
      "<GetOldTweets3.manager.TweetCriteria.TweetCriteria object at 0x1172fd748>\n",
      "<GetOldTweets3.manager.TweetCriteria.TweetCriteria object at 0x115a001d0>\n",
      "<GetOldTweets3.manager.TweetCriteria.TweetCriteria object at 0x1168475f8>\n",
      "<GetOldTweets3.manager.TweetCriteria.TweetCriteria object at 0x1147f8b70>\n",
      "<GetOldTweets3.manager.TweetCriteria.TweetCriteria object at 0x115a8fba8>\n",
      "<GetOldTweets3.manager.TweetCriteria.TweetCriteria object at 0x10a7fd0f0>\n",
      "<GetOldTweets3.manager.TweetCriteria.TweetCriteria object at 0x115a16b38>\n",
      "Shape of DataFrame:  (24054, 7)\n",
      "Time run: 703.1755900382996\n"
     ]
    }
   ],
   "source": [
    "# code modified from Jasmine Vasandani\n",
    "# With the help of got.manager, get all the tweets from 10/04/2016 till 10/14/2016\n",
    "# Store all the collected tweets in DF\n",
    "\n",
    "# Start timer.\n",
    "t0 = time.time()\n",
    "\n",
    "max_tweets=3000\n",
    "closure_list=[]\n",
    "final_df=pd.DataFrame()\n",
    "for account in my_accounts:\n",
    "    tweetCriteria = got.manager.TweetCriteria().setUsername(account).setSince(\"2016-10-04\").setUntil(\"2016-10-14\").setMaxTweets(max_tweets)   \n",
    "    print(tweetCriteria)\n",
    "    tweet = got.manager.TweetManager.getTweets(tweetCriteria)\n",
    "    for i in range(len(tweet)):\n",
    "        tweet_dict = {}\n",
    "        tweet_dict['id'] = tweet[i].id\n",
    "        tweet_dict['username'] = tweet[i].username\n",
    "        tweet_dict['date'] = tweet[i].date\n",
    "        tweet_dict['text'] = tweet[i].text\n",
    "        tweet_dict['hashtags'] = tweet[i].hashtags\n",
    "        tweet_dict['geo'] = tweet[i].geo\n",
    "        tweet_dict['type'] = 'official'\n",
    "        closure_list.append(tweet_dict)\n",
    "\n",
    "\n",
    "df1=pd.DataFrame(closure_list)\n",
    "final_df = pd.concat([df1, final_df])\n",
    "print(\"Shape of DataFrame: \", final_df.shape)\n",
    "\n",
    "# Print results of timer.\n",
    "print(f\"Time run: {time.time() - t0}\")"
   ]
  },
  {
   "cell_type": "code",
   "execution_count": 25,
   "metadata": {
    "scrolled": true
   },
   "outputs": [
    {
     "data": {
      "text/plain": [
       "300    CLEARED: Obstruction on roadway; I-20 WB, btwn...\n",
       "301    Update: Obstruction on roadway; I-20 EB: btwn ...\n",
       "302    Update: Obstruction on roadway; I-20 EB: btwn ...\n",
       "303    Update: Obstruction on roadway; I-20 WB: btwn ...\n",
       "304    CLEARED: Obstruction on roadway; I-20 EB, btwn...\n",
       "305    Update: Obstruction on roadway; I-20 EB: btwn ...\n",
       "306        CLEARED: Accident; I-77 SB, at Exit13.| 8:16P\n",
       "307    Update: Accident; I-77 SB: at Exit13, lft ln c...\n",
       "308    Accident; I-77 SB: at Exit13, lft ln clsd, Ocr...\n",
       "309    CLEARED: Disabled veh; I-26 WB, at Exit111A.| ...\n",
       "310    Disabled veh; I-26 WB: at Exit111A, rt exit rm...\n",
       "311    Update: Obstruction on roadway; I-20 EB: btwn ...\n",
       "312    Update: Obstruction on roadway; I-20 EB: btwn ...\n",
       "313    Obstruction on roadway; I-20 EB: btwn Exit101 ...\n",
       "314    Update: Obstruction on roadway; I-20 WB: btwn ...\n",
       "315    Update: Obstruction on roadway; I-20 EB: btwn ...\n",
       "316       CLEARED: Accident; I-20 WB, at Exit82.| 11:14A\n",
       "317    Update: Accident; I-20 WB: at Exit82, all lns ...\n",
       "318    Update: Accident; I-20 WB: at Exit82, all lns ...\n",
       "319    Obstruction on roadway; I-20 EB: btwn 1 mi W o...\n",
       "320    Obstruction on roadway; I-20 WB: btwn 4 mi W o...\n",
       "321       CLEARED: Accident; I-20 EB, at Exit82.| 10:49A\n",
       "322    CLEARED: Obstruction on roadway; I-26 WB, 1 mi...\n",
       "323       CLEARED: Accident; I-20 EB, at Exit61.| 10:46A\n",
       "324    Update: Accident; I-20 EB: at Exit82, lft ln c...\n",
       "325    CLEARED: Obstruction on roadway; I-20 WB, 2 mi...\n",
       "326    Update: Obstruction on roadway; I-26 WB: 1 mi ...\n",
       "327    Accident; I-20 EB: at Exit61, no lns clsd, Ocr...\n",
       "328    Accident; I-20 WB: at Exit82, lft ln clsd, Ocr...\n",
       "329    Accident; I-20 EB: at Exit82, lft ln clsd, Ocr...\n",
       "330    CLEARED: Obstruction on roadway; I-20 WB, at E...\n",
       "331    Update: Obstruction on roadway; I-20 WB: at Ex...\n",
       "332    Obstruction on roadway; I-20 EB: btwn 1 mi E o...\n",
       "333    Obstruction on roadway; I-20 WB: at Exit74, rh...\n",
       "334    CLEARED: Obstruction on roadway; I-20 WB, at E...\n",
       "335    Obstruction on roadway; I-20 WB: at Exit68, no...\n",
       "336    Obstruction on roadway; I-20 WB: 2 mi E of Exi...\n",
       "337    Obstruction on roadway; I-26 WB: 1 mi E of Exi...\n",
       "338       CLEARED: Accident; I-20 EB, at Exit64A.| 3:29A\n",
       "339    Accident; I-20 EB: at Exit64A, rht ln clsd, Oc...\n",
       "340       CLEARED: Accident; I-20 WB, at Exit87.| 12:34A\n",
       "341    Update: Accident; I-20 WB: at Exit87, lft ln c...\n",
       "342    Accident; I-20 WB: at Exit87, lft ln clsd, Ocr...\n",
       "343      CLEARED: Accident; I-26 EB, at Exit108A.| 9:56P\n",
       "344       CLEARED: Accident; I-20 WB, at Exit64B.| 9:09P\n",
       "345    Accident; I-26 EB: at Exit108A, lft ln clsd, O...\n",
       "346    Update: Accident; I-20 WB: at Exit64B, no lns ...\n",
       "347    Accident; I-20 WB: at Exit64B, no lns clsd, Oc...\n",
       "348    CLEARED: Accident; I-20 EB, 1 mi W of Exit76.|...\n",
       "349    Update: Accident; I-20 EB: 1 mi W of Exit76, a...\n",
       "Name: text, dtype: object"
      ]
     },
     "execution_count": 25,
     "metadata": {},
     "output_type": "execute_result"
    }
   ],
   "source": [
    "# pull a sample of the scraped tweets\n",
    "final_df.iloc[300:350].text"
   ]
  },
  {
   "cell_type": "code",
   "execution_count": 26,
   "metadata": {},
   "outputs": [
    {
     "data": {
      "text/plain": [
       "Index(['date', 'geo', 'hashtags', 'id', 'text', 'type', 'username'], dtype='object')"
      ]
     },
     "execution_count": 26,
     "metadata": {},
     "output_type": "execute_result"
    }
   ],
   "source": [
    "# list the columns of the dataframe\n",
    "final_df.columns"
   ]
  },
  {
   "cell_type": "code",
   "execution_count": 27,
   "metadata": {
    "scrolled": true
   },
   "outputs": [
    {
     "data": {
      "text/plain": [
       "username\n",
       "511Georgia           94\n",
       "511centralva       2926\n",
       "511hamptonroads    1733\n",
       "511northernva      3000\n",
       "511statewideva      976\n",
       "GDOTATL              47\n",
       "NCDOT_Asheville      72\n",
       "NCDOT_Charlotte     181\n",
       "NCDOT_Ncoast        455\n",
       "NCDOT_Piedmont       94\n",
       "NCDOT_Scoast        529\n",
       "NCDOT_Triangle      618\n",
       "NCDOT_Westmtn         2\n",
       "SCDOTLowCountry     308\n",
       "SCDOTMidlands       471\n",
       "SCDOTPeeDee          70\n",
       "SCDOTPiedmont       386\n",
       "fl511_central      1906\n",
       "fl511_northeast    2894\n",
       "fl511_panhandl      345\n",
       "fl511_southeast    3000\n",
       "fl511_southwest     508\n",
       "fl511_state        2631\n",
       "fl511_tampabay      808\n",
       "Name: username, dtype: int64"
      ]
     },
     "execution_count": 27,
     "metadata": {},
     "output_type": "execute_result"
    }
   ],
   "source": [
    "# list the accounts followed and the count of Tweets collected from each account\n",
    "final_df.groupby(by='username')['username'].count()"
   ]
  },
  {
   "cell_type": "code",
   "execution_count": 28,
   "metadata": {},
   "outputs": [],
   "source": [
    "final_df.to_csv('../data/Tweets_Historical/historic_tweets_official_07262019.csv', index = False)"
   ]
  },
  {
   "cell_type": "code",
   "execution_count": null,
   "metadata": {},
   "outputs": [],
   "source": []
  }
 ],
 "metadata": {
  "kernelspec": {
   "display_name": "Python 3",
   "language": "python",
   "name": "python3"
  },
  "language_info": {
   "codemirror_mode": {
    "name": "ipython",
    "version": 3
   },
   "file_extension": ".py",
   "mimetype": "text/x-python",
   "name": "python",
   "nbconvert_exporter": "python",
   "pygments_lexer": "ipython3",
   "version": "3.7.3"
  }
 },
 "nbformat": 4,
 "nbformat_minor": 2
}
