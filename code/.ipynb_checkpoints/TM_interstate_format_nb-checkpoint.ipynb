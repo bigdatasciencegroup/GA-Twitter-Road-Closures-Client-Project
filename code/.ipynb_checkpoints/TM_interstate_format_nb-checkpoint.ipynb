{
 "cells": [
  {
   "cell_type": "code",
   "execution_count": 1,
   "metadata": {},
   "outputs": [],
   "source": [
    "import pandas as pd\n",
    "import numpy as np"
   ]
  },
  {
   "cell_type": "code",
   "execution_count": 2,
   "metadata": {},
   "outputs": [],
   "source": [
    "i10 = pd.read_csv(\"../i10_csv\")\n",
    "i95 = pd.read_csv(\"../df_csv\")\n",
    "i295 = pd.read_csv(\"../295_df_csv\")"
   ]
  },
  {
   "cell_type": "code",
   "execution_count": 3,
   "metadata": {
    "scrolled": true
   },
   "outputs": [
    {
     "name": "stdout",
     "output_type": "stream",
     "text": [
      "Index(['exit', 'crossSt', 'dir', 'lat', 'long', 'interstate', 'exits'], dtype='object')\n",
      "Index(['exit', 'crossSt', 'dir', 'lat', 'long', 'interstate', 'exits'], dtype='object')\n",
      "Index(['exit', 'crossSt', 'dir', 'lat', 'long', 'interstate', 'exits'], dtype='object')\n"
     ]
    }
   ],
   "source": [
    "i95['interstate'] = 'Interstate 95'\n",
    "i95['exits'] = 'Exit ' + i95['exit']\n",
    "i10['interstate'] = 'Interstate 10'\n",
    "i10['exits'] = 'Exit ' + i10['exit']\n",
    "i295['interstate'] = 'Interstate 295'\n",
    "i295['exits'] = 'Exit ' + i295['exit']\n",
    "\n",
    "print(i95.columns)\n",
    "print(i295.columns)\n",
    "print(i10.columns)"
   ]
  },
  {
   "cell_type": "code",
   "execution_count": 8,
   "metadata": {
    "scrolled": true
   },
   "outputs": [
    {
     "data": {
      "text/plain": [
       "array(['S', 'N', nan, 'E', 'W'], dtype=object)"
      ]
     },
     "execution_count": 8,
     "metadata": {},
     "output_type": "execute_result"
    }
   ],
   "source": [
    "i_df = pd.concat([i95, i295, i10], axis = 0, )\n",
    "i_df['dir'].unique()"
   ]
  },
  {
   "cell_type": "code",
   "execution_count": 5,
   "metadata": {
    "scrolled": true
   },
   "outputs": [],
   "source": [
    "i_df = i_df.reset_index()"
   ]
  },
  {
   "cell_type": "code",
   "execution_count": 13,
   "metadata": {
    "scrolled": true
   },
   "outputs": [],
   "source": [
    "dir_dict = {'N':'North', 'S':'South', 'E':'East', 'W':'West', np.nan:'None'}\n",
    "i_df['dir'] = i_df['dir'].map(dir_dict)"
   ]
  },
  {
   "cell_type": "code",
   "execution_count": 15,
   "metadata": {},
   "outputs": [
    {
     "data": {
      "text/plain": [
       "array(['South', 'North', 'None', 'East', 'West'], dtype=object)"
      ]
     },
     "execution_count": 15,
     "metadata": {},
     "output_type": "execute_result"
    }
   ],
   "source": [
    "i_df['dir'].unique()"
   ]
  },
  {
   "cell_type": "code",
   "execution_count": 16,
   "metadata": {},
   "outputs": [],
   "source": [
    "i_df.to_csv(\"../data/interstate_exits.csv\", index = False)"
   ]
  }
 ],
 "metadata": {
  "kernelspec": {
   "display_name": "Python [conda env:dsi] *",
   "language": "python",
   "name": "conda-env-dsi-py"
  },
  "language_info": {
   "codemirror_mode": {
    "name": "ipython",
    "version": 3
   },
   "file_extension": ".py",
   "mimetype": "text/x-python",
   "name": "python",
   "nbconvert_exporter": "python",
   "pygments_lexer": "ipython3",
   "version": "3.7.3"
  }
 },
 "nbformat": 4,
 "nbformat_minor": 2
}
