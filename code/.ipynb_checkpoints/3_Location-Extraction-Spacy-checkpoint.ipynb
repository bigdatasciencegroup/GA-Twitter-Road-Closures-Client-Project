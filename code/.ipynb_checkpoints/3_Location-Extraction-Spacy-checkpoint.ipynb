{
 "cells": [
  {
   "cell_type": "markdown",
   "metadata": {},
   "source": [
    "# 3. Location Extraction and Spacy Word Vectorization"
   ]
  },
  {
   "cell_type": "markdown",
   "metadata": {},
   "source": [
    "Using the SpaCy module, we used Named Entity Recognition (NER) Functionality to pull important features form the Tweet text. We first had to format the Tweets to be friendly to SpaCy's algorithm. Then, using the information extracted, we compared the tweets and the extracted locations to a dataset of interstate exits and cross streets to extract the GPS coordinates from known entities. This information was added to the Tweet dataset to help build queries for mapping purposes."
   ]
  },
  {
   "cell_type": "markdown",
   "metadata": {},
   "source": [
    "- [**Import Libraries**](#Import-Libraries)\n",
    "- [**SpaCy Preprocessing**](#SpaCy-Preprocessing)\n",
    "  - [Spacy Processing Function](#Run-SpaCy-Location-Extraction)\n",
    "- [**GPS Coordinate Extraction**](#GPS-Coordinate-Extraction-using-Interstate-Exits)\n",
    "- [**SpaCy Visualization**](#SpaCy-Visualization)"
   ]
  },
  {
   "cell_type": "markdown",
   "metadata": {},
   "source": [
    "## Import Libraries"
   ]
  },
  {
   "cell_type": "code",
   "execution_count": 1,
   "metadata": {
    "scrolled": true
   },
   "outputs": [],
   "source": [
    "import pandas as pd\n",
    "import numpy as np\n",
    "import re\n",
    "import spacy\n",
    "import string\n",
    "import datetime\n",
    "\n",
    "from spacy import displacy"
   ]
  },
  {
   "cell_type": "code",
   "execution_count": 2,
   "metadata": {
    "scrolled": true
   },
   "outputs": [
    {
     "name": "stdout",
     "output_type": "stream",
     "text": [
      "(24054, 7)\n",
      "(200, 7)\n"
     ]
    },
    {
     "data": {
      "text/html": [
       "<div>\n",
       "<style scoped>\n",
       "    .dataframe tbody tr th:only-of-type {\n",
       "        vertical-align: middle;\n",
       "    }\n",
       "\n",
       "    .dataframe tbody tr th {\n",
       "        vertical-align: top;\n",
       "    }\n",
       "\n",
       "    .dataframe thead th {\n",
       "        text-align: right;\n",
       "    }\n",
       "</style>\n",
       "<table border=\"1\" class=\"dataframe\">\n",
       "  <thead>\n",
       "    <tr style=\"text-align: right;\">\n",
       "      <th></th>\n",
       "      <th>date</th>\n",
       "      <th>text</th>\n",
       "      <th>type</th>\n",
       "      <th>username</th>\n",
       "      <th>tweet</th>\n",
       "      <th>state</th>\n",
       "      <th>road_closure</th>\n",
       "    </tr>\n",
       "  </thead>\n",
       "  <tbody>\n",
       "    <tr>\n",
       "      <th>0</th>\n",
       "      <td>2019-08-02 13:12:24</td>\n",
       "      <td>updated  crash in duval on sr-202   butler blv...</td>\n",
       "      <td>official</td>\n",
       "      <td>fl511_northeast</td>\n",
       "      <td>Updated  Crash in Duval on SR-202   Butler Blv...</td>\n",
       "      <td>Florida</td>\n",
       "      <td>1</td>\n",
       "    </tr>\n",
       "    <tr>\n",
       "      <th>1</th>\n",
       "      <td>2019-08-02 13:06:27</td>\n",
       "      <td>good news   project wrapped early     #anjtraf...</td>\n",
       "      <td>official</td>\n",
       "      <td>ActionTraffic</td>\n",
       "      <td>Good News   Project wrapped early     #ANJTraf...</td>\n",
       "      <td>Florida</td>\n",
       "      <td>0</td>\n",
       "    </tr>\n",
       "    <tr>\n",
       "      <th>2</th>\n",
       "      <td>2019-08-02 13:04:02</td>\n",
       "      <td>roosevelt boulevard and san juan avenue railro...</td>\n",
       "      <td>official</td>\n",
       "      <td>JSOPIO</td>\n",
       "      <td>Roosevelt Boulevard and San Juan Avenue railro...</td>\n",
       "      <td>Florida</td>\n",
       "      <td>0</td>\n",
       "    </tr>\n",
       "    <tr>\n",
       "      <th>3</th>\n",
       "      <td>2019-08-02 12:46:32</td>\n",
       "      <td>year to date in 2019 \\n101 traffic fatalities ...</td>\n",
       "      <td>official</td>\n",
       "      <td>JSOPIO</td>\n",
       "      <td>Year to Date in 2019 \\n101 Traffic Fatalities ...</td>\n",
       "      <td>Florida</td>\n",
       "      <td>0</td>\n",
       "    </tr>\n",
       "    <tr>\n",
       "      <th>4</th>\n",
       "      <td>2019-08-02 11:48:59</td>\n",
       "      <td>jacksonville   there will be lane closure on n...</td>\n",
       "      <td>official</td>\n",
       "      <td>fl511_northeast</td>\n",
       "      <td>Jacksonville   There will be lane closure on N...</td>\n",
       "      <td>Florida</td>\n",
       "      <td>1</td>\n",
       "    </tr>\n",
       "  </tbody>\n",
       "</table>\n",
       "</div>"
      ],
      "text/plain": [
       "                  date                                               text  \\\n",
       "0  2019-08-02 13:12:24  updated  crash in duval on sr-202   butler blv...   \n",
       "1  2019-08-02 13:06:27  good news   project wrapped early     #anjtraf...   \n",
       "2  2019-08-02 13:04:02  roosevelt boulevard and san juan avenue railro...   \n",
       "3  2019-08-02 12:46:32  year to date in 2019 \\n101 traffic fatalities ...   \n",
       "4  2019-08-02 11:48:59  jacksonville   there will be lane closure on n...   \n",
       "\n",
       "       type         username  \\\n",
       "0  official  fl511_northeast   \n",
       "1  official    ActionTraffic   \n",
       "2  official           JSOPIO   \n",
       "3  official           JSOPIO   \n",
       "4  official  fl511_northeast   \n",
       "\n",
       "                                               tweet    state  road_closure  \n",
       "0  Updated  Crash in Duval on SR-202   Butler Blv...  Florida             1  \n",
       "1  Good News   Project wrapped early     #ANJTraf...  Florida             0  \n",
       "2  Roosevelt Boulevard and San Juan Avenue railro...  Florida             0  \n",
       "3  Year to Date in 2019 \\n101 Traffic Fatalities ...  Florida             0  \n",
       "4  Jacksonville   There will be lane closure on N...  Florida             1  "
      ]
     },
     "execution_count": 2,
     "metadata": {},
     "output_type": "execute_result"
    }
   ],
   "source": [
    "# Read in csv with Tweets\n",
    "twitter_closures = pd.read_csv(\"../data/Cleaned_Tweets/cleaned_historic_official_07312019.csv\")\n",
    "rt_closures = pd.read_csv(\"../data/Cleaned_Tweets/cleaned_RT_official_08022019.csv\")\n",
    "\n",
    "exits = pd.read_csv(\"../data/interstate_exits.csv\")\n",
    "\n",
    "twitter_closures = twitter_closures[['date', 'text', 'type', 'username', 'tweet', 'state', 'road_closure']]\n",
    "rt_closures = rt_closures[['date', 'text', 'type', 'username', 'tweet', 'state', 'road_closure']]\n",
    "\n",
    "# Print DF shape\n",
    "print(twitter_closures.shape)\n",
    "print(rt_closures.shape)\n",
    "\n",
    "# Show head of real time tweets\n",
    "rt_closures.head()"
   ]
  },
  {
   "cell_type": "code",
   "execution_count": 3,
   "metadata": {},
   "outputs": [],
   "source": [
    "exits['crossSt'] = exits['crossSt'].fillna('None')"
   ]
  },
  {
   "cell_type": "markdown",
   "metadata": {},
   "source": [
    "## SpaCy Preprocessing\n",
    "\n",
    "SpaCy is able to recognize locations more accurately if certain words like \"at\" or \"in\" are before the entity. We modified the strings to allow SpaCy to be more effective and gather more location entities.\n",
    "\n",
    "We specifically call spacy to highlight Countries, cities, and States (GPE), non-tagged locations, mountain ranges, bodies of water (LOC), and buildings, airports, highways, and bridges (FAC)"
   ]
  },
  {
   "cell_type": "code",
   "execution_count": 4,
   "metadata": {},
   "outputs": [
    {
     "data": {
      "text/html": [
       "<div>\n",
       "<style scoped>\n",
       "    .dataframe tbody tr th:only-of-type {\n",
       "        vertical-align: middle;\n",
       "    }\n",
       "\n",
       "    .dataframe tbody tr th {\n",
       "        vertical-align: top;\n",
       "    }\n",
       "\n",
       "    .dataframe thead th {\n",
       "        text-align: right;\n",
       "    }\n",
       "</style>\n",
       "<table border=\"1\" class=\"dataframe\">\n",
       "  <thead>\n",
       "    <tr style=\"text-align: right;\">\n",
       "      <th></th>\n",
       "      <th>date</th>\n",
       "      <th>text</th>\n",
       "      <th>type</th>\n",
       "      <th>username</th>\n",
       "      <th>tweet</th>\n",
       "      <th>state</th>\n",
       "      <th>road_closure</th>\n",
       "      <th>modified_text</th>\n",
       "      <th>location</th>\n",
       "    </tr>\n",
       "  </thead>\n",
       "  <tbody>\n",
       "    <tr>\n",
       "      <th>0</th>\n",
       "      <td>2016-10-11 16:39:51+00:00</td>\n",
       "      <td>the pioh for the sr 138 i-20 is going on now u...</td>\n",
       "      <td>official</td>\n",
       "      <td>GDOTATL</td>\n",
       "      <td>The PIOH for the SR 138 I-20 is going on now u...</td>\n",
       "      <td>Georgia</td>\n",
       "      <td>0</td>\n",
       "      <td></td>\n",
       "      <td></td>\n",
       "    </tr>\n",
       "    <tr>\n",
       "      <th>1</th>\n",
       "      <td>2016-10-10 19:10:23+00:00</td>\n",
       "      <td>we appreciate all the hard work our crews have...</td>\n",
       "      <td>official</td>\n",
       "      <td>GDOTATL</td>\n",
       "      <td>We appreciate all the hard work our crews have...</td>\n",
       "      <td>Georgia</td>\n",
       "      <td>0</td>\n",
       "      <td></td>\n",
       "      <td></td>\n",
       "    </tr>\n",
       "  </tbody>\n",
       "</table>\n",
       "</div>"
      ],
      "text/plain": [
       "                        date  \\\n",
       "0  2016-10-11 16:39:51+00:00   \n",
       "1  2016-10-10 19:10:23+00:00   \n",
       "\n",
       "                                                text      type username  \\\n",
       "0  the pioh for the sr 138 i-20 is going on now u...  official  GDOTATL   \n",
       "1  we appreciate all the hard work our crews have...  official  GDOTATL   \n",
       "\n",
       "                                               tweet    state  road_closure  \\\n",
       "0  The PIOH for the SR 138 I-20 is going on now u...  Georgia             0   \n",
       "1  We appreciate all the hard work our crews have...  Georgia             0   \n",
       "\n",
       "  modified_text location  \n",
       "0                         \n",
       "1                         "
      ]
     },
     "execution_count": 4,
     "metadata": {},
     "output_type": "execute_result"
    }
   ],
   "source": [
    "# Create new columns to transfer modified tweet text. Five versions of tweets will be created.\n",
    "twitter_closures['modified_text'] = ''\n",
    "twitter_closures['location'] = ''\n",
    "rt_closures['modified_text'] = ''\n",
    "rt_closures['location'] = ''\n",
    "\n",
    "# Show modified DF\n",
    "twitter_closures.head(2)"
   ]
  },
  {
   "cell_type": "code",
   "execution_count": 5,
   "metadata": {},
   "outputs": [],
   "source": [
    "format_dict = {\"hwy\": \"highway \",\n",
    "            \"blvd\": \"boulevard\",\n",
    "            \" st\": \"street\",\n",
    "           \"CR \": \"County Road \",\n",
    "           \"SR \": \"State Road\",\n",
    "           \"I-\": \"Interstate \",\n",
    "           \"EB \": \"Eastbound \",\n",
    "           \"WB \": \"Westbound \",\n",
    "           \"SB \": \"Southbound\",\n",
    "           \"NB \": \"Northbound\",\n",
    "           \" on \": \" at \",\n",
    "           \" E \": \" East \",\n",
    "           \" W \": \" West \",\n",
    "           \" S \": \" South\",\n",
    "           \" N \": \" North\",\n",
    "           \"mi \": \"mile \",\n",
    "           \"between \": \"at \",\n",
    "           \"Between \": \"at \",\n",
    "           \" In \": \" in\",\n",
    "           \" in \": \" at \"}"
   ]
  },
  {
   "cell_type": "code",
   "execution_count": 6,
   "metadata": {},
   "outputs": [],
   "source": [
    "def spacy_cleaner(df, col, word_dict):\n",
    "    modified_text = \"At \" + df[col].replace(word_dict, regex=True)\n",
    "    modified_text = modified_text.str.title()\n",
    "    return modified_text"
   ]
  },
  {
   "cell_type": "code",
   "execution_count": 7,
   "metadata": {
    "scrolled": true
   },
   "outputs": [],
   "source": [
    "# run the text cleaning function and test results\n",
    "twitter_closures['modified_text'] = spacy_cleaner(twitter_closures, 'tweet', format_dict)\n",
    "rt_closures['modified_text'] = spacy_cleaner(rt_closures, 'tweet', format_dict)"
   ]
  },
  {
   "cell_type": "code",
   "execution_count": 8,
   "metadata": {
    "scrolled": true
   },
   "outputs": [
    {
     "data": {
      "text/plain": [
       "array(['GDOTATL', 'SCDOTMidlands', 'SCDOTPeeDee', 'SCDOTLowCountry',\n",
       "       'SCDOTPiedmont', '511statewideva', 'fl511_panhandl', '511Georgia',\n",
       "       'fl511_state', 'fl511_northeast', 'fl511_southeast',\n",
       "       'fl511_southwest', 'fl511_tampabay', 'fl511_central',\n",
       "       '511centralva', '511hamptonroads', '511northernva',\n",
       "       'NCDOT_Westmtn', 'NCDOT_Triangle', 'NCDOT_Piedmont',\n",
       "       'NCDOT_Charlotte', 'NCDOT_Asheville', 'NCDOT_Scoast',\n",
       "       'NCDOT_Ncoast'], dtype=object)"
      ]
     },
     "execution_count": 8,
     "metadata": {},
     "output_type": "execute_result"
    }
   ],
   "source": [
    "twitter_closures['username'].unique()"
   ]
  },
  {
   "cell_type": "code",
   "execution_count": 9,
   "metadata": {
    "scrolled": true
   },
   "outputs": [],
   "source": [
    "# convert date column to datetime\n",
    "twitter_closures['date'] = pd.to_datetime(twitter_closures['date'])\n",
    "rt_closures['date'] = pd.to_datetime(rt_closures['date'])"
   ]
  },
  {
   "cell_type": "code",
   "execution_count": 10,
   "metadata": {},
   "outputs": [],
   "source": [
    "# for ease of use of the historic tweets, only take tweets that happened from\n",
    "# October 6, 2016 to October 9, 2016\n",
    "# the day Hurricane Matthew hit Jacksonville\n",
    "twitter_closures = twitter_closures[(twitter_closures['date'] > '2016-10-6') & (twitter_closures['date'] < '2016-10-9')]"
   ]
  },
  {
   "cell_type": "code",
   "execution_count": 11,
   "metadata": {},
   "outputs": [
    {
     "data": {
      "text/plain": [
       "(285, 9)"
      ]
     },
     "execution_count": 11,
     "metadata": {},
     "output_type": "execute_result"
    }
   ],
   "source": [
    "# only use tweets that contain road closures are from 'fl511 northeast'\n",
    "loc_df = twitter_closures[(twitter_closures['road_closure'] == 1) & (twitter_closures['username'] == 'fl511_northeast')]\n",
    "loc_df.shape"
   ]
  },
  {
   "cell_type": "code",
   "execution_count": 12,
   "metadata": {},
   "outputs": [
    {
     "data": {
      "text/plain": [
       "(129, 9)"
      ]
     },
     "execution_count": 12,
     "metadata": {},
     "output_type": "execute_result"
    }
   ],
   "source": [
    "# only take tweets that contain road closures from the real time set\n",
    "rt_loc_df = rt_closures[(rt_closures['road_closure'] == 1)]\n",
    "rt_loc_df.shape"
   ]
  },
  {
   "cell_type": "markdown",
   "metadata": {},
   "source": [
    "## Run SpaCy Location Extraction \n",
    "\n",
    "**WARNING** SpaCy is computationally expensive, extracting these locations will take time."
   ]
  },
  {
   "cell_type": "code",
   "execution_count": 13,
   "metadata": {},
   "outputs": [],
   "source": [
    "def get_loc(df, text_column, location_column):\n",
    "    \n",
    "    # Use Spacy to extract location names from `text` column\n",
    "    for i in range(len(df)):\n",
    "        \n",
    "        #instantiate spacy model\n",
    "        nlp = spacy.load(\"en_core_web_sm\")\n",
    "        \n",
    "        # create documewnt from modified text column\n",
    "        doc = nlp(df[text_column].iloc[i])\n",
    "        \n",
    "        locations = set()\n",
    "        \n",
    "        # loop through every entity in the doc\n",
    "        for ent in doc.ents:\n",
    "            \n",
    "            # find entities labelled as places\n",
    "            if (ent.label_=='GPE') or (ent.label_=='FAC') or (ent.label_ == 'LOC'):\n",
    "                \n",
    "                # put locations in a set\n",
    "                locations.add(ent.text)\n",
    "                df[location_column].iloc[i] = locations\n",
    "                \n",
    "    return df[location_column]"
   ]
  },
  {
   "cell_type": "code",
   "execution_count": 14,
   "metadata": {
    "scrolled": true
   },
   "outputs": [
    {
     "name": "stderr",
     "output_type": "stream",
     "text": [
      "/Users/templemoore/anaconda3/envs/dsi/lib/python3.7/site-packages/pandas/core/indexing.py:190: SettingWithCopyWarning: \n",
      "A value is trying to be set on a copy of a slice from a DataFrame\n",
      "\n",
      "See the caveats in the documentation: http://pandas.pydata.org/pandas-docs/stable/indexing.html#indexing-view-versus-copy\n",
      "  self._setitem_with_indexer(indexer, value)\n",
      "/Users/templemoore/anaconda3/envs/dsi/lib/python3.7/site-packages/ipykernel_launcher.py:22: SettingWithCopyWarning: \n",
      "A value is trying to be set on a copy of a slice from a DataFrame\n",
      "\n",
      "See the caveats in the documentation: http://pandas.pydata.org/pandas-docs/stable/indexing.html#indexing-view-versus-copy\n"
     ]
    }
   ],
   "source": [
    "loc = get_loc(loc_df, 'modified_text', 'location')"
   ]
  },
  {
   "cell_type": "code",
   "execution_count": 15,
   "metadata": {
    "scrolled": true
   },
   "outputs": [
    {
     "name": "stderr",
     "output_type": "stream",
     "text": [
      "/Users/templemoore/anaconda3/envs/dsi/lib/python3.7/site-packages/ipykernel_launcher.py:22: SettingWithCopyWarning: \n",
      "A value is trying to be set on a copy of a slice from a DataFrame\n",
      "\n",
      "See the caveats in the documentation: http://pandas.pydata.org/pandas-docs/stable/indexing.html#indexing-view-versus-copy\n"
     ]
    }
   ],
   "source": [
    "rt_loc = get_loc(rt_loc_df, 'modified_text', 'location')"
   ]
  },
  {
   "cell_type": "code",
   "execution_count": 16,
   "metadata": {
    "scrolled": true
   },
   "outputs": [
    {
     "name": "stdout",
     "output_type": "stream",
     "text": [
      "(285, 9)\n"
     ]
    },
    {
     "name": "stderr",
     "output_type": "stream",
     "text": [
      "/Users/templemoore/anaconda3/envs/dsi/lib/python3.7/site-packages/ipykernel_launcher.py:1: SettingWithCopyWarning: \n",
      "A value is trying to be set on a copy of a slice from a DataFrame.\n",
      "Try using .loc[row_indexer,col_indexer] = value instead\n",
      "\n",
      "See the caveats in the documentation: http://pandas.pydata.org/pandas-docs/stable/indexing.html#indexing-view-versus-copy\n",
      "  \"\"\"Entry point for launching an IPython kernel.\n"
     ]
    },
    {
     "data": {
      "text/html": [
       "<div>\n",
       "<style scoped>\n",
       "    .dataframe tbody tr th:only-of-type {\n",
       "        vertical-align: middle;\n",
       "    }\n",
       "\n",
       "    .dataframe tbody tr th {\n",
       "        vertical-align: top;\n",
       "    }\n",
       "\n",
       "    .dataframe thead th {\n",
       "        text-align: right;\n",
       "    }\n",
       "</style>\n",
       "<table border=\"1\" class=\"dataframe\">\n",
       "  <thead>\n",
       "    <tr style=\"text-align: right;\">\n",
       "      <th></th>\n",
       "      <th>date</th>\n",
       "      <th>text</th>\n",
       "      <th>type</th>\n",
       "      <th>username</th>\n",
       "      <th>tweet</th>\n",
       "      <th>state</th>\n",
       "      <th>road_closure</th>\n",
       "      <th>modified_text</th>\n",
       "      <th>location</th>\n",
       "    </tr>\n",
       "  </thead>\n",
       "  <tbody>\n",
       "    <tr>\n",
       "      <th>6649</th>\n",
       "      <td>2016-10-08 23:33:38+00:00</td>\n",
       "      <td>new  disabled vehicle in duval on sr-202   but...</td>\n",
       "      <td>official</td>\n",
       "      <td>fl511_northeast</td>\n",
       "      <td>NEW  Disabled vehicle in Duval on SR-202   But...</td>\n",
       "      <td>Florida</td>\n",
       "      <td>1</td>\n",
       "      <td>At New  Disabled Vehicle At Duval At Sr-202   ...</td>\n",
       "      <td>{Kernan Blvd Right Shoulder Blocked, Blvd East}</td>\n",
       "    </tr>\n",
       "    <tr>\n",
       "      <th>6651</th>\n",
       "      <td>2016-10-08 23:18:05+00:00</td>\n",
       "      <td>new  disabled vehicle in duval on i-295 w nort...</td>\n",
       "      <td>official</td>\n",
       "      <td>fl511_northeast</td>\n",
       "      <td>NEW  Disabled vehicle in Duval on I-295 W nort...</td>\n",
       "      <td>Florida</td>\n",
       "      <td>1</td>\n",
       "      <td>At New  Disabled Vehicle At Duval At Interstat...</td>\n",
       "      <td>{San Jose, Interstate 295 West North}</td>\n",
       "    </tr>\n",
       "    <tr>\n",
       "      <th>6657</th>\n",
       "      <td>2016-10-08 21:58:06+00:00</td>\n",
       "      <td>new  unconfirmed disabled vehicle in duval on ...</td>\n",
       "      <td>official</td>\n",
       "      <td>fl511_northeast</td>\n",
       "      <td>NEW  Unconfirmed disabled vehicle in Duval on ...</td>\n",
       "      <td>Florida</td>\n",
       "      <td>1</td>\n",
       "      <td>At New  Unconfirmed Disabled Vehicle At Duval ...</td>\n",
       "      <td>{Interstate 10 East Ramp To Interstate 95}</td>\n",
       "    </tr>\n",
       "    <tr>\n",
       "      <th>6660</th>\n",
       "      <td>2016-10-08 21:33:05+00:00</td>\n",
       "      <td>update  disabled vehicle in duval on i-295 w n...</td>\n",
       "      <td>official</td>\n",
       "      <td>fl511_northeast</td>\n",
       "      <td>UPDATE  Disabled vehicle in Duval on I-295 W n...</td>\n",
       "      <td>Florida</td>\n",
       "      <td>1</td>\n",
       "      <td>At Update  Disabled Vehicle At Duval At Inters...</td>\n",
       "      <td>{Interstate 295 West North}</td>\n",
       "    </tr>\n",
       "    <tr>\n",
       "      <th>6662</th>\n",
       "      <td>2016-10-08 21:28:40+00:00</td>\n",
       "      <td>new  disabled vehicle in duval on i-295 w nort...</td>\n",
       "      <td>official</td>\n",
       "      <td>fl511_northeast</td>\n",
       "      <td>NEW  Disabled vehicle in Duval on I-295 W nort...</td>\n",
       "      <td>Florida</td>\n",
       "      <td>1</td>\n",
       "      <td>At New  Disabled Vehicle At Duval At Interstat...</td>\n",
       "      <td>{Interstate 295 West North}</td>\n",
       "    </tr>\n",
       "  </tbody>\n",
       "</table>\n",
       "</div>"
      ],
      "text/plain": [
       "                          date  \\\n",
       "6649 2016-10-08 23:33:38+00:00   \n",
       "6651 2016-10-08 23:18:05+00:00   \n",
       "6657 2016-10-08 21:58:06+00:00   \n",
       "6660 2016-10-08 21:33:05+00:00   \n",
       "6662 2016-10-08 21:28:40+00:00   \n",
       "\n",
       "                                                   text      type  \\\n",
       "6649  new  disabled vehicle in duval on sr-202   but...  official   \n",
       "6651  new  disabled vehicle in duval on i-295 w nort...  official   \n",
       "6657  new  unconfirmed disabled vehicle in duval on ...  official   \n",
       "6660  update  disabled vehicle in duval on i-295 w n...  official   \n",
       "6662  new  disabled vehicle in duval on i-295 w nort...  official   \n",
       "\n",
       "             username                                              tweet  \\\n",
       "6649  fl511_northeast  NEW  Disabled vehicle in Duval on SR-202   But...   \n",
       "6651  fl511_northeast  NEW  Disabled vehicle in Duval on I-295 W nort...   \n",
       "6657  fl511_northeast  NEW  Unconfirmed disabled vehicle in Duval on ...   \n",
       "6660  fl511_northeast  UPDATE  Disabled vehicle in Duval on I-295 W n...   \n",
       "6662  fl511_northeast  NEW  Disabled vehicle in Duval on I-295 W nort...   \n",
       "\n",
       "        state  road_closure  \\\n",
       "6649  Florida             1   \n",
       "6651  Florida             1   \n",
       "6657  Florida             1   \n",
       "6660  Florida             1   \n",
       "6662  Florida             1   \n",
       "\n",
       "                                          modified_text  \\\n",
       "6649  At New  Disabled Vehicle At Duval At Sr-202   ...   \n",
       "6651  At New  Disabled Vehicle At Duval At Interstat...   \n",
       "6657  At New  Unconfirmed Disabled Vehicle At Duval ...   \n",
       "6660  At Update  Disabled Vehicle At Duval At Inters...   \n",
       "6662  At New  Disabled Vehicle At Duval At Interstat...   \n",
       "\n",
       "                                             location  \n",
       "6649  {Kernan Blvd Right Shoulder Blocked, Blvd East}  \n",
       "6651            {San Jose, Interstate 295 West North}  \n",
       "6657       {Interstate 10 East Ramp To Interstate 95}  \n",
       "6660                      {Interstate 295 West North}  \n",
       "6662                      {Interstate 295 West North}  "
      ]
     },
     "execution_count": 16,
     "metadata": {},
     "output_type": "execute_result"
    }
   ],
   "source": [
    "loc_df['location'] = loc\n",
    "print(loc_df.shape)\n",
    "loc_df.head()"
   ]
  },
  {
   "cell_type": "code",
   "execution_count": 17,
   "metadata": {},
   "outputs": [
    {
     "name": "stdout",
     "output_type": "stream",
     "text": [
      "(129, 9)\n"
     ]
    },
    {
     "name": "stderr",
     "output_type": "stream",
     "text": [
      "/Users/templemoore/anaconda3/envs/dsi/lib/python3.7/site-packages/ipykernel_launcher.py:1: SettingWithCopyWarning: \n",
      "A value is trying to be set on a copy of a slice from a DataFrame.\n",
      "Try using .loc[row_indexer,col_indexer] = value instead\n",
      "\n",
      "See the caveats in the documentation: http://pandas.pydata.org/pandas-docs/stable/indexing.html#indexing-view-versus-copy\n",
      "  \"\"\"Entry point for launching an IPython kernel.\n"
     ]
    },
    {
     "data": {
      "text/html": [
       "<div>\n",
       "<style scoped>\n",
       "    .dataframe tbody tr th:only-of-type {\n",
       "        vertical-align: middle;\n",
       "    }\n",
       "\n",
       "    .dataframe tbody tr th {\n",
       "        vertical-align: top;\n",
       "    }\n",
       "\n",
       "    .dataframe thead th {\n",
       "        text-align: right;\n",
       "    }\n",
       "</style>\n",
       "<table border=\"1\" class=\"dataframe\">\n",
       "  <thead>\n",
       "    <tr style=\"text-align: right;\">\n",
       "      <th></th>\n",
       "      <th>date</th>\n",
       "      <th>text</th>\n",
       "      <th>type</th>\n",
       "      <th>username</th>\n",
       "      <th>tweet</th>\n",
       "      <th>state</th>\n",
       "      <th>road_closure</th>\n",
       "      <th>modified_text</th>\n",
       "      <th>location</th>\n",
       "    </tr>\n",
       "  </thead>\n",
       "  <tbody>\n",
       "    <tr>\n",
       "      <th>0</th>\n",
       "      <td>2019-08-02 13:12:24</td>\n",
       "      <td>updated  crash in duval on sr-202   butler blv...</td>\n",
       "      <td>official</td>\n",
       "      <td>fl511_northeast</td>\n",
       "      <td>Updated  Crash in Duval on SR-202   Butler Blv...</td>\n",
       "      <td>Florida</td>\n",
       "      <td>1</td>\n",
       "      <td>At Updated  Crash At Duval At Sr-202   Butler ...</td>\n",
       "      <td>{Interstate, Butler Blvd}</td>\n",
       "    </tr>\n",
       "    <tr>\n",
       "      <th>4</th>\n",
       "      <td>2019-08-02 11:48:59</td>\n",
       "      <td>jacksonville   there will be lane closure on n...</td>\n",
       "      <td>official</td>\n",
       "      <td>fl511_northeast</td>\n",
       "      <td>Jacksonville   There will be lane closure on N...</td>\n",
       "      <td>Florida</td>\n",
       "      <td>1</td>\n",
       "      <td>At Jacksonville   There Will Be Lane Closure A...</td>\n",
       "      <td>{New Kings Rd Northbound From Dunn Ave, Woodle...</td>\n",
       "    </tr>\n",
       "    <tr>\n",
       "      <th>7</th>\n",
       "      <td>2019-08-02 11:12:34</td>\n",
       "      <td>new  disabled vehicle in duval on i-295 e sout...</td>\n",
       "      <td>official</td>\n",
       "      <td>fl511_northeast</td>\n",
       "      <td>New  Disabled vehicle in Duval on I-295 E sout...</td>\n",
       "      <td>Florida</td>\n",
       "      <td>1</td>\n",
       "      <td>At New  Disabled Vehicle At Duval At Interstat...</td>\n",
       "      <td>{Interstate 295 East South, Dames Point}</td>\n",
       "    </tr>\n",
       "    <tr>\n",
       "      <th>9</th>\n",
       "      <td>2019-08-02 10:45:18</td>\n",
       "      <td>new  planned construction in clay on sr-21   b...</td>\n",
       "      <td>official</td>\n",
       "      <td>fl511_northeast</td>\n",
       "      <td>New  Planned construction in Clay on SR-21   B...</td>\n",
       "      <td>Florida</td>\n",
       "      <td>1</td>\n",
       "      <td>At New  Planned Construction At Clay At Sr-21 ...</td>\n",
       "      <td></td>\n",
       "    </tr>\n",
       "    <tr>\n",
       "      <th>10</th>\n",
       "      <td>2019-08-02 10:34:38</td>\n",
       "      <td>635a- big 3 travel times     no problems on th...</td>\n",
       "      <td>official</td>\n",
       "      <td>ActionTraffic</td>\n",
       "      <td>635a- BIG 3 travel times     no problems on th...</td>\n",
       "      <td>Florida</td>\n",
       "      <td>1</td>\n",
       "      <td>At 635A- Big 3 Travel Times     No Problems At...</td>\n",
       "      <td></td>\n",
       "    </tr>\n",
       "  </tbody>\n",
       "</table>\n",
       "</div>"
      ],
      "text/plain": [
       "                  date                                               text  \\\n",
       "0  2019-08-02 13:12:24  updated  crash in duval on sr-202   butler blv...   \n",
       "4  2019-08-02 11:48:59  jacksonville   there will be lane closure on n...   \n",
       "7  2019-08-02 11:12:34  new  disabled vehicle in duval on i-295 e sout...   \n",
       "9  2019-08-02 10:45:18  new  planned construction in clay on sr-21   b...   \n",
       "10 2019-08-02 10:34:38  635a- big 3 travel times     no problems on th...   \n",
       "\n",
       "        type         username  \\\n",
       "0   official  fl511_northeast   \n",
       "4   official  fl511_northeast   \n",
       "7   official  fl511_northeast   \n",
       "9   official  fl511_northeast   \n",
       "10  official    ActionTraffic   \n",
       "\n",
       "                                                tweet    state  road_closure  \\\n",
       "0   Updated  Crash in Duval on SR-202   Butler Blv...  Florida             1   \n",
       "4   Jacksonville   There will be lane closure on N...  Florida             1   \n",
       "7   New  Disabled vehicle in Duval on I-295 E sout...  Florida             1   \n",
       "9   New  Planned construction in Clay on SR-21   B...  Florida             1   \n",
       "10  635a- BIG 3 travel times     no problems on th...  Florida             1   \n",
       "\n",
       "                                        modified_text  \\\n",
       "0   At Updated  Crash At Duval At Sr-202   Butler ...   \n",
       "4   At Jacksonville   There Will Be Lane Closure A...   \n",
       "7   At New  Disabled Vehicle At Duval At Interstat...   \n",
       "9   At New  Planned Construction At Clay At Sr-21 ...   \n",
       "10  At 635A- Big 3 Travel Times     No Problems At...   \n",
       "\n",
       "                                             location  \n",
       "0                           {Interstate, Butler Blvd}  \n",
       "4   {New Kings Rd Northbound From Dunn Ave, Woodle...  \n",
       "7            {Interstate 295 East South, Dames Point}  \n",
       "9                                                      \n",
       "10                                                     "
      ]
     },
     "execution_count": 17,
     "metadata": {},
     "output_type": "execute_result"
    }
   ],
   "source": [
    "rt_loc_df['location'] = rt_loc\n",
    "print(rt_loc_df.shape)\n",
    "rt_loc_df.head()"
   ]
  },
  {
   "cell_type": "code",
   "execution_count": 18,
   "metadata": {},
   "outputs": [],
   "source": [
    "loc_df.to_csv(\"../data/Loc_Extracted/tweet_locations_sample_08022019.csv\", index = False)\n",
    "rt_loc_df.to_csv(\"../data/Loc_Extracted/rt_locations_sample_08022019.csv\", index = False)"
   ]
  },
  {
   "cell_type": "markdown",
   "metadata": {},
   "source": [
    "## GPS Coordinate Extraction using Interstate Exits"
   ]
  },
  {
   "cell_type": "markdown",
   "metadata": {},
   "source": [
    "Using our collected dataset of geolocated GPS coordinates, we then attempt to match strings referencing interstate names and exits to the coordinates in our dataset. The following two functions search by Interstate and Exit, then attempt to append the GPS coordinates to the Tweet."
   ]
  },
  {
   "cell_type": "code",
   "execution_count": 19,
   "metadata": {},
   "outputs": [],
   "source": [
    "# function to extract interstate, exit number, and direction\n",
    "def exit_extractor (df, col, i_df):\n",
    "    \n",
    "    # instantiate lists for exit data\n",
    "    exits = []\n",
    "    interstates = []\n",
    "    direction = []\n",
    "    cross_st = []\n",
    "    \n",
    "    # loop through text column\n",
    "    for item in df[col]:\n",
    "        \n",
    "        # look for \"interstate\" in text\n",
    "        if 'Interstate' in item:\n",
    "            \n",
    "            # use regex to extract interstate and number from text\n",
    "            i_string = re.search(r'Interstate (\\S+)', item)\n",
    "            interstates.append(i_string.group(0))\n",
    "            \n",
    "            # use regex to extract direction following \"interstate\"\n",
    "            d_string = re.search(\"(i-\\d*|Interstate \\d*) (South|North|East|West)*\", item)\n",
    "            d_string = d_string.group(0)\n",
    "            d_string =  re.search(\"South|North|East|West\", d_string)\n",
    "            \n",
    "            # try to extract the direction from the regex object\n",
    "            # append null if an error is thrown\n",
    "            try:\n",
    "                d_string = d_string.group(0)\n",
    "                \n",
    "            except AttributeError: \n",
    "                d_string = np.nan\n",
    "                \n",
    "            # append direction to list    \n",
    "            direction.append(d_string)\n",
    "                             \n",
    "            # find \"exit\" in text\n",
    "            if 'Exit' in item:\n",
    "                \n",
    "                # use regex to extract interstate and number from text\n",
    "                e_string = re.search(r'Exit (\\S+)', item)\n",
    "                exits.append(e_string.group(0))\n",
    "            \n",
    "            # add \"none\" when no exit is found   \n",
    "            else:\n",
    "                exits.append(\"None\")\n",
    "                \n",
    "        # add \"none\" to exits and interstates if no interstate is found\n",
    "        else:\n",
    "            interstates.append(\"None\")\n",
    "            exits.append(\"None\")\n",
    "            direction.append(\"None\")\n",
    "            \n",
    "    # create a new dataframe from the interstate and exit lists\n",
    "    new_df = pd.DataFrame(data = interstates, columns = ['interstate'])\n",
    "    new_df['exits'] = exits\n",
    "    new_df['direction'] = direction\n",
    "    \n",
    "    # return new dataframe\n",
    "    return new_df"
   ]
  },
  {
   "cell_type": "code",
   "execution_count": 20,
   "metadata": {},
   "outputs": [],
   "source": [
    "# function to extract longitude and latitude, if available\n",
    "def loc_extractor(new_df, i_df):\n",
    "    \n",
    "    lat = []\n",
    "    long = []\n",
    "    cross = []\n",
    "    \n",
    "    # loop through the new dataframe\n",
    "    for index, row in new_df.iterrows():\n",
    "        \n",
    "        # find rows that have both an interstate and exit extracted\n",
    "        if (row['interstate'] != \"None\") and (row['exits'] != \"None\") and row['direction'] != \"None\":\n",
    "            \n",
    "            # attempt to add lat and long based on exit and interstate strings\n",
    "            try:    \n",
    "                mask = (i_df['interstate'].str.contains(row['interstate'])) & (i_df['exits'].str.contains(row['exits']))\n",
    "                \n",
    "                # add lat and long to list\n",
    "                lat.append(i_df[mask].iloc[0]['lat'])\n",
    "                long.append(i_df[mask].iloc[0]['long'])\n",
    "            \n",
    "            # if an error occurs, append null to lat and long\n",
    "            # print index where error occured\n",
    "            except:\n",
    "                print(f\"No exit found at {index}\")\n",
    "\n",
    "                lat.append(np.nan)\n",
    "                long.append(np.nan)\n",
    "        # if no exit is found, add null values to lat and long\n",
    "        else:\n",
    "            lat.append(np.nan)\n",
    "            long.append(np.nan)\n",
    "            \n",
    "    # add lat and long to new dataframe\n",
    "    new_df['lat'] = lat\n",
    "    new_df['long'] = long\n",
    "    \n",
    "    return new_df"
   ]
  },
  {
   "cell_type": "code",
   "execution_count": 21,
   "metadata": {},
   "outputs": [],
   "source": [
    "loc_df = pd.read_csv(\"../data/Loc_Extracted/tweet_locations_sample_08012019.csv\")\n",
    "rt_loc_df = pd.read_csv(\"../data/Loc_Extracted/rt_locations_sample_08022019.csv\")"
   ]
  },
  {
   "cell_type": "code",
   "execution_count": 22,
   "metadata": {
    "scrolled": false
   },
   "outputs": [
    {
     "name": "stdout",
     "output_type": "stream",
     "text": [
      "No exit found at 157\n",
      "No exit found at 160\n",
      "No exit found at 167\n",
      "No exit found at 220\n",
      "No exit found at 230\n",
      "No exit found at 253\n",
      "No exit found at 265\n",
      "No exit found at 267\n"
     ]
    }
   ],
   "source": [
    "# run coordinate extraction on historic dataset\n",
    "e_df = loc_extractor(exit_extractor(loc_df, 'modified_text', exits), exits)\n",
    "final_df = pd.concat([loc_df, e_df], axis = 1)"
   ]
  },
  {
   "cell_type": "code",
   "execution_count": 23,
   "metadata": {
    "scrolled": true
   },
   "outputs": [
    {
     "name": "stdout",
     "output_type": "stream",
     "text": [
      "No exit found at 39\n",
      "No exit found at 40\n"
     ]
    }
   ],
   "source": [
    "# run coorindate extraction on real time dataset\n",
    "rt_e_df = loc_extractor(exit_extractor(rt_loc_df, 'modified_text', exits), exits)\n",
    "final_rt_df = pd.concat([rt_loc_df, rt_e_df], axis = 1)"
   ]
  },
  {
   "cell_type": "code",
   "execution_count": 24,
   "metadata": {
    "scrolled": true
   },
   "outputs": [
    {
     "data": {
      "text/plain": [
       "(35, 14)"
      ]
     },
     "execution_count": 24,
     "metadata": {},
     "output_type": "execute_result"
    }
   ],
   "source": [
    "final_rt_df.dropna().shape"
   ]
  },
  {
   "cell_type": "code",
   "execution_count": 25,
   "metadata": {
    "scrolled": true
   },
   "outputs": [
    {
     "data": {
      "text/plain": [
       "(97, 14)"
      ]
     },
     "execution_count": 25,
     "metadata": {},
     "output_type": "execute_result"
    }
   ],
   "source": [
    "final_df.dropna().shape"
   ]
  },
  {
   "cell_type": "code",
   "execution_count": 26,
   "metadata": {},
   "outputs": [],
   "source": [
    "final_df.to_csv(\"../data/Loc_Extracted/tweet_locations_extract_08012019.csv\", index = False)\n",
    "final_rt_df.to_csv(\"../data/Loc_Extracted/rt_locations_extract_08022019.csv\", index = False)"
   ]
  },
  {
   "cell_type": "markdown",
   "metadata": {},
   "source": [
    "## SpaCy Visualization"
   ]
  },
  {
   "cell_type": "code",
   "execution_count": 27,
   "metadata": {
    "scrolled": false
   },
   "outputs": [
    {
     "data": {
      "text/html": [
       "<div class=\"entities\" style=\"line-height: 2.5\">At \n",
       "<mark class=\"entity\" style=\"background: #7aecec; padding: 0.45em 0.6em; margin: 0 0.25em; line-height: 1; border-radius: 0.35em; box-decoration-break: clone; -webkit-box-decoration-break: clone\">\n",
       "    Updated\n",
       "    <span style=\"font-size: 0.8em; font-weight: bold; line-height: 1; border-radius: 0.35em; text-transform: uppercase; vertical-align: middle; margin-left: 0.5rem\">ORG</span>\n",
       "</mark>\n",
       "  Crash At St \n",
       "<mark class=\"entity\" style=\"background: #feca74; padding: 0.45em 0.6em; margin: 0 0.25em; line-height: 1; border-radius: 0.35em; box-decoration-break: clone; -webkit-box-decoration-break: clone\">\n",
       "    Johns\n",
       "    <span style=\"font-size: 0.8em; font-weight: bold; line-height: 1; border-radius: 0.35em; text-transform: uppercase; vertical-align: middle; margin-left: 0.5rem\">GPE</span>\n",
       "</mark>\n",
       " At \n",
       "<mark class=\"entity\" style=\"background: #ddd; padding: 0.45em 0.6em; margin: 0 0.25em; line-height: 1; border-radius: 0.35em; box-decoration-break: clone; -webkit-box-decoration-break: clone\">\n",
       "    Interstate 95 North Beyond\n",
       "    <span style=\"font-size: 0.8em; font-weight: bold; line-height: 1; border-radius: 0.35em; text-transform: uppercase; vertical-align: middle; margin-left: 0.5rem\">FAC</span>\n",
       "</mark>\n",
       " Intl Golf Pkwy Left Lane Blocked  Content Provided By Waze  Last    </div>"
      ],
      "text/plain": [
       "<IPython.core.display.HTML object>"
      ]
     },
     "metadata": {},
     "output_type": "display_data"
    }
   ],
   "source": [
    "nlp = spacy.load(\"en_core_web_sm\")\n",
    "text = final_rt_df.iloc[50]['modified_text']\n",
    "doc = nlp(text)\n",
    "displacy.render(doc, style=\"ent\", jupyter = True)"
   ]
  },
  {
   "cell_type": "code",
   "execution_count": 28,
   "metadata": {
    "scrolled": true
   },
   "outputs": [
    {
     "data": {
      "text/html": [
       "<div class=\"entities\" style=\"line-height: 2.5\">At \n",
       "<mark class=\"entity\" style=\"background: #7aecec; padding: 0.45em 0.6em; margin: 0 0.25em; line-height: 1; border-radius: 0.35em; box-decoration-break: clone; -webkit-box-decoration-break: clone\">\n",
       "    Updated\n",
       "    <span style=\"font-size: 0.8em; font-weight: bold; line-height: 1; border-radius: 0.35em; text-transform: uppercase; vertical-align: middle; margin-left: 0.5rem\">ORG</span>\n",
       "</mark>\n",
       "  Unconfirmed Crash At Columbia At \n",
       "<mark class=\"entity\" style=\"background: #ddd; padding: 0.45em 0.6em; margin: 0 0.25em; line-height: 1; border-radius: 0.35em; box-decoration-break: clone; -webkit-box-decoration-break: clone\">\n",
       "    Interstate 75 North\n",
       "    <span style=\"font-size: 0.8em; font-weight: bold; line-height: 1; border-radius: 0.35em; text-transform: uppercase; vertical-align: middle; margin-left: 0.5rem\">FAC</span>\n",
       "</mark>\n",
       " At \n",
       "<mark class=\"entity\" style=\"background: #ddd; padding: 0.45em 0.6em; margin: 0 0.25em; line-height: 1; border-radius: 0.35em; box-decoration-break: clone; -webkit-box-decoration-break: clone\">\n",
       "    Mm 408 Left Lane\n",
       "    <span style=\"font-size: 0.8em; font-weight: bold; line-height: 1; border-radius: 0.35em; text-transform: uppercase; vertical-align: middle; margin-left: 0.5rem\">FAC</span>\n",
       "</mark>\n",
       " Blocked  Last Updated At \n",
       "<mark class=\"entity\" style=\"background: #bfe1d9; padding: 0.45em 0.6em; margin: 0 0.25em; line-height: 1; border-radius: 0.35em; box-decoration-break: clone; -webkit-box-decoration-break: clone\">\n",
       "    08 25 32Am\n",
       "    <span style=\"font-size: 0.8em; font-weight: bold; line-height: 1; border-radius: 0.35em; text-transform: uppercase; vertical-align: middle; margin-left: 0.5rem\">TIME</span>\n",
       "</mark>\n",
       "   </div>"
      ],
      "text/plain": [
       "<IPython.core.display.HTML object>"
      ]
     },
     "metadata": {},
     "output_type": "display_data"
    }
   ],
   "source": [
    "text = final_rt_df.iloc[72]['modified_text']\n",
    "doc = nlp(text)\n",
    "displacy.render(doc, style=\"ent\", jupyter = True)"
   ]
  },
  {
   "cell_type": "code",
   "execution_count": null,
   "metadata": {},
   "outputs": [],
   "source": []
  }
 ],
 "metadata": {
  "kernelspec": {
   "display_name": "Python [conda env:dsi]",
   "language": "python",
   "name": "conda-env-dsi-py"
  },
  "language_info": {
   "codemirror_mode": {
    "name": "ipython",
    "version": 3
   },
   "file_extension": ".py",
   "mimetype": "text/x-python",
   "name": "python",
   "nbconvert_exporter": "python",
   "pygments_lexer": "ipython3",
   "version": "3.7.3"
  }
 },
 "nbformat": 4,
 "nbformat_minor": 2
}
