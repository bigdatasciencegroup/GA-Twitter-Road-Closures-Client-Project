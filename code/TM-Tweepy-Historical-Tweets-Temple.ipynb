{
 "cells": [
  {
   "cell_type": "markdown",
   "metadata": {},
   "source": [
    "# 1a. Historic Twitter Scraper\n",
    "\n",
    "This notebook uses the Tweepy and GetOldTweets modules to access the Twitter API. We used the Twitter API to get Tweets from blue-checkmarked 511 Twitter accounts from five different states. Since our focus was looking at Twitter during Hurricane Matthew, we only downloaded tweets from October 4, 2016 to October 14, 2016."
   ]
  },
  {
   "cell_type": "code",
   "execution_count": 1,
   "metadata": {},
   "outputs": [],
   "source": [
    "import tweepy\n",
    "import jsonpickle\n",
    "import json\n",
    "import datetime\n",
    "import GetOldTweets3 as got\n",
    "import time\n",
    "\n",
    "from pandas.io.json import json_normalize\n",
    "\n",
    "import pandas as pd"
   ]
  },
  {
   "cell_type": "code",
   "execution_count": 2,
   "metadata": {},
   "outputs": [],
   "source": [
    "# load Twitter API credentials\n",
    "with open('../twitter_credentials.json') as cred_data:\n",
    "    info = json.load(cred_data)\n",
    "    consumer_key = info['CONSUMER_KEY']\n",
    "    consumer_secret = info['CONSUMER_SECRET']\n",
    "    access_token = info['ACCESS_TOKEN']\n",
    "    access_secret = info['ACCESS_SECRET']"
   ]
  },
  {
   "cell_type": "code",
   "execution_count": 3,
   "metadata": {},
   "outputs": [
    {
     "name": "stdout",
     "output_type": "stream",
     "text": [
      "Authentication OK\n"
     ]
    }
   ],
   "source": [
    "# Authenticate to Twitter\n",
    "auth = tweepy.OAuthHandler(consumer_key, consumer_secret)\n",
    "auth.set_access_token(access_token, access_secret)\n",
    "\n",
    "api = tweepy.API(auth)\n",
    "\n",
    "try:\n",
    "    api.verify_credentials()\n",
    "    print(\"Authentication OK\")\n",
    "except:\n",
    "    print(\"Error during authentication\")"
   ]
  },
  {
   "cell_type": "code",
   "execution_count": 4,
   "metadata": {},
   "outputs": [
    {
     "name": "stdout",
     "output_type": "stream",
     "text": [
      "Tee Moore\n",
      "{'/search/tweets': {'limit': 180, 'remaining': 180, 'reset': 1564169077}}\n"
     ]
    }
   ],
   "source": [
    "user = api.me()\n",
    "print (user.name)\n",
    "print(api.rate_limit_status()['resources']['search'])"
   ]
  },
  {
   "cell_type": "code",
   "execution_count": 5,
   "metadata": {
    "scrolled": true
   },
   "outputs": [
    {
     "data": {
      "text/plain": [
       "['GDOTATL',\n",
       " 'SCDOTMidlands',\n",
       " 'SCDOTPeeDee',\n",
       " 'SCDOTLowCountry',\n",
       " 'SCDOTPiedmont',\n",
       " '511statewideva',\n",
       " 'fl511_panhandl',\n",
       " '511Georgia',\n",
       " 'fl511_state',\n",
       " 'fl511_northeast',\n",
       " 'fl511_southeast',\n",
       " 'fl511_southwest',\n",
       " 'fl511_tampabay',\n",
       " 'fl511_central',\n",
       " '511centralva',\n",
       " '511hamptonroads',\n",
       " '511northernva',\n",
       " 'NCDOT_Westmtn',\n",
       " 'NCDOT_Triangle',\n",
       " 'NCDOT_Piedmont',\n",
       " 'NCDOT_Charlotte',\n",
       " 'NCDOT_Asheville',\n",
       " 'NCDOT_Scoast',\n",
       " 'NCDOT_Ncoast']"
      ]
     },
     "execution_count": 5,
     "metadata": {},
     "output_type": "execute_result"
    }
   ],
   "source": [
    "# create username list\n",
    "my_accounts = []\n",
    "\n",
    "# extract usernames from the 511 Twitter list tied to Temple's twitter account\n",
    "for member in tweepy.Cursor(api.list_members, 'ClydeLazersex', 'evac-route-official').items():\n",
    "    my_accounts.append(member.screen_name)\n",
    "\n",
    "# Show list\n",
    "my_accounts"
   ]
  },
  {
   "cell_type": "code",
   "execution_count": 1,
   "metadata": {},
   "outputs": [
    {
     "ename": "NameError",
     "evalue": "name 'time' is not defined",
     "output_type": "error",
     "traceback": [
      "\u001b[0;31m---------------------------------------------------------------------------\u001b[0m",
      "\u001b[0;31mNameError\u001b[0m                                 Traceback (most recent call last)",
      "\u001b[0;32m<ipython-input-1-5ede6de02f5e>\u001b[0m in \u001b[0;36m<module>\u001b[0;34m\u001b[0m\n\u001b[1;32m      2\u001b[0m \u001b[0;31m# With the help of got.manager, get all the tweets from 10/04/2016 till 10/14/2016\u001b[0m\u001b[0;34m\u001b[0m\u001b[0;34m\u001b[0m\u001b[0;34m\u001b[0m\u001b[0m\n\u001b[1;32m      3\u001b[0m \u001b[0;31m# Store all the collected tweets in DF\u001b[0m\u001b[0;34m\u001b[0m\u001b[0;34m\u001b[0m\u001b[0;34m\u001b[0m\u001b[0m\n\u001b[0;32m----> 4\u001b[0;31m \u001b[0mt0\u001b[0m \u001b[0;34m=\u001b[0m \u001b[0mtime\u001b[0m\u001b[0;34m.\u001b[0m\u001b[0mtime\u001b[0m\u001b[0;34m(\u001b[0m\u001b[0;34m)\u001b[0m\u001b[0;34m\u001b[0m\u001b[0;34m\u001b[0m\u001b[0m\n\u001b[0m\u001b[1;32m      5\u001b[0m \u001b[0;34m\u001b[0m\u001b[0m\n\u001b[1;32m      6\u001b[0m \u001b[0mmax_tweets\u001b[0m\u001b[0;34m=\u001b[0m\u001b[0;36m3000\u001b[0m\u001b[0;34m\u001b[0m\u001b[0;34m\u001b[0m\u001b[0m\n",
      "\u001b[0;31mNameError\u001b[0m: name 'time' is not defined"
     ]
    }
   ],
   "source": [
    "# code modified from Jasmine Vasandani\n",
    "# With the help of got.manager, get all the tweets from 10/04/2016 till 10/14/2016\n",
    "# Store all the collected tweets in DF\n",
    "t0 = time.time()\n",
    "\n",
    "max_tweets=3000\n",
    "closure_list=[]\n",
    "final_df=pd.DataFrame()\n",
    "\n",
    "# GetOldTweets is able to get historical tweets from individual accounts\n",
    "# we loop through the account list to query the GOT module\n",
    "for account in my_accounts:\n",
    "    \n",
    "    # establish our twitter criteria\n",
    "    tweetCriteria = got.manager.TweetCriteria().setUsername(account).setSince(\"2016-10-04\").setUntil(\"2016-10-14\").setMaxTweets(max_tweets)   \n",
    "    \n",
    "    # print the criteria object\n",
    "    print(tweetCriteria)\n",
    "    \n",
    "    # query GOT\n",
    "    tweet = got.manager.TweetManager.getTweets(tweetCriteria)\n",
    "    \n",
    "    # create dictionary from tweet object\n",
    "    for i in range(len(tweet)):\n",
    "        tweet_dict = {}\n",
    "        tweet_dict['id'] = tweet[i].id\n",
    "        tweet_dict['username'] = tweet[i].username\n",
    "        tweet_dict['date'] = tweet[i].date\n",
    "        tweet_dict['text'] = tweet[i].text\n",
    "        tweet_dict['hashtags'] = tweet[i].hashtags\n",
    "        tweet_dict['geo'] = tweet[i].geo\n",
    "        tweet_dict['type'] = 'official'\n",
    "        \n",
    "        # added tweet dictionary to list\n",
    "        closure_list.append(tweet_dict)\n",
    "\n",
    "# create dataframe from list\n",
    "df1=pd.DataFrame(closure_list)\n",
    "\n",
    "# create final dataframe to save to CSV\n",
    "final_df = pd.concat([df1, final_df])\n",
    "print(\"Shape of DataFrame:\", final_df.shape)\n",
    "print(f\"Time run: {time.time() - t0}\")"
   ]
  },
  {
   "cell_type": "code",
   "execution_count": 7,
   "metadata": {},
   "outputs": [
    {
     "data": {
      "text/plain": [
       "(24054, 7)"
      ]
     },
     "execution_count": 7,
     "metadata": {},
     "output_type": "execute_result"
    }
   ],
   "source": [
    "# review the shape of the dataframe\n",
    "final_df.shape"
   ]
  },
  {
   "cell_type": "code",
   "execution_count": 8,
   "metadata": {},
   "outputs": [
    {
     "data": {
      "text/plain": [
       "{'id': '783245751862386692',\n",
       " 'username': 'SCDOTMidlands',\n",
       " 'date': datetime.datetime(2016, 10, 4, 10, 1, 53, tzinfo=datetime.timezone.utc),\n",
       " 'text': 'CLEARED: Construction; I-20 EB, btwn 1 mi W of Exit58 & 1 mi W of Exit61.| 6:01A',\n",
       " 'hashtags': '',\n",
       " 'geo': '',\n",
       " 'type': 'official'}"
      ]
     },
     "execution_count": 8,
     "metadata": {},
     "output_type": "execute_result"
    }
   ],
   "source": [
    "closure_list[500]"
   ]
  },
  {
   "cell_type": "code",
   "execution_count": 9,
   "metadata": {},
   "outputs": [
    {
     "data": {
      "text/plain": [
       "'CLEARED: Obstruction on roadway; I-20 WB, btwn 3 mi E of Exit123 & 1 mi W of Exit108.| 11:54P'"
      ]
     },
     "execution_count": 9,
     "metadata": {},
     "output_type": "execute_result"
    }
   ],
   "source": [
    "final_df.iloc[300].text"
   ]
  },
  {
   "cell_type": "code",
   "execution_count": 10,
   "metadata": {},
   "outputs": [
    {
     "data": {
      "text/plain": [
       "Index(['date', 'geo', 'hashtags', 'id', 'text', 'type', 'username'], dtype='object')"
      ]
     },
     "execution_count": 10,
     "metadata": {},
     "output_type": "execute_result"
    }
   ],
   "source": [
    "# list the columns from the dataframe\n",
    "final_df.columns"
   ]
  },
  {
   "cell_type": "code",
   "execution_count": 11,
   "metadata": {},
   "outputs": [
    {
     "data": {
      "text/plain": [
       "username\n",
       "511Georgia           94\n",
       "511centralva       2926\n",
       "511hamptonroads    1733\n",
       "511northernva      3000\n",
       "511statewideva      976\n",
       "GDOTATL              47\n",
       "NCDOT_Asheville      72\n",
       "NCDOT_Charlotte     181\n",
       "NCDOT_Ncoast        455\n",
       "NCDOT_Piedmont       94\n",
       "NCDOT_Scoast        529\n",
       "NCDOT_Triangle      618\n",
       "NCDOT_Westmtn         2\n",
       "SCDOTLowCountry     308\n",
       "SCDOTMidlands       471\n",
       "SCDOTPeeDee          70\n",
       "SCDOTPiedmont       386\n",
       "fl511_central      1906\n",
       "fl511_northeast    2894\n",
       "fl511_panhandl      345\n",
       "fl511_southeast    3000\n",
       "fl511_southwest     508\n",
       "fl511_state        2631\n",
       "fl511_tampabay      808\n",
       "Name: username, dtype: int64"
      ]
     },
     "execution_count": 11,
     "metadata": {},
     "output_type": "execute_result"
    }
   ],
   "source": [
    "# list the accounts followed and the count of Tweets collected from each account\n",
    "final_df.groupby(by='username')['username'].count()"
   ]
  },
  {
   "cell_type": "code",
   "execution_count": 12,
   "metadata": {},
   "outputs": [],
   "source": [
    "final_df.to_csv('../data/Tweets_Historical/historic_tweets_official_07262019.csv', index = False)"
   ]
  },
  {
   "cell_type": "code",
   "execution_count": 13,
   "metadata": {},
   "outputs": [],
   "source": [
    "df = pd.read_csv('../data/Tweets_Historical/historic_tweets_official_07262019.csv')"
   ]
  },
  {
   "cell_type": "code",
   "execution_count": 14,
   "metadata": {},
   "outputs": [
    {
     "data": {
      "text/plain": [
       "0        The PIOH for the SR 138/I-20 is going on now u...\n",
       "1        We appreciate all the hard work our crews have...\n",
       "2        Need info on re-entry? Check here! Also follow...\n",
       "3        Do you need some updates? You can find ALL of ...\n",
       "4        Did you know that the @511Georgia website and ...\n",
       "5        We are ready to be out there tomorrow morning ...\n",
       "6        The roads are definitely not clear but if anyb...\n",
       "7        From dawn to dusk, we are still hard at work i...\n",
       "8        For the most up to date information on re-entr...\n",
       "9        We need you to have patience in clearing the r...\n",
       "10       For the most up to date information on re-entr...\n",
       "11       Please WAIT to re-enter the coastal areas. We ...\n",
       "12       100s of GDOT employees are here for you either...\n",
       "13       We will let you know immediately when roads ar...\n",
       "14       You may drive a large truck or SUV but it only...\n",
       "15       Hurricanes can produce deadly flooding hundred...\n",
       "16       If you must drive, don't pass barricades and d...\n",
       "17       Need to report an outage? Do so here with our ...\n",
       "18       High winds will be prevalent tonight at above ...\n",
       "19       With the heavy rain coming in, you need these ...\n",
       "20       Beginning at 12:30 today contraflow will be di...\n",
       "21       GDOT officials and its partners continue to mo...\n",
       "22       Contraflow info on I-16...pic.twitter.com/za9u...\n",
       "23       In your planning process - need assistance wit...\n",
       "24       Information is forever changing in a dynamic s...\n",
       "25       Important links to keep handy and share.pic.tw...\n",
       "26       For up to date traffic info be sure to visit h...\n",
       "27       Have a question for us and it's late? Don't wo...\n",
       "28       Important links you should be aware of. Please...\n",
       "29       This is going to be quite the storm. Make sure...\n",
       "                               ...                        \n",
       "24024    NC-43, Near Greenville Pitt, Weather Event, Ro...\n",
       "24025    School Rd, Near Windsor Bertie, Weather Event,...\n",
       "24026    Have you checked to make sure all your electri...\n",
       "24027    I-95, Mile Marker 116 to 119, Both, Wilson, Wi...\n",
       "24028    I-95, Mile Marker 119, South, Wilson, Wilson, ...\n",
       "24029    Gov. McCrory: SMS texting is good way to check...\n",
       "24030    Halifax Rd, North West of Rocky Mount Nash, Ot...\n",
       "24031    With the suspension of Currituck-Knotts Island...\n",
       "24032    School Rd, Near Windsor Bertie, Weather Event,...\n",
       "24033    Halifax Rd, North West of Rocky Mount Nash, Ve...\n",
       "24034    Drivers need to be cautious when on Halifax Rd...\n",
       "24035    Halifax Rd, North West of Rocky Mount Nash, Ro...\n",
       "24036    Final ferry departure from Ocracoke to mainlan...\n",
       "24037    Peter Grant Rd, South of Snow Hill Greene, Mai...\n",
       "24038    I-95, Mile Marker 138, North, Rocky Mount, Nas...\n",
       "24039    I-95, Mile Marker 138 to 135, North, Rocky Mou...\n",
       "24040    Hwy 561, South of Littleton Halifax, Construct...\n",
       "24041    In anticipation of this weekend's weather, her...\n",
       "24042    Eugene Freeman Rd, North West of Colerain Bert...\n",
       "24043    I-95, Mile Marker 159, South, Enfield, Halifax...\n",
       "24044    I-95, Mile Marker 159, South, Enfield, Halifax...\n",
       "24045    Kershaw Road, In Arapahoe Pamlico, Maintenance...\n",
       "24046    McKendree Church Road, East of Tarboro Edgecom...\n",
       "24047    Lloyd Harrison Rd., South of Snow Hill Greene,...\n",
       "24048    Beginning tomorrow at 5 a.m., NC Ferries will ...\n",
       "24049    NC 42, West of Wilson Wilson, Maintenance, Roa...\n",
       "24050    NC 42, East of Wilson Wilson, Maintenance, Roa...\n",
       "24051    Due to storm preps, these NC ferry runs are ca...\n",
       "24052    NC-481, North East of Enfield Halifax, Mainten...\n",
       "24053    US-64, West of Tarboro Edgecombe, Congestion, ...\n",
       "Name: text, Length: 24054, dtype: object"
      ]
     },
     "execution_count": 14,
     "metadata": {},
     "output_type": "execute_result"
    }
   ],
   "source": [
    "df['text']"
   ]
  },
  {
   "cell_type": "code",
   "execution_count": null,
   "metadata": {},
   "outputs": [],
   "source": []
  }
 ],
 "metadata": {
  "kernelspec": {
   "display_name": "Python 3",
   "language": "python",
   "name": "python3"
  },
  "language_info": {
   "codemirror_mode": {
    "name": "ipython",
    "version": 3
   },
   "file_extension": ".py",
   "mimetype": "text/x-python",
   "name": "python",
   "nbconvert_exporter": "python",
   "pygments_lexer": "ipython3",
   "version": "3.7.3"
  }
 },
 "nbformat": 4,
 "nbformat_minor": 2
}
