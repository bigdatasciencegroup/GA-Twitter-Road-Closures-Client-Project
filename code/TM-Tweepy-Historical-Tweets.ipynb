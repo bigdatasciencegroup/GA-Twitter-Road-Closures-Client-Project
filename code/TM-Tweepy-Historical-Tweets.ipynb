{
 "cells": [
  {
   "cell_type": "code",
   "execution_count": 2,
   "metadata": {},
   "outputs": [],
   "source": [
    "import tweepy\n",
    "import shutil\n",
    "import jsonpickle\n",
    "import json\n",
    "import datetime\n",
    "import GetOldTweets3 as got\n",
    "\n",
    "from pandas.io.json import json_normalize\n",
    "\n",
    "import pandas as pd"
   ]
  },
  {
   "cell_type": "code",
   "execution_count": 3,
   "metadata": {},
   "outputs": [],
   "source": [
    "# load Twitter API credentials\n",
    "with open('../twitter_credentials.json') as cred_data:\n",
    "    info = json.load(cred_data)\n",
    "    consumer_key = info['CONSUMER_KEY']\n",
    "    consumer_secret = info['CONSUMER_SECRET']\n",
    "    access_token = info['ACCESS_TOKEN']\n",
    "    access_secret = info['ACCESS_SECRET']"
   ]
  },
  {
   "cell_type": "code",
   "execution_count": 4,
   "metadata": {},
   "outputs": [
    {
     "name": "stdout",
     "output_type": "stream",
     "text": [
      "Authentication OK\n"
     ]
    }
   ],
   "source": [
    "# Authenticate to Twitter\n",
    "auth = tweepy.OAuthHandler(consumer_key, consumer_secret)\n",
    "auth.set_access_token(access_token, access_secret)\n",
    "\n",
    "api = tweepy.API(auth)\n",
    "\n",
    "try:\n",
    "    api.verify_credentials()\n",
    "    print(\"Authentication OK\")\n",
    "except:\n",
    "    print(\"Error during authentication\")"
   ]
  },
  {
   "cell_type": "code",
   "execution_count": 8,
   "metadata": {},
   "outputs": [
    {
     "name": "stdout",
     "output_type": "stream",
     "text": [
      "Tee Moore\n",
      "{'/search/tweets': {'limit': 180, 'remaining': 180, 'reset': 1563900800}}\n"
     ]
    }
   ],
   "source": [
    "user = api.me()\n",
    "print (user.name)\n",
    "print(api.rate_limit_status()['resources']['search'])"
   ]
  },
  {
   "cell_type": "code",
   "execution_count": 6,
   "metadata": {
    "scrolled": false
   },
   "outputs": [
    {
     "data": {
      "text/plain": [
       "['GovKemp',\n",
       " 'NC_Governor',\n",
       " 'chrisWSOC9',\n",
       " 'FahertyWSOC9',\n",
       " 'DCTrafficHater',\n",
       " 'SCDOTLowCountry',\n",
       " 'ChathamCountyNC',\n",
       " 'NWSWilmingtonNC',\n",
       " 'NWSMoreheadCity',\n",
       " 'FloridaStorms',\n",
       " 'NWSGSP',\n",
       " 'NWSAtlanta',\n",
       " 'NWSJacksonville',\n",
       " 'NWSEastern',\n",
       " 'Glynn_Police',\n",
       " 'SCDPS_PIO',\n",
       " 'ChasCoSheriff',\n",
       " 'NWS',\n",
       " 'NCPublicSafety',\n",
       " 'St_Simons',\n",
       " 'NWSColumbia',\n",
       " 'GlynnCounty',\n",
       " '511Georgia',\n",
       " 'AllisonWSOC9',\n",
       " 'NWSCharlestonSC',\n",
       " 'NHC_Atlantic',\n",
       " 'TotalTrafficJAX',\n",
       " 'GADeptofTrans',\n",
       " 'kenlemonWSOC9',\n",
       " 'WTOPtraffic',\n",
       " 'scdhec',\n",
       " 'fl511_northeast',\n",
       " 'ChasCountyGov',\n",
       " 'NCEmergency',\n",
       " 'ChathamEMA',\n",
       " 'ActionTraffic',\n",
       " 'Golden_Isles',\n",
       " 'SavPolice',\n",
       " 'cityofsavannah',\n",
       " 'FLSERT',\n",
       " 'NCDOT_Triangle',\n",
       " 'SCEMD',\n",
       " 'brunswickgapd',\n",
       " 'GeorgiaPower',\n",
       " 'GeorgiaAlert',\n",
       " 'NCSHP',\n",
       " 'WOKVNews',\n",
       " 'ActionNewsJax',\n",
       " 'CityCharleston',\n",
       " 'wsoctv',\n",
       " 'wsbtv',\n",
       " 'GeorgiaEMA',\n",
       " 'CDCemergency',\n",
       " 'femaregion4',\n",
       " 'FEMAregion3',\n",
       " 'NCDOT',\n",
       " 'VDEM',\n",
       " 'jaxdotcom',\n",
       " 'WRAL',\n",
       " 'postandcourier',\n",
       " 'GARedCross',\n",
       " 'newsobserver']"
      ]
     },
     "execution_count": 6,
     "metadata": {},
     "output_type": "execute_result"
    }
   ],
   "source": [
    "my_accounts = []\n",
    "for member in tweepy.Cursor(api.list_members, 'ClydeLazersex', 'evac-route-project').items():\n",
    "    my_accounts.append(member.screen_name)\n",
    "# Show list\n",
    "my_accounts"
   ]
  },
  {
   "cell_type": "code",
   "execution_count": 9,
   "metadata": {},
   "outputs": [
    {
     "name": "stdout",
     "output_type": "stream",
     "text": [
      "<GetOldTweets3.manager.TweetCriteria.TweetCriteria object at 0x108268080>\n",
      "<GetOldTweets3.manager.TweetCriteria.TweetCriteria object at 0x107495eb8>\n",
      "<GetOldTweets3.manager.TweetCriteria.TweetCriteria object at 0x113cf4cf8>\n",
      "<GetOldTweets3.manager.TweetCriteria.TweetCriteria object at 0x108b0a9b0>\n",
      "<GetOldTweets3.manager.TweetCriteria.TweetCriteria object at 0x108268e10>\n",
      "<GetOldTweets3.manager.TweetCriteria.TweetCriteria object at 0x1081c6588>\n",
      "<GetOldTweets3.manager.TweetCriteria.TweetCriteria object at 0x10734c160>\n",
      "<GetOldTweets3.manager.TweetCriteria.TweetCriteria object at 0x108268a58>\n",
      "<GetOldTweets3.manager.TweetCriteria.TweetCriteria object at 0x113c330b8>\n",
      "<GetOldTweets3.manager.TweetCriteria.TweetCriteria object at 0x113c246d8>\n",
      "<GetOldTweets3.manager.TweetCriteria.TweetCriteria object at 0x11332bf60>\n",
      "<GetOldTweets3.manager.TweetCriteria.TweetCriteria object at 0x113c246d8>\n",
      "<GetOldTweets3.manager.TweetCriteria.TweetCriteria object at 0x107487588>\n",
      "<GetOldTweets3.manager.TweetCriteria.TweetCriteria object at 0x113d3f320>\n",
      "<GetOldTweets3.manager.TweetCriteria.TweetCriteria object at 0x1132edc50>\n",
      "<GetOldTweets3.manager.TweetCriteria.TweetCriteria object at 0x1133b3198>\n",
      "<GetOldTweets3.manager.TweetCriteria.TweetCriteria object at 0x107487588>\n",
      "<GetOldTweets3.manager.TweetCriteria.TweetCriteria object at 0x113c330b8>\n",
      "<GetOldTweets3.manager.TweetCriteria.TweetCriteria object at 0x10730ff60>\n",
      "<GetOldTweets3.manager.TweetCriteria.TweetCriteria object at 0x113c246d8>\n",
      "<GetOldTweets3.manager.TweetCriteria.TweetCriteria object at 0x1133b35f8>\n",
      "<GetOldTweets3.manager.TweetCriteria.TweetCriteria object at 0x1076eb518>\n",
      "<GetOldTweets3.manager.TweetCriteria.TweetCriteria object at 0x10730ff60>\n",
      "<GetOldTweets3.manager.TweetCriteria.TweetCriteria object at 0x10733b940>\n",
      "<GetOldTweets3.manager.TweetCriteria.TweetCriteria object at 0x1072f1358>\n",
      "<GetOldTweets3.manager.TweetCriteria.TweetCriteria object at 0x105a51c88>\n",
      "<GetOldTweets3.manager.TweetCriteria.TweetCriteria object at 0x1076fadd8>\n",
      "<GetOldTweets3.manager.TweetCriteria.TweetCriteria object at 0x1076ebe48>\n",
      "<GetOldTweets3.manager.TweetCriteria.TweetCriteria object at 0x113d96f60>\n",
      "<GetOldTweets3.manager.TweetCriteria.TweetCriteria object at 0x105a51c18>\n",
      "<GetOldTweets3.manager.TweetCriteria.TweetCriteria object at 0x1148b2588>\n",
      "<GetOldTweets3.manager.TweetCriteria.TweetCriteria object at 0x107657e10>\n",
      "<GetOldTweets3.manager.TweetCriteria.TweetCriteria object at 0x11462e0f0>\n",
      "<GetOldTweets3.manager.TweetCriteria.TweetCriteria object at 0x113d892b0>\n",
      "<GetOldTweets3.manager.TweetCriteria.TweetCriteria object at 0x1076e44e0>\n",
      "<GetOldTweets3.manager.TweetCriteria.TweetCriteria object at 0x1132edc50>\n",
      "<GetOldTweets3.manager.TweetCriteria.TweetCriteria object at 0x113d93400>\n",
      "<GetOldTweets3.manager.TweetCriteria.TweetCriteria object at 0x1072f1278>\n",
      "<GetOldTweets3.manager.TweetCriteria.TweetCriteria object at 0x1076ebb70>\n",
      "<GetOldTweets3.manager.TweetCriteria.TweetCriteria object at 0x113d9df28>\n",
      "<GetOldTweets3.manager.TweetCriteria.TweetCriteria object at 0x10734cf28>\n",
      "<GetOldTweets3.manager.TweetCriteria.TweetCriteria object at 0x114fbb048>\n",
      "<GetOldTweets3.manager.TweetCriteria.TweetCriteria object at 0x107295128>\n",
      "<GetOldTweets3.manager.TweetCriteria.TweetCriteria object at 0x1081c6358>\n",
      "<GetOldTweets3.manager.TweetCriteria.TweetCriteria object at 0x107295128>\n",
      "<GetOldTweets3.manager.TweetCriteria.TweetCriteria object at 0x113d93908>\n",
      "<GetOldTweets3.manager.TweetCriteria.TweetCriteria object at 0x113dd3a90>\n",
      "<GetOldTweets3.manager.TweetCriteria.TweetCriteria object at 0x1156c3080>\n",
      "<GetOldTweets3.manager.TweetCriteria.TweetCriteria object at 0x115105898>\n",
      "<GetOldTweets3.manager.TweetCriteria.TweetCriteria object at 0x113d705f8>\n",
      "<GetOldTweets3.manager.TweetCriteria.TweetCriteria object at 0x1159d6eb8>\n",
      "<GetOldTweets3.manager.TweetCriteria.TweetCriteria object at 0x115e9d160>\n",
      "<GetOldTweets3.manager.TweetCriteria.TweetCriteria object at 0x11510fb38>\n",
      "<GetOldTweets3.manager.TweetCriteria.TweetCriteria object at 0x1133b35f8>\n",
      "<GetOldTweets3.manager.TweetCriteria.TweetCriteria object at 0x1076faef0>\n",
      "<GetOldTweets3.manager.TweetCriteria.TweetCriteria object at 0x1150e39e8>\n",
      "<GetOldTweets3.manager.TweetCriteria.TweetCriteria object at 0x113dd3630>\n",
      "<GetOldTweets3.manager.TweetCriteria.TweetCriteria object at 0x10828e748>\n",
      "<GetOldTweets3.manager.TweetCriteria.TweetCriteria object at 0x113dd3630>\n",
      "<GetOldTweets3.manager.TweetCriteria.TweetCriteria object at 0x10828e748>\n",
      "<GetOldTweets3.manager.TweetCriteria.TweetCriteria object at 0x1165071d0>\n",
      "<GetOldTweets3.manager.TweetCriteria.TweetCriteria object at 0x113c33128>\n",
      "Shape of DataFrame: (43623, 7)\n"
     ]
    }
   ],
   "source": [
    "# code modified from Jasmine Vasandani\n",
    "# With the help of got.manager, get all the tweets from 01/01/2016 till 04/14/2019\n",
    "# Store all the collected tweets in DF\n",
    "max_tweets=3000\n",
    "closure_list=[]\n",
    "final_df=pd.DataFrame()\n",
    "for account in my_accounts:\n",
    "    tweetCriteria = got.manager.TweetCriteria().setUsername(account).setSince(\"2016-10-01\").setUntil(\"2016-11-30\").setMaxTweets(max_tweets)   \n",
    "    print(tweetCriteria)\n",
    "    tweet = got.manager.TweetManager.getTweets(tweetCriteria)\n",
    "    for i in range(len(tweet)):\n",
    "        tweet_dict = {}\n",
    "        tweet_dict['id'] = tweet[i].id\n",
    "        tweet_dict['username'] = tweet[i].username\n",
    "        tweet_dict['date'] = tweet[i].date\n",
    "        tweet_dict['text'] = tweet[i].text\n",
    "        tweet_dict['hashtags'] = tweet[i].hashtags\n",
    "        tweet_dict['geo'] = tweet[i].geo\n",
    "        tweet_dict['type'] = 'official'\n",
    "        closure_list.append(tweet_dict)\n",
    "\n",
    "\n",
    "df1=pd.DataFrame(closure_list)\n",
    "final_df = pd.concat([df1, final_df])\n",
    "print(\"Shape of DataFrame:\", final_df.shape)"
   ]
  },
  {
   "cell_type": "code",
   "execution_count": 10,
   "metadata": {},
   "outputs": [
    {
     "data": {
      "text/plain": [
       "(43623, 7)"
      ]
     },
     "execution_count": 10,
     "metadata": {},
     "output_type": "execute_result"
    }
   ],
   "source": [
    "# review the shape of the dataframe\n",
    "final_df.shape"
   ]
  },
  {
   "cell_type": "code",
   "execution_count": 15,
   "metadata": {},
   "outputs": [
    {
     "data": {
      "text/plain": [
       "{'id': '789553658539237376',\n",
       " 'username': '511Georgia',\n",
       " 'date': datetime.datetime(2016, 10, 21, 19, 47, 16, tzinfo=datetime.timezone.utc),\n",
       " 'text': 'Accident, I-75 Southbound past Forest Parkway (Exit 237), 2 of 4 left lanes blocked. #ClaytonCounty #511GApic.twitter.com/75N2r1ViZm',\n",
       " 'hashtags': '#ClaytonCounty #511GApic',\n",
       " 'geo': '',\n",
       " 'type': 'official'}"
      ]
     },
     "execution_count": 15,
     "metadata": {},
     "output_type": "execute_result"
    }
   ],
   "source": [
    "closure_list[5000]"
   ]
  },
  {
   "cell_type": "code",
   "execution_count": 12,
   "metadata": {
    "scrolled": true
   },
   "outputs": [
    {
     "data": {
      "text/plain": [
       "300       CLEARED: Accident; I-26 EB, at Exit159.| 8:51P\n",
       "301    Update: Accident; I-26 WB: at Exit159, no lns ...\n",
       "302    Accident; I-26 WB: at Exit159, all lns blkd, O...\n",
       "303    Accident; I-26 EB: at Exit159, no lns clsd, Oc...\n",
       "304       CLEARED: Accident; I-95 SB, at Exit86A.| 3:24P\n",
       "305    Update: Accident; I-95 SB: at Exit86A, no lns ...\n",
       "306    Update: Accident; I-95 SB: at Exit86A, no lns ...\n",
       "307    CLEARED: Obstruction on roadway; I-526 WB, 1 m...\n",
       "308    Obstruction on roadway; I-526 WB: 1 mi E of Ex...\n",
       "309    Accident; I-95 SB: at Exit86A, lft ln clsd, Oc...\n",
       "310        CLEARED: Accident; I-95 NB, at Exit28.| 1:11P\n",
       "311    Accident; I-95 NB: at Exit28, no lns clsd, Ocr...\n",
       "312       CLEARED: Accident; I-95 NB, at Exit28.| 12:56P\n",
       "313    Update: Accident; I-95 NB: at Exit28, no lns c...\n",
       "314    Update: Accident; I-95 NB: 2 mi S of Exit38, n...\n",
       "315    Update: Accident; I-95 NB: 2 mi S of Exit38, u...\n",
       "316    Accident; I-95 NB: 2 mi S of Exit42, unknown l...\n",
       "317    CLEARED: Disabled veh; I-526 WB, 1 mi E of Exi...\n",
       "318    Disabled veh; I-526 WB: 1 mi E of Exit20, rht ...\n",
       "319        CLEARED: Accident; I-95 NB, at Exit68.| 8:49A\n",
       "320    Update: Accident; I-95 NB: at Exit68, no lns c...\n",
       "321    CLEARED: Traf congestion; I-95 SB, btwn Exit68...\n",
       "322    Traf congestion; I-95 SB: btwn Exit68 & 1 mi S...\n",
       "323    Accident; I-95 NB: 1 mi N of Exit68, unknown l...\n",
       "324      CLEARED: Accident; I-26 WB, at Exit169B.| 6:51P\n",
       "325    Update: Accident; I-26 WB: at Exit169B, no lns...\n",
       "326    Accident; I-26 WB: at Exit169B, no lns clsd, O...\n",
       "327    CLEARED: Disabled veh; US 17 SB, at Arthur Rav...\n",
       "328    Update: Disabled veh; US 17 SB: at Arthur Rave...\n",
       "329    Disabled veh; US 17 SB: at Arthur Ravenel Juni...\n",
       "330    CLEARED: Disabled veh; I-526 WB, at Exit28.| 7...\n",
       "331    Disabled veh; I-526 WB: at Exit28, rht ln clsd...\n",
       "332       CLEARED: Accident; I-26 WB, at Exit203.| 3:29A\n",
       "333    Update: Accident; I-26 WB: at Exit203, rht ln ...\n",
       "334    Accident; I-26 WB: at Exit203, rht ln clsd, Oc...\n",
       "335       CLEARED: Accident; I-26 WB, at Exit209.| 1:06A\n",
       "336    Update: Accident; I-26 WB: at Exit209, no lns ...\n",
       "337    CLEARED: Vehicle on fire; I-95 NB, 3 mi N of E...\n",
       "338    Accident; I-26 WB: at Exit209, rht ln clsd, Oc...\n",
       "339    CLEARED: Traf congestion; I-95 SB, btwn 5 mi N...\n",
       "340    Traf congestion; I-95 SB: btwn 5 mi N of Exit4...\n",
       "341    Vehicle on fire; I-95 NB: 3 mi N of Exit42, lf...\n",
       "342    CLEARED: Traf congestion; I-95 SB, btwn Exit19...\n",
       "343    CLEARED: Accident; I-95 SB, 1 mi N of Exit98.|...\n",
       "344    CLEARED: Traf congestion; I-26 WB, btwn Exit22...\n",
       "345    CLEARED: Disabled veh; I-526 WB, at Exit20.| 5...\n",
       "346    Accident; I-95 SB: 1 mi N of Exit98, all lns b...\n",
       "347    Disabled veh; I-526 WB: at Exit20, rht ln clsd...\n",
       "348    CLEARED: Traf congestion; I-95 SB, btwn Exit8 ...\n",
       "349    Update: Traf congestion; I-95 SB: btwn Exit8 &...\n",
       "Name: text, dtype: object"
      ]
     },
     "execution_count": 12,
     "metadata": {},
     "output_type": "execute_result"
    }
   ],
   "source": [
    "final_df.iloc[300:350].text"
   ]
  },
  {
   "cell_type": "code",
   "execution_count": 16,
   "metadata": {},
   "outputs": [
    {
     "data": {
      "text/plain": [
       "Index(['date', 'geo', 'hashtags', 'id', 'text', 'type', 'username'], dtype='object')"
      ]
     },
     "execution_count": 16,
     "metadata": {},
     "output_type": "execute_result"
    }
   ],
   "source": [
    "# list the columns from the dataframe\n",
    "final_df.columns"
   ]
  },
  {
   "cell_type": "code",
   "execution_count": 17,
   "metadata": {},
   "outputs": [
    {
     "data": {
      "text/plain": [
       "username\n",
       "511Georgia          364\n",
       "ActionNewsJax      2569\n",
       "ActionTraffic       527\n",
       "AllisonWSOC9        153\n",
       "CDCemergency         59\n",
       "ChasCoSheriff        71\n",
       "ChasCountyGov       128\n",
       "ChathamCountyNC      37\n",
       "ChathamEMA         1017\n",
       "CityCharleston       62\n",
       "FEMAregion3          42\n",
       "FLSERT              404\n",
       "FahertyWSOC9        127\n",
       "FloridaStorms        79\n",
       "GADeptofTrans       468\n",
       "GARedCross           23\n",
       "GeorgiaAlert         33\n",
       "GeorgiaEMA          227\n",
       "GeorgiaPower       1329\n",
       "GlynnCounty          43\n",
       "Glynn_Police          2\n",
       "Golden_Isles        288\n",
       "NCDOT               412\n",
       "NCDOT_Triangle     2080\n",
       "NCEmergency         665\n",
       "NCPublicSafety      611\n",
       "NCSHP               460\n",
       "NHC_Atlantic        326\n",
       "NWS                 233\n",
       "NWSAtlanta          183\n",
       "NWSCharlestonSC     607\n",
       "NWSColumbia         259\n",
       "NWSEastern          112\n",
       "NWSGSP              775\n",
       "NWSJacksonville     252\n",
       "NWSMoreheadCity     245\n",
       "NWSWilmingtonNC     221\n",
       "SCDOTLowCountry    1446\n",
       "SCDPS_PIO            47\n",
       "SCEMD               741\n",
       "SavPolice           311\n",
       "St_Simons             5\n",
       "TotalTrafficJAX     937\n",
       "VDEM                171\n",
       "WOKVNews           3000\n",
       "WRAL               2040\n",
       "WTOPtraffic        3000\n",
       "brunswickgapd         5\n",
       "chrisWSOC9           37\n",
       "cityofsavannah      304\n",
       "femaregion4         158\n",
       "fl511_northeast    3000\n",
       "jaxdotcom          1702\n",
       "kenlemonWSOC9        69\n",
       "newsobserver       2870\n",
       "postandcourier     2218\n",
       "scdhec              246\n",
       "wsbtv              3000\n",
       "wsoctv             2823\n",
       "Name: username, dtype: int64"
      ]
     },
     "execution_count": 17,
     "metadata": {},
     "output_type": "execute_result"
    }
   ],
   "source": [
    "# list the accounts followed and the count of Tweets collected from each account\n",
    "final_df.groupby(by='username')['username'].count()"
   ]
  },
  {
   "cell_type": "code",
   "execution_count": 19,
   "metadata": {},
   "outputs": [],
   "source": [
    "final_df.to_csv('../data/Tweets_Historical/historic_tweets_07232019.csv', index = False)"
   ]
  },
  {
   "cell_type": "code",
   "execution_count": null,
   "metadata": {},
   "outputs": [],
   "source": []
  }
 ],
 "metadata": {
  "kernelspec": {
   "display_name": "Python [conda env:dsi] *",
   "language": "python",
   "name": "conda-env-dsi-py-2"
  },
  "language_info": {
   "codemirror_mode": {
    "name": "ipython",
    "version": 3
   },
   "file_extension": ".py",
   "mimetype": "text/x-python",
   "name": "python",
   "nbconvert_exporter": "python",
   "pygments_lexer": "ipython3",
   "version": "3.7.3"
  }
 },
 "nbformat": 4,
 "nbformat_minor": 2
}
