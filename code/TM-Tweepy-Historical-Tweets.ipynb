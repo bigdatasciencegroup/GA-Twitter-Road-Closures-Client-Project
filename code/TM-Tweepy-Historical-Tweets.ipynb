{
 "cells": [
  {
   "cell_type": "code",
   "execution_count": 2,
   "metadata": {},
   "outputs": [],
   "source": [
    "import tweepy\n",
    "import shutil\n",
    "import jsonpickle\n",
    "import json\n",
    "import datetime\n",
    "import GetOldTweets3 as got\n",
    "\n",
    "from pandas.io.json import json_normalize\n",
    "\n",
    "import pandas as pd"
   ]
  },
  {
   "cell_type": "code",
   "execution_count": 3,
   "metadata": {},
   "outputs": [],
   "source": [
    "# load Twitter API credentials\n",
    "with open('../twitter_credentials.json') as cred_data:\n",
    "    info = json.load(cred_data)\n",
    "    consumer_key = info['CONSUMER_KEY']\n",
    "    consumer_secret = info['CONSUMER_SECRET']\n",
    "    access_token = info['ACCESS_TOKEN']\n",
    "    access_secret = info['ACCESS_SECRET']"
   ]
  },
  {
   "cell_type": "code",
   "execution_count": 4,
   "metadata": {},
   "outputs": [
    {
     "name": "stdout",
     "output_type": "stream",
     "text": [
      "Authentication OK\n"
     ]
    }
   ],
   "source": [
    "# Authenticate to Twitter\n",
    "auth = tweepy.OAuthHandler(consumer_key, consumer_secret)\n",
    "auth.set_access_token(access_token, access_secret)\n",
    "\n",
    "api = tweepy.API(auth)\n",
    "\n",
    "try:\n",
    "    api.verify_credentials()\n",
    "    print(\"Authentication OK\")\n",
    "except:\n",
    "    print(\"Error during authentication\")"
   ]
  },
  {
   "cell_type": "code",
   "execution_count": 5,
   "metadata": {},
   "outputs": [
    {
     "name": "stdout",
     "output_type": "stream",
     "text": [
      "Tee Moore\n",
      "{'/search/tweets': {'limit': 180, 'remaining': 180, 'reset': 1564002507}}\n"
     ]
    }
   ],
   "source": [
    "user = api.me()\n",
    "print (user.name)\n",
    "print(api.rate_limit_status()['resources']['search'])"
   ]
  },
  {
   "cell_type": "code",
   "execution_count": 6,
   "metadata": {
    "scrolled": false
   },
   "outputs": [
    {
     "data": {
      "text/plain": [
       "['GDOTATL',\n",
       " 'SCDOTMidlands',\n",
       " 'SCDOTPeeDee',\n",
       " 'SCDOTLowCountry',\n",
       " 'SCDOTPiedmont',\n",
       " '511statewideva',\n",
       " 'fl511_panhandl',\n",
       " '511Georgia',\n",
       " 'fl511_state',\n",
       " 'fl511_northeast',\n",
       " 'fl511_southeast',\n",
       " 'fl511_southwest',\n",
       " 'fl511_tampabay',\n",
       " 'fl511_central',\n",
       " '511centralva',\n",
       " '511hamptonroads',\n",
       " '511northernva',\n",
       " 'NCDOT_Westmtn',\n",
       " 'NCDOT_Triangle',\n",
       " 'NCDOT_Piedmont',\n",
       " 'NCDOT_Charlotte',\n",
       " 'NCDOT_Asheville',\n",
       " 'NCDOT_Scoast',\n",
       " 'NCDOT_Ncoast']"
      ]
     },
     "execution_count": 6,
     "metadata": {},
     "output_type": "execute_result"
    }
   ],
   "source": [
    "my_accounts = []\n",
    "for member in tweepy.Cursor(api.list_members, 'ClydeLazersex', 'evac-route-official').items():\n",
    "    my_accounts.append(member.screen_name)\n",
    "# Show list\n",
    "my_accounts"
   ]
  },
  {
   "cell_type": "code",
   "execution_count": 7,
   "metadata": {},
   "outputs": [
    {
     "name": "stdout",
     "output_type": "stream",
     "text": [
      "<GetOldTweets3.manager.TweetCriteria.TweetCriteria object at 0x1158f95c0>\n",
      "<GetOldTweets3.manager.TweetCriteria.TweetCriteria object at 0x11597c710>\n",
      "<GetOldTweets3.manager.TweetCriteria.TweetCriteria object at 0x11599dcc0>\n",
      "<GetOldTweets3.manager.TweetCriteria.TweetCriteria object at 0x11597f2e8>\n",
      "<GetOldTweets3.manager.TweetCriteria.TweetCriteria object at 0x109a58ef0>\n",
      "<GetOldTweets3.manager.TweetCriteria.TweetCriteria object at 0x1162ff7b8>\n",
      "<GetOldTweets3.manager.TweetCriteria.TweetCriteria object at 0x10971ae80>\n",
      "<GetOldTweets3.manager.TweetCriteria.TweetCriteria object at 0x116687da0>\n",
      "<GetOldTweets3.manager.TweetCriteria.TweetCriteria object at 0x113746c88>\n",
      "<GetOldTweets3.manager.TweetCriteria.TweetCriteria object at 0x109ce05c0>\n",
      "<GetOldTweets3.manager.TweetCriteria.TweetCriteria object at 0x1158b3898>\n",
      "<GetOldTweets3.manager.TweetCriteria.TweetCriteria object at 0x1155a58d0>\n",
      "<GetOldTweets3.manager.TweetCriteria.TweetCriteria object at 0x11724a048>\n",
      "<GetOldTweets3.manager.TweetCriteria.TweetCriteria object at 0x1174bc2b0>\n",
      "<GetOldTweets3.manager.TweetCriteria.TweetCriteria object at 0x116d46fd0>\n",
      "<GetOldTweets3.manager.TweetCriteria.TweetCriteria object at 0x1178cee80>\n",
      "<GetOldTweets3.manager.TweetCriteria.TweetCriteria object at 0x1146b7f28>\n",
      "<GetOldTweets3.manager.TweetCriteria.TweetCriteria object at 0x10a838940>\n",
      "<GetOldTweets3.manager.TweetCriteria.TweetCriteria object at 0x1158e6588>\n",
      "<GetOldTweets3.manager.TweetCriteria.TweetCriteria object at 0x116d92ba8>\n",
      "<GetOldTweets3.manager.TweetCriteria.TweetCriteria object at 0x114f06b38>\n",
      "<GetOldTweets3.manager.TweetCriteria.TweetCriteria object at 0x1158f9668>\n",
      "<GetOldTweets3.manager.TweetCriteria.TweetCriteria object at 0x113746c88>\n",
      "<GetOldTweets3.manager.TweetCriteria.TweetCriteria object at 0x11667c438>\n",
      "Shape of DataFrame: (43016, 7)\n"
     ]
    }
   ],
   "source": [
    "# code modified from Jasmine Vasandani\n",
    "# With the help of got.manager, get all the tweets from 10/01/2016 till 11/30/2016\n",
    "# Store all the collected tweets in DF\n",
    "max_tweets=3000\n",
    "closure_list=[]\n",
    "final_df=pd.DataFrame()\n",
    "for account in my_accounts:\n",
    "    tweetCriteria = got.manager.TweetCriteria().setUsername(account).setSince(\"2016-10-01\").setUntil(\"2016-11-30\").setMaxTweets(max_tweets)   \n",
    "    print(tweetCriteria)\n",
    "    tweet = got.manager.TweetManager.getTweets(tweetCriteria)\n",
    "    for i in range(len(tweet)):\n",
    "        tweet_dict = {}\n",
    "        tweet_dict['id'] = tweet[i].id\n",
    "        tweet_dict['username'] = tweet[i].username\n",
    "        tweet_dict['date'] = tweet[i].date\n",
    "        tweet_dict['text'] = tweet[i].text\n",
    "        tweet_dict['hashtags'] = tweet[i].hashtags\n",
    "        tweet_dict['geo'] = tweet[i].geo\n",
    "        tweet_dict['type'] = 'official'\n",
    "        closure_list.append(tweet_dict)\n",
    "\n",
    "\n",
    "df1=pd.DataFrame(closure_list)\n",
    "final_df = pd.concat([df1, final_df])\n",
    "print(\"Shape of DataFrame:\", final_df.shape)"
   ]
  },
  {
   "cell_type": "code",
   "execution_count": 8,
   "metadata": {},
   "outputs": [
    {
     "data": {
      "text/plain": [
       "(43016, 7)"
      ]
     },
     "execution_count": 8,
     "metadata": {},
     "output_type": "execute_result"
    }
   ],
   "source": [
    "# review the shape of the dataframe\n",
    "final_df.shape"
   ]
  },
  {
   "cell_type": "code",
   "execution_count": 9,
   "metadata": {
    "scrolled": true
   },
   "outputs": [
    {
     "data": {
      "text/plain": [
       "{'id': '795743083535233024',\n",
       " 'username': 'SCDOTPiedmont',\n",
       " 'date': datetime.datetime(2016, 11, 7, 21, 41, 49, tzinfo=datetime.timezone.utc),\n",
       " 'text': 'Accident; I-85 NB: at Exit 51A-SC146-Woodruff Rd-Greenville, no lns clsd, Ocrd: 4:40PM.| 4:41P',\n",
       " 'hashtags': '',\n",
       " 'geo': '',\n",
       " 'type': 'official'}"
      ]
     },
     "execution_count": 9,
     "metadata": {},
     "output_type": "execute_result"
    }
   ],
   "source": [
    "closure_list[5000]"
   ]
  },
  {
   "cell_type": "code",
   "execution_count": 10,
   "metadata": {
    "scrolled": false
   },
   "outputs": [
    {
     "data": {
      "text/plain": [
       "300    Update: Traf congestion; I-26 WB: btwn Exit97 ...\n",
       "301    Accident; I-26 WB: 2 mi W of Exit97, no lns cl...\n",
       "302    Accident; I-26 WB: btwn Exit97 & 1 mi W of Exi...\n",
       "303       CLEARED: Accident; I-26 WB, at Exit103.| 1:41P\n",
       "304    Update: Accident; I-26 WB: at Exit103, no lns ...\n",
       "305    Accident; I-26 WB: at Exit103, 2 rht lns clsd,...\n",
       "306    CLEARED: Obstruction on roadway; I-126 WB, at ...\n",
       "307    Update: Obstruction on roadway; I-126 WB: at G...\n",
       "308    Obstruction on roadway; I-126 WB: at Greystone...\n",
       "309    CLEARED: Vehicle on fire; I-26 WB, 1 mi W of E...\n",
       "310    Update: Vehicle on fire; I-26 WB: 1 mi W of Ex...\n",
       "311    Vehicle on fire; I-26 WB: 1 mi W of Exit106, r...\n",
       "312    CLEARED: Traf congestion; I-20 WB, at Exit87.|...\n",
       "313    Update: Traf congestion; I-20 WB: at Exit87, u...\n",
       "314    Traf congestion; I-20 WB: at Exit87, unknown l...\n",
       "315       CLEARED: Accident; I-26 WB, at Exit110.| 3:24A\n",
       "316    Update: Accident; I-26 WB: at Exit110, no lns ...\n",
       "317    Accident; I-26 WB: at Exit110, 2 rht lns clsd,...\n",
       "318        CLEARED: Accident; I-20 EB, at Exit80.| 7:14P\n",
       "319      CLEARED: Accident; I-26 EB, at Exit107A.| 7:11P\n",
       "320    Update: Accident; I-20 EB: at Exit80, no lns c...\n",
       "321        CLEARED: Accident; I-20 WB, at Exit87.| 7:09P\n",
       "322    Update: Accident; I-26 EB: at Exit107A, no lns...\n",
       "323    Update: Accident; I-20 EB: at Exit80, no lns c...\n",
       "324        CLEARED: Accident; I-20 EB, at Exit68.| 6:36P\n",
       "325        CLEARED: Accident; I-20 WB, at Exit72.| 6:36P\n",
       "326    CLEARED: Accident; I-20 EB, 1 mi E of Exit82.|...\n",
       "327    Update: Accident; I-20 EB: at Exit68, no lns c...\n",
       "328    Accident; I-20 EB: at Exit80, lft ln clsd, Ocr...\n",
       "329    Accident; I-20 EB: at Exit68, lft ln clsd, Ocr...\n",
       "330    Update: Accident; I-26 EB: at Exit107A, rht ln...\n",
       "331    Accident; I-20 WB: at Exit87, unknown lns clsd...\n",
       "332    CLEARED: Accident; I-20 WB, 2 mi E of Exit82.|...\n",
       "333    Accident; I-26 EB: at Exit107A, mid ln clsd, O...\n",
       "334    Update: Accident; I-20 WB: at Exit72, no lns c...\n",
       "335    Update: Accident; I-20 EB: 1 mi E of Exit82, n...\n",
       "336    Update: Accident; I-20 EB: 1 mi E of Exit82, a...\n",
       "337    Accident; I-20 WB: at Exit72, rht ln clsd, Ocr...\n",
       "338    Update: Accident; I-20 WB: 2 mi E of Exit82, n...\n",
       "339    Accident; I-20 WB: 2 mi E of Exit82, rht ln cl...\n",
       "340    CLEARED: Traf congestion; I-26 EB, btwn Exit10...\n",
       "341    CLEARED: Traf congestion; I-20 WB, btwn Exit87...\n",
       "342    Update: Traf congestion; I-20 WB: btwn Exit87 ...\n",
       "343    Update: Accident; I-20 EB: 1 mi E of Exit82, n...\n",
       "344        CLEARED: Accident; I-20 EB, at Exit87.| 5:01P\n",
       "345    Update: Accident; I-20 EB: at Exit87, no lns c...\n",
       "346    Update: Accident; I-20 EB: 1 mi E of Exit82, a...\n",
       "347    Traf congestion; I-20 WB: btwn 2 mi W of Exit8...\n",
       "348    Accident; I-20 EB: 1 mi E of Exit82, no lns cl...\n",
       "349    Accident; I-20 EB: at Exit87, unknown lns clsd...\n",
       "Name: text, dtype: object"
      ]
     },
     "execution_count": 10,
     "metadata": {},
     "output_type": "execute_result"
    }
   ],
   "source": [
    "final_df.iloc[300:350].text"
   ]
  },
  {
   "cell_type": "code",
   "execution_count": 11,
   "metadata": {},
   "outputs": [
    {
     "data": {
      "text/plain": [
       "Index(['date', 'geo', 'hashtags', 'id', 'text', 'type', 'username'], dtype='object')"
      ]
     },
     "execution_count": 11,
     "metadata": {},
     "output_type": "execute_result"
    }
   ],
   "source": [
    "# list the columns from the dataframe\n",
    "final_df.columns"
   ]
  },
  {
   "cell_type": "code",
   "execution_count": 12,
   "metadata": {
    "scrolled": true
   },
   "outputs": [
    {
     "data": {
      "text/plain": [
       "username\n",
       "511Georgia          364\n",
       "511centralva       3000\n",
       "511hamptonroads    3000\n",
       "511northernva      3000\n",
       "511statewideva     3000\n",
       "GDOTATL             128\n",
       "NCDOT_Asheville     343\n",
       "NCDOT_Charlotte     877\n",
       "NCDOT_Ncoast        697\n",
       "NCDOT_Piedmont      137\n",
       "NCDOT_Scoast        731\n",
       "NCDOT_Triangle     2080\n",
       "NCDOT_Westmtn        24\n",
       "SCDOTLowCountry    1446\n",
       "SCDOTMidlands      2324\n",
       "SCDOTPeeDee         451\n",
       "SCDOTPiedmont      1762\n",
       "fl511_central      3000\n",
       "fl511_northeast    3000\n",
       "fl511_panhandl     1652\n",
       "fl511_southeast    3000\n",
       "fl511_southwest    3000\n",
       "fl511_state        3000\n",
       "fl511_tampabay     3000\n",
       "Name: username, dtype: int64"
      ]
     },
     "execution_count": 12,
     "metadata": {},
     "output_type": "execute_result"
    }
   ],
   "source": [
    "# list the accounts followed and the count of Tweets collected from each account\n",
    "final_df.groupby(by='username')['username'].count()"
   ]
  },
  {
   "cell_type": "code",
   "execution_count": 13,
   "metadata": {},
   "outputs": [],
   "source": [
    "final_df.to_csv('../data/Tweets_Historical/historic_tweets_official_07242019.csv', index = False)"
   ]
  },
  {
   "cell_type": "code",
   "execution_count": null,
   "metadata": {},
   "outputs": [],
   "source": []
  }
 ],
 "metadata": {
  "kernelspec": {
   "display_name": "Python [conda env:dsi] *",
   "language": "python",
   "name": "conda-env-dsi-py-2"
  },
  "language_info": {
   "codemirror_mode": {
    "name": "ipython",
    "version": 3
   },
   "file_extension": ".py",
   "mimetype": "text/x-python",
   "name": "python",
   "nbconvert_exporter": "python",
   "pygments_lexer": "ipython3",
   "version": "3.7.3"
  }
 },
 "nbformat": 4,
 "nbformat_minor": 2
}
