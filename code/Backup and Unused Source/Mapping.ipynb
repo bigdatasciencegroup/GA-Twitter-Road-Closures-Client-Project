{
 "cells": [
  {
   "cell_type": "code",
   "execution_count": 1,
   "metadata": {},
   "outputs": [],
   "source": [
    "import pandas as pd\n",
    "import numpy as np\n",
    "import matplotlib.pyplot as plt\n",
    "\n",
    "%matplotlib inline"
   ]
  },
  {
   "cell_type": "code",
   "execution_count": 2,
   "metadata": {},
   "outputs": [],
   "source": [
    "#Import and initiate\n",
    "import herepy\n",
    "\n",
    "geocoderApi = herepy.GeocoderApi('zeAxDsSJtRZwfoewLP5O', '0CJJK6It-8fmpsiKjsJFJg') #APP ID, APP CODE"
   ]
  },
  {
   "cell_type": "markdown",
   "metadata": {},
   "source": [
    "## Coordinates through Search Phrase"
   ]
  },
  {
   "cell_type": "code",
   "execution_count": 465,
   "metadata": {},
   "outputs": [],
   "source": [
    "search_string = (\"exit 78 I-95 richmond\")"
   ]
  },
  {
   "cell_type": "code",
   "execution_count": 466,
   "metadata": {},
   "outputs": [],
   "source": [
    "#Geocoding given search text\n",
    "response = geocoderApi.free_form(search_string)"
   ]
  },
  {
   "cell_type": "code",
   "execution_count": 467,
   "metadata": {},
   "outputs": [],
   "source": [
    "here_dict = response.Response['View']"
   ]
  },
  {
   "cell_type": "code",
   "execution_count": 468,
   "metadata": {},
   "outputs": [
    {
     "data": {
      "text/plain": [
       "[{'_type': 'SearchResultsViewType',\n",
       "  'ViewId': 0,\n",
       "  'Result': [{'Relevance': 0.65,\n",
       "    'MatchLevel': 'street',\n",
       "    'MatchQuality': {'City': 1.0, 'Street': [1.0]},\n",
       "    'Location': {'LocationId': 'NT_XZBIAt3s315H1zgVqbd3.C',\n",
       "     'LocationType': 'point',\n",
       "     'DisplayPosition': {'Latitude': 37.62425, 'Longitude': -77.4459},\n",
       "     'NavigationPosition': [{'Latitude': 37.62425, 'Longitude': -77.4459}],\n",
       "     'MapView': {'TopLeft': {'Latitude': 37.6613, 'Longitude': -77.46606},\n",
       "      'BottomRight': {'Latitude': 37.59655, 'Longitude': -77.44377}},\n",
       "     'Address': {'Label': 'I-95, Richmond, VA 23227, United States',\n",
       "      'Country': 'USA',\n",
       "      'State': 'VA',\n",
       "      'County': 'Henrico',\n",
       "      'City': 'Richmond',\n",
       "      'Street': 'I-95',\n",
       "      'PostalCode': '23227',\n",
       "      'AdditionalData': [{'value': 'United States', 'key': 'CountryName'},\n",
       "       {'value': 'Virginia', 'key': 'StateName'},\n",
       "       {'value': 'Henrico', 'key': 'CountyName'},\n",
       "       {'value': 'N', 'key': 'PostalCodeType'}]}}},\n",
       "   {'Relevance': 0.65,\n",
       "    'MatchLevel': 'street',\n",
       "    'MatchQuality': {'City': 1.0, 'Street': [1.0]},\n",
       "    'Location': {'LocationId': 'NT_BOXgpTw7IOqd51R09fPiSA',\n",
       "     'LocationType': 'point',\n",
       "     'DisplayPosition': {'Latitude': 37.55124, 'Longitude': -77.43949},\n",
       "     'NavigationPosition': [{'Latitude': 37.55124, 'Longitude': -77.43949}],\n",
       "     'MapView': {'TopLeft': {'Latitude': 37.55288, 'Longitude': -77.44373},\n",
       "      'BottomRight': {'Latitude': 37.54994, 'Longitude': -77.43512}},\n",
       "     'Address': {'Label': 'I-95, Richmond, VA 23220, United States',\n",
       "      'Country': 'USA',\n",
       "      'State': 'VA',\n",
       "      'County': 'Richmond (City)',\n",
       "      'City': 'Richmond',\n",
       "      'District': 'Jackson Ward',\n",
       "      'Street': 'I-95',\n",
       "      'PostalCode': '23220',\n",
       "      'AdditionalData': [{'value': 'United States', 'key': 'CountryName'},\n",
       "       {'value': 'Virginia', 'key': 'StateName'},\n",
       "       {'value': 'Richmond (City)', 'key': 'CountyName'},\n",
       "       {'value': 'N', 'key': 'PostalCodeType'}]}}},\n",
       "   {'Relevance': 0.65,\n",
       "    'MatchLevel': 'street',\n",
       "    'MatchQuality': {'City': 1.0, 'Street': [1.0]},\n",
       "    'Location': {'LocationId': 'NT_SUxB3KhQUIcGXs1uhtR-5C',\n",
       "     'LocationType': 'point',\n",
       "     'DisplayPosition': {'Latitude': 37.5436, 'Longitude': -77.42779},\n",
       "     'NavigationPosition': [{'Latitude': 37.5436, 'Longitude': -77.42779}],\n",
       "     'MapView': {'TopLeft': {'Latitude': 37.54839, 'Longitude': -77.43232},\n",
       "      'BottomRight': {'Latitude': 37.5374399, 'Longitude': -77.42674}},\n",
       "     'Address': {'Label': 'I-95, Richmond, VA 23219, United States',\n",
       "      'Country': 'USA',\n",
       "      'State': 'VA',\n",
       "      'County': 'Richmond (City)',\n",
       "      'City': 'Richmond',\n",
       "      'District': 'Upper Shockoe Valley',\n",
       "      'Street': 'I-95',\n",
       "      'PostalCode': '23219',\n",
       "      'AdditionalData': [{'value': 'United States', 'key': 'CountryName'},\n",
       "       {'value': 'Virginia', 'key': 'StateName'},\n",
       "       {'value': 'Richmond (City)', 'key': 'CountyName'},\n",
       "       {'value': 'N', 'key': 'PostalCodeType'}]}}},\n",
       "   {'Relevance': 0.65,\n",
       "    'MatchLevel': 'street',\n",
       "    'MatchQuality': {'City': 1.0, 'Street': [1.0]},\n",
       "    'Location': {'LocationId': 'NT_si3Yd5sLj.xN.oFELIqEDA',\n",
       "     'LocationType': 'point',\n",
       "     'DisplayPosition': {'Latitude': 37.53397, 'Longitude': -77.43001},\n",
       "     'NavigationPosition': [{'Latitude': 37.53397, 'Longitude': -77.43001}],\n",
       "     'MapView': {'TopLeft': {'Latitude': 37.5375299, 'Longitude': -77.43007},\n",
       "      'BottomRight': {'Latitude': 37.52998, 'Longitude': -77.42847}},\n",
       "     'Address': {'Label': 'I-95, Richmond, VA 23219, United States',\n",
       "      'Country': 'USA',\n",
       "      'State': 'VA',\n",
       "      'County': 'Richmond (City)',\n",
       "      'City': 'Richmond',\n",
       "      'District': 'Shockoe Bottom',\n",
       "      'Street': 'I-95',\n",
       "      'PostalCode': '23219',\n",
       "      'AdditionalData': [{'value': 'United States', 'key': 'CountryName'},\n",
       "       {'value': 'Virginia', 'key': 'StateName'},\n",
       "       {'value': 'Richmond (City)', 'key': 'CountyName'},\n",
       "       {'value': 'N', 'key': 'PostalCodeType'}]}}},\n",
       "   {'Relevance': 0.65,\n",
       "    'MatchLevel': 'street',\n",
       "    'MatchQuality': {'City': 1.0, 'Street': [1.0]},\n",
       "    'Location': {'LocationId': 'NT_RWy6Dgvgop5rm.lt0vVEXA',\n",
       "     'LocationType': 'point',\n",
       "     'DisplayPosition': {'Latitude': 37.39596, 'Longitude': -77.42385},\n",
       "     'NavigationPosition': [{'Latitude': 37.39596, 'Longitude': -77.42385}],\n",
       "     'MapView': {'TopLeft': {'Latitude': 37.4199399, 'Longitude': -77.42802},\n",
       "      'BottomRight': {'Latitude': 37.37771, 'Longitude': -77.40879}},\n",
       "     'Address': {'Label': 'I-95, Richmond, VA 23237, United States',\n",
       "      'Country': 'USA',\n",
       "      'State': 'VA',\n",
       "      'County': 'Chesterfield',\n",
       "      'City': 'Richmond',\n",
       "      'Street': 'I-95',\n",
       "      'PostalCode': '23237',\n",
       "      'AdditionalData': [{'value': 'United States', 'key': 'CountryName'},\n",
       "       {'value': 'Virginia', 'key': 'StateName'},\n",
       "       {'value': 'Chesterfield', 'key': 'CountyName'},\n",
       "       {'value': 'N', 'key': 'PostalCodeType'}]}}},\n",
       "   {'Relevance': 0.65,\n",
       "    'MatchLevel': 'street',\n",
       "    'MatchQuality': {'City': 1.0, 'Street': [1.0]},\n",
       "    'Location': {'LocationId': 'NT_DSpXXDdDRRV2n2NLGcYHhB',\n",
       "     'LocationType': 'point',\n",
       "     'DisplayPosition': {'Latitude': 37.43588, 'Longitude': -77.43127},\n",
       "     'NavigationPosition': [{'Latitude': 37.43588, 'Longitude': -77.43127}],\n",
       "     'MapView': {'TopLeft': {'Latitude': 37.4497799, 'Longitude': -77.43186},\n",
       "      'BottomRight': {'Latitude': 37.4199399, 'Longitude': -77.4232}},\n",
       "     'Address': {'Label': 'I-95, Richmond, VA 23234, United States',\n",
       "      'Country': 'USA',\n",
       "      'State': 'VA',\n",
       "      'County': 'Chesterfield',\n",
       "      'City': 'Richmond',\n",
       "      'Street': 'I-95',\n",
       "      'PostalCode': '23234',\n",
       "      'AdditionalData': [{'value': 'United States', 'key': 'CountryName'},\n",
       "       {'value': 'Virginia', 'key': 'StateName'},\n",
       "       {'value': 'Chesterfield', 'key': 'CountyName'},\n",
       "       {'value': 'N', 'key': 'PostalCodeType'}]}}},\n",
       "   {'Relevance': 0.65,\n",
       "    'MatchLevel': 'street',\n",
       "    'MatchQuality': {'City': 1.0, 'Street': [1.0]},\n",
       "    'Location': {'LocationId': 'NT_3X7nl1RAmHdCSMZdgi-mMD',\n",
       "     'LocationType': 'point',\n",
       "     'DisplayPosition': {'Latitude': 37.58164, 'Longitude': -77.46945},\n",
       "     'NavigationPosition': [{'Latitude': 37.58164, 'Longitude': -77.46945}],\n",
       "     'MapView': {'TopLeft': {'Latitude': 37.5902699, 'Longitude': -77.46997},\n",
       "      'BottomRight': {'Latitude': 37.5760099, 'Longitude': -77.46281}},\n",
       "     'Address': {'Label': 'I-95, Richmond, VA 23227, United States',\n",
       "      'Country': 'USA',\n",
       "      'State': 'VA',\n",
       "      'County': 'Richmond (City)',\n",
       "      'City': 'Richmond',\n",
       "      'District': 'Rosedale',\n",
       "      'Street': 'I-95',\n",
       "      'PostalCode': '23227',\n",
       "      'AdditionalData': [{'value': 'United States', 'key': 'CountryName'},\n",
       "       {'value': 'Virginia', 'key': 'StateName'},\n",
       "       {'value': 'Richmond (City)', 'key': 'CountyName'},\n",
       "       {'value': 'N', 'key': 'PostalCodeType'}]}}},\n",
       "   {'Relevance': 0.65,\n",
       "    'MatchLevel': 'street',\n",
       "    'MatchQuality': {'City': 1.0, 'Street': [1.0]},\n",
       "    'Location': {'LocationId': 'NT_AscMq6vbmX7K8tfrOkDLsD',\n",
       "     'LocationType': 'point',\n",
       "     'DisplayPosition': {'Latitude': 37.51528, 'Longitude': -77.42537},\n",
       "     'NavigationPosition': [{'Latitude': 37.51528, 'Longitude': -77.42537}],\n",
       "     'MapView': {'TopLeft': {'Latitude': 37.52991, 'Longitude': -77.42967},\n",
       "      'BottomRight': {'Latitude': 37.50059, 'Longitude': -77.4247}},\n",
       "     'Address': {'Label': 'I-95, Richmond, VA 23224, United States',\n",
       "      'Country': 'USA',\n",
       "      'State': 'VA',\n",
       "      'County': 'Richmond (City)',\n",
       "      'City': 'Richmond',\n",
       "      'District': 'Anacarows Landing',\n",
       "      'Street': 'I-95',\n",
       "      'PostalCode': '23224',\n",
       "      'AdditionalData': [{'value': 'United States', 'key': 'CountryName'},\n",
       "       {'value': 'Virginia', 'key': 'StateName'},\n",
       "       {'value': 'Richmond (City)', 'key': 'CountyName'},\n",
       "       {'value': 'N', 'key': 'PostalCodeType'}]}}},\n",
       "   {'Relevance': 0.65,\n",
       "    'MatchLevel': 'street',\n",
       "    'MatchQuality': {'City': 1.0, 'Street': [1.0]},\n",
       "    'Location': {'LocationId': 'NT_qlEqECUsBXwcCvKtlyY8BD',\n",
       "     'LocationType': 'point',\n",
       "     'DisplayPosition': {'Latitude': 37.53608, 'Longitude': -77.42956},\n",
       "     'NavigationPosition': [{'Latitude': 37.53608, 'Longitude': -77.42956}],\n",
       "     'MapView': {'TopLeft': {'Latitude': 37.5375299, 'Longitude': -77.43},\n",
       "      'BottomRight': {'Latitude': 37.53433, 'Longitude': -77.42847}},\n",
       "     'Address': {'Label': 'I-95, Richmond, VA 23219, United States',\n",
       "      'Country': 'USA',\n",
       "      'State': 'VA',\n",
       "      'County': 'Richmond (City)',\n",
       "      'City': 'Richmond',\n",
       "      'District': 'Capitol District',\n",
       "      'Street': 'I-95',\n",
       "      'PostalCode': '23219',\n",
       "      'AdditionalData': [{'value': 'United States', 'key': 'CountryName'},\n",
       "       {'value': 'Virginia', 'key': 'StateName'},\n",
       "       {'value': 'Richmond (City)', 'key': 'CountyName'},\n",
       "       {'value': 'N', 'key': 'PostalCodeType'}]}}},\n",
       "   {'Relevance': 0.65,\n",
       "    'MatchLevel': 'street',\n",
       "    'MatchQuality': {'City': 1.0, 'Street': [1.0]},\n",
       "    'Location': {'LocationId': 'NT_Rgsjsts-wG-VBbVAODDmXB',\n",
       "     'LocationType': 'point',\n",
       "     'DisplayPosition': {'Latitude': 37.56174, 'Longitude': -77.45424},\n",
       "     'NavigationPosition': [{'Latitude': 37.56174, 'Longitude': -77.45424}],\n",
       "     'MapView': {'TopLeft': {'Latitude': 37.57153, 'Longitude': -77.45493},\n",
       "      'BottomRight': {'Latitude': 37.55513, 'Longitude': -77.44672}},\n",
       "     'Address': {'Label': 'I-95, Richmond, VA 23220, United States',\n",
       "      'Country': 'USA',\n",
       "      'State': 'VA',\n",
       "      'County': 'Richmond (City)',\n",
       "      'City': 'Richmond',\n",
       "      'District': 'Virginia Union',\n",
       "      'Street': 'I-95',\n",
       "      'PostalCode': '23220',\n",
       "      'AdditionalData': [{'value': 'United States', 'key': 'CountryName'},\n",
       "       {'value': 'Virginia', 'key': 'StateName'},\n",
       "       {'value': 'Richmond (City)', 'key': 'CountyName'},\n",
       "       {'value': 'N', 'key': 'PostalCodeType'}]}}}]}]"
      ]
     },
     "execution_count": 468,
     "metadata": {},
     "output_type": "execute_result"
    }
   ],
   "source": [
    "here_dict"
   ]
  },
  {
   "cell_type": "code",
   "execution_count": 235,
   "metadata": {},
   "outputs": [],
   "source": [
    "#Coordinate Positions\n",
    "coordinates = here_dict[0]['Result'][0]['Location']['DisplayPosition']\n",
    "lat = here_dict[0]['Result'][0]['Location']['DisplayPosition']['Latitude']\n",
    "long = here_dict[0]['Result'][0]['Location']['DisplayPosition']['Longitude']\n",
    "\n",
    "#Address Results\n",
    "address = here_dict[0]['Result'][0]['Location']['Address']['Label']\n",
    "city = here_dict[0]['Result'][0]['Location']['Address']['City']\n",
    "state = here_dict[0]['Result'][0]['Location']['Address']['State']\n",
    "zip_code = here_dict[0]['Result'][0]['Location']['Address']['PostalCode']\n",
    "county = here_dict[0]['Result'][0]['Location']['Address']['County']\n",
    "street = here_dict[0]['Result'][0]['Location']['Address']['Street']\n",
    "#address_num = here_dict[0]['Result'][0]['Location']['Address']['HouseNumber']"
   ]
  },
  {
   "cell_type": "code",
   "execution_count": 236,
   "metadata": {},
   "outputs": [
    {
     "name": "stdout",
     "output_type": "stream",
     "text": [
      "The geolocation of your search for Route 460, Chatham, is located at: \n",
      "\n",
      "A latitude of:  42.3198873\n",
      "And a longitude of:  -83.0327032\n",
      "The full coordinates of your search are:  {'Latitude': 42.3198873, 'Longitude': -83.0327032}\n",
      "\n",
      "The full address of your search is: 419 Chatham St E, Windsor ON N9A\n",
      "460 Chatham St E, Windsor, ON N9A, Canada\n"
     ]
    }
   ],
   "source": [
    "#Print out coordinates\n",
    "print(f'The geolocation of your search for {search_tuple[0]}, {search_tuple[1]}, is located at: \\n')\n",
    "print(f'A latitude of:  {lat}')\n",
    "print(f'And a longitude of:  {long}')\n",
    "print(f'The full coordinates of your search are:  {coordinates}\\n')\n",
    "\n",
    "print(f'The full address of your search is: {address_num} {street}, {city} {state} {zip_code}')\n",
    "print(address)"
   ]
  },
  {
   "cell_type": "markdown",
   "metadata": {},
   "source": [
    "## Other Search Options"
   ]
  },
  {
   "cell_type": "code",
   "execution_count": 253,
   "metadata": {},
   "outputs": [],
   "source": [
    "#Search text with coordinates\n",
    "response = geocoderApi.address_with_boundingbox('200 S Mathilda Sunnyvale CA',\n",
    "                                                [42.3952,-71.1056],\n",
    "                                                [42.3312,-71.0228])"
   ]
  },
  {
   "cell_type": "code",
   "execution_count": 204,
   "metadata": {},
   "outputs": [],
   "source": [
    "#Search text with address details\n",
    "response = geocoderApi.address_with_details(34, 'Barbaros', 'Istanbul', 'Turkey')"
   ]
  },
  {
   "cell_type": "code",
   "execution_count": 83,
   "metadata": {},
   "outputs": [],
   "source": [
    "#With street and city\n",
    "response = geocoderApi.street_intersection('Parkway Dr.', 'Syosset')"
   ]
  },
  {
   "cell_type": "markdown",
   "metadata": {},
   "source": [
    "## Mapping"
   ]
  },
  {
   "cell_type": "code",
   "execution_count": 296,
   "metadata": {},
   "outputs": [
    {
     "name": "stdout",
     "output_type": "stream",
     "text": [
      "WARNING conda.base.context:use_only_tar_bz2(632): Conda is constrained to only using the old .tar.bz2 file format because you have conda-build installed, and it is <3.18.3.  Update or remove conda-build to get smaller downloads and faster extractions.\n",
      "Collecting package metadata (repodata.json): done\n",
      "Solving environment: done\n",
      "\n",
      "# All requested packages already installed.\n",
      "\n"
     ]
    }
   ],
   "source": [
    "#!conda install -c conda-forge gmaps\n",
    "#pip install gmaps"
   ]
  },
  {
   "cell_type": "code",
   "execution_count": 300,
   "metadata": {},
   "outputs": [],
   "source": [
    "with open('../gmaps_credentials.txt') as f:\n",
    "    api_key = f.readline()\n",
    "    f.close"
   ]
  },
  {
   "cell_type": "code",
   "execution_count": 305,
   "metadata": {},
   "outputs": [],
   "source": [
    "import gmaps\n",
    "gmaps.configure(api_key=api_key)"
   ]
  },
  {
   "cell_type": "code",
   "execution_count": 388,
   "metadata": {},
   "outputs": [],
   "source": [
    "def query_to_coordinates(search_string):\n",
    "    #Get response from geocoderAPI via Herepy\n",
    "    response = geocoderApi.free_form(search_string)\n",
    "    here_dict = response.Response['View']\n",
    "    lat = here_dict[0]['Result'][0]['Location']['DisplayPosition']['Latitude']\n",
    "    long = here_dict[0]['Result'][0]['Location']['DisplayPosition']['Longitude']\n",
    "    coordinates = lat, long\n",
    "    return coordinates"
   ]
  },
  {
   "cell_type": "code",
   "execution_count": 405,
   "metadata": {},
   "outputs": [],
   "source": [
    "def query_to_map(search_string):\n",
    "    coordinates = query_to_coordinates(search_string)\n",
    "    #fig = gmaps.figure()\n",
    "    return gmaps.figure(map_type, center=coordinates, zoom_level=12)\n",
    "\n",
    "#map types include:  'ROADMAP', TERRAIN', 'HYBRID', 'SATELLITE'"
   ]
  },
  {
   "cell_type": "code",
   "execution_count": 498,
   "metadata": {},
   "outputs": [],
   "source": [
    "coord_list = cities"
   ]
  },
  {
   "cell_type": "code",
   "execution_count": 523,
   "metadata": {},
   "outputs": [],
   "source": [
    "#Takes list of queries, runs it through Here API to pull out coordinates and plots them on google map.\n",
    "\n",
    "def queries_to_map(df_of_queries):\n",
    "    queries_list = []\n",
    "    \n",
    "    #Adds a dictionary item to queries_list with the time of tweet, latitude/longitude, and the original tweet text\n",
    "    for row in range(len(df_of_queries)):\n",
    "        #Pulls the latitude and longitude\n",
    "        coordinate = query_to_coordinates(df.loc[row]['query_text'])\n",
    "        \n",
    "        query_dict = {\n",
    "            'time':df.loc['time'],\n",
    "            'location' : coordinate,\n",
    "            'tweet' : df['tweet']\n",
    "        }\n",
    "        queries_list.append(query_dict)\n",
    "    \n",
    "    #Create a list of only the coordinates for each search \n",
    "    coordinates = [tweet['location'] for tweet in queries_list]\n",
    "    \n",
    "    #Creates a template for the info box\n",
    "    info_box_template = \"\"\"\n",
    "    <dl>\n",
    "    <dt>Time</dt><dd>{time}</dd>\n",
    "    <dt>Tweet</dt><dd>{tweet}</dd>\n",
    "    </dl>\n",
    "    \"\"\"\n",
    "    \n",
    "    tweet_info = [info_box_template.format(**tweet) for tweet in queries_list]\n",
    "    marker_layer = gmaps.marker_layer(coordinates, info_box_content=tweet_info)\n",
    "    \n",
    "    fig = gmaps.figure()\n",
    "    fig.add_layer(marker_layer)\n",
    "    return fig"
   ]
  },
  {
   "cell_type": "code",
   "execution_count": 624,
   "metadata": {},
   "outputs": [],
   "source": [
    "#Takes list of queries, runs it through Here API to pull out coordinates and plots them on google map.\n",
    "\n",
    "def queries_to_map(df_of_queries):\n",
    "    queries_list = []\n",
    "    \n",
    "    #Adds a dictionary item to queries_list with the time of tweet, latitude/longitude, and the original tweet text\n",
    "    for row in range(len(df_of_queries)):\n",
    "        #Pulls the latitude and longitude\n",
    "        coordinate = query_to_coordinates(df.loc[row]['query_text'])\n",
    "        \n",
    "        query_dict = {\n",
    "            'time':df.loc[row]['time'],\n",
    "            'location' : coordinate,\n",
    "            'tweet' : df.loc[row]['tweet']\n",
    "        }\n",
    "        queries_list.append(query_dict)\n",
    "    \n",
    "    #Create a list of only the coordinates for each search \n",
    "    coordinates = [tweet['location'] for tweet in queries_list]\n",
    "    \n",
    "    #Creates a template for the info box\n",
    "    info_box_template = \"\"\"\n",
    "    <dl>\n",
    "    <dt>Time Posted:</dt><dd>{time}</dd>\n",
    "    <dt>Tweet:</dt><dd>{tweet}</dd>\n",
    "    </dl>\n",
    "    \"\"\"\n",
    "    \n",
    "    tweet_info = [info_box_template.format(**tweet) for tweet in queries_list]\n",
    "    marker_layer = gmaps.marker_layer(coordinates, info_box_content=tweet_info)\n",
    "    \n",
    "    fig = gmaps.figure()\n",
    "    fig.add_layer(marker_layer)\n",
    "    return fig"
   ]
  },
  {
   "cell_type": "code",
   "execution_count": 545,
   "metadata": {},
   "outputs": [],
   "source": [
    "df = pd.DataFrame(columns = ['tweet', 'time', 'region','query_text'])\n",
    "df.loc[0] = ['610 14th Pl. Del Vista is amazeballs', 5, 'Washington', '610 14th Pl. Washington']\n",
    "df.loc[1] = [\"I'm so hammered by the Washington Monument\", 7, 'Washington', '99 H St. NW Washington']\n",
    "df.loc[2] = [\"I'm trapped at 6th and I NW\", 6, 'Washington', '6th and I NW Washington']"
   ]
  },
  {
   "cell_type": "code",
   "execution_count": 546,
   "metadata": {},
   "outputs": [
    {
     "data": {
      "text/plain": [
       "'610 14th Pl. Washington'"
      ]
     },
     "execution_count": 546,
     "metadata": {},
     "output_type": "execute_result"
    }
   ],
   "source": [
    "df.loc[0]['query_text']"
   ]
  },
  {
   "cell_type": "code",
   "execution_count": 547,
   "metadata": {},
   "outputs": [
    {
     "data": {
      "text/plain": [
       "(38.90087, -77.01991)"
      ]
     },
     "execution_count": 547,
     "metadata": {},
     "output_type": "execute_result"
    }
   ],
   "source": [
    "query_to_coordinates(df.loc[2]['query_text'])"
   ]
  },
  {
   "cell_type": "code",
   "execution_count": 625,
   "metadata": {},
   "outputs": [
    {
     "data": {
      "application/vnd.jupyter.widget-view+json": {
       "model_id": "4d0d425a0b02450d9ed7763cd9738da7",
       "version_major": 2,
       "version_minor": 0
      },
      "text/plain": [
       "Figure(layout=FigureLayout(height='420px'))"
      ]
     },
     "metadata": {},
     "output_type": "display_data"
    }
   ],
   "source": [
    "queries_to_map(df)"
   ]
  },
  {
   "cell_type": "code",
   "execution_count": null,
   "metadata": {},
   "outputs": [],
   "source": []
  },
  {
   "cell_type": "code",
   "execution_count": 363,
   "metadata": {},
   "outputs": [],
   "source": [
    "#to implement\n",
    "def traffic_list_heatmap(incident_list, frequency):\n",
    "    pass"
   ]
  },
  {
   "cell_type": "markdown",
   "metadata": {},
   "source": [
    "## Tweets"
   ]
  },
  {
   "cell_type": "code",
   "execution_count": 497,
   "metadata": {
    "scrolled": true
   },
   "outputs": [
    {
     "data": {
      "text/html": [
       "<div>\n",
       "<style scoped>\n",
       "    .dataframe tbody tr th:only-of-type {\n",
       "        vertical-align: middle;\n",
       "    }\n",
       "\n",
       "    .dataframe tbody tr th {\n",
       "        vertical-align: top;\n",
       "    }\n",
       "\n",
       "    .dataframe thead th {\n",
       "        text-align: right;\n",
       "    }\n",
       "</style>\n",
       "<table border=\"1\" class=\"dataframe\">\n",
       "  <thead>\n",
       "    <tr style=\"text-align: right;\">\n",
       "      <th></th>\n",
       "      <th>date</th>\n",
       "      <th>geo</th>\n",
       "      <th>hashtags</th>\n",
       "      <th>id</th>\n",
       "      <th>text</th>\n",
       "      <th>type</th>\n",
       "      <th>username</th>\n",
       "    </tr>\n",
       "  </thead>\n",
       "  <tbody>\n",
       "    <tr>\n",
       "      <th>0</th>\n",
       "      <td>2016-11-29 23:59:23+00:00</td>\n",
       "      <td>NaN</td>\n",
       "      <td>NaN</td>\n",
       "      <td>803750232437784581</td>\n",
       "      <td>NEW: Crash in Duval on I-295 E north beyond Ph...</td>\n",
       "      <td>official</td>\n",
       "      <td>fl511_northeast</td>\n",
       "    </tr>\n",
       "    <tr>\n",
       "      <th>1</th>\n",
       "      <td>2016-11-29 23:59:22+00:00</td>\n",
       "      <td>NaN</td>\n",
       "      <td>NaN</td>\n",
       "      <td>803750229858086912</td>\n",
       "      <td>NEW: Unconfirmed crash in Duval on I-10 east r...</td>\n",
       "      <td>official</td>\n",
       "      <td>fl511_northeast</td>\n",
       "    </tr>\n",
       "    <tr>\n",
       "      <th>2</th>\n",
       "      <td>2016-11-29 23:59:15+00:00</td>\n",
       "      <td>NaN</td>\n",
       "      <td>NaN</td>\n",
       "      <td>803750202268119040</td>\n",
       "      <td>CLEARED: Traffic congestion in Duval on I-95 n...</td>\n",
       "      <td>official</td>\n",
       "      <td>fl511_northeast</td>\n",
       "    </tr>\n",
       "    <tr>\n",
       "      <th>3</th>\n",
       "      <td>2016-11-29 23:54:26+00:00</td>\n",
       "      <td>NaN</td>\n",
       "      <td>NaN</td>\n",
       "      <td>803748988126040064</td>\n",
       "      <td>CLEARED: Traffic congestion in Duval on I-295 ...</td>\n",
       "      <td>official</td>\n",
       "      <td>fl511_northeast</td>\n",
       "    </tr>\n",
       "    <tr>\n",
       "      <th>4</th>\n",
       "      <td>2016-11-29 23:49:33+00:00</td>\n",
       "      <td>NaN</td>\n",
       "      <td>NaN</td>\n",
       "      <td>803747761552314368</td>\n",
       "      <td>UPDATE: Multi-vehicle crash in Duval on I-295 ...</td>\n",
       "      <td>official</td>\n",
       "      <td>fl511_northeast</td>\n",
       "    </tr>\n",
       "  </tbody>\n",
       "</table>\n",
       "</div>"
      ],
      "text/plain": [
       "                        date  geo hashtags                  id  \\\n",
       "0  2016-11-29 23:59:23+00:00  NaN      NaN  803750232437784581   \n",
       "1  2016-11-29 23:59:22+00:00  NaN      NaN  803750229858086912   \n",
       "2  2016-11-29 23:59:15+00:00  NaN      NaN  803750202268119040   \n",
       "3  2016-11-29 23:54:26+00:00  NaN      NaN  803748988126040064   \n",
       "4  2016-11-29 23:49:33+00:00  NaN      NaN  803747761552314368   \n",
       "\n",
       "                                                text      type  \\\n",
       "0  NEW: Crash in Duval on I-295 E north beyond Ph...  official   \n",
       "1  NEW: Unconfirmed crash in Duval on I-10 east r...  official   \n",
       "2  CLEARED: Traffic congestion in Duval on I-95 n...  official   \n",
       "3  CLEARED: Traffic congestion in Duval on I-295 ...  official   \n",
       "4  UPDATE: Multi-vehicle crash in Duval on I-295 ...  official   \n",
       "\n",
       "          username  \n",
       "0  fl511_northeast  \n",
       "1  fl511_northeast  \n",
       "2  fl511_northeast  \n",
       "3  fl511_northeast  \n",
       "4  fl511_northeast  "
      ]
     },
     "execution_count": 497,
     "metadata": {},
     "output_type": "execute_result"
    }
   ],
   "source": [
    "tweets = pd.read_csv('../data/Tweets_Historical/historic_tweets_07182019.csv')\n",
    "tweets = tweets.drop(\"Unnamed: 0\", axis = 1)\n",
    "tweets.head()"
   ]
  },
  {
   "cell_type": "markdown",
   "metadata": {},
   "source": [
    "# More Herepy"
   ]
  },
  {
   "cell_type": "code",
   "execution_count": 549,
   "metadata": {},
   "outputs": [],
   "source": [
    "AutoComplete = herepy.GeocoderAutoCompleteApi('zeAxDsSJtRZwfoewLP5O', '0CJJK6It-8fmpsiKjsJFJg')"
   ]
  },
  {
   "cell_type": "code",
   "execution_count": 550,
   "metadata": {},
   "outputs": [],
   "source": [
    "Places = herepy.PlacesApi('zeAxDsSJtRZwfoewLP5O', '0CJJK6It-8fmpsiKjsJFJg')"
   ]
  },
  {
   "cell_type": "code",
   "execution_count": 551,
   "metadata": {},
   "outputs": [],
   "source": [
    "RME = herepy.RmeApi('zeAxDsSJtRZwfoewLP5O', '0CJJK6It-8fmpsiKjsJFJg')"
   ]
  },
  {
   "cell_type": "code",
   "execution_count": 602,
   "metadata": {},
   "outputs": [],
   "source": [
    "auto_response = AutoComplete.limit_results_byaddress(\"motor_way Columbia Maryland\", \"USA\")"
   ]
  },
  {
   "cell_type": "code",
   "execution_count": 603,
   "metadata": {},
   "outputs": [
    {
     "data": {
      "text/plain": [
       "{'suggestions': []}"
      ]
     },
     "execution_count": 603,
     "metadata": {},
     "output_type": "execute_result"
    }
   ],
   "source": [
    "auto_response.as_dict()"
   ]
  },
  {
   "cell_type": "code",
   "execution_count": 566,
   "metadata": {},
   "outputs": [
    {
     "data": {
      "text/plain": [
       "(38.40025, -76.50908)"
      ]
     },
     "execution_count": 566,
     "metadata": {},
     "output_type": "execute_result"
    }
   ],
   "source": [
    "query_to_coordinates('United States, Maryland, St Leonard, Jefferson Patterson Park Exit Rd')"
   ]
  },
  {
   "cell_type": "code",
   "execution_count": 621,
   "metadata": {},
   "outputs": [],
   "source": [
    "test = geocoderApi.free_form(\"exit 23 I-495 maryland\")"
   ]
  },
  {
   "cell_type": "code",
   "execution_count": 622,
   "metadata": {},
   "outputs": [
    {
     "data": {
      "text/plain": [
       "{'MetaInfo': {'Timestamp': '2019-07-25T13:46:57.645+0000'}, 'View': []}"
      ]
     },
     "execution_count": 622,
     "metadata": {},
     "output_type": "execute_result"
    }
   ],
   "source": [
    "test.Response"
   ]
  },
  {
   "cell_type": "code",
   "execution_count": 630,
   "metadata": {},
   "outputs": [
    {
     "data": {
      "text/plain": [
       "(30.15798, -81.63604)"
      ]
     },
     "execution_count": 630,
     "metadata": {},
     "output_type": "execute_result"
    }
   ],
   "source": [
    "query_to_coordinates(\"335 I-95 FL 32223\")"
   ]
  },
  {
   "cell_type": "code",
   "execution_count": 633,
   "metadata": {},
   "outputs": [],
   "source": [
    "intersection = geocoderApi.street_intersection(\"Florida Interstate 295 West South @ Pritchard Rd\", \"Jacksonville\")"
   ]
  },
  {
   "cell_type": "code",
   "execution_count": 635,
   "metadata": {},
   "outputs": [
    {
     "data": {
      "text/plain": [
       "{'MetaInfo': {'Timestamp': '2019-07-25T19:55:30.083+0000'},\n",
       " 'View': [{'_type': 'SearchResultsViewType',\n",
       "   'ViewId': 0,\n",
       "   'Result': [{'Relevance': 0.77,\n",
       "     'MatchLevel': 'street',\n",
       "     'MatchQuality': {'State': 1.0, 'City': 1.0, 'Street': [1.0]},\n",
       "     'Location': {'LocationId': 'NT_EHBlzVV182krojuBfZKvuC',\n",
       "      'LocationType': 'point',\n",
       "      'DisplayPosition': {'Latitude': 30.37196, 'Longitude': -81.76058},\n",
       "      'NavigationPosition': [{'Latitude': 30.37196, 'Longitude': -81.76058}],\n",
       "      'MapView': {'TopLeft': {'Latitude': 30.37535, 'Longitude': -81.77287},\n",
       "       'BottomRight': {'Latitude': 30.37181, 'Longitude': -81.7489}},\n",
       "      'Address': {'Label': 'Pritchard Rd, Jacksonville, FL 32219, United States',\n",
       "       'Country': 'USA',\n",
       "       'State': 'FL',\n",
       "       'County': 'Duval',\n",
       "       'City': 'Jacksonville',\n",
       "       'District': 'Picketville',\n",
       "       'Street': 'Pritchard Rd',\n",
       "       'PostalCode': '32219',\n",
       "       'AdditionalData': [{'value': 'United States', 'key': 'CountryName'},\n",
       "        {'value': 'Florida', 'key': 'StateName'},\n",
       "        {'value': 'Duval', 'key': 'CountyName'},\n",
       "        {'value': 'N', 'key': 'PostalCodeType'}]}}},\n",
       "    {'Relevance': 0.77,\n",
       "     'MatchLevel': 'street',\n",
       "     'MatchQuality': {'State': 1.0, 'City': 1.0, 'Street': [1.0]},\n",
       "     'Location': {'LocationId': 'NT_3IcUPJv1HdLXqTmeMe2kLA',\n",
       "      'LocationType': 'point',\n",
       "      'DisplayPosition': {'Latitude': 30.37157, 'Longitude': -81.79383},\n",
       "      'NavigationPosition': [{'Latitude': 30.37157, 'Longitude': -81.79383}],\n",
       "      'MapView': {'TopLeft': {'Latitude': 30.37704, 'Longitude': -81.83971},\n",
       "       'BottomRight': {'Latitude': 30.36572, 'Longitude': -81.76121}},\n",
       "      'Address': {'Label': 'Pritchard Rd, Jacksonville, FL 32219, United States',\n",
       "       'Country': 'USA',\n",
       "       'State': 'FL',\n",
       "       'County': 'Duval',\n",
       "       'City': 'Jacksonville',\n",
       "       'District': 'Cisco Gardens',\n",
       "       'Street': 'Pritchard Rd',\n",
       "       'PostalCode': '32219',\n",
       "       'AdditionalData': [{'value': 'United States', 'key': 'CountryName'},\n",
       "        {'value': 'Florida', 'key': 'StateName'},\n",
       "        {'value': 'Duval', 'key': 'CountyName'},\n",
       "        {'value': 'N', 'key': 'PostalCodeType'}]}}},\n",
       "    {'Relevance': 0.77,\n",
       "     'MatchLevel': 'street',\n",
       "     'MatchQuality': {'State': 1.0, 'City': 1.0, 'Street': [1.0]},\n",
       "     'Location': {'LocationId': 'NT_pIzyGtmedDKytTPc-qfBZC',\n",
       "      'LocationType': 'point',\n",
       "      'DisplayPosition': {'Latitude': 30.37149, 'Longitude': -81.78283},\n",
       "      'NavigationPosition': [{'Latitude': 30.37149, 'Longitude': -81.78283}],\n",
       "      'MapView': {'TopLeft': {'Latitude': 30.37173, 'Longitude': -81.7898699},\n",
       "       'BottomRight': {'Latitude': 30.37148, 'Longitude': -81.7758}},\n",
       "      'Address': {'Label': 'Pritchard Rd, Jacksonville, FL 32219, United States',\n",
       "       'Country': 'USA',\n",
       "       'State': 'FL',\n",
       "       'County': 'Duval',\n",
       "       'City': 'Jacksonville',\n",
       "       'District': 'Bulls Bay',\n",
       "       'Street': 'Pritchard Rd',\n",
       "       'PostalCode': '32219',\n",
       "       'AdditionalData': [{'value': 'United States', 'key': 'CountryName'},\n",
       "        {'value': 'Florida', 'key': 'StateName'},\n",
       "        {'value': 'Duval', 'key': 'CountyName'},\n",
       "        {'value': 'N', 'key': 'PostalCodeType'}]}}},\n",
       "    {'Relevance': 0.77,\n",
       "     'MatchLevel': 'street',\n",
       "     'MatchQuality': {'State': 1.0, 'City': 1.0, 'Street': [1.0]},\n",
       "     'Location': {'LocationId': 'NT_5VBzaG7qqME7bMDkGZEDyC',\n",
       "      'LocationType': 'point',\n",
       "      'DisplayPosition': {'Latitude': 30.3404, 'Longitude': -81.84533},\n",
       "      'NavigationPosition': [{'Latitude': 30.3404, 'Longitude': -81.84533}],\n",
       "      'MapView': {'TopLeft': {'Latitude': 30.35387, 'Longitude': -81.84868},\n",
       "       'BottomRight': {'Latitude': 30.33258, 'Longitude': -81.8409}},\n",
       "      'Address': {'Label': 'Pritchard Rd, Jacksonville, FL 32220, United States',\n",
       "       'Country': 'USA',\n",
       "       'State': 'FL',\n",
       "       'County': 'Duval',\n",
       "       'City': 'Jacksonville',\n",
       "       'Street': 'Pritchard Rd',\n",
       "       'PostalCode': '32220',\n",
       "       'AdditionalData': [{'value': 'United States', 'key': 'CountryName'},\n",
       "        {'value': 'Florida', 'key': 'StateName'},\n",
       "        {'value': 'Duval', 'key': 'CountyName'},\n",
       "        {'value': 'N', 'key': 'PostalCodeType'}]}}},\n",
       "    {'Relevance': 0.77,\n",
       "     'MatchLevel': 'street',\n",
       "     'MatchQuality': {'State': 1.0, 'City': 1.0, 'Street': [1.0]},\n",
       "     'Location': {'LocationId': 'NT_a04utFMaqdXJhvtGJ1f1cD',\n",
       "      'LocationType': 'point',\n",
       "      'DisplayPosition': {'Latitude': 30.37289, 'Longitude': -81.75489},\n",
       "      'NavigationPosition': [{'Latitude': 30.37289, 'Longitude': -81.75489}],\n",
       "      'MapView': {'TopLeft': {'Latitude': 30.37523, 'Longitude': -81.76121},\n",
       "       'BottomRight': {'Latitude': 30.37196, 'Longitude': -81.7489}},\n",
       "      'Address': {'Label': 'Pritchard Rd, Jacksonville, FL 32219, United States',\n",
       "       'Country': 'USA',\n",
       "       'State': 'FL',\n",
       "       'County': 'Duval',\n",
       "       'City': 'Jacksonville',\n",
       "       'District': 'Biltmore',\n",
       "       'Street': 'Pritchard Rd',\n",
       "       'PostalCode': '32219',\n",
       "       'AdditionalData': [{'value': 'United States', 'key': 'CountryName'},\n",
       "        {'value': 'Florida', 'key': 'StateName'},\n",
       "        {'value': 'Duval', 'key': 'CountyName'},\n",
       "        {'value': 'N', 'key': 'PostalCodeType'}]}}},\n",
       "    {'Relevance': 0.77,\n",
       "     'MatchLevel': 'street',\n",
       "     'MatchQuality': {'State': 1.0, 'City': 1.0, 'Street': [1.0]},\n",
       "     'Location': {'LocationId': 'NT_KUiTdvtXX8cG-gqksXg2GC',\n",
       "      'LocationType': 'point',\n",
       "      'DisplayPosition': {'Latitude': 30.36462, 'Longitude': -81.84044},\n",
       "      'NavigationPosition': [{'Latitude': 30.36462, 'Longitude': -81.84044}],\n",
       "      'MapView': {'TopLeft': {'Latitude': 30.36974, 'Longitude': -81.84079},\n",
       "       'BottomRight': {'Latitude': 30.35733, 'Longitude': -81.8356}},\n",
       "      'Address': {'Label': 'Pritchard Rd, Jacksonville, FL 32220, United States',\n",
       "       'Country': 'USA',\n",
       "       'State': 'FL',\n",
       "       'County': 'Duval',\n",
       "       'City': 'Jacksonville',\n",
       "       'District': 'Cisco Gardens',\n",
       "       'Street': 'Pritchard Rd',\n",
       "       'PostalCode': '32220',\n",
       "       'AdditionalData': [{'value': 'United States', 'key': 'CountryName'},\n",
       "        {'value': 'Florida', 'key': 'StateName'},\n",
       "        {'value': 'Duval', 'key': 'CountyName'},\n",
       "        {'value': 'N', 'key': 'PostalCodeType'}]}}},\n",
       "    {'Relevance': 0.77,\n",
       "     'MatchLevel': 'street',\n",
       "     'MatchQuality': {'State': 1.0, 'City': 1.0, 'Street': [1.0]},\n",
       "     'Location': {'LocationId': 'NT_wfuBpwt-wwZ1QoM1biIEoA',\n",
       "      'LocationType': 'point',\n",
       "      'DisplayPosition': {'Latitude': 30.35548, 'Longitude': -81.84067},\n",
       "      'NavigationPosition': [{'Latitude': 30.35548, 'Longitude': -81.84067}],\n",
       "      'MapView': {'TopLeft': {'Latitude': 30.3574, 'Longitude': -81.8409999},\n",
       "       'BottomRight': {'Latitude': 30.35365, 'Longitude': -81.84065}},\n",
       "      'Address': {'Label': 'Pritchard Rd, Jacksonville, FL 32220, United States',\n",
       "       'Country': 'USA',\n",
       "       'State': 'FL',\n",
       "       'County': 'Duval',\n",
       "       'City': 'Jacksonville',\n",
       "       'District': 'Marietta',\n",
       "       'Street': 'Pritchard Rd',\n",
       "       'PostalCode': '32220',\n",
       "       'AdditionalData': [{'value': 'United States', 'key': 'CountryName'},\n",
       "        {'value': 'Florida', 'key': 'StateName'},\n",
       "        {'value': 'Duval', 'key': 'CountyName'},\n",
       "        {'value': 'N', 'key': 'PostalCodeType'}]}}}]}]}"
      ]
     },
     "execution_count": 635,
     "metadata": {},
     "output_type": "execute_result"
    }
   ],
   "source": [
    "intersection.Response"
   ]
  },
  {
   "cell_type": "code",
   "execution_count": 645,
   "metadata": {},
   "outputs": [
    {
     "data": {
      "text/plain": [
       "(30.25297, -81.5162)"
      ]
     },
     "execution_count": 645,
     "metadata": {},
     "output_type": "execute_result"
    }
   ],
   "source": [
    "query_to_coordinates(\"Interstate 295 Exit 53 @ Bulter Blvd Jacksonville\")"
   ]
  },
  {
   "cell_type": "code",
   "execution_count": null,
   "metadata": {},
   "outputs": [],
   "source": []
  }
 ],
 "metadata": {
  "kernelspec": {
   "display_name": "Python 3",
   "language": "python",
   "name": "python3"
  },
  "language_info": {
   "codemirror_mode": {
    "name": "ipython",
    "version": 3
   },
   "file_extension": ".py",
   "mimetype": "text/x-python",
   "name": "python",
   "nbconvert_exporter": "python",
   "pygments_lexer": "ipython3",
   "version": "3.7.3"
  }
 },
 "nbformat": 4,
 "nbformat_minor": 2
}
