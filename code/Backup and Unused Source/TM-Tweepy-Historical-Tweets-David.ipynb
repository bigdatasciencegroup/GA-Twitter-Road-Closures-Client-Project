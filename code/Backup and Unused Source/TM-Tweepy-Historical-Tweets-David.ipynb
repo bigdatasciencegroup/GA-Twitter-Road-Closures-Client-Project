{
 "cells": [
  {
   "cell_type": "code",
   "execution_count": 3,
   "metadata": {},
   "outputs": [],
   "source": [
    "#import tweepy\n",
    "#import jsonpickle\n",
    "import json\n",
    "import datetime\n",
    "#import GetOldTweets3 as got\n",
    "\n",
    "from pandas.io.json import json_normalize\n",
    "\n",
    "import pandas as pd"
   ]
  },
  {
   "cell_type": "code",
   "execution_count": 12,
   "metadata": {},
   "outputs": [],
   "source": [
    "# load Twitter API credentials\n",
    "with open('../twitter_credentials.json') as cred_data:\n",
    "    info = json.load(cred_data)\n",
    "    consumer_key = info['CONSUMER_KEY']\n",
    "    consumer_secret = info['CONSUMER_SECRET']\n",
    "    access_token = info['ACCESS_TOKEN']\n",
    "    access_secret = info['ACCESS_SECRET']"
   ]
  },
  {
   "cell_type": "code",
   "execution_count": 13,
   "metadata": {},
   "outputs": [
    {
     "name": "stdout",
     "output_type": "stream",
     "text": [
      "Authentication OK\n"
     ]
    }
   ],
   "source": [
    "# Authenticate to Twitter\n",
    "auth = tweepy.OAuthHandler(consumer_key, consumer_secret)\n",
    "auth.set_access_token(access_token, access_secret)\n",
    "\n",
    "api = tweepy.API(auth)\n",
    "\n",
    "try:\n",
    "    api.verify_credentials()\n",
    "    print(\"Authentication OK\")\n",
    "except:\n",
    "    print(\"Error during authentication\")"
   ]
  },
  {
   "cell_type": "code",
   "execution_count": 9,
   "metadata": {},
   "outputs": [
    {
     "name": "stdout",
     "output_type": "stream",
     "text": [
      "Tee Moore\n",
      "{'/search/tweets': {'limit': 180, 'remaining': 180, 'reset': 1563467956}}\n"
     ]
    }
   ],
   "source": [
    "user = api.me()\n",
    "print (user.name)\n",
    "print(api.rate_limit_status()['resources']['search'])"
   ]
  },
  {
   "cell_type": "code",
   "execution_count": 17,
   "metadata": {
    "scrolled": true
   },
   "outputs": [
    {
     "data": {
      "text/plain": [
       "['DCTrafficHater',\n",
       " 'fl511_northeast',\n",
       " 'ActionTraffic',\n",
       " 'wsoctv',\n",
       " 'GeorgiaEMA',\n",
       " 'NCDOT',\n",
       " 'GARedCross']"
      ]
     },
     "execution_count": 17,
     "metadata": {},
     "output_type": "execute_result"
    }
   ],
   "source": [
    "my_accounts = []\n",
    "for member in tweepy.Cursor(api.list_members, 'ClydeLazersex', 'evac-route-project').items():\n",
    "    my_accounts.append(member.screen_name)\n",
    "# Show list\n",
    "my_accounts"
   ]
  },
  {
   "cell_type": "code",
   "execution_count": 21,
   "metadata": {},
   "outputs": [
    {
     "name": "stdout",
     "output_type": "stream",
     "text": [
      "<GetOldTweets3.manager.TweetCriteria.TweetCriteria object at 0x116ed89b0>\n",
      "<GetOldTweets3.manager.TweetCriteria.TweetCriteria object at 0x1080dc898>\n",
      "<GetOldTweets3.manager.TweetCriteria.TweetCriteria object at 0x117413da0>\n",
      "<GetOldTweets3.manager.TweetCriteria.TweetCriteria object at 0x11698b6d8>\n",
      "<GetOldTweets3.manager.TweetCriteria.TweetCriteria object at 0x116894e48>\n",
      "<GetOldTweets3.manager.TweetCriteria.TweetCriteria object at 0x10a94f438>\n",
      "<GetOldTweets3.manager.TweetCriteria.TweetCriteria object at 0x11683e128>\n",
      "Shape of DataFrame: (8622, 7)\n"
     ]
    }
   ],
   "source": [
    "# code modified from Jasmine Vasandani\n",
    "# With the help of got.manager, get all the tweets from 01/01/2016 till 04/14/2019\n",
    "# Store all the collected tweets in DF\n",
    "max_tweets=3000\n",
    "closure_list=[]\n",
    "final_df=pd.DataFrame()\n",
    "for account in my_accounts:\n",
    "    tweetCriteria = got.manager.TweetCriteria().setUsername(account).setSince(\"2016-07-01\").setUntil(\"2016-11-30\").setMaxTweets(max_tweets)   \n",
    "    print(tweetCriteria)\n",
    "    tweet = got.manager.TweetManager.getTweets(tweetCriteria)\n",
    "    for i in range(len(tweet)):\n",
    "        tweet_dict = {}\n",
    "        tweet_dict['id'] = tweet[i].id\n",
    "        tweet_dict['username'] = tweet[i].username\n",
    "        tweet_dict['date'] = tweet[i].date\n",
    "        tweet_dict['text'] = tweet[i].text\n",
    "        tweet_dict['hashtags'] = tweet[i].hashtags\n",
    "        tweet_dict['geo'] = tweet[i].geo\n",
    "        tweet_dict['type'] = 'official'\n",
    "        closure_list.append(tweet_dict)\n",
    "\n",
    "\n",
    "df1=pd.DataFrame(closure_list)\n",
    "final_df = pd.concat([df1, final_df])\n",
    "print(\"Shape of DataFrame:\", final_df.shape)"
   ]
  },
  {
   "cell_type": "code",
   "execution_count": 22,
   "metadata": {},
   "outputs": [
    {
     "data": {
      "text/plain": [
       "(8622, 7)"
      ]
     },
     "execution_count": 22,
     "metadata": {},
     "output_type": "execute_result"
    }
   ],
   "source": [
    "# review the shape of the dataframe\n",
    "final_df.shape"
   ]
  },
  {
   "cell_type": "code",
   "execution_count": 26,
   "metadata": {},
   "outputs": [
    {
     "data": {
      "text/plain": [
       "{'id': '803233410839756800',\n",
       " 'username': 'fl511_northeast',\n",
       " 'date': datetime.datetime(2016, 11, 28, 13, 45, 43, tzinfo=datetime.timezone.utc),\n",
       " 'text': 'UPDATE: Crash in Alachua on I-75 north beyond SR-26.',\n",
       " 'hashtags': '',\n",
       " 'geo': '',\n",
       " 'type': 'official'}"
      ]
     },
     "execution_count": 26,
     "metadata": {},
     "output_type": "execute_result"
    }
   ],
   "source": [
    "closure_list[500]"
   ]
  },
  {
   "cell_type": "code",
   "execution_count": 47,
   "metadata": {},
   "outputs": [
    {
     "data": {
      "text/plain": [
       "'CLEARED: Planned construction in Duval on I-295 E north at Exit 61 I-95, right lane blocked.'"
      ]
     },
     "execution_count": 47,
     "metadata": {},
     "output_type": "execute_result"
    }
   ],
   "source": [
    "final_df.iloc[300].text"
   ]
  },
  {
   "cell_type": "code",
   "execution_count": 48,
   "metadata": {},
   "outputs": [
    {
     "data": {
      "text/plain": [
       "Index(['date', 'geo', 'hashtags', 'id', 'text', 'type', 'username'], dtype='object')"
      ]
     },
     "execution_count": 48,
     "metadata": {},
     "output_type": "execute_result"
    }
   ],
   "source": [
    "# list the columns from the dataframe\n",
    "final_df.columns"
   ]
  },
  {
   "cell_type": "code",
   "execution_count": 49,
   "metadata": {},
   "outputs": [
    {
     "data": {
      "text/plain": [
       "username\n",
       "ActionTraffic      1430\n",
       "GARedCross           67\n",
       "GeorgiaEMA          318\n",
       "NCDOT               807\n",
       "fl511_northeast    3000\n",
       "wsoctv             3000\n",
       "Name: username, dtype: int64"
      ]
     },
     "execution_count": 49,
     "metadata": {},
     "output_type": "execute_result"
    }
   ],
   "source": [
    "# list the accounts followed and the count of Tweets collected from each account\n",
    "final_df.groupby(by='username')['username'].count()"
   ]
  },
  {
   "cell_type": "code",
   "execution_count": 51,
   "metadata": {},
   "outputs": [],
   "source": [
    "final_df.to_csv('../data/Tweets_Historical/historic_tweets_07182019.csv', index = False)"
   ]
  },
  {
   "cell_type": "code",
   "execution_count": 5,
   "metadata": {},
   "outputs": [],
   "source": [
    "df = pd.read_csv('../data/Tweets_Historical/historic_tweets_07182019.csv')"
   ]
  },
  {
   "cell_type": "code",
   "execution_count": 6,
   "metadata": {},
   "outputs": [
    {
     "data": {
      "text/plain": [
       "0       NEW: Crash in Duval on I-295 E north beyond Ph...\n",
       "1       NEW: Unconfirmed crash in Duval on I-10 east r...\n",
       "2       CLEARED: Traffic congestion in Duval on I-95 n...\n",
       "3       CLEARED: Traffic congestion in Duval on I-295 ...\n",
       "4       UPDATE: Multi-vehicle crash in Duval on I-295 ...\n",
       "5       UPDATE: Multi-vehicle crash in Duval on I-95 n...\n",
       "6       UPDATE: Traffic congestion in Duval on I-95 no...\n",
       "7       CLEARED: Traffic congestion in Duval on I-295 ...\n",
       "8       CLEARED: Traffic congestion in Duval on I-95 s...\n",
       "9       CLEARED: Traffic congestion in Duval on I-295 ...\n",
       "10      CLEARED: Traffic congestion in Duval on SR-202...\n",
       "11      UPDATE: Traffic congestion in Duval on I-295 W...\n",
       "12      CLEARED: Traffic congestion in Duval on I-95 s...\n",
       "13      CLEARED: Traffic congestion in Duval on SR-202...\n",
       "14      CLEARED: Traffic congestion in Duval on I-295 ...\n",
       "15      CLEARED: Traffic congestion in Duval on I-95 s...\n",
       "16      CLEARED: Crash in Duval on SR-202 / Butler Blv...\n",
       "17      CLEARED: Unconfirmed crash in Duval on I-95 no...\n",
       "18      CLEARED: Crash in Duval on I-95 south at Exit ...\n",
       "19      CLEARED: Unconfirmed disabled vehicle in Duval...\n",
       "20      NEW: Unconfirmed crash in Duval on I-295 W nor...\n",
       "21      NEW: Crash in Duval on SR-202 / Butler Blvd ea...\n",
       "22      UPDATE: Crash in Duval on I-95 south at Exit 3...\n",
       "23      UPDATE: Traffic congestion in Duval on I-95 so...\n",
       "24      CLEARED: Disabled vehicle in Duval on SR-202 /...\n",
       "25      UPDATE: Crash in Duval on I-295 W north at Exi...\n",
       "26      UPDATE: Traffic congestion in Duval on I-295 E...\n",
       "27      CLEARED: Traffic congestion in Duval on I-295 ...\n",
       "28      CLEARED: Traffic congestion in Duval on I-95 s...\n",
       "29      CLEARED: Traffic congestion in Duval on I-295 ...\n",
       "                              ...                        \n",
       "8592    In about 10 minutes we talk @RedCross flood re...\n",
       "8593    Entire neighborhoods placing everything they o...\n",
       "8594    Talking @RedCross #laflood relief with @JulieS...\n",
       "8595    Please donate to help restore hope to families...\n",
       "8596    @RedCross Disaster Field Supply Center Union C...\n",
       "8597    #laflood worst natural disaster since Supersto...\n",
       "8598    Thank youhttps://twitter.com/JFSIV/status/7652...\n",
       "8599    @amandamoyerWSB Georgia Red Cross deploys 30 v...\n",
       "8600    Red Cross of Georgia has deployed 30 volunteer...\n",
       "8601    @GANewsNetwork To Help Flood Victims in Louisi...\n",
       "8602    23 Volunteers and 4 Emergency Response Vehicle...\n",
       "8603    http://www.fox5atlanta.com/news/190836337-story …\n",
       "8604    Atlanta volunteers are headed to Louisiana flo...\n",
       "8605    @cbs46 Volunteers from Metro Atlanta head for ...\n",
       "8606                 TRACK TRACK TRACK! Tonight? #Rio2016\n",
       "8607    Helping... and Serving #RedCross #volunteering...\n",
       "8608    You can save, spend, or donate it. #NationalDo...\n",
       "8609    @FalconsViews Buy discounted tickets for @Atla...\n",
       "8610    @SPORTalkFalcons Buy discounted tickets for@At...\n",
       "8611    @TheFalcoholic Buy discounted tickets for @Atl...\n",
       "8612    @Falcons_Fans Buy discounted tickets for @Atla...\n",
       "8613    @zesty_falcons Thanks for the post like... fee...\n",
       "8614    Buy discounted tickets for @AtlantaFalcons fin...\n",
       "8615    #RedCross is thanking donors who give blood/pl...\n",
       "8616    Trying to \"catch 'em all\" with Pokémon Go? Sta...\n",
       "8617    Donate blood today @paceacademy Free giveaways...\n",
       "8618       It's hot! Stay safe!pic.twitter.com/xn2oj5VWJC\n",
       "8619    The Coca-Cola Foundation awards @RedCross $100...\n",
       "8620                           pic.twitter.com/BMZEPu6vKt\n",
       "8621    7x more homes damaged by major disasters in ea...\n",
       "Name: text, Length: 8622, dtype: object"
      ]
     },
     "execution_count": 6,
     "metadata": {},
     "output_type": "execute_result"
    }
   ],
   "source": [
    "df['text']"
   ]
  },
  {
   "cell_type": "code",
   "execution_count": null,
   "metadata": {},
   "outputs": [],
   "source": []
  }
 ],
 "metadata": {
  "kernelspec": {
   "display_name": "Python 3",
   "language": "python",
   "name": "python3"
  },
  "language_info": {
   "codemirror_mode": {
    "name": "ipython",
    "version": 3
   },
   "file_extension": ".py",
   "mimetype": "text/x-python",
   "name": "python",
   "nbconvert_exporter": "python",
   "pygments_lexer": "ipython3",
   "version": "3.7.3"
  }
 },
 "nbformat": 4,
 "nbformat_minor": 2
}
