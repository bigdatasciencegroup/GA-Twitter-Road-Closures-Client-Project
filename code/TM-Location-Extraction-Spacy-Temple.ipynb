{
 "cells": [
  {
   "cell_type": "markdown",
   "metadata": {},
   "source": [
    "# Location Extraction and Spacy Word Vectorization"
   ]
  },
  {
   "cell_type": "code",
   "execution_count": 12,
   "metadata": {
    "scrolled": true
   },
   "outputs": [],
   "source": [
    "import pandas as pd\n",
    "import re\n",
    "import spacy\n",
    "import string\n",
    "import datetime"
   ]
  },
  {
   "cell_type": "code",
   "execution_count": 13,
   "metadata": {
    "scrolled": false
   },
   "outputs": [
    {
     "name": "stdout",
     "output_type": "stream",
     "text": [
      "(43016, 6)\n"
     ]
    },
    {
     "data": {
      "text/html": [
       "<div>\n",
       "<style scoped>\n",
       "    .dataframe tbody tr th:only-of-type {\n",
       "        vertical-align: middle;\n",
       "    }\n",
       "\n",
       "    .dataframe tbody tr th {\n",
       "        vertical-align: top;\n",
       "    }\n",
       "\n",
       "    .dataframe thead th {\n",
       "        text-align: right;\n",
       "    }\n",
       "</style>\n",
       "<table border=\"1\" class=\"dataframe\">\n",
       "  <thead>\n",
       "    <tr style=\"text-align: right;\">\n",
       "      <th></th>\n",
       "      <th>date</th>\n",
       "      <th>text</th>\n",
       "      <th>type</th>\n",
       "      <th>username</th>\n",
       "      <th>tweet</th>\n",
       "      <th>road_closure</th>\n",
       "    </tr>\n",
       "  </thead>\n",
       "  <tbody>\n",
       "    <tr>\n",
       "      <th>0</th>\n",
       "      <td>2016-11-29 14:33:36+00:00</td>\n",
       "      <td>Douglas County Crash - EB I-20 b4 Post Rd  exi...</td>\n",
       "      <td>official</td>\n",
       "      <td>GDOTATL</td>\n",
       "      <td>Douglas County Crash - EB I-20 b4 Post Rd  exi...</td>\n",
       "      <td>0</td>\n",
       "    </tr>\n",
       "    <tr>\n",
       "      <th>1</th>\n",
       "      <td>2016-11-28 20:35:05+00:00</td>\n",
       "      <td>With rain on the way - we have an important me...</td>\n",
       "      <td>official</td>\n",
       "      <td>GDOTATL</td>\n",
       "      <td>With rain on the way - we have an important me...</td>\n",
       "      <td>0</td>\n",
       "    </tr>\n",
       "    <tr>\n",
       "      <th>2</th>\n",
       "      <td>2016-11-28 19:02:02+00:00</td>\n",
       "      <td>Much needed rain is headed our way    please b...</td>\n",
       "      <td>official</td>\n",
       "      <td>GDOTATL</td>\n",
       "      <td>Much needed rain is headed our way    please b...</td>\n",
       "      <td>0</td>\n",
       "    </tr>\n",
       "    <tr>\n",
       "      <th>3</th>\n",
       "      <td>2016-11-24 19:01:16+00:00</td>\n",
       "      <td>Happy Thanksgiving  Please drive safe and pati...</td>\n",
       "      <td>official</td>\n",
       "      <td>GDOTATL</td>\n",
       "      <td>Happy Thanksgiving  Please drive safe and pati...</td>\n",
       "      <td>0</td>\n",
       "    </tr>\n",
       "    <tr>\n",
       "      <th>4</th>\n",
       "      <td>2016-11-24 01:00:30+00:00</td>\n",
       "      <td>Have a safe Thanksgiving  Put away your cell p...</td>\n",
       "      <td>official</td>\n",
       "      <td>GDOTATL</td>\n",
       "      <td>Have a safe Thanksgiving  Put away your cell p...</td>\n",
       "      <td>0</td>\n",
       "    </tr>\n",
       "  </tbody>\n",
       "</table>\n",
       "</div>"
      ],
      "text/plain": [
       "                        date  \\\n",
       "0  2016-11-29 14:33:36+00:00   \n",
       "1  2016-11-28 20:35:05+00:00   \n",
       "2  2016-11-28 19:02:02+00:00   \n",
       "3  2016-11-24 19:01:16+00:00   \n",
       "4  2016-11-24 01:00:30+00:00   \n",
       "\n",
       "                                                text      type username  \\\n",
       "0  Douglas County Crash - EB I-20 b4 Post Rd  exi...  official  GDOTATL   \n",
       "1  With rain on the way - we have an important me...  official  GDOTATL   \n",
       "2  Much needed rain is headed our way    please b...  official  GDOTATL   \n",
       "3  Happy Thanksgiving  Please drive safe and pati...  official  GDOTATL   \n",
       "4  Have a safe Thanksgiving  Put away your cell p...  official  GDOTATL   \n",
       "\n",
       "                                               tweet  road_closure  \n",
       "0  Douglas County Crash - EB I-20 b4 Post Rd  exi...             0  \n",
       "1  With rain on the way - we have an important me...             0  \n",
       "2  Much needed rain is headed our way    please b...             0  \n",
       "3  Happy Thanksgiving  Please drive safe and pati...             0  \n",
       "4  Have a safe Thanksgiving  Put away your cell p...             0  "
      ]
     },
     "execution_count": 13,
     "metadata": {},
     "output_type": "execute_result"
    }
   ],
   "source": [
    "# Read in csv with Tweets\n",
    "twitter_closures = pd.read_csv(\"../data/Cleaned_Tweets/cleaned_historic_official_07252019.csv\")\n",
    "\n",
    "twitter_closures = twitter_closures[['date', 'text', 'type', 'username', 'tweet', 'road_closure']]\n",
    "\n",
    "# Print DF shape\n",
    "print(twitter_closures.shape)\n",
    "\n",
    "# Show head \n",
    "twitter_closures.head()"
   ]
  },
  {
   "cell_type": "markdown",
   "metadata": {},
   "source": [
    "## SpaCy Preprocessing"
   ]
  },
  {
   "cell_type": "code",
   "execution_count": 14,
   "metadata": {},
   "outputs": [
    {
     "data": {
      "text/html": [
       "<div>\n",
       "<style scoped>\n",
       "    .dataframe tbody tr th:only-of-type {\n",
       "        vertical-align: middle;\n",
       "    }\n",
       "\n",
       "    .dataframe tbody tr th {\n",
       "        vertical-align: top;\n",
       "    }\n",
       "\n",
       "    .dataframe thead th {\n",
       "        text-align: right;\n",
       "    }\n",
       "</style>\n",
       "<table border=\"1\" class=\"dataframe\">\n",
       "  <thead>\n",
       "    <tr style=\"text-align: right;\">\n",
       "      <th></th>\n",
       "      <th>date</th>\n",
       "      <th>text</th>\n",
       "      <th>type</th>\n",
       "      <th>username</th>\n",
       "      <th>tweet</th>\n",
       "      <th>road_closure</th>\n",
       "      <th>modified_text</th>\n",
       "      <th>location</th>\n",
       "    </tr>\n",
       "  </thead>\n",
       "  <tbody>\n",
       "    <tr>\n",
       "      <th>0</th>\n",
       "      <td>2016-11-29 14:33:36+00:00</td>\n",
       "      <td>Douglas County Crash - EB I-20 b4 Post Rd  exi...</td>\n",
       "      <td>official</td>\n",
       "      <td>GDOTATL</td>\n",
       "      <td>Douglas County Crash - EB I-20 b4 Post Rd  exi...</td>\n",
       "      <td>0</td>\n",
       "      <td></td>\n",
       "      <td></td>\n",
       "    </tr>\n",
       "    <tr>\n",
       "      <th>1</th>\n",
       "      <td>2016-11-28 20:35:05+00:00</td>\n",
       "      <td>With rain on the way - we have an important me...</td>\n",
       "      <td>official</td>\n",
       "      <td>GDOTATL</td>\n",
       "      <td>With rain on the way - we have an important me...</td>\n",
       "      <td>0</td>\n",
       "      <td></td>\n",
       "      <td></td>\n",
       "    </tr>\n",
       "  </tbody>\n",
       "</table>\n",
       "</div>"
      ],
      "text/plain": [
       "                        date  \\\n",
       "0  2016-11-29 14:33:36+00:00   \n",
       "1  2016-11-28 20:35:05+00:00   \n",
       "\n",
       "                                                text      type username  \\\n",
       "0  Douglas County Crash - EB I-20 b4 Post Rd  exi...  official  GDOTATL   \n",
       "1  With rain on the way - we have an important me...  official  GDOTATL   \n",
       "\n",
       "                                               tweet  road_closure  \\\n",
       "0  Douglas County Crash - EB I-20 b4 Post Rd  exi...             0   \n",
       "1  With rain on the way - we have an important me...             0   \n",
       "\n",
       "  modified_text location  \n",
       "0                         \n",
       "1                         "
      ]
     },
     "execution_count": 14,
     "metadata": {},
     "output_type": "execute_result"
    }
   ],
   "source": [
    "# Create new columns to transfer modified tweet text. Five versions of tweets will be created.\n",
    "twitter_closures['modified_text'] = ''\n",
    "twitter_closures['location'] = ''\n",
    "\n",
    "# Show modified DF\n",
    "twitter_closures.head(2)"
   ]
  },
  {
   "cell_type": "code",
   "execution_count": 15,
   "metadata": {},
   "outputs": [],
   "source": [
    "format_dict = {\"hwy\": \"Highway \",\n",
    "            \"Blvd\": \"Boulevard\",\n",
    "            \" st\": \"street\",\n",
    "           \"CR \": \"Country Road \",\n",
    "           \"SR \": \"State Road\",\n",
    "           \"I-\": \"Interstate \",\n",
    "           \"EB \": \"Eastbound \",\n",
    "           \"WB \": \"Westbound \",\n",
    "           \"SB \": \"Southbound\",\n",
    "           \"NB \": \"Northbound\",\n",
    "           \" on \": \" at \",\n",
    "           \" E \": \" East \",\n",
    "           \" W \": \" West \",\n",
    "           \" S \": \" South\",\n",
    "           \" N \": \" North\",\n",
    "           \"mi \": \"mile \",\n",
    "           \"between \": \"at \",\n",
    "           \"Between \": \"at \",\n",
    "           \"In \": \"in \",\n",
    "           \" in \": \" at \"}"
   ]
  },
  {
   "cell_type": "code",
   "execution_count": 16,
   "metadata": {},
   "outputs": [],
   "source": [
    "def spacy_cleaner(df, col, word_dict):\n",
    "    modified_text = \"At \" + df[col].replace(word_dict, regex=True)\n",
    "    modified_text = modified_text.str.title()\n",
    "    return modified_text"
   ]
  },
  {
   "cell_type": "code",
   "execution_count": 17,
   "metadata": {
    "scrolled": true
   },
   "outputs": [],
   "source": [
    "# run the text cleaning function and test results\n",
    "twitter_closures['modified_text'] = spacy_cleaner(twitter_closures, 'text', format_dict)"
   ]
  },
  {
   "cell_type": "code",
   "execution_count": 18,
   "metadata": {
    "scrolled": true
   },
   "outputs": [
    {
     "data": {
      "text/plain": [
       "array(['GDOTATL', 'SCDOTMidlands', 'SCDOTPeeDee', 'SCDOTLowCountry',\n",
       "       'SCDOTPiedmont', '511statewideva', 'fl511_panhandl', '511Georgia',\n",
       "       'fl511_state', 'fl511_northeast', 'fl511_southeast',\n",
       "       'fl511_southwest', 'fl511_tampabay', 'fl511_central',\n",
       "       '511centralva', '511hamptonroads', '511northernva',\n",
       "       'NCDOT_Westmtn', 'NCDOT_Triangle', 'NCDOT_Piedmont',\n",
       "       'NCDOT_Charlotte', 'NCDOT_Asheville', 'NCDOT_Scoast',\n",
       "       'NCDOT_Ncoast'], dtype=object)"
      ]
     },
     "execution_count": 18,
     "metadata": {},
     "output_type": "execute_result"
    }
   ],
   "source": [
    "twitter_closures['username'].unique()"
   ]
  },
  {
   "cell_type": "code",
   "execution_count": 19,
   "metadata": {
    "scrolled": true
   },
   "outputs": [],
   "source": [
    "twitter_closures['date'] = pd.to_datetime(twitter_closures['date'])"
   ]
  },
  {
   "cell_type": "code",
   "execution_count": 20,
   "metadata": {},
   "outputs": [],
   "source": [
    "test_df = twitter_closures[(twitter_closures['road_closure'] == 1) & (twitter_closures['username'] == 'fl511_northeast')].head(100)"
   ]
  },
  {
   "cell_type": "code",
   "execution_count": 21,
   "metadata": {},
   "outputs": [],
   "source": [
    "def get_loc(df, text_column, location_column):\n",
    "    \n",
    "    # Use Spacy to extract location names from `text` column\n",
    "    for i in range(len(df)):\n",
    "        \n",
    "        #instantiate spacy model\n",
    "        nlp = spacy.load(\"en_core_web_sm\")\n",
    "        \n",
    "        # create documewnt from modified text column\n",
    "        doc = nlp(df[text_column].iloc[i])\n",
    "        \n",
    "        locations = set()\n",
    "        \n",
    "        # loop through every entity in the doc\n",
    "        for ent in doc.ents:\n",
    "            \n",
    "            # find entities labelled as places\n",
    "            if (ent.label_=='GPE') or (ent.label_=='FAC') or (ent.label_ == 'LOC'):\n",
    "                \n",
    "                # put locations in a set\n",
    "                locations.add(ent.text)\n",
    "                df[location_column].iloc[i] = locations\n",
    "                \n",
    "    return df[location_column]"
   ]
  },
  {
   "cell_type": "code",
   "execution_count": 22,
   "metadata": {
    "scrolled": false
   },
   "outputs": [],
   "source": [
    "test = get_loc(test_df, 'modified_text', 'location')"
   ]
  },
  {
   "cell_type": "code",
   "execution_count": 23,
   "metadata": {
    "scrolled": true
   },
   "outputs": [
    {
     "data": {
      "text/html": [
       "<div>\n",
       "<style scoped>\n",
       "    .dataframe tbody tr th:only-of-type {\n",
       "        vertical-align: middle;\n",
       "    }\n",
       "\n",
       "    .dataframe tbody tr th {\n",
       "        vertical-align: top;\n",
       "    }\n",
       "\n",
       "    .dataframe thead th {\n",
       "        text-align: right;\n",
       "    }\n",
       "</style>\n",
       "<table border=\"1\" class=\"dataframe\">\n",
       "  <thead>\n",
       "    <tr style=\"text-align: right;\">\n",
       "      <th></th>\n",
       "      <th>date</th>\n",
       "      <th>text</th>\n",
       "      <th>type</th>\n",
       "      <th>username</th>\n",
       "      <th>tweet</th>\n",
       "      <th>road_closure</th>\n",
       "      <th>modified_text</th>\n",
       "      <th>location</th>\n",
       "    </tr>\n",
       "  </thead>\n",
       "  <tbody>\n",
       "    <tr>\n",
       "      <th>19213</th>\n",
       "      <td>2016-11-29 23:59:23+00:00</td>\n",
       "      <td>NEW  Crash in Duval on I-295 E north beyond Ph...</td>\n",
       "      <td>official</td>\n",
       "      <td>fl511_northeast</td>\n",
       "      <td>NEW  Crash in Duval on I-295 E north beyond Ph...</td>\n",
       "      <td>1</td>\n",
       "      <td>At New  Crash At Duval At Interstate 295 East ...</td>\n",
       "      <td>{New  Crash At Duval, Right Lane, Interstate 2...</td>\n",
       "    </tr>\n",
       "    <tr>\n",
       "      <th>19214</th>\n",
       "      <td>2016-11-29 23:59:15+00:00</td>\n",
       "      <td>CLEARED  Traffic congestion in Duval on I-95 n...</td>\n",
       "      <td>official</td>\n",
       "      <td>fl511_northeast</td>\n",
       "      <td>CLEARED  Traffic congestion in Duval on I-95 n...</td>\n",
       "      <td>1</td>\n",
       "      <td>At Cleared  Traffic Congestion At Duval At Int...</td>\n",
       "      <td>{Interstate 10, Interstate 95 North}</td>\n",
       "    </tr>\n",
       "    <tr>\n",
       "      <th>19215</th>\n",
       "      <td>2016-11-29 23:54:26+00:00</td>\n",
       "      <td>CLEARED  Traffic congestion in Duval on I-295 ...</td>\n",
       "      <td>official</td>\n",
       "      <td>fl511_northeast</td>\n",
       "      <td>CLEARED  Traffic congestion in Duval on I-295 ...</td>\n",
       "      <td>1</td>\n",
       "      <td>At Cleared  Traffic Congestion At Duval At Int...</td>\n",
       "      <td>{Interstate 295 West North, Exit 5, San Jose}</td>\n",
       "    </tr>\n",
       "    <tr>\n",
       "      <th>19216</th>\n",
       "      <td>2016-11-29 23:49:10+00:00</td>\n",
       "      <td>UPDATE  Traffic congestion in Duval on I-95 no...</td>\n",
       "      <td>official</td>\n",
       "      <td>fl511_northeast</td>\n",
       "      <td>UPDATE  Traffic congestion in Duval on I-95 no...</td>\n",
       "      <td>1</td>\n",
       "      <td>At Update  Traffic Congestion At Duval At Inte...</td>\n",
       "      <td>{Interstate 10, Interstate 95 North}</td>\n",
       "    </tr>\n",
       "    <tr>\n",
       "      <th>19217</th>\n",
       "      <td>2016-11-29 23:49:10+00:00</td>\n",
       "      <td>CLEARED  Traffic congestion in Duval on I-295 ...</td>\n",
       "      <td>official</td>\n",
       "      <td>fl511_northeast</td>\n",
       "      <td>CLEARED  Traffic congestion in Duval on I-295 ...</td>\n",
       "      <td>1</td>\n",
       "      <td>At Cleared  Traffic Congestion At Duval At Int...</td>\n",
       "      <td>{Exit 56, Interstate 295 East South, Exit 53}</td>\n",
       "    </tr>\n",
       "  </tbody>\n",
       "</table>\n",
       "</div>"
      ],
      "text/plain": [
       "                           date  \\\n",
       "19213 2016-11-29 23:59:23+00:00   \n",
       "19214 2016-11-29 23:59:15+00:00   \n",
       "19215 2016-11-29 23:54:26+00:00   \n",
       "19216 2016-11-29 23:49:10+00:00   \n",
       "19217 2016-11-29 23:49:10+00:00   \n",
       "\n",
       "                                                    text      type  \\\n",
       "19213  NEW  Crash in Duval on I-295 E north beyond Ph...  official   \n",
       "19214  CLEARED  Traffic congestion in Duval on I-95 n...  official   \n",
       "19215  CLEARED  Traffic congestion in Duval on I-295 ...  official   \n",
       "19216  UPDATE  Traffic congestion in Duval on I-95 no...  official   \n",
       "19217  CLEARED  Traffic congestion in Duval on I-295 ...  official   \n",
       "\n",
       "              username                                              tweet  \\\n",
       "19213  fl511_northeast  NEW  Crash in Duval on I-295 E north beyond Ph...   \n",
       "19214  fl511_northeast  CLEARED  Traffic congestion in Duval on I-95 n...   \n",
       "19215  fl511_northeast  CLEARED  Traffic congestion in Duval on I-295 ...   \n",
       "19216  fl511_northeast  UPDATE  Traffic congestion in Duval on I-95 no...   \n",
       "19217  fl511_northeast  CLEARED  Traffic congestion in Duval on I-295 ...   \n",
       "\n",
       "       road_closure                                      modified_text  \\\n",
       "19213             1  At New  Crash At Duval At Interstate 295 East ...   \n",
       "19214             1  At Cleared  Traffic Congestion At Duval At Int...   \n",
       "19215             1  At Cleared  Traffic Congestion At Duval At Int...   \n",
       "19216             1  At Update  Traffic Congestion At Duval At Inte...   \n",
       "19217             1  At Cleared  Traffic Congestion At Duval At Int...   \n",
       "\n",
       "                                                location  \n",
       "19213  {New  Crash At Duval, Right Lane, Interstate 2...  \n",
       "19214               {Interstate 10, Interstate 95 North}  \n",
       "19215      {Interstate 295 West North, Exit 5, San Jose}  \n",
       "19216               {Interstate 10, Interstate 95 North}  \n",
       "19217      {Exit 56, Interstate 295 East South, Exit 53}  "
      ]
     },
     "execution_count": 23,
     "metadata": {},
     "output_type": "execute_result"
    }
   ],
   "source": [
    "test_df['location'] = test\n",
    "test_df.head()"
   ]
  },
  {
   "cell_type": "code",
   "execution_count": 24,
   "metadata": {},
   "outputs": [],
   "source": [
    "test_df.to_csv(\"../data/Loc_Extracted/tweet_locations_sample_07292019\")"
   ]
  },
  {
   "cell_type": "code",
   "execution_count": 25,
   "metadata": {},
   "outputs": [
    {
     "data": {
      "text/plain": [
       "19214       CLEARED  Traffic congestion in Duval on I-95 north from before Fuller Warren to ramp to Exit 351 I-10 \n",
       "19216        UPDATE  Traffic congestion in Duval on I-95 north from before Fuller Warren to ramp to Exit 351 I-10 \n",
       "19218           CLEARED  Traffic congestion in Duval on I-95 south from Exit 344 Butler to at Exit 341 Baymeadows \n",
       "19222                                    CLEARED  Traffic congestion in Duval on I-95 south ramp to Exit 351 I-10 \n",
       "19223                 CLEARED  Traffic congestion in Duval on SR-202   Butler Blvd west from Southside to at I-95 \n",
       "19224              CLEARED  Traffic congestion in Duval on I-295 W north from Exit 61 I-95 to at Exit 3 St Aug Rd \n",
       "19225         CLEARED  Traffic congestion in Duval on I-95 south from Exit 347 Emerson to ramp to Exit 344 Butler \n",
       "19226                                 CLEARED  Crash in Duval on I-95 south at Exit 344 Butler, left lane blocked \n",
       "19228                                  UPDATE  Crash in Duval on I-95 south at Exit 344 Butler, left lane blocked \n",
       "19229            UPDATE  Traffic congestion in Duval on I-95 south from Exit 344 Butler to at Exit 341 Baymeadows \n",
       "19233           CLEARED  Traffic congestion in Duval on I-95 south from Exit 337 I-295 W to at Exit 335 St Aug Rd \n",
       "19236                CLEARED  Traffic congestion in Duval on I-95 south from Fuller Warren to at Exit 347 Emerson \n",
       "19238          UPDATE  Traffic congestion in Duval on I-95 south from Exit 347 Emerson to ramp to Exit 344 Butler \n",
       "19239         UPDATE  Traffic congestion in Duval on I-95 north from Exit 346 University to ramp to Exit 351 I-10 \n",
       "19241                                     UPDATE  Traffic congestion in Duval on I-95 south ramp to Exit 351 I-10 \n",
       "19242                                      CLEARED  Traffic congestion in Duval on I-95 south at Exit 337 I-295 W \n",
       "19243               UPDATE  Traffic congestion in Duval on I-295 W north from Exit 61 I-95 to at Exit 3 St Aug Rd \n",
       "19244       UPDATE  Traffic congestion in Duval on I-95 south from Exit 346 University to ramp to Exit 344 Butler \n",
       "19248               NEW  Traffic congestion in Duval on I-95 south from Exit 344 Butler to at Exit 341 Baymeadows \n",
       "19254               NEW  Traffic congestion in Duval on I-95 south from Exit 337 I-295 W to at Exit 335 St Aug Rd \n",
       "19255                                       UPDATE  Traffic congestion in Duval on I-95 south at Exit 337 I-295 W \n",
       "19257    UPDATE  Traffic congestion in Duval on I-95 south from before Exit 353 Union St to ramp to Exit 351 I-10 \n",
       "19262            UPDATE  Traffic congestion in Duval on I-95 north from Exit 347 Emerson to ramp to Exit 351 I-10 \n",
       "19264              UPDATE  Traffic congestion in Duval on I-95 north from beyond Emerson to ramp to Exit 351 I-10 \n",
       "19265                                NEW  Crash in Duval on I-95 north before Fuller Warren, 2 left lanes blocked \n",
       "19266    UPDATE  Traffic congestion in Duval on I-95 south from before Exit 353 Union St to ramp to Exit 351 I-10 \n",
       "19267                  UPDATE  Traffic congestion in Duval on SR-202   Butler Blvd west from Southside to at I-95 \n",
       "19268       NEW  Traffic congestion in Duval on I-95 south from before Exit 353 Union St to ramp to Exit 351 I-10 \n",
       "19269                                          NEW  Traffic congestion in Duval on I-95 south at Exit 337 I-295 W \n",
       "19270                 UPDATE  Traffic congestion in Duval on I-95 south from Fuller Warren to at Exit 347 Emerson \n",
       "19271              NEW  Traffic congestion in Duval on SR-202   Butler Blvd west from beyond Southside to at I-95 \n",
       "19272                      NEW  Traffic congestion in Duval on I-95 south from beyond US-1 to at Exit 347 Emerson \n",
       "19273               UPDATE  Traffic congestion in Duval on I-295 W north from Exit 61 I-95 to at Exit 3 St Aug Rd \n",
       "19274         UPDATE  Traffic congestion in Duval on I-95 south from beyond University to ramp to Exit 344 Butler \n",
       "19275                       CLEARED  Traffic congestion in Duval on I-95 south from beyond 8th St to ramp to I-10 \n",
       "19279                        UPDATE  Traffic congestion in Duval on I-95 south from beyond 8th St to ramp to I-10 \n",
       "19282                        UPDATE  Traffic congestion in Duval on I-95 south from before 8th St to ramp to I-10 \n",
       "19284                  NEW  Traffic congestion in Duval on I-295 W north from Exit 61 I-95 to at Exit 3 St Aug Rd \n",
       "19285                                      NEW  Traffic congestion in Duval on I-95 south ramp to Exit 344 Butler \n",
       "19287             UPDATE  Traffic congestion in Duval on I-95 south from before Exit 353 Union St to ramp to I-10 \n",
       "19289                NEW  Traffic congestion in Duval on I-95 south from before Exit 353 Union St to ramp to I-10 \n",
       "19291              UPDATE  Traffic congestion in Duval on I-95 north from beyond Emerson to ramp to Exit 351 I-10 \n",
       "19293                  NEW  Traffic congestion in Duval on I-95 north from Fuller Warren to ramp to Exit 351 I-10 \n",
       "19301                                   CLEARED  Disabled truck in Duval on I-95 north ramp to Exit 335 St Aug Rd \n",
       "19303       CLEARED  Unconfirmed disabled vehicle in Duval on I-95 south at Fuller Warren, right shoulder blocked \n",
       "19305                  CLEARED  Disabled vehicle in Duval on SR-202   Butler Blvd east at I-95, left lane blocked \n",
       "19306                                    UPDATE  Disabled truck in Duval on I-95 north ramp to Exit 335 St Aug Rd \n",
       "19310           NEW  Unconfirmed disabled vehicle in Duval on I-95 south at Fuller Warren, right shoulder blocked \n",
       "19312                      NEW  Disabled vehicle in Duval on SR-202   Butler Blvd east at I-95, left lane blocked \n",
       "Name: text, dtype: object"
      ]
     },
     "execution_count": 25,
     "metadata": {},
     "output_type": "execute_result"
    }
   ],
   "source": [
    "pd.options.display.max_colwidth = 200\n",
    "test_df[test_df['tweet'].str.contains('I-95') == True]['text']"
   ]
  },
  {
   "cell_type": "code",
   "execution_count": 26,
   "metadata": {},
   "outputs": [
    {
     "data": {
      "text/plain": [
       "location                                                                    {Interstate 295 West North, Exit 5, San Jose}\n",
       "modified_text    At Cleared  Traffic Congestion At Duval At Interstate 295 West North From Exit 5 San Jose To At Buckman \n",
       "Name: 19215, dtype: object"
      ]
     },
     "execution_count": 26,
     "metadata": {},
     "output_type": "execute_result"
    }
   ],
   "source": [
    "test_df.loc[19215][['location', 'modified_text']]"
   ]
  },
  {
   "cell_type": "code",
   "execution_count": 27,
   "metadata": {
    "scrolled": true
   },
   "outputs": [
    {
     "data": {
      "text/html": [
       "<div>\n",
       "<style scoped>\n",
       "    .dataframe tbody tr th:only-of-type {\n",
       "        vertical-align: middle;\n",
       "    }\n",
       "\n",
       "    .dataframe tbody tr th {\n",
       "        vertical-align: top;\n",
       "    }\n",
       "\n",
       "    .dataframe thead th {\n",
       "        text-align: right;\n",
       "    }\n",
       "</style>\n",
       "<table border=\"1\" class=\"dataframe\">\n",
       "  <thead>\n",
       "    <tr style=\"text-align: right;\">\n",
       "      <th></th>\n",
       "      <th>exit</th>\n",
       "      <th>crossSt</th>\n",
       "      <th>dir</th>\n",
       "      <th>lat</th>\n",
       "      <th>long</th>\n",
       "    </tr>\n",
       "  </thead>\n",
       "  <tbody>\n",
       "    <tr>\n",
       "      <th>0</th>\n",
       "      <td>1A</td>\n",
       "      <td>NaN</td>\n",
       "      <td>S</td>\n",
       "      <td>25.75506</td>\n",
       "      <td>-80.20200</td>\n",
       "    </tr>\n",
       "    <tr>\n",
       "      <th>1</th>\n",
       "      <td>1B</td>\n",
       "      <td>NaN</td>\n",
       "      <td>N</td>\n",
       "      <td>25.76255</td>\n",
       "      <td>-80.19960</td>\n",
       "    </tr>\n",
       "    <tr>\n",
       "      <th>2</th>\n",
       "      <td>1B</td>\n",
       "      <td>NaN</td>\n",
       "      <td>S</td>\n",
       "      <td>25.77588</td>\n",
       "      <td>-80.19986</td>\n",
       "    </tr>\n",
       "    <tr>\n",
       "      <th>3</th>\n",
       "      <td>2A</td>\n",
       "      <td>NaN</td>\n",
       "      <td>N</td>\n",
       "      <td>25.77139</td>\n",
       "      <td>-80.19882</td>\n",
       "    </tr>\n",
       "    <tr>\n",
       "      <th>4</th>\n",
       "      <td>2B</td>\n",
       "      <td>NaN</td>\n",
       "      <td>N</td>\n",
       "      <td>25.77339</td>\n",
       "      <td>-80.19866</td>\n",
       "    </tr>\n",
       "  </tbody>\n",
       "</table>\n",
       "</div>"
      ],
      "text/plain": [
       "  exit crossSt dir       lat      long\n",
       "0   1A     NaN   S  25.75506 -80.20200\n",
       "1   1B     NaN   N  25.76255 -80.19960\n",
       "2   1B     NaN   S  25.77588 -80.19986\n",
       "3   2A     NaN   N  25.77139 -80.19882\n",
       "4   2B     NaN   N  25.77339 -80.19866"
      ]
     },
     "execution_count": 27,
     "metadata": {},
     "output_type": "execute_result"
    }
   ],
   "source": [
    "i95 = pd.read_csv('../df_csv')\n",
    "i95.head()"
   ]
  },
  {
   "cell_type": "code",
   "execution_count": 28,
   "metadata": {},
   "outputs": [
    {
     "data": {
      "text/plain": [
       "set"
      ]
     },
     "execution_count": 28,
     "metadata": {},
     "output_type": "execute_result"
    }
   ],
   "source": [
    "type(test_df['location'][19217])"
   ]
  },
  {
   "cell_type": "code",
   "execution_count": 29,
   "metadata": {},
   "outputs": [],
   "source": [
    "mask = test_df['modified_text'].str.contains('Duval') & test_df['modified_text'].str.contains('Duval')"
   ]
  },
  {
   "cell_type": "code",
   "execution_count": 30,
   "metadata": {},
   "outputs": [
    {
     "data": {
      "text/plain": [
       "(100, 8)"
      ]
     },
     "execution_count": 30,
     "metadata": {},
     "output_type": "execute_result"
    }
   ],
   "source": [
    "test_df[test_df['modified_text'].str.contains('Duval')].shape"
   ]
  },
  {
   "cell_type": "code",
   "execution_count": null,
   "metadata": {},
   "outputs": [],
   "source": []
  }
 ],
 "metadata": {
  "kernelspec": {
   "display_name": "Python [conda env:dsi]",
   "language": "python",
   "name": "conda-env-dsi-py"
  },
  "language_info": {
   "codemirror_mode": {
    "name": "ipython",
    "version": 3
   },
   "file_extension": ".py",
   "mimetype": "text/x-python",
   "name": "python",
   "nbconvert_exporter": "python",
   "pygments_lexer": "ipython3",
   "version": "3.7.3"
  }
 },
 "nbformat": 4,
 "nbformat_minor": 2
}
