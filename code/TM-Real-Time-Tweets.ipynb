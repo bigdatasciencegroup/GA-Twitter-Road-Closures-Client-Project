{
 "cells": [
  {
   "cell_type": "markdown",
   "metadata": {},
   "source": [
    "# 1b. Real Time Twitter Scaper"
   ]
  },
  {
   "cell_type": "code",
   "execution_count": 2,
   "metadata": {},
   "outputs": [],
   "source": [
    "import pandas as pd\n",
    "import tweepy\n",
    "import json\n",
    "import datetime\n",
    "import re"
   ]
  },
  {
   "cell_type": "code",
   "execution_count": 3,
   "metadata": {},
   "outputs": [],
   "source": [
    "# Enter Access Identification numbers \n",
    "with open('../twitter_credentials.json') as cred_data:\n",
    "    info = json.load(cred_data)\n",
    "    consumer_key = info['CONSUMER_KEY']\n",
    "    consumer_secret = info['CONSUMER_SECRET']\n",
    "    access_token = info['ACCESS_TOKEN']\n",
    "    access_secret = info['ACCESS_SECRET']\n",
    " # Authenticate Twitter API using  account Keys \n",
    "auth_details = tweepy.OAuthHandler(consumer_key, consumer_secret)\n",
    "auth_details.set_access_token(access_token, access_secret)\n",
    "my_accounts = []\n",
    "\n",
    "# \n",
    "api = tweepy.API(auth_details, wait_on_rate_limit=True, wait_on_rate_limit_notify=True)"
   ]
  },
  {
   "cell_type": "code",
   "execution_count": 4,
   "metadata": {},
   "outputs": [
    {
     "name": "stdout",
     "output_type": "stream",
     "text": [
      "Tee Moore\n"
     ]
    }
   ],
   "source": [
    "user = api.me()\n",
    "print(user.name)"
   ]
  },
  {
   "cell_type": "code",
   "execution_count": 12,
   "metadata": {
    "scrolled": true
   },
   "outputs": [
    {
     "name": "stdout",
     "output_type": "stream",
     "text": [
      "['Updated: Disabled vehicle in Duval on I-295 E south at Dames Point, right lane blocked. Last updated at 03:56:35PM. https://t.co/qr0qEpEDg8', 'Updated: Disabled vehicle in Duval on I-295 E south at Dames Point, 2 right lanes blocked. Last updated at...https://t.co/qr0qEpEDg8', 'Updated: Disabled vehicle in Duval on I-295 E south at Dames Point, right lane blocked. Last updated at 03:48:15PM. https://t.co/qr0qEpEDg8', 'Cleared: Planned construction in Duval on SR-105 / Heckscher Dr east at Imeson Park Blvd, right lane blocked. Last updated at 08:46:53AM.', 'Cleared: Planned construction in Duval on SR-105 / Heckscher Dr west at Imeson Park Blvd, right lane blocked. Last updated at 08:48:11AM.', 'New: Disabled vehicle in Duval on I-295 E south at Dames Point, right lane blocked. Last updated at 03:31:12PM....https://t.co/qr0qEpEDg8', 'Cleared: Object on roadway in St Johns on I-95 north at Exit 318 SR-16, right lane blocked. Last updated at 02:57:22PM.', 'Updated: Object on roadway in St Johns on I-95 north at Exit 318 SR-16, right lane blocked. Last updated at...https://t.co/fpyWtLU4vR', 'Updated: Emergency road construction in St Johns on I-95 south at Exit 298 US-1, 2 right lanes blocked. Last...https://t.co/QHUlrTd4NU', 'Cleared: Planned construction in Clay on SR-21 / Blanding Blvd south at CR-220, right lane blocked. Last updated at 06:37:09AM.', 'Updated: Emergency road construction in St Johns on I-95 south at Exit 298 US-1, right lane blocked. Last updated...https://t.co/QHUlrTd4NU', 'Updated: Planned construction in Columbia on I-10 west ramp to Exit 296 I-75, right lane blocked. Last updated at...https://t.co/FpdgjF0t76', 'Palatka: All Lanes blocked on SR-20 from Oak St to St Johns Ave due to construction. Use caution in the area. https://t.co/q6rZmrGQeC', 'Satsuma: On US-17 at Duns Creek the right lane is blocked due to construction. Use caution in the area.  https://t.co/q6rZmrGQeC', 'Cleared: Vehicle on fire in St Johns on I-95 south at Exit 298 US-1, right lane blocked. Last updated at 12:18:14PM.', 'Updated: Vehicle on fire in St Johns on I-95 south at Exit 298 US-1, right lane blocked. Last updated at 12:18:14PM. https://t.co/mLTGGRmKxL', 'Updated: Emergency vehicles in St Johns on I-95 south at Exit 298 US-1, right lane blocked. Last updated at...https://t.co/QHUlrTd4NU', 'Cleared: Disabled vehicle in Duval on I-295 W south beyond I-95, left lane blocked. Last updated at 12:06:14PM.', 'Updated: Disabled vehicle in Duval on I-295 W south beyond I-95, left lane blocked. Last updated at 12:06:14PM. https://t.co/8dX6yMy1EP', 'Updated: Disabled vehicle in Duval on I-295 W south beyond I-95, left lane blocked. Last updated at 12:05:43PM. https://t.co/8dX6yMy1EP', 'Cleared: Draw bridge in up position in Duval on Main Street Bridge north at St Johns River, all lanes blocked. Last updated at 11:55:42AM.', 'Cleared: Draw bridge in up position in Duval on Main Street Bridge north at St Johns River, all lanes blocked. Last updated at 11:55:20AM.', 'New: Draw bridge in up position in Duval on Main Street Bridge north at St Johns River, all lanes blocked. Last...https://t.co/bDulhtrqRO', 'New: Draw bridge in up position in Duval on Main Street Bridge north at St Johns River, all lanes blocked. Last...https://t.co/YSZNU8CW5r', 'New: Disabled vehicle in Duval on I-295 W south beyond I-95, left lane blocked. Last updated at 11:54:03AM. #fl511 https://t.co/8dX6yMy1EP', 'Cleared: Draw bridge in up position in Duval on Main Street Bridge south at St Johns River, all lanes blocked. Last updated at 11:26:36AM.', 'Cleared: Draw bridge in up position in Duval on Main Street Bridge north at St Johns River, all lanes blocked. Last updated at 11:26:57AM.', 'National Night Out\\n\\nOne night, every year, neighbors come together to unite in the fight against crime. Events will… https://t.co/7s9pnOGRbI', 'New: Draw bridge in up position in Duval on Main Street Bridge south at St Johns River, all lanes blocked. Last...https://t.co/Ad8uu4Ya82', 'New: Draw bridge in up position in Duval on Main Street Bridge north at St Johns River, all lanes blocked. Last...https://t.co/bfbPtjM7bE', 'Updated: Crash involving truck in Duval on I-10 west beyond Mcduff, right lane blocked. Last updated at 10:04:54AM. https://t.co/dybWE6ZtGU', 'It takes a community to stick together....food is being prepared to be distributed at Calloway Cove apartments afte… https://t.co/ogBa0ONkUL', 'Updated: Crash in Duval on I-10 west beyond Mcduff, right lane blocked. Last updated at 09:48:44AM. https://t.co/dybWE6ZtGU', 'Jacksonville: On University Blvd North at River Rd all NB lanes are closed due to a crash. Use caution and seek...https://t.co/q6rZmrGQeC', 'Updated: Emergency vehicles in St Johns on I-95 south at Exit 298 US-1. Last updated at 09:13:25AM. https://t.co/QHUlrTd4NU', 'New: Planned construction in Duval on SR-105 / Heckscher Dr west at Imeson Park Blvd, right lane blocked. Last...https://t.co/kPuSBEWyCm', 'New: Planned construction in Duval on SR-105 / Heckscher Dr east at Imeson Park Blvd, right lane blocked. Last...https://t.co/4u30UsdtNb', 'St.Augustine: There will be lane closures on US-1 between SR-206 and I-95. Use caution in the area. https://t.co/q6rZmrGQeC', 'Jacksonville: There is construction On New Kings Rd between Old Kings Rd and Ratliff Rd and between Woodly Rd and...https://t.co/q6rZmrGQeC', 'Updated: Vehicle on fire in St Johns on I-95 south at Exit 298 US-1, 2 right lanes blocked. Last updated at...https://t.co/mLTGGRmKxL', 'New: Vehicle on fire in St Johns on I-95 south at Exit 298 US-1, 2 right lanes blocked. Last updated at...https://t.co/mLTGGRmKxL', '725a- BIG 3 travel times...I 10 starting to slow down #ANJTraffic @ActionNewsJax @WOKVNews https://t.co/fVdH0lb3Bh', 'Updated: Emergency vehicles in St Johns on I-95 south ramp to Exit 298 US-1, 2 right lanes blocked. Last updated...https://t.co/QHUlrTd4NU', 'Updated: Emergency vehicles in St Johns on I-95 south ramp to Exit 298 US-1, off-ramp closed, 2 right lanes...https://t.co/QHUlrTd4NU', 'Cleared: Vehicle on fire in St Johns on I-95 south beyond US-1, all lanes blocked. Last updated at 06:42:24AM.', 'Updated: Emergency vehicles in St Johns on I-95 south at Exit 298 US-1, 2 right lanes blocked. Last updated at...https://t.co/QHUlrTd4NU', '640a- UPDATE- 95 SB at US 1 Bunnell exit....Left lane now open..traffic still backed up about 2 miles #ANJTraffic… https://t.co/qJma56aaRV', 'Updated: Vehicle on fire in St Johns on I-95 south beyond US-1, all lanes blocked. Last updated at 06:42:24AM. https://t.co/mLTGGRmKxL', 'New: Planned construction in Clay on SR-21 / Blanding Blvd south at CR-220, right lane blocked. Last updated at...https://t.co/EbmY0pY8Ri', 'Updated: Vehicle on fire in St Johns on I-95 south beyond US-1, all lanes blocked. Last updated at 06:30:38AM. https://t.co/mLTGGRmKxL', 'Updated: Planned construction in Alachua on I-75 south ramp to Exit 384 SR-24, off-ramp left lanes blocked. Last...https://t.co/uornMxvBqD', '6am- Detour in place 95 SB at US 1 Bunnell Exit due to the Semi Car Carrier that was fully engulfed in flames...cle… https://t.co/VyF7DQKZ4z', 'RT @wxgarrett: @ActionTraffic is tracking a road closure for I-95 southbound near the St. Johns county / Flagler county line. Tune into CBS…', 'Updated: Vehicle on fire in St Johns on I-95 south beyond US-1, all lanes blocked. Last updated at 05:28:10AM. https://t.co/mLTGGRmKxL', 'Hillsborough County: There is limited visibility due to fog in Hillsborough County. Please drive with caution. https://t.co/q6rZmrGQeC', '507am- Vehicle Fire 95 SB at US 1/Bunnell Exit....SB lanes shut down and traffic being detoured #ANJTraffic… https://t.co/ZAWKAoYgXX', 'Updated: Vehicle on fire in St Johns on I-95 south beyond US-1, all lanes blocked. Last updated at 05:03:10AM. https://t.co/mLTGGRmKxL', 'Updated: Emergency vehicles in St Johns on I-95 south at Exit 298 US-1, all lanes blocked. Last updated at...https://t.co/QHUlrTd4NU', 'Cleared: Planned construction in Duval on I-95 north beyond Atlantic Blvd, 2 right lanes blocked. Last updated at 12:10:56AM.', 'Cleared: Planned construction in Duval on I-295 E south beyond N Main St/US-17, right lane blocked. Last updated at 12:10:40AM.', 'Cleared: Planned construction in Duval on SR-202 / Butler Blvd east at Gate Pkwy, all lanes blocked. Last updated at 12:12:01AM.', 'Cleared: Planned construction in Duval on SR-202 / Butler Blvd east ramp from Gate Pkwy, on-ramp closed. Last updated at 12:10:47AM.', 'Cleared: Planned construction in Duval on I-295 W north at Exit 33 Duval Rd, right lane blocked. Last updated at 09:16:20PM.', 'Cleared: Planned construction in Duval on I-295 E south ramp to Exit 53 Butler, off-ramp closed. Last updated at 12:10:24AM.', 'Cleared: Planned construction in Duval on I-295 E north ramp to Exit 53 Butler, all lanes blocked. Last updated at 12:11:25AM.', 'New: Emergency vehicles in St Johns on I-95 south at Exit 298 US-1, all lanes blocked. Last updated at...https://t.co/QHUlrTd4NU', 'Updated: Vehicle on fire in St Johns on I-95 south beyond US-1, all lanes blocked. Last updated at 04:38:20AM. https://t.co/mLTGGRmKxL', 'St Augustine: All lanes of I-95 southbound at US-1 are closed due to a vehicle fire. Use caution in the area and...https://t.co/q6rZmrGQeC', 'Updated: Vehicle on fire in St Johns on I-95 south before US-1, all lanes blocked. Last updated at 04:26:47AM. https://t.co/mLTGGRmKxL', 'Cleared: Planned construction in Duval on SR-202 / Butler Blvd west at I-295 E, all lanes blocked. Last updated at 12:11:35AM.', 'Cleared: Planned construction in Duval on I-295 W south at Exit 10 US-17, 2 left lanes blocked. Last updated at 02:44:44AM.', 'Cleared: Planned construction in Duval on SR-21 / Blanding Blvd south at Argyle Forest Blvd, left lane blocked. Last updated at 12:10:33AM.', 'Cleared: Planned construction in Clay on SR-21 / Blanding Blvd north at Wells Rd, 2 left lanes blocked. Last updated at 12:09:42AM.', 'Cleared: Planned construction in Duval on I-295 W north before Normandy Blvd, right lane blocked. Last updated at 12:11:14AM.', 'Cleared: Planned construction in Duval on I-295 W south before Duval Rd, right lane blocked. Last updated at 12:11:45AM.', 'Cleared: Planned construction in Duval on I-295 E north beyond Alta Dr, left lane blocked. Last updated at 01:44:13AM.', 'Updated: Planned construction in Duval on I-295 W south at Exit 10 US-17, 2 left lanes blocked. Last updated at...https://t.co/n8VzFUxUPn', 'New: Planned construction in Duval on I-295 E north beyond Alta Dr, left lane blocked. Last updated at...https://t.co/mF0ToUHfdX', 'Cleared: Planned construction in Duval on I-295 E north beyond Alta Dr, right lane blocked. Last updated at 12:09:47AM.', 'Updated: Planned construction in Duval on I-295 W south at Exit 10 US-17, left lane blocked. Last updated at...https://t.co/n8VzFUxUPn', 'Cleared: Crash in Duval on I-295 E north at Exit 40 Alta Dr, 2 left lanes blocked. Content provided by Waze. Last updated at 12:10:14AM.', 'Cleared: Planned construction in Duval on US-90 / Beach Blvd east at Forest Blvd, left lane blocked. Last updated at 12:09:42AM.', 'Cleared: Planned construction in Duval on I-10 west at Exit 359 Lenox Ave, left lane blocked. Last updated at 12:12:08AM.', 'Cleared: Crash in Duval on I-295 W south at Exit 16 103rd St, left lane blocked. Last updated at 12:11:06AM.', 'Updated: Planned construction in Duval on I-10 west at Exit 359 Lenox Ave, left lane blocked. Last updated at...https://t.co/K50V2B1rKC', 'Updated: Planned construction in Duval on SR-202 / Butler Blvd west at I-295 E, all lanes blocked. Last updated...https://t.co/qQrDlXyZjW', 'Updated: Planned construction in Duval on I-295 E north ramp to Exit 53 Butler, all lanes blocked. Last updated...https://t.co/PjerzSJ910', 'Updated: Crash in Duval on I-295 W south at Exit 16 103rd St, left lane blocked. Last updated at 12:11:06AM. https://t.co/8QfJpu66Zh', 'Updated: Planned construction in Duval on I-295 W south before Duval Rd, right lane blocked. Last updated at...https://t.co/7G4joCNZNm', 'Updated: Planned construction in Duval on I-295 W north before Normandy Blvd, right lane blocked. Last updated at...https://t.co/Nn3UGGxvMF', 'Updated: Planned construction in Duval on I-295 E south ramp to Exit 53 Butler, off-ramp closed. Last updated at...https://t.co/U2PxB6R4nO', 'Updated: Planned construction in Duval on SR-21 / Blanding Blvd south at Argyle Forest Blvd, left lane blocked....https://t.co/nyNgHDVykU', 'Updated: Planned construction in Duval on SR-202 / Butler Blvd east ramp from Gate Pkwy, on-ramp closed. Last...https://t.co/zWxfq7reUU', 'Updated: Planned construction in Duval on I-295 E south beyond N Main St/US-17, right lane blocked. Last updated...https://t.co/rDwx65tdbs', 'Updated: Planned construction in Clay on SR-21 / Blanding Blvd north at Wells Rd, 2 left lanes blocked. Last...https://t.co/8w2Pw8qrbb', 'Updated: Planned construction in Duval on I-295 W south at Exit 10 US-17, right lane blocked. Last updated at...https://t.co/n8VzFUxUPn', 'Updated: Planned construction in Duval on US-90 / Beach Blvd east at Forest Blvd, left lane blocked. Last updated...https://t.co/8wVLxAKuE2', 'New: Planned construction in Duval on I-10 west at Exit 359 Lenox Ave, left lane blocked. Last updated at...https://t.co/K50V2B1rKC', 'Cleared: Planned construction in Duval on I-10 east before Cassat, left lane blocked. Last updated at 09:35:15PM.', 'Updated: Planned construction in Duval on SR-202 / Butler Blvd east at Gate Pkwy, all lanes blocked. Last updated...https://t.co/4r2dHmjLUF', 'New: Planned construction in Duval on SR-202 / Butler Blvd east at Gate Pkwy, all lanes blocked. Last updated at...https://t.co/4r2dHmjLUF', 'Updated: Crash in Duval on I-295 W south at Exit 16 103rd St, left lane blocked. Last updated at 11:55:59PM. https://t.co/8QfJpu66Zh', 'New: Planned construction in Duval on I-295 W south before Duval Rd, right lane blocked. Last updated at...https://t.co/7G4joCNZNm', 'Updated: Crash in Duval on I-295 W south at Exit 16 103rd St, left lane blocked. Last updated at 11:33:17PM. https://t.co/8QfJpu66Zh', 'Updated: Planned construction in Duval on I-95 north beyond Atlantic Blvd, 2 right lanes blocked. Last updated at...https://t.co/FgAV3auXtT', 'New: Planned construction in Duval on I-95 north beyond Atlantic Blvd, right lane blocked. Last updated at...https://t.co/FgAV3auXtT', 'Jacksonville: All lanes of Butler Blvd eastbound and westbound at I-295 are closed due to construction. Use...https://t.co/q6rZmrGQeC', '#JSO is working a person shot in the 2400 block of W. Lincoln Court.', 'New: Planned construction in Duval on SR-202 / Butler Blvd west at I-295 E, all lanes blocked. Last updated at...https://t.co/qQrDlXyZjW', 'Updated: Crash in Duval on I-295 W south at Exit 16 103rd St, left lane blocked. Last updated at 11:03:37PM. https://t.co/8QfJpu66Zh', 'New: Planned construction in Duval on I-295 E north ramp to Exit 53 Butler, all lanes blocked. Last updated at...https://t.co/PjerzSJ910', 'Arrest made in jail murder that occurred today.\\n\\nPaul Dixon, 43 years old was arrested for killing his cell-mate.… https://t.co/9W5O22o8VS', 'New: Planned construction in Duval on I-295 W north before Normandy Blvd, right lane blocked. Last updated at...https://t.co/Nn3UGGxvMF', 'New: Crash in Duval on I-295 W south at Exit 16 103rd St, left lane blocked. Last updated at 10:50:41PM. #fl511 https://t.co/8QfJpu66Zh', 'New: Planned construction in Duval on SR-202 / Butler Blvd east ramp from Gate Pkwy, on-ramp closed. Last updated...https://t.co/zWxfq7reUU', '#JSO is working a person shot near E. 44th Street and Telfair Street.', 'New: Planned construction in Duval on I-295 E south beyond N Main St/US-17, right lane blocked. Last updated at...https://t.co/rDwx65tdbs', 'New: Planned construction in Alachua on I-75 south ramp to Exit 384 SR-24, off-ramp left lanes blocked. Last...https://t.co/uornMxvBqD', 'Updated: Planned construction in Alachua on SR-24 / Archer Rd east at I-75, 2 right lanes blocked. Last updated...https://t.co/9iEtUCd2FY', 'Updated: Planned construction in Columbia on I-10 west ramp to Exit 296 I-75, right lane blocked. Last updated at...https://t.co/FpdgjF0t76', 'New: Planned construction in Duval on SR-21 / Blanding Blvd south at Argyle Forest Blvd, left lane blocked. Last...https://t.co/nyNgHDVykU', 'Updated: Planned construction in Columbia on I-75 north at Exit 435 I-10, 2 left lanes blocked. Last updated at...https://t.co/QRqigQiS3g', 'Updated: Planned construction in Columbia on I-75 south at Exit 435 I-10, 2 left lanes blocked. Last updated at...https://t.co/sNieNwWEnv', 'New: Planned construction in Duval on I-295 E south ramp to Exit 53 Butler, off-ramp closed. Last updated at...https://t.co/U2PxB6R4nO', 'Updated: Planned construction in Alachua on SR-24 / Archer Rd east at I-75, right lane blocked. Last updated at...https://t.co/9iEtUCd2FY', 'Updated: Planned construction in Duval on I-10 east before Cassat, left lane blocked. Last updated at 09:35:15PM. https://t.co/3BY7Av6BAo', 'Updated: Planned construction in Duval on I-295 E north beyond Alta Dr, right lane blocked. Last updated at...https://t.co/mF0ToUHfdX', 'Updated: Crash in Duval on I-295 E north at Exit 40 Alta Dr, 2 left lanes blocked. Content provided by Waze. Last...https://t.co/znJ9gixHNo', 'Your community, your commitment!\\n\\nDo the #9PMRoutine!\\n\\n🌹Remove guns from vehicle\\n🌹Remove valuables from vehicle\\n🌹Re… https://t.co/lGpSA321UA', 'New: Planned construction in Duval on I-10 east at Exit 357 Lane Ave, left lane blocked. Last updated at...https://t.co/3BY7Av6BAo', 'New: Planned construction in Duval on I-295 W north at Exit 33 Duval Rd, right lane blocked. Last updated at...https://t.co/FhJUVytVLI', 'New: Planned construction in Duval on I-295 E north at Exit 40 Alta Dr, right lane blocked. Last updated at...https://t.co/mF0ToUHfdX', 'New: Planned construction in Duval on I-295 W south at Exit 10 US-17, right lane blocked. Last updated at...https://t.co/n8VzFUxUPn', 'New: Planned construction in Duval on US-90 / Beach Blvd east at Forest Blvd, left lane blocked. Last updated at...https://t.co/8wVLxAKuE2', '#JSO is working a person shot near Owen Avenue and Plum Street.', '#JSO is working a person shot near Grunthal Street and W. State Street.', 'New: Planned construction in Clay on SR-21 / Blanding Blvd north at Wells Rd, 2 left lanes blocked. Last updated...https://t.co/8w2Pw8qrbb', '15 new police officers sworn in tonight and are ready to hit the street to serve and protect our community.  Congra… https://t.co/jIJBob1C7P', 'Jacksonville: There is construction on US-301 at I-10. Use caution in the area and follow posted detours. https://t.co/q6rZmrGQeC', 'Attention Motorists: 511 will be down from 10PM through 6AM. https://t.co/q6rZmrGQeC', 'Cleared: Traffic congestion in Duval on I-295 W north from beyond I-95 to at Exit 5 San Jose. Last updated at 07:42:46PM.', 'Cleared: Multi-vehicle crash in Duval on I-295 W north at Exit 5 San Jose, left lane blocked. Last updated at 07:41:26PM.', 'Updated: Multi-vehicle crash in Duval on I-295 W north at Exit 5 San Jose, left lane blocked. Last updated at...https://t.co/K387ykz5uJ', 'Updated: Traffic congestion in Duval on I-295 W north from beyond I-95 to at Exit 5 San Jose. Last updated at...https://t.co/DlnN1svKFW', 'Next of kin has been made with the victim’s family in reference to the death in the jail.  We are putting this out… https://t.co/9m9aBiEH15', 'New: Traffic congestion in Duval on I-295 W north at Exit 5 San Jose and traffic backed up until beyond I-95....https://t.co/DlnN1svKFW', 'New: Crash in Duval on I-295 W north at Exit 5 San Jose, left lane blocked. Last updated at 06:15:56PM. #fl511 https://t.co/K387ykz5uJ', 'Cleared: Disabled vehicle in Duval on I-295 E north at Dames Point, right lane blocked. Content provided by Waze. Last updated at...', 'New: Disabled vehicle in Duval on I-295 E north at Dames Point, right lane blocked. Content provided by Waze....https://t.co/YqIxnnzZ7d', 'Updated: Crash in Duval on I-95 south at Exit 347 Emerson, right lane blocked. Last updated at 05:45:57PM. https://t.co/yHlUMmsb34', 'Updated: Disabled vehicle in Nassau on I-10 west at MM 340, right lane blocked. Last updated at 04:54:06PM. https://t.co/bmcVLaPRTj', 'Updated: Disabled vehicle in Nassau on I-10 west at MM 340, right lane blocked. Last updated at 04:53:50PM. https://t.co/bmcVLaPRTj', 'Armed Robbery and Kidnapping suspects still sought by #JSO.  We have new information - Tattoos and a vehicle.\\n\\n🔺Any… https://t.co/IAurZ2oOZb', 'Updated: Disabled vehicle in Nassau on I-10 west at MM 340, right lane blocked. Last updated at 04:48:22PM. https://t.co/bmcVLaPRTj', 'Cleared: Draw bridge in up position in Duval on Main Street Bridge south at St Johns River, all lanes blocked. Last updated at 04:18:49PM.', 'Cleared: Draw bridge in up position in Duval on Main Street Bridge north at St Johns River, all lanes blocked. Last updated at 04:18:31PM.', 'New: Draw bridge in up position in Duval on Main Street Bridge north at St Johns River, all lanes blocked. Last...https://t.co/cm9Xy8jDrH', 'New: Draw bridge in up position in Duval on Main Street Bridge south at St Johns River, all lanes blocked. Last...https://t.co/HK8pTcKCgP', 'New: Disabled vehicle in Nassau on I-10 west at MM 340, right lane blocked. Last updated at 04:00:13PM. #fl511 https://t.co/bmcVLaPRTj', 'St. Augustine: Due to a crash all lanes are blocked on A1A at Village Dr. Use caution in the area and seek an...https://t.co/q6rZmrGQeC', 'Jail death investigation - Foul play is suspected.  This is the latest information released by #JSO. https://t.co/1aAQmpozzu', 'Cleared: Emergency road construction in Columbia on I-75 south at Exit 435 I-10, right lane blocked. Last updated at 12:05:04PM.', 'Cleared: Emergency road construction in Columbia on I-75 north at Exit 435 I-10, right lane blocked. Last updated at 12:04:56PM.', 'Media will be addressed at 3:00PM at the police station downtown. https://t.co/65V4X77fZG', 'Cleared: Planned construction in Duval on Wonderwood Bridge west at Intracoastal, right lane blocked. Last updated at 07:29:51AM.', 'Cleared: Planned construction in Clay on SR-21 / Blanding Blvd south at CR-220, right lane blocked. Last updated at 08:41:20AM.', '#JSO is working a death investigation at the PTDF located at 500 E. Adams Street.  No time has been set for a briefing at this time.', 'Updated: Crash in Duval on I-95 north ramp to Exit 333 SR-9B, off-ramp closed. Last updated at 01:15:40PM. https://t.co/ow33QJtTd3', 'Cleared: Draw bridge in up position in Duval on Main Street Bridge south at St Johns River, all lanes blocked. Last updated at 01:00:44PM.', 'Cleared: Draw bridge in up position in Duval on Main Street Bridge north at St Johns River, all lanes blocked. Last updated at 01:00:23PM.', 'New: Draw bridge in up position in Duval on Main Street Bridge south at St Johns River, all lanes blocked. Last...https://t.co/GQqkiVTV3J', 'New: Draw bridge in up position in Duval on Main Street Bridge north at St Johns River, all lanes blocked. Last...https://t.co/YTFua3XNoR', 'Updated: Crash in Duval on I-95 north ramp to Exit 333 SR-9B, off-ramp closed. Last updated at 12:07:34PM. https://t.co/ow33QJtTd3', 'Cleared: Crash in Duval on Mathews Bridge west at St Johns River, left lane blocked. Last updated at 08:55:06AM.', 'New: Crash in Duval on I-95 north ramp to Exit 333 SR-9B, off-ramp closed. Last updated at 11:56:58AM. #fl511 https://t.co/ow33QJtTd3', 'Wild and Exciting times with the @JaxShrimp and @DCTJAX tonight at the Baseball Grounds. We will have representativ… https://t.co/MDGzrITP21', 'Crews are responding along with St John’s County units to a traffic accident on I95 northbound north of 9B....E62 i… https://t.co/7sOLXpId2y', 'Cleared: Multi-vehicle crash in Duval on I-295 W south ramp to Exit 61 I-95, off-ramp left lane blocked. Last updated at 08:42:10AM.', 'Updated: Crash in Duval on Mathews Bridge west at St Johns River, left lane blocked. Last updated at 08:55:06AM. https://t.co/ZXkuK9Hy1b', 'Updated: Multi-vehicle crash in Duval on I-295 W south ramp to Exit 61 I-95, off-ramp left lane blocked. Last...https://t.co/UEICwVTMUD', 'New: Planned construction in Clay on SR-21 / Blanding Blvd south at CR-220, right lane blocked. Last updated at...https://t.co/LRtzvBLyDC', 'Cleared: Draw bridge in up position in Duval on Main Street Bridge south at St Johns River, all lanes blocked. Last updated at 08:37:08AM.', 'Cleared: Draw bridge in up position in Duval on Main Street Bridge north at St Johns River, all lanes blocked. Last updated at 08:36:51AM.', 'New: Draw bridge in up position in Duval on Main Street Bridge south at St Johns River, all lanes blocked. Last...https://t.co/7j09OZC91i', 'New: Draw bridge in up position in Duval on Main Street Bridge north at St Johns River, all lanes blocked. Last...https://t.co/OWJZZ1Dosa', 'St. Augustine: There is construction on SR-16 between Rues Landing RD and International Golf Parkway. Use caution...https://t.co/q6rZmrGQeC', '835a- BIG 3 travel times...delays linger on I 10 #ANJTraffic @ActionNewsJax https://t.co/JmIB5sFcdY', 'Updated: Crash in Duval on I-295 W south ramp to Exit 61 I-95, off-ramp left lane blocked. Last updated at...https://t.co/UEICwVTMUD', 'Jacksonville: There is construction on New Kings RD from Dunn Ave to Woodley Rd. Use caution in the area. https://t.co/q6rZmrGQeC', 'Updated: Crash in Duval on Mathews Bridge west at St Johns River, left lane blocked. Last updated at 08:16:59AM. https://t.co/ZXkuK9Hy1b', \"RT @MikeFirstAlert: #firstalertwx you can drop off donations through 3pm at the Town Center @Maggianos round-about - see ya' there! @WOKVNe…\", '805am- Crash WB on the Mathews Bridge....1 lane blocked causing heavy delays....Hart Bridge is your alternate route… https://t.co/wWYHrE995Q', 'Updated: Crash in Duval on Mathews Bridge west at St Johns River, left lane blocked. Last updated at 08:03:57AM. https://t.co/ZXkuK9Hy1b', 'New: Crash in Duval on Mathews Bridge west at St Johns River, left lane blocked. Last updated at 08:01:33AM. #fl511 https://t.co/ZXkuK9Hy1b', 'Crews are responding to a traffic accident westbound on the Matthews Bridge from both directions because of heavy traffic....expect delays.', 'Updated: Multi-vehicle crash in Duval on I-95 south at Exit 356 Lem Turner, 2 right lanes blocked. Content...https://t.co/UjrN4EYpb6', 'Lake city: There is construction on SR-100 East of CR-241. Use caution in the area. https://t.co/q6rZmrGQeC', 'Updated: Crash in Duval on I-95 south at Exit 356 Lem Turner, 2 right lanes blocked. Content provided by Waze....https://t.co/UjrN4EYpb6', '735am- Crash 95 SB after Lem Turner..right lanes blocked...expect heavy delays #ANJTraffic @ActionNewsJax @WOKVNews https://t.co/gO8f87D4Rx', 'Cleared: Crash in Duval on 295 West Express north at MM 4.0, express lanes closed. Content provided by Waze. Last updated at 07:07:32AM.']\n"
     ]
    }
   ],
   "source": [
    "# define fucntion to get tweets and add class functionality\n",
    "def get_tweets(username, list_name = None, num = 200):\n",
    "       \n",
    "    # check for list\n",
    "    if not list_name:\n",
    "        # get timeline of user if no list\n",
    "        tweet = tweepy.Cursor(api.user_timeline, screen_name = username).items(num)\n",
    "    else:\n",
    "        # get list timeline if list\n",
    "        tweet = tweepy.Cursor(api.list_timeline, owner_screen_name = username, slug = list_name).items(num)\n",
    "            \n",
    "    # Empty Arrays\n",
    "    tmp=[]\n",
    "    closure_list = []\n",
    "  \n",
    "    # create array of tweet information: username,  \n",
    "    # tweet id, date/time, text \n",
    "    # create dictionary for each tweet\n",
    "    for status in tweet:\n",
    "        tweet_dict = {}\n",
    "        tweet_dict['id'] = status.id\n",
    "        tweet_dict['username'] = status.user.screen_name\n",
    "        tweet_dict['date'] = status.created_at\n",
    "        tweet_dict['text'] = status.text\n",
    "        tweet_dict['hashtags'] = status.entities['hashtags']\n",
    "        tweet_dict['geo'] = status.coordinates\n",
    "        tweet_dict['type'] = 'official'\n",
    "        tmp.append(status.text)\n",
    "        closure_list.append(tweet_dict)\n",
    "  \n",
    "    # writing the tweets\n",
    "    print(tmp)\n",
    "  \n",
    "    # return tweet_dict\n",
    "    return closure_list\n",
    "    \n",
    "# Driver code \n",
    "if __name__ == '__main__': \n",
    "  \n",
    "    # Here goes the twitter handle for the user and optional list\n",
    "    # whose tweets are to be extracted. \n",
    "    twts = get_tweets('ClydeLazersex', 'Evac-Route-RT', num = 200)"
   ]
  },
  {
   "cell_type": "code",
   "execution_count": 15,
   "metadata": {
    "scrolled": true
   },
   "outputs": [
    {
     "data": {
      "text/plain": [
       "fl511_northeast    174\n",
       "JSOPIO              14\n",
       "ActionTraffic        9\n",
       "JFRDJAX              3\n",
       "Name: username, dtype: int64"
      ]
     },
     "execution_count": 15,
     "metadata": {},
     "output_type": "execute_result"
    }
   ],
   "source": [
    "final_df = pd.DataFrame(twts)\n",
    "final_df['username'].value_counts()"
   ]
  },
  {
   "cell_type": "code",
   "execution_count": 16,
   "metadata": {},
   "outputs": [],
   "source": [
    "final_df.to_csv('../data/Current_tweets/RT_tweets_official_07312019.csv', index = False)"
   ]
  }
 ],
 "metadata": {
  "kernelspec": {
   "display_name": "Python 3",
   "language": "python",
   "name": "python3"
  },
  "language_info": {
   "codemirror_mode": {
    "name": "ipython",
    "version": 3
   },
   "file_extension": ".py",
   "mimetype": "text/x-python",
   "name": "python",
   "nbconvert_exporter": "python",
   "pygments_lexer": "ipython3",
   "version": "3.7.3"
  },
  "toc": {
   "base_numbering": 1,
   "nav_menu": {},
   "number_sections": true,
   "sideBar": true,
   "skip_h1_title": false,
   "title_cell": "Table of Contents",
   "title_sidebar": "Contents",
   "toc_cell": false,
   "toc_position": {},
   "toc_section_display": true,
   "toc_window_display": false
  }
 },
 "nbformat": 4,
 "nbformat_minor": 2
}
