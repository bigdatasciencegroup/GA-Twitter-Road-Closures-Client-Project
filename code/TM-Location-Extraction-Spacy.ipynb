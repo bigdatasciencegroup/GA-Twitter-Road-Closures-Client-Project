{
 "cells": [
  {
   "cell_type": "markdown",
   "metadata": {},
   "source": [
    "# Location Extraction and Spacy Word Vectorization"
   ]
  },
  {
   "cell_type": "code",
   "execution_count": 1,
   "metadata": {},
   "outputs": [],
   "source": [
    "import pandas as pd\n",
    "import re\n",
    "import spacy\n",
    "import string"
   ]
  },
  {
   "cell_type": "code",
   "execution_count": 6,
   "metadata": {
    "scrolled": true
   },
   "outputs": [
    {
     "name": "stdout",
     "output_type": "stream",
     "text": [
      "(20550, 2)\n"
     ]
    },
    {
     "data": {
      "text/html": [
       "<div>\n",
       "<style scoped>\n",
       "    .dataframe tbody tr th:only-of-type {\n",
       "        vertical-align: middle;\n",
       "    }\n",
       "\n",
       "    .dataframe tbody tr th {\n",
       "        vertical-align: top;\n",
       "    }\n",
       "\n",
       "    .dataframe thead th {\n",
       "        text-align: right;\n",
       "    }\n",
       "</style>\n",
       "<table border=\"1\" class=\"dataframe\">\n",
       "  <thead>\n",
       "    <tr style=\"text-align: right;\">\n",
       "      <th></th>\n",
       "      <th>text</th>\n",
       "      <th>type</th>\n",
       "    </tr>\n",
       "  </thead>\n",
       "  <tbody>\n",
       "    <tr>\n",
       "      <th>0</th>\n",
       "      <td>Northbound at exit is shutdown to this accident</td>\n",
       "      <td>official</td>\n",
       "    </tr>\n",
       "    <tr>\n",
       "      <th>1</th>\n",
       "      <td>Just your ty al halftime score here at Marvin ...</td>\n",
       "      <td>official</td>\n",
       "    </tr>\n",
       "    <tr>\n",
       "      <th>2</th>\n",
       "      <td>Hey stop me if you heard this but Marvin Ridge...</td>\n",
       "      <td>official</td>\n",
       "    </tr>\n",
       "    <tr>\n",
       "      <th>3</th>\n",
       "      <td>No worries Concord scored in like a min Still ...</td>\n",
       "      <td>official</td>\n",
       "    </tr>\n",
       "    <tr>\n",
       "      <th>4</th>\n",
       "      <td>Whoever wins this Concord Marvin Ridge game wi...</td>\n",
       "      <td>official</td>\n",
       "    </tr>\n",
       "  </tbody>\n",
       "</table>\n",
       "</div>"
      ],
      "text/plain": [
       "                                                text      type\n",
       "0   Northbound at exit is shutdown to this accident   official\n",
       "1  Just your ty al halftime score here at Marvin ...  official\n",
       "2  Hey stop me if you heard this but Marvin Ridge...  official\n",
       "3  No worries Concord scored in like a min Still ...  official\n",
       "4  Whoever wins this Concord Marvin Ridge game wi...  official"
      ]
     },
     "execution_count": 6,
     "metadata": {},
     "output_type": "execute_result"
    }
   ],
   "source": [
    "# Read in csv with Tweets\n",
    "twitter_closures = pd.read_csv(\"../data/Cleaned_Tweets/cleaned_historic_07242019.csv\")\n",
    "\n",
    "twitter_closures = twitter_closures[['text', 'type']]\n",
    "\n",
    "# Print DF shape\n",
    "print(twitter_closures.shape)\n",
    "\n",
    "# Show head \n",
    "twitter_closures.head()"
   ]
  },
  {
   "cell_type": "markdown",
   "metadata": {},
   "source": [
    "## SpaCy Preprocessing"
   ]
  },
  {
   "cell_type": "code",
   "execution_count": 8,
   "metadata": {},
   "outputs": [
    {
     "data": {
      "text/html": [
       "<div>\n",
       "<style scoped>\n",
       "    .dataframe tbody tr th:only-of-type {\n",
       "        vertical-align: middle;\n",
       "    }\n",
       "\n",
       "    .dataframe tbody tr th {\n",
       "        vertical-align: top;\n",
       "    }\n",
       "\n",
       "    .dataframe thead th {\n",
       "        text-align: right;\n",
       "    }\n",
       "</style>\n",
       "<table border=\"1\" class=\"dataframe\">\n",
       "  <thead>\n",
       "    <tr style=\"text-align: right;\">\n",
       "      <th></th>\n",
       "      <th>text</th>\n",
       "      <th>type</th>\n",
       "      <th>modified_text_A</th>\n",
       "      <th>modified_text_B</th>\n",
       "      <th>modified_text_C</th>\n",
       "      <th>modified_text_D</th>\n",
       "      <th>modified_text_E</th>\n",
       "    </tr>\n",
       "  </thead>\n",
       "  <tbody>\n",
       "    <tr>\n",
       "      <th>0</th>\n",
       "      <td>Northbound at exit is shutdown to this accident</td>\n",
       "      <td>official</td>\n",
       "      <td></td>\n",
       "      <td></td>\n",
       "      <td></td>\n",
       "      <td></td>\n",
       "      <td></td>\n",
       "    </tr>\n",
       "    <tr>\n",
       "      <th>1</th>\n",
       "      <td>Just your ty al halftime score here at Marvin ...</td>\n",
       "      <td>official</td>\n",
       "      <td></td>\n",
       "      <td></td>\n",
       "      <td></td>\n",
       "      <td></td>\n",
       "      <td></td>\n",
       "    </tr>\n",
       "  </tbody>\n",
       "</table>\n",
       "</div>"
      ],
      "text/plain": [
       "                                                text      type  \\\n",
       "0   Northbound at exit is shutdown to this accident   official   \n",
       "1  Just your ty al halftime score here at Marvin ...  official   \n",
       "\n",
       "  modified_text_A modified_text_B modified_text_C modified_text_D  \\\n",
       "0                                                                   \n",
       "1                                                                   \n",
       "\n",
       "  modified_text_E  \n",
       "0                  \n",
       "1                  "
      ]
     },
     "execution_count": 8,
     "metadata": {},
     "output_type": "execute_result"
    }
   ],
   "source": [
    "# Create new columns to transfer modified tweet text. Five versions of tweets will be created.\n",
    "twitter_closures['modified_text_A'] = ''\n",
    "twitter_closures['modified_text_B'] = ''\n",
    "twitter_closures['modified_text_C'] = ''\n",
    "twitter_closures['modified_text_D'] = ''\n",
    "twitter_closures['modified_text_E'] = ''\n",
    "\n",
    "# Show modified DF\n",
    "twitter_closures.head(2)"
   ]
  },
  {
   "cell_type": "code",
   "execution_count": 12,
   "metadata": {},
   "outputs": [],
   "source": [
    "loc_dict = {\"Hwy\": \"Highway \",\n",
    "           \"CR \": \"Country Road \",\n",
    "           \"I-\": \"Interstate \",\n",
    "           \"EB \": \"Eastbound \",\n",
    "           \"WB \": \"Westbound \",\n",
    "           \"SB \": \"Southbound\",\n",
    "            \"NB \": \"Northbound\"}"
   ]
  },
  {
   "cell_type": "code",
   "execution_count": 15,
   "metadata": {},
   "outputs": [],
   "source": [
    "def spacy_cleaner(df, col, word_dict):\n",
    "    return df[col].replace(word_dict, regex=True)"
   ]
  },
  {
   "cell_type": "code",
   "execution_count": 23,
   "metadata": {},
   "outputs": [
    {
     "data": {
      "text/plain": [
       "' Northbound at exit is shutdown to this accident '"
      ]
     },
     "execution_count": 23,
     "metadata": {},
     "output_type": "execute_result"
    }
   ],
   "source": [
    "twitter_closures['modified_text_A'] = spacy_cleaner(twitter_closures, 'text', loc_dict)\n",
    "\n",
    "twitter_closures['text'][0]"
   ]
  }
 ],
 "metadata": {
  "kernelspec": {
   "display_name": "Python [conda env:dsi] *",
   "language": "python",
   "name": "conda-env-dsi-py-2"
  },
  "language_info": {
   "codemirror_mode": {
    "name": "ipython",
    "version": 3
   },
   "file_extension": ".py",
   "mimetype": "text/x-python",
   "name": "python",
   "nbconvert_exporter": "python",
   "pygments_lexer": "ipython3",
   "version": "3.7.3"
  }
 },
 "nbformat": 4,
 "nbformat_minor": 2
}
