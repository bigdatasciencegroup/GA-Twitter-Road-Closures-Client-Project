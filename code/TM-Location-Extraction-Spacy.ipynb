{
 "cells": [
  {
   "cell_type": "markdown",
   "metadata": {},
   "source": [
    "# Location Extraction and Spacy Word Vectorization"
   ]
  },
  {
   "cell_type": "code",
   "execution_count": 22,
   "metadata": {
    "scrolled": true
   },
   "outputs": [],
   "source": [
    "import pandas as pd\n",
    "import re\n",
    "import spacy\n",
    "import string\n"
   ]
  },
  {
   "cell_type": "code",
   "execution_count": 24,
   "metadata": {
    "scrolled": false
   },
   "outputs": [
    {
     "name": "stdout",
     "output_type": "stream",
     "text": [
      "(43016, 5)\n"
     ]
    },
    {
     "data": {
      "text/html": [
       "<div>\n",
       "<style scoped>\n",
       "    .dataframe tbody tr th:only-of-type {\n",
       "        vertical-align: middle;\n",
       "    }\n",
       "\n",
       "    .dataframe tbody tr th {\n",
       "        vertical-align: top;\n",
       "    }\n",
       "\n",
       "    .dataframe thead th {\n",
       "        text-align: right;\n",
       "    }\n",
       "</style>\n",
       "<table border=\"1\" class=\"dataframe\">\n",
       "  <thead>\n",
       "    <tr style=\"text-align: right;\">\n",
       "      <th></th>\n",
       "      <th>text</th>\n",
       "      <th>type</th>\n",
       "      <th>username</th>\n",
       "      <th>tweet</th>\n",
       "      <th>road_closure</th>\n",
       "    </tr>\n",
       "  </thead>\n",
       "  <tbody>\n",
       "    <tr>\n",
       "      <th>0</th>\n",
       "      <td>Douglas County Crash - EB I-20 b4 Post Rd  exi...</td>\n",
       "      <td>official</td>\n",
       "      <td>GDOTATL</td>\n",
       "      <td>Douglas County Crash - EB I-20 b4 Post Rd  exi...</td>\n",
       "      <td>0</td>\n",
       "    </tr>\n",
       "    <tr>\n",
       "      <th>1</th>\n",
       "      <td>With rain on the way - we have an important me...</td>\n",
       "      <td>official</td>\n",
       "      <td>GDOTATL</td>\n",
       "      <td>With rain on the way - we have an important me...</td>\n",
       "      <td>0</td>\n",
       "    </tr>\n",
       "    <tr>\n",
       "      <th>2</th>\n",
       "      <td>Much needed rain is headed our way    please b...</td>\n",
       "      <td>official</td>\n",
       "      <td>GDOTATL</td>\n",
       "      <td>Much needed rain is headed our way    please b...</td>\n",
       "      <td>0</td>\n",
       "    </tr>\n",
       "    <tr>\n",
       "      <th>3</th>\n",
       "      <td>Happy Thanksgiving  Please drive safe and pati...</td>\n",
       "      <td>official</td>\n",
       "      <td>GDOTATL</td>\n",
       "      <td>Happy Thanksgiving  Please drive safe and pati...</td>\n",
       "      <td>0</td>\n",
       "    </tr>\n",
       "    <tr>\n",
       "      <th>4</th>\n",
       "      <td>Have a safe Thanksgiving  Put away your cell p...</td>\n",
       "      <td>official</td>\n",
       "      <td>GDOTATL</td>\n",
       "      <td>Have a safe Thanksgiving  Put away your cell p...</td>\n",
       "      <td>0</td>\n",
       "    </tr>\n",
       "  </tbody>\n",
       "</table>\n",
       "</div>"
      ],
      "text/plain": [
       "                                                text      type username  \\\n",
       "0  Douglas County Crash - EB I-20 b4 Post Rd  exi...  official  GDOTATL   \n",
       "1  With rain on the way - we have an important me...  official  GDOTATL   \n",
       "2  Much needed rain is headed our way    please b...  official  GDOTATL   \n",
       "3  Happy Thanksgiving  Please drive safe and pati...  official  GDOTATL   \n",
       "4  Have a safe Thanksgiving  Put away your cell p...  official  GDOTATL   \n",
       "\n",
       "                                               tweet  road_closure  \n",
       "0  Douglas County Crash - EB I-20 b4 Post Rd  exi...             0  \n",
       "1  With rain on the way - we have an important me...             0  \n",
       "2  Much needed rain is headed our way    please b...             0  \n",
       "3  Happy Thanksgiving  Please drive safe and pati...             0  \n",
       "4  Have a safe Thanksgiving  Put away your cell p...             0  "
      ]
     },
     "execution_count": 24,
     "metadata": {},
     "output_type": "execute_result"
    }
   ],
   "source": [
    "# Read in csv with Tweets\n",
    "twitter_closures = pd.read_csv(\"../data/Cleaned_Tweets/cleaned_historic_official_07242019.csv\")\n",
    "\n",
    "twitter_closures = twitter_closures[['text', 'type', 'username', 'tweet', 'road_closure']]\n",
    "\n",
    "# Print DF shape\n",
    "print(twitter_closures.shape)\n",
    "\n",
    "# Show head \n",
    "twitter_closures.head()"
   ]
  },
  {
   "cell_type": "markdown",
   "metadata": {},
   "source": [
    "## SpaCy Preprocessing"
   ]
  },
  {
   "cell_type": "code",
   "execution_count": 25,
   "metadata": {},
   "outputs": [
    {
     "data": {
      "text/html": [
       "<div>\n",
       "<style scoped>\n",
       "    .dataframe tbody tr th:only-of-type {\n",
       "        vertical-align: middle;\n",
       "    }\n",
       "\n",
       "    .dataframe tbody tr th {\n",
       "        vertical-align: top;\n",
       "    }\n",
       "\n",
       "    .dataframe thead th {\n",
       "        text-align: right;\n",
       "    }\n",
       "</style>\n",
       "<table border=\"1\" class=\"dataframe\">\n",
       "  <thead>\n",
       "    <tr style=\"text-align: right;\">\n",
       "      <th></th>\n",
       "      <th>text</th>\n",
       "      <th>type</th>\n",
       "      <th>username</th>\n",
       "      <th>tweet</th>\n",
       "      <th>road_closure</th>\n",
       "      <th>modified_text</th>\n",
       "      <th>location</th>\n",
       "    </tr>\n",
       "  </thead>\n",
       "  <tbody>\n",
       "    <tr>\n",
       "      <th>0</th>\n",
       "      <td>Douglas County Crash - EB I-20 b4 Post Rd  exi...</td>\n",
       "      <td>official</td>\n",
       "      <td>GDOTATL</td>\n",
       "      <td>Douglas County Crash - EB I-20 b4 Post Rd  exi...</td>\n",
       "      <td>0</td>\n",
       "      <td></td>\n",
       "      <td></td>\n",
       "    </tr>\n",
       "    <tr>\n",
       "      <th>1</th>\n",
       "      <td>With rain on the way - we have an important me...</td>\n",
       "      <td>official</td>\n",
       "      <td>GDOTATL</td>\n",
       "      <td>With rain on the way - we have an important me...</td>\n",
       "      <td>0</td>\n",
       "      <td></td>\n",
       "      <td></td>\n",
       "    </tr>\n",
       "  </tbody>\n",
       "</table>\n",
       "</div>"
      ],
      "text/plain": [
       "                                                text      type username  \\\n",
       "0  Douglas County Crash - EB I-20 b4 Post Rd  exi...  official  GDOTATL   \n",
       "1  With rain on the way - we have an important me...  official  GDOTATL   \n",
       "\n",
       "                                               tweet  road_closure  \\\n",
       "0  Douglas County Crash - EB I-20 b4 Post Rd  exi...             0   \n",
       "1  With rain on the way - we have an important me...             0   \n",
       "\n",
       "  modified_text location  \n",
       "0                         \n",
       "1                         "
      ]
     },
     "execution_count": 25,
     "metadata": {},
     "output_type": "execute_result"
    }
   ],
   "source": [
    "# Create new columns to transfer modified tweet text. Five versions of tweets will be created.\n",
    "twitter_closures['modified_text'] = ''\n",
    "twitter_closures['location'] = ''\n",
    "\n",
    "# Show modified DF\n",
    "twitter_closures.head(2)"
   ]
  },
  {
   "cell_type": "code",
   "execution_count": 26,
   "metadata": {},
   "outputs": [],
   "source": [
    "format_dict = {\"hwy\": \"Highway \",\n",
    "            \"Blvd\": \"Boulevard\",\n",
    "            \" st\": \"street\",\n",
    "           \"CR \": \"Country Road \",\n",
    "           \"SR \": \"State Road\",\n",
    "           \"I-\": \"Interstate \",\n",
    "           \"EB \": \"Eastbound \",\n",
    "           \"WB \": \"Westbound \",\n",
    "           \"SB \": \"Southbound\",\n",
    "           \"NB \": \"Northbound\",\n",
    "           \" on \": \" at \",\n",
    "           \" E \": \" East \",\n",
    "           \" W \": \" West \",\n",
    "           \" S \": \" South\",\n",
    "           \" N \": \" North\",\n",
    "           \"mi \": \"mile \",\n",
    "           \"between \": \"at \",\n",
    "           \"Between \": \"at \",\n",
    "           \"In \": \"in \",\n",
    "           \" in \": \" at \"}"
   ]
  },
  {
   "cell_type": "code",
   "execution_count": 27,
   "metadata": {},
   "outputs": [],
   "source": [
    "def spacy_cleaner(df, col, word_dict):\n",
    "    modified_text = \"At \" + df[col].replace(word_dict, regex=True)\n",
    "    modified_text = modified_text.str.title()\n",
    "    return modified_text"
   ]
  },
  {
   "cell_type": "code",
   "execution_count": 28,
   "metadata": {
    "scrolled": true
   },
   "outputs": [],
   "source": [
    "# run the text cleaning function and test results\n",
    "twitter_closures['modified_text'] = spacy_cleaner(twitter_closures, 'text', format_dict)"
   ]
  },
  {
   "cell_type": "code",
   "execution_count": 29,
   "metadata": {
    "scrolled": true
   },
   "outputs": [
    {
     "data": {
      "text/plain": [
       "array(['GDOTATL', 'SCDOTMidlands', 'SCDOTPeeDee', 'SCDOTLowCountry',\n",
       "       'SCDOTPiedmont', '511statewideva', 'fl511_panhandl', '511Georgia',\n",
       "       'fl511_state', 'fl511_northeast', 'fl511_southeast',\n",
       "       'fl511_southwest', 'fl511_tampabay', 'fl511_central',\n",
       "       '511centralva', '511hamptonroads', '511northernva',\n",
       "       'NCDOT_Westmtn', 'NCDOT_Triangle', 'NCDOT_Piedmont',\n",
       "       'NCDOT_Charlotte', 'NCDOT_Asheville', 'NCDOT_Scoast',\n",
       "       'NCDOT_Ncoast'], dtype=object)"
      ]
     },
     "execution_count": 29,
     "metadata": {},
     "output_type": "execute_result"
    }
   ],
   "source": [
    "twitter_closures['username'].unique()"
   ]
  },
  {
   "cell_type": "code",
   "execution_count": 30,
   "metadata": {},
   "outputs": [],
   "source": [
    "test_df = twitter_closures[(twitter_closures['road_closure'] == 1) & (twitter_closures['username'] == 'fl511_northeast')].head(100)"
   ]
  },
  {
   "cell_type": "code",
   "execution_count": 31,
   "metadata": {},
   "outputs": [],
   "source": [
    "def get_loc(df, text_column, location_column):\n",
    "    \n",
    "    # Use Spacy to extract location names from `text` column\n",
    "    for i in range(len(df)):\n",
    "        \n",
    "        #instantiate spacy model\n",
    "        nlp = spacy.load(\"en_core_web_sm\")\n",
    "        \n",
    "        # create documewnt from modified text column\n",
    "        doc = nlp(df[text_column].iloc[i])\n",
    "        \n",
    "        locations = set()\n",
    "        \n",
    "        # loop through every entity in the doc\n",
    "        for ent in doc.ents:\n",
    "            \n",
    "            # find entities labelled as places\n",
    "            if (ent.label_=='GPE') or (ent.label_=='FAC') or (ent.label_ == 'LOC'):\n",
    "                \n",
    "                # put locations in a set\n",
    "                locations.add(ent.text)\n",
    "                df[location_column].iloc[i] = locations\n",
    "                \n",
    "    return df[location_column]"
   ]
  },
  {
   "cell_type": "code",
   "execution_count": 32,
   "metadata": {
    "scrolled": false
   },
   "outputs": [],
   "source": [
    "test = get_loc(test_df, 'modified_text', 'location')"
   ]
  },
  {
   "cell_type": "code",
   "execution_count": 35,
   "metadata": {},
   "outputs": [
    {
     "data": {
      "text/html": [
       "<div>\n",
       "<style scoped>\n",
       "    .dataframe tbody tr th:only-of-type {\n",
       "        vertical-align: middle;\n",
       "    }\n",
       "\n",
       "    .dataframe tbody tr th {\n",
       "        vertical-align: top;\n",
       "    }\n",
       "\n",
       "    .dataframe thead th {\n",
       "        text-align: right;\n",
       "    }\n",
       "</style>\n",
       "<table border=\"1\" class=\"dataframe\">\n",
       "  <thead>\n",
       "    <tr style=\"text-align: right;\">\n",
       "      <th></th>\n",
       "      <th>text</th>\n",
       "      <th>type</th>\n",
       "      <th>username</th>\n",
       "      <th>tweet</th>\n",
       "      <th>road_closure</th>\n",
       "      <th>modified_text</th>\n",
       "      <th>location</th>\n",
       "    </tr>\n",
       "  </thead>\n",
       "  <tbody>\n",
       "    <tr>\n",
       "      <th>19213</th>\n",
       "      <td>NEW  Crash in Duval on I-295 E north beyond Ph...</td>\n",
       "      <td>official</td>\n",
       "      <td>fl511_northeast</td>\n",
       "      <td>NEW  Crash in Duval on I-295 E north beyond Ph...</td>\n",
       "      <td>1</td>\n",
       "      <td>At New  Crash At Duval At Interstate 295 East ...</td>\n",
       "      <td>{New  Crash At Duval, Right Lane, Interstate 2...</td>\n",
       "    </tr>\n",
       "    <tr>\n",
       "      <th>19214</th>\n",
       "      <td>CLEARED  Traffic congestion in Duval on I-95 n...</td>\n",
       "      <td>official</td>\n",
       "      <td>fl511_northeast</td>\n",
       "      <td>CLEARED  Traffic congestion in Duval on I-95 n...</td>\n",
       "      <td>1</td>\n",
       "      <td>At Cleared  Traffic Congestion At Duval At Int...</td>\n",
       "      <td>{Interstate 95 North, Interstate 10}</td>\n",
       "    </tr>\n",
       "    <tr>\n",
       "      <th>19215</th>\n",
       "      <td>CLEARED  Traffic congestion in Duval on I-295 ...</td>\n",
       "      <td>official</td>\n",
       "      <td>fl511_northeast</td>\n",
       "      <td>CLEARED  Traffic congestion in Duval on I-295 ...</td>\n",
       "      <td>1</td>\n",
       "      <td>At Cleared  Traffic Congestion At Duval At Int...</td>\n",
       "      <td>{Exit 5, Interstate 295 West North, San Jose}</td>\n",
       "    </tr>\n",
       "    <tr>\n",
       "      <th>19216</th>\n",
       "      <td>UPDATE  Traffic congestion in Duval on I-95 no...</td>\n",
       "      <td>official</td>\n",
       "      <td>fl511_northeast</td>\n",
       "      <td>UPDATE  Traffic congestion in Duval on I-95 no...</td>\n",
       "      <td>1</td>\n",
       "      <td>At Update  Traffic Congestion At Duval At Inte...</td>\n",
       "      <td>{Interstate 95 North, Interstate 10}</td>\n",
       "    </tr>\n",
       "    <tr>\n",
       "      <th>19217</th>\n",
       "      <td>CLEARED  Traffic congestion in Duval on I-295 ...</td>\n",
       "      <td>official</td>\n",
       "      <td>fl511_northeast</td>\n",
       "      <td>CLEARED  Traffic congestion in Duval on I-295 ...</td>\n",
       "      <td>1</td>\n",
       "      <td>At Cleared  Traffic Congestion At Duval At Int...</td>\n",
       "      <td>{Exit 56, Interstate 295 East South, Exit 53}</td>\n",
       "    </tr>\n",
       "  </tbody>\n",
       "</table>\n",
       "</div>"
      ],
      "text/plain": [
       "                                                    text      type  \\\n",
       "19213  NEW  Crash in Duval on I-295 E north beyond Ph...  official   \n",
       "19214  CLEARED  Traffic congestion in Duval on I-95 n...  official   \n",
       "19215  CLEARED  Traffic congestion in Duval on I-295 ...  official   \n",
       "19216  UPDATE  Traffic congestion in Duval on I-95 no...  official   \n",
       "19217  CLEARED  Traffic congestion in Duval on I-295 ...  official   \n",
       "\n",
       "              username                                              tweet  \\\n",
       "19213  fl511_northeast  NEW  Crash in Duval on I-295 E north beyond Ph...   \n",
       "19214  fl511_northeast  CLEARED  Traffic congestion in Duval on I-95 n...   \n",
       "19215  fl511_northeast  CLEARED  Traffic congestion in Duval on I-295 ...   \n",
       "19216  fl511_northeast  UPDATE  Traffic congestion in Duval on I-95 no...   \n",
       "19217  fl511_northeast  CLEARED  Traffic congestion in Duval on I-295 ...   \n",
       "\n",
       "       road_closure                                      modified_text  \\\n",
       "19213             1  At New  Crash At Duval At Interstate 295 East ...   \n",
       "19214             1  At Cleared  Traffic Congestion At Duval At Int...   \n",
       "19215             1  At Cleared  Traffic Congestion At Duval At Int...   \n",
       "19216             1  At Update  Traffic Congestion At Duval At Inte...   \n",
       "19217             1  At Cleared  Traffic Congestion At Duval At Int...   \n",
       "\n",
       "                                                location  \n",
       "19213  {New  Crash At Duval, Right Lane, Interstate 2...  \n",
       "19214               {Interstate 95 North, Interstate 10}  \n",
       "19215      {Exit 5, Interstate 295 West North, San Jose}  \n",
       "19216               {Interstate 95 North, Interstate 10}  \n",
       "19217      {Exit 56, Interstate 295 East South, Exit 53}  "
      ]
     },
     "execution_count": 35,
     "metadata": {},
     "output_type": "execute_result"
    }
   ],
   "source": [
    "test_df['location'] = test\n",
    "test_df.head()"
   ]
  }
 ],
 "metadata": {
  "kernelspec": {
   "display_name": "Python [conda env:dsi]",
   "language": "python",
   "name": "conda-env-dsi-py"
  },
  "language_info": {
   "codemirror_mode": {
    "name": "ipython",
    "version": 3
   },
   "file_extension": ".py",
   "mimetype": "text/x-python",
   "name": "python",
   "nbconvert_exporter": "python",
   "pygments_lexer": "ipython3",
   "version": "3.7.3"
  }
 },
 "nbformat": 4,
 "nbformat_minor": 2
}
